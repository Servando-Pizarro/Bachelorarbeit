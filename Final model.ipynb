{
 "cells": [
  {
   "cell_type": "code",
   "execution_count": 7,
   "id": "e905dac1",
   "metadata": {},
   "outputs": [],
   "source": [
    "pip install pandas"
   ]
  },
  {
   "cell_type": "code",
   "execution_count": 2,
   "id": "121c4a8e",
   "metadata": {},
   "outputs": [
    {
     "data": {
      "application/vnd.jupyter.widget-view+json": {
       "model_id": "853535fc42ff43e38001f12673c22e1f",
       "version_major": 2,
       "version_minor": 0
      },
      "text/plain": [
       "0it [00:00, ?it/s]"
      ]
     },
     "metadata": {},
     "output_type": "display_data"
    }
   ],
   "source": [
    "from langdetect import detect\n",
    "from tqdm.notebook import tqdm\n",
    "import pandas as pd\n",
    "from tqdm.notebook import tqdm\n",
    "import pandas as pd\n",
    "\n"
   ]
  },
  {
   "cell_type": "markdown",
   "id": "3fc86494",
   "metadata": {},
   "source": [
    "## Filtering english text only"
   ]
  },
  {
   "cell_type": "code",
   "execution_count": 3,
   "id": "20a6d3ed",
   "metadata": {},
   "outputs": [],
   "source": [
    "data=pd.read_csv(\"data_all.csv\")"
   ]
  },
  {
   "cell_type": "code",
   "execution_count": 4,
   "id": "a3de94cb",
   "metadata": {},
   "outputs": [
    {
     "data": {
      "text/plain": [
       "3955"
      ]
     },
     "execution_count": 4,
     "metadata": {},
     "output_type": "execute_result"
    }
   ],
   "source": [
    "data.head(5)\n",
    "len(data)"
   ]
  },
  {
   "cell_type": "code",
   "execution_count": null,
   "id": "d6913b4b",
   "metadata": {},
   "outputs": [],
   "source": [
    "# Rename the columns \n",
    "data=data.rename(columns = {'content':'Text'})\n",
    "data=data.drop(columns=[\"score\",\"embedding\",\"content_type\",\"id\",\"meta\"])\n",
    "\n",
    "data.head(5)"
   ]
  },
  {
   "cell_type": "code",
   "execution_count": 11,
   "id": "dced50a1",
   "metadata": {},
   "outputs": [
    {
     "data": {
      "application/vnd.jupyter.widget-view+json": {
       "model_id": "ba5758fe4ea344efac16ed897cb0ec49",
       "version_major": 2,
       "version_minor": 0
      },
      "text/plain": [
       "  0%|          | 0/3955 [00:00<?, ?it/s]"
      ]
     },
     "metadata": {},
     "output_type": "display_data"
    }
   ],
   "source": [
    "data['lang'] = data.Text.astype(str).progress_map(detect)\n"
   ]
  },
  {
   "cell_type": "code",
   "execution_count": 15,
   "id": "d43329e5",
   "metadata": {},
   "outputs": [
    {
     "data": {
      "text/plain": [
       "lang\n",
       "en    3680\n",
       "Name: count, dtype: int64"
      ]
     },
     "execution_count": 15,
     "metadata": {},
     "output_type": "execute_result"
    }
   ],
   "source": [
    "data.lang.value_counts()"
   ]
  },
  {
   "cell_type": "code",
   "execution_count": 16,
   "id": "9923f4b8",
   "metadata": {},
   "outputs": [],
   "source": [
    "data = data.loc[data.lang=='en']"
   ]
  },
  {
   "cell_type": "code",
   "execution_count": 17,
   "id": "847f4653",
   "metadata": {},
   "outputs": [
    {
     "data": {
      "text/html": [
       "<div>\n",
       "<style scoped>\n",
       "    .dataframe tbody tr th:only-of-type {\n",
       "        vertical-align: middle;\n",
       "    }\n",
       "\n",
       "    .dataframe tbody tr th {\n",
       "        vertical-align: top;\n",
       "    }\n",
       "\n",
       "    .dataframe thead th {\n",
       "        text-align: right;\n",
       "    }\n",
       "</style>\n",
       "<table border=\"1\" class=\"dataframe\">\n",
       "  <thead>\n",
       "    <tr style=\"text-align: right;\">\n",
       "      <th></th>\n",
       "      <th>text</th>\n",
       "      <th>country</th>\n",
       "      <th>lang</th>\n",
       "    </tr>\n",
       "  </thead>\n",
       "  <tbody>\n",
       "    <tr>\n",
       "      <th>0</th>\n",
       "      <td>published by the general secretariat of the na...</td>\n",
       "      <td>20201231_NDC_Update_Cambodia.docx</td>\n",
       "      <td>en</td>\n",
       "    </tr>\n",
       "    <tr>\n",
       "      <th>1</th>\n",
       "      <td>the updated nationally determined contribution...</td>\n",
       "      <td>20201231_NDC_Update_Cambodia.docx</td>\n",
       "      <td>en</td>\n",
       "    </tr>\n",
       "    <tr>\n",
       "      <th>2</th>\n",
       "      <td>finally a significant effort has been made to ...</td>\n",
       "      <td>20201231_NDC_Update_Cambodia.docx</td>\n",
       "      <td>en</td>\n",
       "    </tr>\n",
       "    <tr>\n",
       "      <th>3</th>\n",
       "      <td>say samal minister of environment chair of the...</td>\n",
       "      <td>20201231_NDC_Update_Cambodia.docx</td>\n",
       "      <td>en</td>\n",
       "    </tr>\n",
       "    <tr>\n",
       "      <th>4</th>\n",
       "      <td>together we agreed to limit global warming to ...</td>\n",
       "      <td>20201231_NDC_Update_Cambodia.docx</td>\n",
       "      <td>en</td>\n",
       "    </tr>\n",
       "    <tr>\n",
       "      <th>5</th>\n",
       "      <td>cambodia is highly vulnerable to the effects o...</td>\n",
       "      <td>20201231_NDC_Update_Cambodia.docx</td>\n",
       "      <td>en</td>\n",
       "    </tr>\n",
       "  </tbody>\n",
       "</table>\n",
       "</div>"
      ],
      "text/plain": [
       "                                                text  \\\n",
       "0  published by the general secretariat of the na...   \n",
       "1  the updated nationally determined contribution...   \n",
       "2  finally a significant effort has been made to ...   \n",
       "3  say samal minister of environment chair of the...   \n",
       "4  together we agreed to limit global warming to ...   \n",
       "5  cambodia is highly vulnerable to the effects o...   \n",
       "\n",
       "                             country lang  \n",
       "0  20201231_NDC_Update_Cambodia.docx   en  \n",
       "1  20201231_NDC_Update_Cambodia.docx   en  \n",
       "2  20201231_NDC_Update_Cambodia.docx   en  \n",
       "3  20201231_NDC_Update_Cambodia.docx   en  \n",
       "4  20201231_NDC_Update_Cambodia.docx   en  \n",
       "5  20201231_NDC_Update_Cambodia.docx   en  "
      ]
     },
     "execution_count": 17,
     "metadata": {},
     "output_type": "execute_result"
    }
   ],
   "source": [
    "data.columns = map(str.lower, data.columns)\n",
    "\n",
    "data.head(6)"
   ]
  },
  {
   "cell_type": "code",
   "execution_count": 18,
   "id": "4fe8f363",
   "metadata": {},
   "outputs": [],
   "source": [
    "#data.to_csv(r'C:\\\\Users\\\\serva\\\\Downloads\\\\data_all.csv', index = True)"
   ]
  },
  {
   "cell_type": "code",
   "execution_count": 29,
   "id": "b7371905",
   "metadata": {},
   "outputs": [],
   "source": [
    "import gensim\n",
    "from gensim.utils import simple_preprocess\n",
    "from gensim.parsing.preprocessing import STOPWORDS\n",
    "from nltk.stem import WordNetLemmatizer, SnowballStemmer\n",
    "from nltk.stem.porter import *\n",
    "import numpy as np\n",
    "np.random.seed(2018)"
   ]
  },
  {
   "cell_type": "code",
   "execution_count": 24,
   "id": "2e8ddd17",
   "metadata": {},
   "outputs": [
    {
     "data": {
      "text/plain": [
       "0    published by the general secretariat of the na...\n",
       "1    the updated nationally determined contribution...\n",
       "2    finally a significant effort has been made to ...\n",
       "3    say samal minister of environment chair of the...\n",
       "4    together we agreed to limit global warming to ...\n",
       "5    cambodia is highly vulnerable to the effects o...\n",
       "6    business as usual bau emission scenarios in th...\n",
       "7    summary over bau emissions and ndc emissions r...\n",
       "8    impacts and priorities for adaptation and resi...\n",
       "9    such actions can be divided into education act...\n",
       "Name: text, dtype: object"
      ]
     },
     "execution_count": 24,
     "metadata": {},
     "output_type": "execute_result"
    }
   ],
   "source": [
    "\n",
    "documents=data[\"text\"]\n",
    "\n",
    "documents.head(10)\n",
    "\n"
   ]
  },
  {
   "cell_type": "code",
   "execution_count": 30,
   "id": "b7e7421c",
   "metadata": {},
   "outputs": [
    {
     "name": "stderr",
     "output_type": "stream",
     "text": [
      "[nltk_data] Downloading package stopwords to\n",
      "[nltk_data]     C:\\Users\\serva\\AppData\\Roaming\\nltk_data...\n",
      "[nltk_data]   Package stopwords is already up-to-date!\n"
     ]
    }
   ],
   "source": [
    "import nltk\n",
    "nltk.download('stopwords')\n",
    "from nltk.corpus import stopwords\n",
    "\n",
    "costumized_stopwords=[\"united kingdom\",\"argentina\",\"australia\",\"bahamas\",\"belgium\",\"brazil\",\"canada\",\"china\",\"colombia\",\"cuba\",\"dominican republic\",\"ecuador\",\"el salvador\",\"france\",\"germany\",\"guatemala\",\"haiti\",\"honduras\",\"india\",\"ireland\",\"israel\",\"italy\",\"japan\",\"korea\",\"mexico\",\"netherlands\",\"philippines\",\"spain\",\"sweden\",\"switzerland\",\"taiwan\",\"venezuela\",\"viet nam\",\"afghanistan\",\"albania\",\"algeria\",\"american samoa\",\"andorra\",\"angola\",\"armenia\",\"austria\",\"azerbaijan\",\"bahrain\",\"bangladesh\",\"barbados\",\"belarus\",\"belize\",\"benin\",\"bermuda\",\"bhutan\",\"bolivia\",\"bosnia and herzegovina\",\"botswana\",\"bulgaria\",\"burkina faso\",\"burundi\",\"cambodia\",\"cameroon\",\"cape verde islands\",\"chad\",\"chile\",\"congo\",\"costa rica\",\"croatia\",\"cyprus\",\"czech republic\",\"denmark\",\"djibouti\",\"dominica\",\"egypt\",\"eritrea\",\"estonia\",\"ethiopia\",\"fiji\",\"finland\",\"french polynesia\",\"gabon\",\"gambia\",\"georgia\",\"ghana\",\"greece\",\"grenada\",\"guinea\",\"guyana\",\"hungary\",\"iceland\",\"indonesia\",\"iran\",\"iraq\",\"jamaica\",\"jordan\",\"kazakhstan\",\"kenya\",\"korea\",\"kuwait\",\"latvia\",\"lebanon\",\"liberia\",\"libya\",\"lithuania\",\"luxembourg\",\"madagascar\",\"malawi\",\"malaysia\",\"maldives\",\"mali\",\"malta\",\"mauritania\",\"mauritius\",\"monaco\",\"mongolia\",\"montenegro\",\"morocco\",\"mozambique\",\"namibia\",\"nepal\",\"new zealand\",\"nicaragua\",\"niger\",\"nigeria\",\"norway\",\"oman\",\"pakistan\",\"panama\",\"papua new guinea\",\"paraguay\",\"peru\",\"poland\",\"portugal\",\"qatar\",\"romania\",\"rwanda\",\"saudi arabia\",\"senegal\",\"serbia\",\"sierra leone\",\"singapore\",\"slovakia\",\"slovenia\",\"solomon islands\",\"somalia\",\"south africa\",\"sri lanka\",\"sudan\",\"suriname\",\"swaziland\",\"tajikistan\",\"thailand\",\"togo\",\"trinidad and tobago\",\"tunisia\",\"turkey\",\"turkmenistan\",\"tuvalu\",\"uganda\",\"ukraine\",\"united arab emirates\",\"united states\",\"uruguay\",\"uzbekistan\",\"vanuatu\",\"yemen\",\"zambia\"\n",
    "]\n",
    "\n",
    "\"\"\"\"stpwrd = gensim.parsing.preprocessing.STOPWORDS and costumized_stopwords \"\"\"\n",
    "\n",
    "\n",
    "stpwrd = nltk.corpus.stopwords.words('english')\n",
    "stpwrd.extend(costumized_stopwords)\n",
    "\n",
    "\n",
    "\n",
    "def lemmatize_stemming(text):\n",
    "    return stemmer.stem(WordNetLemmatizer().lemmatize(text, pos='v'))\n",
    "\n",
    "\n",
    "\n",
    "def preprocess(text):\n",
    "    result = []\n",
    "    for token in gensim.utils.simple_preprocess(text):\n",
    "        if token not in stpwrd and len(token) > 3:\n",
    "            result.append(lemmatize_stemming(token))\n",
    "    return result"
   ]
  },
  {
   "cell_type": "code",
   "execution_count": 31,
   "id": "89db13ce",
   "metadata": {},
   "outputs": [
    {
     "data": {
      "text/html": [
       "<div>\n",
       "<style scoped>\n",
       "    .dataframe tbody tr th:only-of-type {\n",
       "        vertical-align: middle;\n",
       "    }\n",
       "\n",
       "    .dataframe tbody tr th {\n",
       "        vertical-align: top;\n",
       "    }\n",
       "\n",
       "    .dataframe thead th {\n",
       "        text-align: right;\n",
       "    }\n",
       "</style>\n",
       "<table border=\"1\" class=\"dataframe\">\n",
       "  <thead>\n",
       "    <tr style=\"text-align: right;\">\n",
       "      <th></th>\n",
       "      <th>original word</th>\n",
       "      <th>stemmed</th>\n",
       "    </tr>\n",
       "  </thead>\n",
       "  <tbody>\n",
       "    <tr>\n",
       "      <th>0</th>\n",
       "      <td>caresses</td>\n",
       "      <td>caress</td>\n",
       "    </tr>\n",
       "    <tr>\n",
       "      <th>1</th>\n",
       "      <td>flies</td>\n",
       "      <td>fli</td>\n",
       "    </tr>\n",
       "    <tr>\n",
       "      <th>2</th>\n",
       "      <td>dies</td>\n",
       "      <td>die</td>\n",
       "    </tr>\n",
       "    <tr>\n",
       "      <th>3</th>\n",
       "      <td>mules</td>\n",
       "      <td>mule</td>\n",
       "    </tr>\n",
       "    <tr>\n",
       "      <th>4</th>\n",
       "      <td>denied</td>\n",
       "      <td>deni</td>\n",
       "    </tr>\n",
       "    <tr>\n",
       "      <th>5</th>\n",
       "      <td>died</td>\n",
       "      <td>die</td>\n",
       "    </tr>\n",
       "    <tr>\n",
       "      <th>6</th>\n",
       "      <td>agreed</td>\n",
       "      <td>agre</td>\n",
       "    </tr>\n",
       "    <tr>\n",
       "      <th>7</th>\n",
       "      <td>owned</td>\n",
       "      <td>own</td>\n",
       "    </tr>\n",
       "    <tr>\n",
       "      <th>8</th>\n",
       "      <td>humbled</td>\n",
       "      <td>humbl</td>\n",
       "    </tr>\n",
       "    <tr>\n",
       "      <th>9</th>\n",
       "      <td>sized</td>\n",
       "      <td>size</td>\n",
       "    </tr>\n",
       "    <tr>\n",
       "      <th>10</th>\n",
       "      <td>meeting</td>\n",
       "      <td>meet</td>\n",
       "    </tr>\n",
       "    <tr>\n",
       "      <th>11</th>\n",
       "      <td>stating</td>\n",
       "      <td>state</td>\n",
       "    </tr>\n",
       "    <tr>\n",
       "      <th>12</th>\n",
       "      <td>siezing</td>\n",
       "      <td>siez</td>\n",
       "    </tr>\n",
       "    <tr>\n",
       "      <th>13</th>\n",
       "      <td>itemization</td>\n",
       "      <td>item</td>\n",
       "    </tr>\n",
       "    <tr>\n",
       "      <th>14</th>\n",
       "      <td>sensational</td>\n",
       "      <td>sensat</td>\n",
       "    </tr>\n",
       "    <tr>\n",
       "      <th>15</th>\n",
       "      <td>traditional</td>\n",
       "      <td>tradit</td>\n",
       "    </tr>\n",
       "    <tr>\n",
       "      <th>16</th>\n",
       "      <td>reference</td>\n",
       "      <td>refer</td>\n",
       "    </tr>\n",
       "    <tr>\n",
       "      <th>17</th>\n",
       "      <td>colonizer</td>\n",
       "      <td>colon</td>\n",
       "    </tr>\n",
       "    <tr>\n",
       "      <th>18</th>\n",
       "      <td>plotted</td>\n",
       "      <td>plot</td>\n",
       "    </tr>\n",
       "  </tbody>\n",
       "</table>\n",
       "</div>"
      ],
      "text/plain": [
       "   original word stemmed\n",
       "0       caresses  caress\n",
       "1          flies     fli\n",
       "2           dies     die\n",
       "3          mules    mule\n",
       "4         denied    deni\n",
       "5           died     die\n",
       "6         agreed    agre\n",
       "7          owned     own\n",
       "8        humbled   humbl\n",
       "9          sized    size\n",
       "10       meeting    meet\n",
       "11       stating   state\n",
       "12       siezing    siez\n",
       "13   itemization    item\n",
       "14   sensational  sensat\n",
       "15   traditional  tradit\n",
       "16     reference   refer\n",
       "17     colonizer   colon\n",
       "18       plotted    plot"
      ]
     },
     "execution_count": 31,
     "metadata": {},
     "output_type": "execute_result"
    }
   ],
   "source": [
    "stemmer = SnowballStemmer('english')\n",
    "original_words = ['caresses', 'flies', 'dies', 'mules', 'denied','died', 'agreed', 'owned', \n",
    "           'humbled', 'sized','meeting', 'stating', 'siezing', 'itemization','sensational', \n",
    "           'traditional', 'reference', 'colonizer','plotted']\n",
    "singles = [stemmer.stem(plural) for plural in original_words]\n",
    "pd.DataFrame(data = {'original word': original_words, 'stemmed': singles})"
   ]
  },
  {
   "cell_type": "code",
   "execution_count": 33,
   "id": "2d23e103",
   "metadata": {},
   "outputs": [
    {
     "name": "stderr",
     "output_type": "stream",
     "text": [
      "[nltk_data] Downloading package wordnet to\n",
      "[nltk_data]     C:\\Users\\serva\\AppData\\Roaming\\nltk_data...\n"
     ]
    },
    {
     "data": {
      "text/plain": [
       "True"
      ]
     },
     "execution_count": 33,
     "metadata": {},
     "output_type": "execute_result"
    }
   ],
   "source": [
    "import nltk\n",
    "nltk.download('wordnet')\n"
   ]
  },
  {
   "cell_type": "code",
   "execution_count": 34,
   "id": "d0662240",
   "metadata": {},
   "outputs": [],
   "source": [
    "\n",
    "processed_docs = data['text'].map(preprocess)\n",
    "\n"
   ]
  },
  {
   "cell_type": "code",
   "execution_count": 39,
   "id": "2a64d368",
   "metadata": {},
   "outputs": [
    {
     "data": {
      "text/plain": [
       "0    [publish, general, secretariat, nation, counci...\n",
       "1    [updat, nation, determin, contribut, present, ...\n",
       "2    [final, signific, effort, make, develop, solid...\n",
       "3    [samal, minist, environ, chair, nation, counci...\n",
       "4    [togeth, agre, limit, global, warm, well, pref...\n",
       "Name: text, dtype: object"
      ]
     },
     "execution_count": 39,
     "metadata": {},
     "output_type": "execute_result"
    }
   ],
   "source": [
    "processed_docs.head(5)"
   ]
  },
  {
   "cell_type": "code",
   "execution_count": 49,
   "id": "c7f25fa6",
   "metadata": {},
   "outputs": [],
   "source": [
    "import gensim\n",
    "import gensim.corpora as corpora\n",
    "from gensim.corpora import Dictionary\n",
    "from gensim.models.coherencemodel import CoherenceModel\n",
    "from gensim.models.ldamodel import LdaModel\n",
    "\n",
    "from pprint import pprint\n",
    "\n",
    "import spacy\n",
    "\n",
    "import pickle\n",
    "import re \n",
    "import pyLDAvis\n",
    "import pyLDAvis.gensim_models as gensimvis\n",
    "\n",
    "import matplotlib.pyplot as plt \n",
    "import pandas as pd"
   ]
  },
  {
   "cell_type": "markdown",
   "id": "83b4feaa",
   "metadata": {},
   "source": [
    "# Bigrams and Trigrams\n"
   ]
  },
  {
   "cell_type": "code",
   "execution_count": 50,
   "id": "5a6543bd",
   "metadata": {},
   "outputs": [
    {
     "name": "stdout",
     "output_type": "stream",
     "text": [
      "['publish', 'general', 'secretariat', 'nation', 'council', 'sustain', 'environ', 'kingdom', 'general', 'secretariat', 'nation', 'council', 'sustain', 'environ', 'kingdom', 'right', 'reserv', 'part', 'public', 'reproduc', 'transmit', 'form', 'mean', 'without', 'permiss', 'copyright', 'holder', 'contact', 'inform', 'general', 'secretariat', 'nation', 'council', 'sustain', 'environ', 'morodok', 'techo', 'build', 'tonl', 'bassac', 'chamkarmon', 'phnom_penh', 'updat', 'nation', 'determin', 'contribut', 'foreword', 'intern', 'communiti', 'reach', 'truli', 'histor', 'mileston', 'pari', 'climat', 'agreement', 'togeth', 'agre', 'limit', 'global', 'warm', 'well', 'prefer', 'degre_celsius', 'compar', 'preindustri_level', 'signific', 'reduc', 'risk', 'impact', 'climat', 'chang', 'alway', 'strong', 'support', 'multilater', 'action', 'climat', 'chang', 'countri', 'particular', 'vulner', 'impact', 'climat', 'chang', 'understand', 'urgenc', 'ambiti', 'climat', 'action', 'lead', 'exampl', 'line', 'capac', 'unit', 'nation', 'framework', 'convent', 'climat', 'chang', 'unfccc']\n"
     ]
    }
   ],
   "source": [
    "\n",
    "data_words=processed_docs\n",
    "# Build the bigram and trigram models\n",
    "bigram = gensim.models.Phrases(data_words, min_count=5, threshold=100) # higher threshold fewer phrases.\n",
    "trigram = gensim.models.Phrases(bigram[data_words], threshold=100)\n",
    "# Faster way to get a sentence clubbed as a trigram/bigram\n",
    "bigram_mod = gensim.models.phrases.Phraser(bigram)\n",
    "trigram_mod = gensim.models.phrases.Phraser(trigram)\n",
    "# See trigram example\n",
    "print(trigram_mod[bigram_mod[data_words[0]]])"
   ]
  },
  {
   "cell_type": "code",
   "execution_count": 51,
   "id": "dffc90ac",
   "metadata": {},
   "outputs": [],
   "source": [
    "def make_bigrams(texts):\n",
    "    return [bigram_mod[doc] for doc in texts]\n",
    "\n",
    "def make_trigrams(texts):\n",
    "    return [trigram_mod[bigram_mod[doc]] for doc in texts]\n"
   ]
  },
  {
   "cell_type": "code",
   "execution_count": 52,
   "id": "e03d7eef",
   "metadata": {},
   "outputs": [],
   "source": [
    "# Form Bigrams\n",
    "data_words_trigrams = make_trigrams(data_words)\n",
    "\n"
   ]
  },
  {
   "cell_type": "code",
   "execution_count": 53,
   "id": "79736401",
   "metadata": {},
   "outputs": [
    {
     "name": "stdout",
     "output_type": "stream",
     "text": [
      "[[(0, 1), (1, 1), (2, 1), (3, 1), (4, 1), (5, 1), (6, 1), (7, 1), (8, 3), (9, 1), (10, 3), (11, 1), (12, 1), (13, 1), (14, 1), (15, 3), (16, 1), (17, 1), (18, 2), (19, 1), (20, 1), (21, 1), (22, 1), (23, 1), (24, 1), (25, 1), (26, 1), (27, 1), (28, 1), (29, 1), (30, 1), (31, 1), (32, 1), (33, 1), (34, 1), (35, 1), (36, 3), (37, 1), (38, 1), (39, 1), (40, 1), (41, 1), (42, 1), (43, 1), (44, 1), (45, 1), (46, 1)]]\n"
     ]
    }
   ],
   "source": [
    "# Create Dictionary \n",
    "id2word = corpora.Dictionary(data_words )  \n",
    "id2word.filter_extremes(no_below=10, no_above=0.2)\n",
    "# Create Corpus \n",
    "texts = data_words \n",
    "# Term Document Frequency \n",
    "corpus = [id2word.doc2bow(text) for text in texts]  \n",
    "# View \n",
    "print(corpus[:1])"
   ]
  },
  {
   "cell_type": "code",
   "execution_count": 54,
   "id": "30c35b43",
   "metadata": {},
   "outputs": [
    {
     "data": {
      "text/plain": [
       "[[('agre', 1),\n",
       "  ('agreement', 1),\n",
       "  ('alway', 1),\n",
       "  ('ambiti', 1),\n",
       "  ('celsius', 1),\n",
       "  ('communiti', 1),\n",
       "  ('compar', 1),\n",
       "  ('convent', 1),\n",
       "  ('council', 3),\n",
       "  ('degre', 1),\n",
       "  ('environ', 3),\n",
       "  ('exampl', 1),\n",
       "  ('foreword', 1),\n",
       "  ('form', 1),\n",
       "  ('framework', 1),\n",
       "  ('general', 3),\n",
       "  ('global', 1),\n",
       "  ('histor', 1),\n",
       "  ('kingdom', 2),\n",
       "  ('lead', 1),\n",
       "  ('limit', 1),\n",
       "  ('line', 1),\n",
       "  ('mean', 1),\n",
       "  ('mileston', 1),\n",
       "  ('multilater', 1),\n",
       "  ('pari', 1),\n",
       "  ('part', 1),\n",
       "  ('particular', 1),\n",
       "  ('prefer', 1),\n",
       "  ('preindustri', 1),\n",
       "  ('public', 1),\n",
       "  ('publish', 1),\n",
       "  ('reach', 1),\n",
       "  ('reserv', 1),\n",
       "  ('right', 1),\n",
       "  ('risk', 1),\n",
       "  ('secretariat', 3),\n",
       "  ('signific', 1),\n",
       "  ('strong', 1),\n",
       "  ('togeth', 1),\n",
       "  ('understand', 1),\n",
       "  ('unfccc', 1),\n",
       "  ('unit', 1),\n",
       "  ('urgenc', 1),\n",
       "  ('warm', 1),\n",
       "  ('well', 1),\n",
       "  ('without', 1)]]"
      ]
     },
     "execution_count": 54,
     "metadata": {},
     "output_type": "execute_result"
    }
   ],
   "source": [
    "[[(id2word[id], freq) for id, freq in cp] for cp in corpus[:1]]"
   ]
  },
  {
   "cell_type": "code",
   "execution_count": 55,
   "id": "a8466f3e",
   "metadata": {},
   "outputs": [],
   "source": [
    "lda_model = gensim.models.ldamodel.LdaModel(\n",
    "corpus=corpus, # Der corpus mit BoW oder TF-IDF\n",
    "id2word=id2word, # id2word gibt das Dictionary aus den Wörtern wieder\n",
    "num_topics=10, # Die mitgegebene Topic Anzahl\n",
    "random_state=100, # Das spezifische Seed, damit der Prozess wieder gleich wiedergegeben werden kann\n",
    "update_every=1,# Gibt an wie oft das Modell geupdatet werden soll\n",
    "chunksize=100, # Die Anzahl an Dokumenten die auf einmal angeschaut wird\n",
    "passes=10,# Wie oft der Algorithmus durchlaufen wird\n",
    "alpha='auto', # Das vorgegebene Gewicht Alpha\n",
    "per_word_topics=True)"
   ]
  },
  {
   "cell_type": "code",
   "execution_count": 56,
   "id": "0d12e570",
   "metadata": {},
   "outputs": [
    {
     "name": "stdout",
     "output_type": "stream",
     "text": [
      "[(0,\n",
      "  '0.029*\"temperatur\" + 0.023*\"loss\" + 0.018*\"damag\" + 0.018*\"extrem\" + '\n",
      "  '0.017*\"flood\" + 0.016*\"event\" + 0.016*\"affect\" + 0.016*\"popul\" + '\n",
      "  '0.015*\"rainfal\" + 0.015*\"rise\"'),\n",
      " (1,\n",
      "  '0.024*\"growth\" + 0.023*\"global\" + 0.021*\"economi\" + 0.017*\"import\" + '\n",
      "  '0.017*\"effort\" + 0.015*\"challeng\" + 0.015*\"signific\" + 0.013*\"continu\" + '\n",
      "  '0.012*\"popul\" + 0.012*\"commit\"'),\n",
      " (2,\n",
      "  '0.053*\"forest\" + 0.048*\"land\" + 0.033*\"ecosystem\" + 0.029*\"product\" + '\n",
      "  '0.023*\"south\" + 0.023*\"protect\" + 0.023*\"coastal\" + 0.021*\"marin\" + '\n",
      "  '0.018*\"biodivers\" + 0.017*\"food\"'),\n",
      " (3,\n",
      "  '0.042*\"financ\" + 0.039*\"institut\" + 0.035*\"technolog\" + 0.030*\"fund\" + '\n",
      "  '0.024*\"privat\" + 0.023*\"remov\" + 0.023*\"applic\" + 0.018*\"public\" + '\n",
      "  '0.018*\"invest\" + 0.017*\"financi\"'),\n",
      " (4,\n",
      "  '0.042*\"wast\" + 0.041*\"transport\" + 0.032*\"effici\" + 0.032*\"electr\" + '\n",
      "  '0.027*\"industri\" + 0.025*\"renew\" + 0.022*\"generat\" + 0.015*\"sourc\" + '\n",
      "  '0.015*\"product\" + 0.015*\"vehicl\"'),\n",
      " (5,\n",
      "  '0.029*\"articl\" + 0.025*\"palestin\" + 0.021*\"identifi\" + 0.020*\"framework\" + '\n",
      "  '0.019*\"assess\" + 0.016*\"requir\" + 0.015*\"stakehold\" + 0.015*\"prioriti\" + '\n",
      "  '0.015*\"gender\" + 0.014*\"enhanc\"'),\n",
      " (6,\n",
      "  '0.030*\"agreement\" + 0.026*\"pari\" + 0.022*\"use\" + 0.022*\"parti\" + '\n",
      "  '0.019*\"refer\" + 0.017*\"scenario\" + 0.016*\"estim\" + 0.015*\"base\" + '\n",
      "  '0.015*\"inventori\" + 0.015*\"greenhous\"'),\n",
      " (7,\n",
      "  '0.073*\"ministri\" + 0.050*\"environ\" + 0.038*\"programm\" + 0.034*\"unit\" + '\n",
      "  '0.034*\"seychell\" + 0.032*\"andor\" + 0.032*\"bank\" + 0.021*\"depart\" + '\n",
      "  '0.020*\"author\" + 0.018*\"framework\"'),\n",
      " (8,\n",
      "  '0.027*\"health\" + 0.026*\"risk\" + 0.023*\"communiti\" + 0.023*\"infrastructur\" + '\n",
      "  '0.019*\"social\" + 0.017*\"enhanc\" + 0.016*\"address\" + 0.016*\"integr\" + '\n",
      "  '0.016*\"urban\" + 0.014*\"human\"'),\n",
      " (9,\n",
      "  '0.089*\"power\" + 0.062*\"solar\" + 0.056*\"plant\" + 0.042*\"wind\" + '\n",
      "  '0.042*\"island\" + 0.027*\"geotherm\" + 0.022*\"suppli\" + 0.021*\"hydropow\" + '\n",
      "  '0.017*\"isra\" + 0.017*\"west\"')]\n"
     ]
    }
   ],
   "source": [
    "# Print the keyword of topics\n",
    "pprint(lda_model.print_topics())\n",
    "doc_lda = lda_model[corpus]"
   ]
  },
  {
   "cell_type": "code",
   "execution_count": 57,
   "id": "9ecec832",
   "metadata": {},
   "outputs": [
    {
     "data": {
      "text/html": [
       "\n",
       "<link rel=\"stylesheet\" type=\"text/css\" href=\"https://cdn.jsdelivr.net/gh/bmabey/pyLDAvis@3.4.0/pyLDAvis/js/ldavis.v1.0.0.css\">\n",
       "\n",
       "\n",
       "<div id=\"ldavis_el4845621180723413764754028636\" style=\"background-color:white;\"></div>\n",
       "<script type=\"text/javascript\">\n",
       "\n",
       "var ldavis_el4845621180723413764754028636_data = {\"mdsDat\": {\"x\": [0.1313104834194878, 0.05498146377632846, 0.24595728181318688, 0.08069020897266845, -0.04781052319389575, 0.10144783205077737, -0.17660677143672537, -0.13201208851205828, 0.06309861509587217, -0.3210565019856415], \"y\": [-0.12040343664784661, -0.2703358860363806, -0.05394223748195227, 0.1229991538661555, 0.048263644439919665, 0.2454079915533039, 0.10025681116707891, -0.19929191566022228, 0.1135316131314558, 0.01351426166848844], \"topics\": [1, 2, 3, 4, 5, 6, 7, 8, 9, 10], \"cluster\": [1, 1, 1, 1, 1, 1, 1, 1, 1, 1], \"Freq\": [16.78757371416082, 14.106287485992134, 14.05975140218515, 11.702369082036629, 10.947408871269447, 8.949469087943179, 8.581165300848886, 8.21515882573101, 4.1951421770080914, 2.4556740528246572]}, \"tinfo\": {\"Term\": [\"forest\", \"wast\", \"land\", \"transport\", \"ministri\", \"financ\", \"agreement\", \"institut\", \"power\", \"environ\", \"articl\", \"pari\", \"technolog\", \"effici\", \"electr\", \"palestin\", \"ecosystem\", \"product\", \"framework\", \"health\", \"growth\", \"parti\", \"renew\", \"industri\", \"solar\", \"plant\", \"risk\", \"fund\", \"temperatur\", \"global\", \"agreement\", \"pari\", \"parti\", \"refer\", \"scenario\", \"inventori\", \"greenhous\", \"ipcc\", \"paragraph\", \"accord\", \"methodolog\", \"assumpt\", \"consist\", \"compar\", \"guidelin\", \"circumst\", \"baselin\", \"submit\", \"categori\", \"anthropogen\", \"gas\", \"figur\", \"fair\", \"indc\", \"clariti\", \"quantifi\", \"calcul\", \"afolu\", \"biennial\", \"regul\", \"account\", \"period\", \"use\", \"estim\", \"consid\", \"base\", \"ndcs\", \"guidanc\", \"decis\", \"approach\", \"cover\", \"report\", \"data\", \"total\", \"condit\", \"first\", \"growth\", \"transit\", \"samoa\", \"poverti\", \"percent\", \"covid\", \"independ\", \"pandem\", \"percentag\", \"long\", \"consequ\", \"give\", \"scope\", \"pursu\", \"substanti\", \"trade\", \"posit\", \"subsector\", \"extern\", \"pathway\", \"primarili\", \"come\", \"lucia\", \"preindustri\", \"close\", \"landscap\", \"situat\", \"although\", \"coverag\", \"heavi\", \"challeng\", \"economi\", \"rate\", \"thus\", \"howev\", \"capita\", \"remain\", \"beyond\", \"sinc\", \"signific\", \"effort\", \"global\", \"continu\", \"special\", \"limit\", \"import\", \"would\", \"make\", \"current\", \"toward\", \"popul\", \"commit\", \"goal\", \"state\", \"part\", \"second\", \"well\", \"take\", \"main\", \"high\", \"first\", \"articl\", \"stakehold\", \"gender\", \"consult\", \"section\", \"contain\", \"document\", \"equal\", \"review\", \"annex\", \"outcom\", \"defin\", \"align\", \"evalu\", \"guid\", \"gap\", \"recognis\", \"chapter\", \"legal\", \"describ\", \"priorit\", \"expert\", \"formul\", \"incorpor\", \"palestin\", \"draft\", \"offici\", \"identif\", \"obtain\", \"palestinian\", \"detail\", \"identifi\", \"assess\", \"sdgs\", \"outlin\", \"framework\", \"relev\", \"requir\", \"progress\", \"monitor\", \"prioriti\", \"women\", \"comprehens\", \"analysi\", \"propos\", \"object\", \"meet\", \"well\", \"enhanc\", \"data\", \"report\", \"respons\", \"within\", \"activ\", \"relat\", \"indic\", \"goal\", \"ensur\", \"human\", \"sit\", \"cultur\", \"emerg\", \"prevent\", \"price\", \"element\", \"introduc\", \"perform\", \"pollut\", \"materi\", \"earli\", \"indigen\", \"heritag\", \"pillar\", \"reform\", \"legisl\", \"clear\", \"life\", \"synergi\", \"short\", \"abil\", \"sanit\", \"amend\", \"kalinago\", \"tradit\", \"cycl\", \"warn\", \"refuge\", \"treat\", \"health\", \"peopl\", \"social\", \"infrastructur\", \"communiti\", \"disast\", \"risk\", \"qualiti\", \"urban\", \"rais\", \"servic\", \"environment\", \"tourism\", \"integr\", \"secur\", \"address\", \"effect\", \"promot\", \"ensur\", \"enhanc\", \"strengthen\", \"natur\", \"adopt\", \"local\", \"protect\", \"program\", \"environ\", \"respons\", \"public\", \"food\", \"wast\", \"transport\", \"effici\", \"electr\", \"vehicl\", \"fuel\", \"commonwealth\", \"consumpt\", \"landfil\", \"billion\", \"methan\", \"grid\", \"clean\", \"replac\", \"commerci\", \"fossil\", \"save\", \"ghgs\", \"altern\", \"residenti\", \"explor\", \"recycl\", \"incent\", \"fleet\", \"hydrogen\", \"equip\", \"readi\", \"accompani\", \"smart\", \"station\", \"generat\", \"demand\", \"industri\", \"renew\", \"road\", \"zero\", \"storag\", \"million\", \"design\", \"amount\", \"sourc\", \"lowcarbon\", \"cost\", \"product\", \"potenti\", \"green\", \"total\", \"technolog\", \"invest\", \"condit\", \"carbon\", \"addit\", \"financ\", \"remov\", \"mechan\", \"transfer\", \"regard\", \"institut\", \"train\", \"agenc\", \"youth\", \"correspond\", \"civil\", \"instrument\", \"collabor\", \"alloc\", \"enforc\", \"skill\", \"barrier\", \"bilater\", \"perspect\", \"scientif\", \"entiti\", \"do\", \"multilater\", \"partner\", \"complement\", \"specifi\", \"definit\", \"focal\", \"rule\", \"interest\", \"coordin\", \"arrang\", \"privat\", \"cooper\", \"fund\", \"particip\", \"engag\", \"function\", \"financi\", \"technolog\", \"applic\", \"role\", \"assist\", \"societi\", \"partnership\", \"research\", \"track\", \"public\", \"invest\", \"establish\", \"access\", \"local\", \"technic\", \"green\", \"program\", \"prepar\", \"forest\", \"south\", \"marin\", \"biodivers\", \"conserv\", \"restor\", \"various\", \"degrad\", \"citi\", \"farm\", \"wastewat\", \"habitat\", \"speci\", \"redd\", \"aqaba\", \"rehabilit\", \"link\", \"harvest\", \"treatment\", \"land\", \"deforest\", \"gaza\", \"fisheri\", \"terrestri\", \"fish\", \"reef\", \"stock\", \"farmer\", \"coral\", \"mangrov\", \"ecosystem\", \"soil\", \"coastal\", \"africa\", \"protect\", \"product\", \"food\", \"natur\", \"practic\", \"cover\", \"organ\", \"carbon\", \"extrem\", \"flood\", \"event\", \"affect\", \"rainfal\", \"rise\", \"drought\", \"caus\", \"weather\", \"livestock\", \"surfac\", \"last\", \"precipit\", \"northern\", \"tropic\", \"hurrican\", \"modern\", \"strip\", \"season\", \"storm\", \"variabl\", \"rangeland\", \"poor\", \"geograph\", \"find\", \"anim\", \"park\", \"threaten\", \"gulf\", \"pattern\", \"damag\", \"loss\", \"temperatur\", \"decreas\", \"popul\", \"high\", \"result\", \"higher\", \"lead\", \"region\", \"annual\", \"coastal\", \"averag\", \"diseas\", \"island\", \"condit\", \"risk\", \"unit\", \"andor\", \"depart\", \"author\", \"caribbean\", \"blue\", \"saint\", \"decemb\", \"ministri\", \"commiss\", \"occup\", \"mandat\", \"scheme\", \"maritim\", \"panel\", \"credit\", \"content\", \"offic\", \"affair\", \"june\", \"gross\", \"driver\", \"school\", \"director\", \"center\", \"minist\", \"estat\", \"dedic\", \"biolog\", \"european\", \"programm\", \"bank\", \"seychell\", \"undp\", \"environ\", \"facil\", \"execut\", \"convent\", \"state\", \"framework\", \"unfccc\", \"world\", \"environment\", \"carbon\", \"committe\", \"power\", \"wind\", \"geotherm\", \"hydropow\", \"upgrad\", \"isra\", \"reserv\", \"ecolog\", \"systemat\", \"nauru\", \"north\", \"naturebas\", \"quantiti\", \"predict\", \"safe\", \"divid\", \"bioga\", \"hydro\", \"surviv\", \"photovolta\", \"elimin\", \"pump\", \"utilis\", \"cook\", \"sequest\", \"host\", \"alway\", \"governor\", \"breakdown\", \"end\", \"master\", \"solar\", \"plant\", \"transmiss\", \"island\", \"west\", \"suppli\", \"connect\", \"instal\", \"solut\", \"renew\", \"small\", \"biomass\", \"locat\"], \"Freq\": [1146.0, 1157.0, 1036.0, 1120.0, 777.0, 946.0, 1277.0, 878.0, 549.0, 815.0, 1024.0, 1104.0, 1071.0, 884.0, 881.0, 893.0, 783.0, 1159.0, 899.0, 813.0, 843.0, 916.0, 773.0, 821.0, 425.0, 456.0, 888.0, 736.0, 668.0, 1042.0, 1276.3284379987024, 1103.9523985468518, 916.0154100591989, 782.987190510407, 700.3133291748015, 631.6706271127921, 622.6343877857345, 504.09798101427833, 456.9746638772196, 445.91631478506514, 423.2628929548729, 398.5036489311348, 374.977046901579, 353.7658616663856, 328.92678514416895, 313.6250663789542, 265.15541354222165, 261.07474618503466, 258.22137122161644, 243.70433889947424, 235.65912774572482, 235.5999882070875, 233.06596283318962, 205.71218220450262, 184.71680337719954, 171.57338383815838, 170.97530635016975, 157.25201364103063, 146.24777781459753, 142.0882087502127, 597.7481250444858, 517.5972763522566, 920.9959076397873, 678.3499470111349, 468.15270293027424, 650.0937495390663, 388.8351377837751, 310.3202086553624, 383.99145672365245, 524.2915272433373, 416.7804313724708, 509.4982556646775, 426.57043527647437, 340.2538683757774, 340.57833241844037, 325.01910779595823, 842.8510019352717, 368.87896996667797, 315.6528614375958, 304.4029817072645, 243.48909476088906, 228.16558639902988, 218.37426591028546, 195.78358216414347, 171.15610880097498, 171.04336729741163, 156.69030526175567, 148.40569008680782, 147.0207989461326, 145.15301455658886, 140.26541433353904, 135.11129003462705, 133.48303400090865, 130.052791014223, 120.73258247658173, 169.41847029198695, 112.12304717751884, 111.68335202045675, 99.44487239189374, 98.01468376672854, 97.38158102957951, 96.25824951853826, 94.51358010228842, 92.29372344325562, 91.21666913329, 88.91302612390197, 544.7082280863053, 749.5800070813632, 309.90309415333945, 156.37954574711404, 329.2628207923967, 140.2926488080379, 249.4234439430489, 117.09621206002055, 294.5775604950091, 533.2659945886851, 586.5597117950904, 820.7333813404916, 455.2027368812781, 163.30978095505438, 409.802439780205, 597.6601806296521, 252.0296711849814, 414.3332749736496, 408.628920434658, 336.62327507512947, 426.9799835677588, 415.888011098881, 361.2723845323073, 355.18114896984196, 263.32206567538293, 238.54618583176807, 331.30975335760417, 301.00127399525024, 252.19472461447157, 264.19961181711056, 252.09494171515888, 1023.2250304639803, 544.8680337603184, 524.5813458981047, 293.4625539967659, 262.39718361562336, 256.8605490999995, 247.77505794945267, 229.47488428206512, 222.67251245376178, 211.1338131445551, 201.84084774951043, 191.2164661993183, 207.12953724964044, 175.21418220855236, 134.95811472492866, 121.01828096199735, 120.62419149568457, 115.44939783931464, 114.1025876926042, 113.325273176199, 112.02636000643581, 110.98904622421375, 106.71482569153432, 103.35472597981109, 885.7833380906399, 96.5965913628702, 96.53636114001725, 94.08778923148162, 92.62782996448246, 94.09923625612466, 317.2764024844718, 748.8423935537271, 678.170974367884, 157.80321669773662, 206.56905153550585, 703.9389407398135, 367.0540394201511, 562.2384628541188, 335.8041380783114, 437.7934678821529, 530.5615669787128, 302.7628881574948, 185.91546807053984, 244.1036401962011, 252.567496365488, 416.59059134936996, 230.19882858465076, 435.394434101051, 499.5194681114682, 399.42494501326973, 416.24174840196883, 320.913815599644, 271.7472938706064, 338.74668807751794, 326.3005638413398, 276.2880454480388, 271.68012158119575, 266.8023433398647, 422.1993833413338, 195.8521372822967, 188.46450399731435, 185.11005159373764, 175.5404280980116, 155.98670159032298, 154.55361028468653, 153.36354060095186, 150.80761318040769, 131.05484962855456, 127.9179296474828, 126.43507566585355, 131.25485651899837, 120.53071981650972, 105.92255366252637, 99.71154198153265, 97.4189278258184, 97.2736489511213, 97.23351643888775, 96.61641417921464, 95.4623790656883, 92.56495647637658, 90.37089782636865, 84.7404211023764, 88.08630197721705, 93.46799947076214, 83.63016566948606, 83.53865179415973, 82.01564481058679, 80.41091803312779, 799.6701665913089, 387.31226421965357, 549.0756571054283, 680.5769775176296, 687.8491854355685, 336.8263560986223, 748.4588407729748, 238.77831221309356, 474.6585051867311, 122.36215840661013, 371.65298959601046, 418.4368168914664, 333.2906517192705, 478.67629146592867, 319.35251274621584, 482.6820571151856, 418.380675085721, 322.9965120734872, 346.99274923167303, 506.184137104358, 310.58679619738217, 379.59873526521295, 249.62316062783813, 264.73306514358154, 293.9119695810513, 279.11561226946355, 237.47707902202163, 213.39945673521515, 214.50713046462963, 197.38297816504115, 1156.0778413886496, 1119.08788123239, 883.2015939284178, 880.7718263735201, 409.9870859915511, 380.75611745281947, 334.1946283940172, 295.55896790366825, 235.40284861467924, 200.84329494159135, 175.20664296577505, 160.55950618971175, 153.48641685296403, 153.39646853054035, 148.22931501391082, 141.26264557049228, 126.1618313841424, 118.29849000089315, 116.35104940009133, 113.45220626350188, 109.47106974489871, 106.61808249053931, 94.89220245491987, 84.55656006156798, 83.933681665742, 81.11577157362909, 79.92279664669809, 74.14167778366586, 73.06392718168077, 68.33606241060575, 606.4872276544509, 281.45214721185556, 752.0086624143265, 693.7835888266267, 205.00727995366807, 137.84647498895333, 171.02189278479102, 347.0451883133522, 252.66904183611643, 214.00175439620102, 417.7476110369369, 177.01161534002458, 301.6354569185206, 414.72542918632087, 278.3681171043095, 317.1910858074849, 313.5114978771121, 286.5627811333608, 259.5734541085095, 239.36139262951127, 248.65025966360503, 224.03616127617684, 944.7414991452404, 516.3917688547153, 328.9606087148223, 253.57473750679068, 208.13358829389253, 874.6247880092761, 198.42682513463222, 189.7737728111589, 167.56561665175968, 151.55976911330703, 144.19341442788266, 149.16593757948957, 135.614176602225, 121.33774654578228, 113.04504393956788, 102.92482139606662, 96.20790057707369, 85.47840025681032, 81.96977759160322, 79.68124088240126, 75.11159487808547, 74.25925993734413, 70.59564876423408, 173.05740066423886, 61.46597269747053, 60.49573408710046, 57.77377485958939, 54.9409319656384, 54.08319099565567, 53.25987624666807, 323.3780138575212, 136.3019697717953, 533.322512259727, 276.5290406122672, 665.2801029152474, 253.16784892910593, 294.7712919344549, 106.28985783533594, 384.4515610642339, 783.7549417319933, 509.30022849055297, 251.624576442366, 131.85484998385087, 194.09059423634434, 246.3384513625923, 247.52433047270196, 160.27682673371166, 414.8861163175865, 407.02312774585386, 349.48467446637267, 266.93831643428854, 282.2883891212865, 228.81610554599035, 284.9287878206776, 251.4343886774025, 202.3008431443902, 1145.2571306460784, 499.83568144761347, 455.15192822222383, 381.75929496120614, 375.7635239473986, 243.19134425776946, 230.46501006921747, 216.87142520755228, 216.52669652069054, 197.32211539466883, 194.35886702744335, 191.0269304481651, 187.66378238038556, 166.87301457766216, 167.83678447516516, 160.29849882890036, 149.06818256881877, 147.37760367993454, 145.079141988044, 1029.2261183419457, 135.93659985594516, 141.99847992755394, 292.60173485156537, 121.23883346461666, 120.02214633840435, 111.39879069009517, 108.58932601444884, 106.82682848389601, 100.32524304571768, 100.293851259786, 710.3374989360161, 201.21429618924086, 487.04670391853284, 311.912871758934, 496.74738679590456, 627.485621089936, 376.1215946441075, 360.81530439224247, 177.4008319498904, 189.16323597655682, 164.22426502814022, 166.42598713211495, 360.6833442391836, 359.06022162719876, 332.7039646320824, 324.38923942831605, 300.40978536002746, 299.8380907062245, 273.2033989100778, 200.4779664614125, 183.38924630733948, 179.05484612119463, 169.07499718860524, 166.91987960859583, 153.5003885286595, 139.19179709461352, 137.79777235531822, 135.5003208535671, 132.59644226760477, 123.08794559461876, 121.68352605837082, 121.67230658195514, 108.06359951173329, 103.17441060077759, 100.1728362663342, 98.63692830221301, 96.69041626916648, 95.8722958846541, 94.55935823302626, 93.58296651668425, 90.11112351309471, 87.31873967267515, 377.0075865310257, 478.05026784493737, 592.4829435640378, 172.98328741406047, 319.26648403269667, 242.6446520857175, 260.90593218607734, 165.40776268805354, 184.89234928956492, 197.17393613925398, 159.37794618676332, 184.6082951610307, 155.9170062128188, 149.8612986121078, 157.48453008612157, 157.65530586004184, 139.21589499566699, 362.10943434868506, 333.83533289047335, 220.11050356700892, 206.8232534531962, 160.05524980430764, 137.22981290428436, 124.60052412430383, 115.54223914689793, 770.2009855124038, 100.26680620828179, 97.65073854716334, 91.07250612259894, 88.33169591870087, 82.43176637317974, 80.18823202777547, 78.89841940321779, 74.25288351342631, 73.33401272596133, 69.35465509654617, 67.05253475044255, 66.82977671200942, 65.77308387592497, 62.915312235491946, 62.316921170675755, 60.93716307128977, 59.67436151158143, 59.62539293861306, 57.124009675386546, 56.00853496431085, 53.644758287982754, 398.62134255050296, 332.2667715611505, 352.7349299144786, 74.27394489666001, 525.2641793601695, 156.81713436077197, 111.76911266253906, 193.44454963250772, 181.17275102262548, 194.44102091755568, 141.5843334617821, 112.6301270810419, 119.61733523332356, 126.432379676763, 85.1289064037046, 548.716612805232, 259.6184304794746, 168.68706546963912, 128.2058828169299, 100.17737056688838, 105.63262437512726, 93.33863385736443, 83.83495908874558, 82.51309872016915, 79.21994218686471, 74.3856719811005, 60.725706722336525, 57.91258564850046, 57.834888170986254, 49.780670078553506, 49.611648110756605, 48.89819917847844, 44.13941643196077, 44.14200195268378, 41.331168290751215, 40.64702861500603, 39.30369581213243, 37.655744525051915, 36.72892420521371, 35.26287376021887, 33.77494098130005, 32.85082657228503, 32.62337240943437, 32.3918737125037, 30.60067827122052, 64.79168170589574, 382.263609226128, 342.45241467953036, 54.265241440453686, 259.45208575819134, 103.76504141527712, 138.30694472838726, 68.40527655585751, 73.18629994016877, 78.7993737040255, 78.45333815892421, 59.95556551859537, 50.570245684181565, 51.89877910402536], \"Total\": [1146.0, 1157.0, 1036.0, 1120.0, 777.0, 946.0, 1277.0, 878.0, 549.0, 815.0, 1024.0, 1104.0, 1071.0, 884.0, 881.0, 893.0, 783.0, 1159.0, 899.0, 813.0, 843.0, 916.0, 773.0, 821.0, 425.0, 456.0, 888.0, 736.0, 668.0, 1042.0, 1277.352456837111, 1104.9168251360725, 916.9798096454989, 783.9516207539976, 701.2778021450242, 632.6350298066612, 623.5988391494496, 505.0623147763343, 457.9390371084377, 446.8807880147309, 424.2272378704404, 399.46802487953846, 375.9415258792726, 354.73027084354254, 329.8911913009788, 314.5895919727611, 266.1198020133205, 262.0391371011493, 259.18584152986324, 244.66870446183765, 236.62354724350178, 236.5644016510715, 234.03036301296873, 206.6766291551161, 185.68116978691523, 172.53777703766337, 171.93972963266893, 158.21644016429397, 147.21215997715385, 143.05308981857613, 642.3634355594905, 578.7758553413853, 1118.2636185528715, 796.9199517771026, 600.2683434878116, 931.2334511528034, 485.8795442684682, 366.66095021500126, 518.626254693731, 886.9918853257166, 606.8047503565887, 994.1263595851491, 826.8625545283226, 732.1252857022977, 779.5196289124701, 790.8367371402088, 843.8011073896763, 369.8290978175791, 316.6031332172235, 305.35306248293796, 244.4391952738341, 229.11572206790626, 219.3247779076795, 196.7336689071741, 172.10647474430155, 171.99365714682486, 157.64053561223602, 149.3557261229171, 147.9709969735602, 146.1031315245304, 141.21565112774144, 136.0614648854772, 134.4331990894135, 131.00299807159584, 121.68270085317634, 170.7524310250166, 113.0735143518943, 112.63339829247303, 100.40510467508796, 98.96468678912298, 98.33180915400838, 97.20853160542136, 95.46386714956233, 93.24377569876577, 92.16677384566346, 89.86346141789838, 552.8742220201996, 778.8570332594869, 318.27037804655447, 158.98406171612262, 340.3066384535124, 143.40695392455657, 262.38333159671566, 119.22295626020018, 315.4778330572446, 606.3110115777667, 699.0147780071813, 1042.3688217407826, 544.5162075849613, 171.77954024428297, 519.7864847989713, 862.4231698720961, 302.953984892511, 588.2991107540828, 665.5668055555377, 504.5060757728912, 747.0886748290649, 732.4796133471507, 633.8034669841247, 624.3186031959045, 404.9024806821426, 349.59156414876935, 936.2177209333943, 781.9285182612011, 429.19748869709804, 535.8808262641247, 790.8367371402088, 1024.1784479575003, 545.8213384886093, 525.5346082904389, 294.415833953585, 263.3505548010142, 257.81404576112647, 248.72846678842217, 230.4282001623453, 223.62582390290748, 212.08717955038426, 202.79426668685863, 192.1698312458655, 208.16831489023198, 176.16747828912324, 135.91137810680416, 121.97154390788799, 121.57778810998063, 116.40290509958461, 115.05613006452982, 114.27858384128193, 112.97971236714703, 111.94233532203631, 107.66814358761299, 104.30807670336219, 893.9933338155042, 97.54994457488309, 97.48971744263065, 95.04144688554425, 93.58167981378311, 95.1204563151943, 320.92264570799244, 792.5040862776561, 750.8741699257806, 162.9235059202822, 220.6241534589619, 899.2165768737141, 432.6868916048799, 736.3463546809063, 407.9963230730596, 562.5905876598684, 721.6043485709874, 369.9027288291417, 208.16297685717217, 294.3318805731983, 309.8271003823975, 651.4264581706894, 296.1876294128718, 936.2177209333943, 1209.527782027477, 826.8625545283226, 994.1263595851491, 565.1987194181636, 452.82666370340417, 884.427162708163, 844.0959401093381, 545.91464700259, 633.8034669841247, 634.0264011213684, 424.03127230347735, 196.80457737593275, 189.41656079671893, 186.0620923692917, 176.49247215093365, 156.9388742507371, 155.50574581781382, 154.3156137704784, 151.759812602944, 132.00689862710362, 128.87016450004302, 127.38704576159562, 132.261372708339, 121.4830253248297, 106.87457002493719, 100.66364834287505, 98.37098310618195, 98.22574759369428, 98.1855192626744, 97.56854285863227, 96.41452713643746, 93.51701323255175, 91.32292575110073, 85.69260176653549, 89.08127673656001, 94.52696901835431, 84.58235217131721, 84.49057124757765, 82.97100942188847, 81.36333919397275, 813.492647254481, 394.93144720682756, 572.2088507585704, 773.2278855534747, 801.9419307198224, 372.7049293096964, 888.51882092085, 260.8461250255595, 568.8363639040244, 128.03407878956187, 463.2463486347349, 560.876480297557, 455.5194633601965, 745.8838283228159, 444.13049622462927, 793.7980760039508, 706.0144110537794, 547.2934664261841, 634.0264011213684, 1209.527782027477, 547.8461348517742, 815.3127061449455, 423.3329911577707, 616.3170091359146, 829.6326852226899, 772.6566107600397, 815.1809192805141, 565.1987194181636, 723.1582347910784, 660.7669542144504, 1157.0286669108475, 1120.0386628154522, 884.1523833373993, 881.722568061502, 410.9377778933027, 381.70683274884306, 335.15553083078476, 296.50981241580854, 236.35356452102064, 201.79407525458583, 176.1574601606524, 161.51028185438926, 154.43723800080406, 154.3472481908265, 149.18015574606815, 142.21336998701554, 127.11274589151614, 119.24957324644777, 117.30183284946148, 114.4030000957063, 110.42207694984926, 107.56881662003696, 95.84316487718517, 85.50732590122809, 84.88440916095551, 82.06653039919978, 80.87394466988937, 75.09273436449077, 74.01487929901427, 69.28700491425454, 647.5712327008142, 296.3422946913832, 821.6483039154111, 773.05900648691, 220.67676379163234, 146.3870516266075, 187.80189799940072, 449.8976568321465, 308.71817028255055, 273.07026457862656, 684.0307009270473, 226.3890712449377, 583.6690355422555, 1159.761363103718, 556.6366068824246, 749.7392243676962, 732.1252857022977, 1071.1643812112745, 829.1419742326682, 779.5196289124701, 1083.3342655599063, 772.2117862398941, 946.0728173473256, 517.3401946158396, 329.9088954132086, 254.52301017244935, 209.0821166755809, 878.7746378139469, 199.3751589906523, 190.722029918069, 168.51390763504966, 152.50817293115688, 145.14169923977414, 150.15834983837814, 136.56250046646585, 122.28967481024921, 113.99383769116027, 103.87328173249793, 97.15628250396625, 86.4266267436492, 82.91850963131594, 80.6297119293631, 76.05990395891298, 75.20886726030582, 71.54389104434567, 175.48658495161095, 62.41447643966303, 61.44471680232372, 58.72233992280492, 55.88918318758299, 55.03154910400331, 54.208173344208376, 330.42530031296246, 139.24271323105927, 561.19259763714, 291.4181053131291, 736.233356000796, 269.5151085018672, 334.27065802684876, 111.33610675330735, 464.3106670381773, 1071.1643812112745, 665.9232967731368, 304.581697284898, 143.52394505429498, 230.27320932126779, 316.9180377288712, 322.56401374959813, 186.02654814328656, 723.1582347910784, 829.1419742326682, 655.1284483606423, 428.1801670246899, 616.3170091359146, 402.4354335550734, 749.7392243676962, 772.6566107600397, 427.56002722922847, 1146.2061329071917, 500.7853158546417, 456.10098748527196, 382.70831886823584, 376.7125876629664, 244.14036330071178, 231.41454936569878, 217.82042608159713, 217.4759594386978, 198.27123013038644, 195.30827785384813, 191.9760519505194, 188.61284994793053, 167.82204178730038, 168.8145691826351, 161.24769098643216, 150.01742556008665, 148.32667050949016, 146.0283845548892, 1036.3305153145009, 136.88557175467787, 142.99748961332818, 294.75558160244253, 122.18790537040294, 120.97118058805188, 112.3478458723016, 109.53836145344441, 107.77591163083159, 101.2743195852936, 101.24279153900424, 783.3710371867078, 222.85092541036548, 672.4961452904428, 423.7193594563344, 829.6326852226899, 1159.761363103718, 660.7669542144504, 815.3127061449455, 292.52118921376575, 606.8047503565887, 359.83937368467747, 1083.3342655599063, 361.6278632874434, 360.0047449124009, 333.6484790439517, 325.3358932372714, 301.35425952016504, 300.78260892703076, 274.14792806874067, 201.4225605239699, 184.33376940779522, 179.9994452710564, 170.01959407041943, 167.86468804437806, 154.44486713044074, 140.1367666179892, 138.74230598207845, 136.44544319140775, 133.5415982999223, 124.03553138118569, 122.6280546267939, 122.61682166586078, 109.00821621001539, 104.11987507275569, 101.11756492351483, 99.58167288345764, 97.6352476726883, 96.81710942770425, 95.50425874707125, 94.52769473799586, 91.05692821911664, 88.26327770850274, 396.2402033733498, 521.5693972328384, 668.8596507847988, 263.82252152985217, 747.0886748290649, 535.8808262641247, 618.8605720214349, 267.18907755149394, 353.7450460385672, 459.1727706663302, 357.9953028505935, 672.4961452904428, 340.92349289176394, 296.5935735714842, 447.55915421873567, 779.5196289124701, 888.51882092085, 363.0451755968842, 334.77124880318945, 221.04624174968998, 207.75901959266164, 160.99148359844347, 138.1656546490779, 125.54365526808759, 116.4780405055465, 777.0707804021159, 101.20257240376907, 98.58937893036243, 92.00835883133664, 89.2676383318718, 83.36770898719541, 81.12420862378819, 79.83428273468573, 75.18865029848259, 74.26970659321621, 70.29036935843185, 67.98828490546107, 67.76559864763571, 66.70897613246403, 63.8510922805169, 63.252553053510255, 61.8733616974419, 60.61009095709896, 60.56143729155074, 58.05990066301312, 56.94432369242354, 54.580501271383405, 418.3164251797587, 403.4877673573624, 473.39827984004773, 78.59493196995625, 815.1809192805141, 204.44906215954444, 137.6641168947352, 446.6890904259619, 624.3186031959045, 899.2165768737141, 521.0871205514496, 331.70002622150406, 560.876480297557, 1083.3342655599063, 191.10803665828377, 549.64035418833, 260.54216602589725, 169.61110405473175, 129.1295730674679, 101.10116613580904, 106.62895717984489, 94.26266136908512, 84.75897054337459, 83.43709751064935, 80.1446635772957, 75.30940727658098, 61.649450797876455, 58.83670497529148, 58.75884473622646, 50.704455388021714, 50.535552822663625, 49.8219269840027, 45.06310755144289, 45.06614910482701, 42.2549517093163, 41.57091211721271, 40.22749780160006, 38.57965803485339, 37.65258538586731, 36.186705969688475, 34.69910277193514, 33.77530890570863, 33.55093399238607, 33.31592527071162, 31.524585680261776, 66.89342905058265, 425.88540559252544, 456.7295514873554, 59.71887075713804, 447.55915421873567, 218.79855953651366, 358.1288434523417, 111.65625138751138, 128.6548437780047, 221.43702483331458, 773.05900648691, 330.92754637378135, 117.62658838193869, 186.8112156691113], \"Category\": [\"Default\", \"Default\", \"Default\", \"Default\", \"Default\", \"Default\", \"Default\", \"Default\", \"Default\", \"Default\", \"Default\", \"Default\", \"Default\", \"Default\", \"Default\", \"Default\", \"Default\", \"Default\", \"Default\", \"Default\", \"Default\", \"Default\", \"Default\", \"Default\", \"Default\", \"Default\", \"Default\", \"Default\", \"Default\", \"Default\", \"Topic1\", \"Topic1\", \"Topic1\", \"Topic1\", \"Topic1\", \"Topic1\", \"Topic1\", \"Topic1\", \"Topic1\", \"Topic1\", \"Topic1\", \"Topic1\", \"Topic1\", \"Topic1\", \"Topic1\", \"Topic1\", \"Topic1\", \"Topic1\", \"Topic1\", \"Topic1\", \"Topic1\", \"Topic1\", \"Topic1\", \"Topic1\", \"Topic1\", \"Topic1\", \"Topic1\", \"Topic1\", \"Topic1\", \"Topic1\", \"Topic1\", \"Topic1\", \"Topic1\", \"Topic1\", \"Topic1\", \"Topic1\", \"Topic1\", \"Topic1\", \"Topic1\", \"Topic1\", \"Topic1\", \"Topic1\", \"Topic1\", \"Topic1\", \"Topic1\", \"Topic1\", \"Topic2\", \"Topic2\", \"Topic2\", \"Topic2\", \"Topic2\", \"Topic2\", \"Topic2\", \"Topic2\", \"Topic2\", \"Topic2\", \"Topic2\", \"Topic2\", \"Topic2\", \"Topic2\", \"Topic2\", \"Topic2\", \"Topic2\", \"Topic2\", \"Topic2\", \"Topic2\", \"Topic2\", \"Topic2\", \"Topic2\", \"Topic2\", \"Topic2\", \"Topic2\", \"Topic2\", \"Topic2\", \"Topic2\", \"Topic2\", \"Topic2\", \"Topic2\", \"Topic2\", \"Topic2\", \"Topic2\", \"Topic2\", \"Topic2\", \"Topic2\", \"Topic2\", \"Topic2\", \"Topic2\", \"Topic2\", \"Topic2\", \"Topic2\", \"Topic2\", \"Topic2\", \"Topic2\", \"Topic2\", \"Topic2\", \"Topic2\", \"Topic2\", \"Topic2\", \"Topic2\", \"Topic2\", \"Topic2\", \"Topic2\", \"Topic2\", \"Topic2\", \"Topic2\", \"Topic2\", \"Topic2\", \"Topic3\", \"Topic3\", \"Topic3\", \"Topic3\", \"Topic3\", \"Topic3\", \"Topic3\", \"Topic3\", \"Topic3\", \"Topic3\", \"Topic3\", \"Topic3\", \"Topic3\", \"Topic3\", \"Topic3\", \"Topic3\", \"Topic3\", \"Topic3\", \"Topic3\", \"Topic3\", \"Topic3\", \"Topic3\", \"Topic3\", \"Topic3\", \"Topic3\", \"Topic3\", \"Topic3\", \"Topic3\", \"Topic3\", \"Topic3\", \"Topic3\", \"Topic3\", \"Topic3\", \"Topic3\", \"Topic3\", \"Topic3\", \"Topic3\", \"Topic3\", \"Topic3\", \"Topic3\", \"Topic3\", \"Topic3\", \"Topic3\", \"Topic3\", \"Topic3\", \"Topic3\", \"Topic3\", \"Topic3\", \"Topic3\", \"Topic3\", \"Topic3\", \"Topic3\", \"Topic3\", \"Topic3\", \"Topic3\", \"Topic3\", \"Topic3\", \"Topic3\", \"Topic4\", \"Topic4\", \"Topic4\", \"Topic4\", \"Topic4\", \"Topic4\", \"Topic4\", \"Topic4\", \"Topic4\", \"Topic4\", \"Topic4\", \"Topic4\", \"Topic4\", \"Topic4\", \"Topic4\", \"Topic4\", \"Topic4\", \"Topic4\", \"Topic4\", \"Topic4\", \"Topic4\", \"Topic4\", \"Topic4\", \"Topic4\", \"Topic4\", \"Topic4\", \"Topic4\", \"Topic4\", \"Topic4\", \"Topic4\", \"Topic4\", \"Topic4\", \"Topic4\", \"Topic4\", \"Topic4\", \"Topic4\", \"Topic4\", \"Topic4\", \"Topic4\", \"Topic4\", \"Topic4\", \"Topic4\", \"Topic4\", \"Topic4\", \"Topic4\", \"Topic4\", \"Topic4\", \"Topic4\", \"Topic4\", \"Topic4\", \"Topic4\", \"Topic4\", \"Topic4\", \"Topic4\", \"Topic4\", \"Topic4\", \"Topic4\", \"Topic4\", \"Topic4\", \"Topic4\", \"Topic5\", \"Topic5\", \"Topic5\", \"Topic5\", \"Topic5\", \"Topic5\", \"Topic5\", \"Topic5\", \"Topic5\", \"Topic5\", \"Topic5\", \"Topic5\", \"Topic5\", \"Topic5\", \"Topic5\", \"Topic5\", \"Topic5\", \"Topic5\", \"Topic5\", \"Topic5\", \"Topic5\", \"Topic5\", \"Topic5\", \"Topic5\", \"Topic5\", \"Topic5\", \"Topic5\", \"Topic5\", \"Topic5\", \"Topic5\", \"Topic5\", \"Topic5\", \"Topic5\", \"Topic5\", \"Topic5\", \"Topic5\", \"Topic5\", \"Topic5\", \"Topic5\", \"Topic5\", \"Topic5\", \"Topic5\", \"Topic5\", \"Topic5\", \"Topic5\", \"Topic5\", \"Topic5\", \"Topic5\", \"Topic5\", \"Topic5\", \"Topic5\", \"Topic5\", \"Topic6\", \"Topic6\", \"Topic6\", \"Topic6\", \"Topic6\", \"Topic6\", \"Topic6\", \"Topic6\", \"Topic6\", \"Topic6\", \"Topic6\", \"Topic6\", \"Topic6\", \"Topic6\", \"Topic6\", \"Topic6\", \"Topic6\", \"Topic6\", \"Topic6\", \"Topic6\", \"Topic6\", \"Topic6\", \"Topic6\", \"Topic6\", \"Topic6\", \"Topic6\", \"Topic6\", \"Topic6\", \"Topic6\", \"Topic6\", \"Topic6\", \"Topic6\", \"Topic6\", \"Topic6\", \"Topic6\", \"Topic6\", \"Topic6\", \"Topic6\", \"Topic6\", \"Topic6\", \"Topic6\", \"Topic6\", \"Topic6\", \"Topic6\", \"Topic6\", \"Topic6\", \"Topic6\", \"Topic6\", \"Topic6\", \"Topic6\", \"Topic6\", \"Topic6\", \"Topic6\", \"Topic6\", \"Topic6\", \"Topic6\", \"Topic7\", \"Topic7\", \"Topic7\", \"Topic7\", \"Topic7\", \"Topic7\", \"Topic7\", \"Topic7\", \"Topic7\", \"Topic7\", \"Topic7\", \"Topic7\", \"Topic7\", \"Topic7\", \"Topic7\", \"Topic7\", \"Topic7\", \"Topic7\", \"Topic7\", \"Topic7\", \"Topic7\", \"Topic7\", \"Topic7\", \"Topic7\", \"Topic7\", \"Topic7\", \"Topic7\", \"Topic7\", \"Topic7\", \"Topic7\", \"Topic7\", \"Topic7\", \"Topic7\", \"Topic7\", \"Topic7\", \"Topic7\", \"Topic7\", \"Topic7\", \"Topic7\", \"Topic7\", \"Topic7\", \"Topic7\", \"Topic8\", \"Topic8\", \"Topic8\", \"Topic8\", \"Topic8\", \"Topic8\", \"Topic8\", \"Topic8\", \"Topic8\", \"Topic8\", \"Topic8\", \"Topic8\", \"Topic8\", \"Topic8\", \"Topic8\", \"Topic8\", \"Topic8\", \"Topic8\", \"Topic8\", \"Topic8\", \"Topic8\", \"Topic8\", \"Topic8\", \"Topic8\", \"Topic8\", \"Topic8\", \"Topic8\", \"Topic8\", \"Topic8\", \"Topic8\", \"Topic8\", \"Topic8\", \"Topic8\", \"Topic8\", \"Topic8\", \"Topic8\", \"Topic8\", \"Topic8\", \"Topic8\", \"Topic8\", \"Topic8\", \"Topic8\", \"Topic8\", \"Topic8\", \"Topic8\", \"Topic8\", \"Topic8\", \"Topic9\", \"Topic9\", \"Topic9\", \"Topic9\", \"Topic9\", \"Topic9\", \"Topic9\", \"Topic9\", \"Topic9\", \"Topic9\", \"Topic9\", \"Topic9\", \"Topic9\", \"Topic9\", \"Topic9\", \"Topic9\", \"Topic9\", \"Topic9\", \"Topic9\", \"Topic9\", \"Topic9\", \"Topic9\", \"Topic9\", \"Topic9\", \"Topic9\", \"Topic9\", \"Topic9\", \"Topic9\", \"Topic9\", \"Topic9\", \"Topic9\", \"Topic9\", \"Topic9\", \"Topic9\", \"Topic9\", \"Topic9\", \"Topic9\", \"Topic9\", \"Topic9\", \"Topic9\", \"Topic9\", \"Topic9\", \"Topic9\", \"Topic9\", \"Topic9\", \"Topic10\", \"Topic10\", \"Topic10\", \"Topic10\", \"Topic10\", \"Topic10\", \"Topic10\", \"Topic10\", \"Topic10\", \"Topic10\", \"Topic10\", \"Topic10\", \"Topic10\", \"Topic10\", \"Topic10\", \"Topic10\", \"Topic10\", \"Topic10\", \"Topic10\", \"Topic10\", \"Topic10\", \"Topic10\", \"Topic10\", \"Topic10\", \"Topic10\", \"Topic10\", \"Topic10\", \"Topic10\", \"Topic10\", \"Topic10\", \"Topic10\", \"Topic10\", \"Topic10\", \"Topic10\", \"Topic10\", \"Topic10\", \"Topic10\", \"Topic10\", \"Topic10\", \"Topic10\", \"Topic10\", \"Topic10\", \"Topic10\", \"Topic10\"], \"logprob\": [30.0, 29.0, 28.0, 27.0, 26.0, 25.0, 24.0, 23.0, 22.0, 21.0, 20.0, 19.0, 18.0, 17.0, 16.0, 15.0, 14.0, 13.0, 12.0, 11.0, 10.0, 9.0, 8.0, 7.0, 6.0, 5.0, 4.0, 3.0, 2.0, 1.0, -3.4956, -3.6407, -3.8273, -3.9842, -4.0958, -4.199, -4.2134, -4.4246, -4.5227, -4.5472, -4.5994, -4.6596, -4.7205, -4.7787, -4.8515, -4.8992, -5.067, -5.0826, -5.0935, -5.1514, -5.185, -5.1852, -5.196, -5.3209, -5.4285, -5.5023, -5.5058, -5.5895, -5.6621, -5.6909, -4.2542, -4.3982, -3.8219, -4.1277, -4.4986, -4.1702, -4.6842, -4.9098, -4.6967, -4.3853, -4.6148, -4.4139, -4.5916, -4.8177, -4.8167, -4.8635, -3.7365, -4.5629, -4.7187, -4.755, -4.9783, -5.0433, -5.0871, -5.1963, -5.3308, -5.3314, -5.4191, -5.4734, -5.4828, -5.4956, -5.5298, -5.5672, -5.5794, -5.6054, -5.6798, -5.341, -5.7537, -5.7577, -5.8737, -5.8882, -5.8947, -5.9063, -5.9246, -5.9484, -5.9601, -5.9857, -4.1731, -3.8538, -4.7371, -5.4211, -4.6765, -5.5296, -4.9542, -5.7103, -4.7878, -4.1943, -4.0991, -3.7631, -4.3526, -5.3777, -4.4577, -4.0803, -4.9438, -4.4467, -4.4605, -4.6544, -4.4166, -4.4429, -4.5837, -4.6007, -4.9, -4.9988, -4.6703, -4.7662, -4.9431, -4.8966, -4.9435, -3.5393, -4.1695, -4.2074, -4.7883, -4.9002, -4.9215, -4.9575, -5.0342, -5.0643, -5.1175, -5.1626, -5.2166, -5.1367, -5.304, -5.5651, -5.6741, -5.6774, -5.7212, -5.7329, -5.7398, -5.7513, -5.7606, -5.7999, -5.8319, -3.6836, -5.8995, -5.9001, -5.9258, -5.9414, -5.9257, -4.7103, -3.8515, -3.9506, -5.4087, -5.1394, -3.9133, -4.5645, -4.1381, -4.6535, -4.3883, -4.1961, -4.7571, -5.2447, -4.9724, -4.9384, -4.4379, -5.0311, -4.3938, -4.2564, -4.48, -4.4388, -4.6989, -4.8652, -4.6448, -4.6822, -4.8486, -4.8654, -4.8835, -4.241, -5.0091, -5.0476, -5.0656, -5.1186, -5.2367, -5.246, -5.2537, -5.2705, -5.4109, -5.4351, -5.4468, -5.4094, -5.4946, -5.6238, -5.6842, -5.7075, -5.709, -5.7094, -5.7158, -5.7278, -5.7586, -5.7826, -5.8469, -5.8082, -5.7489, -5.8601, -5.8612, -5.8796, -5.8994, -3.6023, -4.3273, -3.9783, -3.7636, -3.7529, -4.4669, -3.6685, -4.811, -4.1239, -5.4795, -4.3685, -4.25, -4.4775, -4.1155, -4.5202, -4.1072, -4.2501, -4.5089, -4.4372, -4.0596, -4.548, -4.3474, -4.7666, -4.7078, -4.6032, -4.6549, -4.8164, -4.9233, -4.9182, -5.0014, -3.167, -3.1996, -3.4363, -3.439, -4.2037, -4.2777, -4.4081, -4.531, -4.7585, -4.9173, -5.0539, -5.1412, -5.1862, -5.1868, -5.2211, -5.2692, -5.3823, -5.4466, -5.4632, -5.4884, -5.5242, -5.5506, -5.6671, -5.7824, -5.7898, -5.8239, -5.8388, -5.9138, -5.9285, -5.9954, -3.8121, -4.5799, -3.5971, -3.6777, -4.8968, -5.2937, -5.078, -4.3704, -4.6877, -4.8538, -4.1849, -5.0436, -4.5106, -4.1922, -4.5909, -4.4603, -4.472, -4.5619, -4.6608, -4.7418, -4.7038, -4.808, -3.1674, -3.7714, -4.2224, -4.4827, -4.6801, -3.2445, -4.7279, -4.7725, -4.8969, -4.9973, -5.0472, -5.0133, -5.1085, -5.2197, -5.2905, -5.3843, -5.4518, -5.57, -5.612, -5.6403, -5.6993, -5.7108, -5.7613, -4.8647, -5.8998, -5.9157, -5.9618, -6.0121, -6.0278, -6.0431, -4.2395, -5.1034, -3.7392, -4.396, -3.5181, -4.4843, -4.3321, -5.3521, -4.0665, -3.3542, -3.7853, -4.4904, -5.1366, -4.75, -4.5116, -4.5068, -4.9414, -3.9903, -4.0094, -4.1619, -4.4313, -4.3754, -4.5854, -4.3661, -4.4911, -4.7086, -2.9329, -3.762, -3.8557, -4.0315, -4.0473, -4.4824, -4.5362, -4.597, -4.5986, -4.6915, -4.7066, -4.7239, -4.7416, -4.8591, -4.8533, -4.8993, -4.9719, -4.9833, -4.999, -3.0397, -5.0641, -5.0205, -4.2975, -5.1785, -5.1886, -5.2632, -5.2887, -5.3051, -5.3679, -5.3682, -3.4105, -4.6719, -3.7879, -4.2336, -3.7682, -3.5346, -4.0464, -4.0879, -4.7979, -4.7337, -4.8751, -4.8617, -4.0447, -4.0492, -4.1254, -4.1508, -4.2276, -4.2295, -4.3225, -4.632, -4.7211, -4.745, -4.8024, -4.8152, -4.899, -4.9968, -5.0069, -5.0237, -5.0454, -5.1198, -5.1313, -5.1314, -5.25, -5.2963, -5.3258, -5.3413, -5.3612, -5.3697, -5.3835, -5.3939, -5.4317, -5.4631, -4.0004, -3.763, -3.5484, -4.7795, -4.1667, -4.4411, -4.3685, -4.8243, -4.7129, -4.6486, -4.8614, -4.7145, -4.8834, -4.923, -4.8734, -4.8723, -4.9967, -3.3687, -3.45, -3.8665, -3.9288, -4.1851, -4.339, -4.4355, -4.511, -2.614, -4.6528, -4.6792, -4.749, -4.7795, -4.8487, -4.8763, -4.8925, -4.9532, -4.9656, -5.0214, -5.0552, -5.0585, -5.0744, -5.1189, -5.1284, -5.1508, -5.1717, -5.1726, -5.2154, -5.2351, -5.2783, -3.2726, -3.4547, -3.3949, -4.9529, -2.9967, -4.2056, -4.5442, -3.9957, -4.0612, -3.9905, -4.3078, -4.5365, -4.4763, -4.4209, -4.8165, -2.4175, -3.1659, -3.5971, -3.8715, -4.1182, -4.0652, -4.1889, -4.2963, -4.3122, -4.3529, -4.4159, -4.6188, -4.6662, -4.6675, -4.8175, -4.8209, -4.8354, -4.9378, -4.9377, -5.0035, -5.0202, -5.0538, -5.0966, -5.1216, -5.1623, -5.2054, -5.2331, -5.2401, -5.2472, -5.3041, -4.5539, -2.779, -2.889, -4.7312, -3.1665, -4.083, -3.7956, -4.4997, -4.4321, -4.3582, -4.3626, -4.6315, -4.8018, -4.7758], \"loglift\": [30.0, 29.0, 28.0, 27.0, 26.0, 25.0, 24.0, 23.0, 22.0, 21.0, 20.0, 19.0, 18.0, 17.0, 16.0, 15.0, 14.0, 13.0, 12.0, 11.0, 10.0, 9.0, 8.0, 7.0, 6.0, 5.0, 4.0, 3.0, 2.0, 1.0, 1.7837, 1.7837, 1.7835, 1.7833, 1.7832, 1.783, 1.783, 1.7826, 1.7824, 1.7824, 1.7823, 1.7821, 1.782, 1.7818, 1.7816, 1.7815, 1.7809, 1.7808, 1.7808, 1.7806, 1.7804, 1.7804, 1.7804, 1.7799, 1.7793, 1.7789, 1.7789, 1.7784, 1.778, 1.7778, 1.7125, 1.6728, 1.5905, 1.6234, 1.5359, 1.4251, 1.5617, 1.6177, 1.484, 1.2587, 1.4089, 1.1161, 1.1227, 1.0183, 0.9565, 0.8953, 1.9574, 1.956, 1.9555, 1.9554, 1.9547, 1.9544, 1.9542, 1.9537, 1.953, 1.953, 1.9525, 1.9522, 1.9521, 1.952, 1.9518, 1.9515, 1.9515, 1.9513, 1.9507, 1.9507, 1.9501, 1.9501, 1.9489, 1.9489, 1.9488, 1.9487, 1.9485, 1.9483, 1.9482, 1.9479, 1.9437, 1.9202, 1.9319, 1.942, 1.9256, 1.9366, 1.9079, 1.9406, 1.89, 1.8302, 1.7832, 1.7195, 1.7794, 1.908, 1.7208, 1.5918, 1.7745, 1.608, 1.4707, 1.5539, 1.3991, 1.3925, 1.3964, 1.3945, 1.5283, 1.5763, 0.9198, 1.0039, 1.4268, 1.2513, 0.8153, 1.9609, 1.9601, 1.96, 1.9586, 1.9582, 1.9581, 1.958, 1.9577, 1.9576, 1.9573, 1.9571, 1.9569, 1.9569, 1.9564, 1.9548, 1.954, 1.954, 1.9536, 1.9535, 1.9535, 1.9534, 1.9533, 1.953, 1.9527, 1.9526, 1.952, 1.952, 1.9518, 1.9516, 1.9511, 1.9504, 1.9052, 1.86, 1.9299, 1.896, 1.717, 1.7973, 1.6921, 1.7671, 1.711, 1.6543, 1.7616, 1.8488, 1.7747, 1.7575, 1.5148, 1.7098, 1.1963, 1.0775, 1.2342, 1.0913, 1.3958, 1.4512, 1.0022, 1.0114, 1.2808, 1.1147, 1.0963, 2.141, 2.1405, 2.1403, 2.1402, 2.14, 2.1393, 2.1392, 2.1392, 2.1391, 2.1381, 2.138, 2.1379, 2.1377, 2.1375, 2.1364, 2.1359, 2.1357, 2.1356, 2.1356, 2.1356, 2.1355, 2.1351, 2.1349, 2.1342, 2.1341, 2.1341, 2.1341, 2.134, 2.1338, 2.1336, 2.1282, 2.1259, 2.1041, 2.0177, 1.9919, 2.0442, 1.9738, 2.057, 1.9644, 2.1001, 1.9251, 1.8524, 1.833, 1.7018, 1.8156, 1.6479, 1.6221, 1.618, 1.5426, 1.2743, 1.5778, 1.3809, 1.6172, 1.3003, 1.1077, 1.1272, 0.912, 1.1714, 0.9301, 0.9371, 2.2112, 2.2112, 2.211, 2.211, 2.2098, 2.2096, 2.2092, 2.2089, 2.208, 2.2073, 2.2067, 2.2062, 2.2059, 2.2059, 2.2057, 2.2054, 2.2046, 2.2041, 2.2039, 2.2037, 2.2034, 2.2032, 2.2021, 2.2009, 2.2008, 2.2004, 2.2002, 2.1993, 2.1991, 2.1982, 2.1465, 2.1605, 2.1235, 2.1039, 2.1384, 2.152, 2.1185, 1.9525, 2.0117, 1.9683, 1.7189, 1.966, 1.552, 1.1837, 1.5191, 1.3518, 1.364, 0.8935, 1.0507, 1.0314, 0.7403, 0.9746, 2.4122, 2.4117, 2.4107, 2.4098, 2.409, 2.4088, 2.4088, 2.4086, 2.4079, 2.4073, 2.407, 2.4069, 2.4066, 2.4058, 2.4052, 2.4044, 2.4038, 2.4025, 2.4021, 2.4017, 2.401, 2.4009, 2.4002, 2.3996, 2.3983, 2.398, 2.3973, 2.3965, 2.3962, 2.3959, 2.392, 2.3922, 2.3626, 2.3611, 2.3122, 2.351, 2.2878, 2.3672, 2.2248, 2.1012, 2.1454, 2.2226, 2.3288, 2.2426, 2.1616, 2.1488, 2.2646, 1.858, 1.7021, 1.7852, 1.941, 1.6327, 1.849, 1.4461, 1.2909, 1.6652, 2.4548, 2.4537, 2.4535, 2.4531, 2.4531, 2.4517, 2.4515, 2.4512, 2.4512, 2.4508, 2.4507, 2.4506, 2.4506, 2.4499, 2.4498, 2.4497, 2.4493, 2.4492, 2.4491, 2.4487, 2.4486, 2.4486, 2.4483, 2.4478, 2.4477, 2.4471, 2.4469, 2.4468, 2.4462, 2.4462, 2.3577, 2.3535, 2.133, 2.1493, 1.9427, 1.8414, 1.8921, 1.6404, 1.9555, 1.29, 1.6712, 0.5824, 2.4966, 2.4966, 2.4964, 2.4963, 2.4961, 2.496, 2.4957, 2.4945, 2.4941, 2.4939, 2.4936, 2.4935, 2.4931, 2.4924, 2.4924, 2.4922, 2.4921, 2.4915, 2.4915, 2.4915, 2.4905, 2.4901, 2.4898, 2.4897, 2.4895, 2.4894, 2.4892, 2.4891, 2.4887, 2.4884, 2.4494, 2.4121, 2.3779, 2.0771, 1.649, 1.7069, 1.6355, 2.0196, 1.8504, 1.6538, 1.6899, 1.2064, 1.7169, 1.8165, 1.4547, 0.9009, 0.6457, 3.1687, 3.1684, 3.167, 3.1667, 3.1654, 3.1644, 3.1637, 3.1632, 3.1624, 3.162, 3.1617, 3.161, 3.1607, 3.16, 3.1596, 3.1595, 3.1587, 3.1586, 3.1578, 3.1574, 3.1573, 3.1571, 3.1565, 3.1563, 3.156, 3.1557, 3.1557, 3.155, 3.1547, 3.1539, 3.123, 2.977, 2.877, 3.1147, 2.7317, 2.906, 2.9629, 2.3344, 1.934, 1.6398, 1.8682, 2.0911, 1.626, 1.0232, 2.3626, 3.7051, 3.7032, 3.7013, 3.6996, 3.6976, 3.6974, 3.6969, 3.6958, 3.6956, 3.6952, 3.6944, 3.6917, 3.6909, 3.6909, 3.6884, 3.6883, 3.6881, 3.6861, 3.686, 3.6847, 3.6843, 3.6835, 3.6825, 3.6819, 3.6809, 3.6798, 3.679, 3.6787, 3.6786, 3.677, 3.6748, 3.5987, 3.4188, 3.611, 3.1615, 2.9607, 2.7554, 3.2168, 3.1426, 2.6735, 1.4189, 1.9985, 2.8626, 2.426]}, \"token.table\": {\"Topic\": [4, 2, 4, 5, 6, 5, 1, 1, 2, 1, 2, 3, 4, 5, 6, 7, 1, 2, 3, 4, 5, 7, 8, 1, 3, 4, 1, 4, 9, 8, 1, 2, 7, 9, 6, 1, 3, 6, 5, 2, 10, 4, 5, 8, 1, 3, 9, 8, 3, 1, 5, 8, 1, 3, 6, 1, 3, 4, 6, 7, 3, 6, 3, 1, 3, 4, 7, 8, 3, 5, 6, 1, 9, 1, 2, 8, 2, 9, 6, 1, 3, 4, 5, 1, 1, 2, 1, 6, 5, 7, 10, 9, 7, 10, 9, 10, 1, 1, 2, 1, 2, 5, 7, 9, 9, 1, 8, 9, 2, 3, 8, 3, 1, 7, 6, 1, 5, 4, 2, 7, 8, 6, 2, 5, 9, 1, 2, 3, 6, 9, 5, 4, 6, 7, 1, 6, 3, 5, 1, 4, 5, 7, 8, 2, 10, 2, 7, 1, 2, 3, 4, 1, 3, 5, 3, 9, 1, 2, 3, 4, 5, 1, 9, 10, 1, 6, 3, 6, 7, 6, 3, 4, 5, 1, 7, 2, 2, 9, 4, 1, 2, 3, 5, 7, 8, 10, 4, 4, 8, 1, 3, 9, 1, 3, 1, 5, 8, 9, 3, 6, 7, 7, 5, 8, 9, 3, 5, 9, 1, 3, 9, 4, 8, 9, 4, 8, 10, 6, 3, 3, 9, 8, 4, 10, 2, 9, 4, 7, 1, 2, 3, 4, 6, 8, 5, 1, 2, 3, 5, 4, 10, 4, 10, 6, 3, 6, 1, 3, 4, 6, 7, 2, 3, 4, 6, 6, 3, 4, 6, 9, 4, 6, 9, 3, 5, 3, 4, 5, 6, 7, 9, 1, 5, 8, 9, 3, 8, 6, 9, 3, 5, 2, 8, 7, 9, 1, 7, 7, 1, 6, 2, 3, 5, 6, 8, 1, 2, 3, 9, 7, 7, 9, 5, 8, 6, 4, 7, 8, 7, 3, 5, 3, 9, 5, 6, 9, 3, 5, 6, 9, 3, 1, 7, 3, 5, 10, 8, 10, 5, 2, 1, 2, 9, 2, 3, 10, 2, 4, 5, 6, 9, 1, 5, 9, 2, 3, 1, 6, 1, 8, 7, 7, 4, 8, 2, 4, 2, 5, 8, 1, 2, 6, 8, 10, 2, 8, 4, 8, 8, 10, 5, 10, 3, 3, 5, 7, 2, 3, 4, 5, 7, 5, 3, 1, 2, 1, 3, 8, 4, 1, 5, 7, 4, 5, 8, 5, 10, 3, 6, 6, 3, 4, 6, 7, 6, 4, 1, 2, 3, 4, 5, 6, 1, 2, 8, 10, 10, 9, 4, 1, 7, 5, 2, 8, 4, 5, 6, 8, 9, 3, 4, 4, 1, 2, 7, 8, 4, 6, 7, 8, 10, 2, 4, 8, 2, 5, 2, 1, 2, 6, 7, 8, 1, 2, 3, 4, 5, 8, 9, 7, 7, 9, 8, 10, 4, 6, 1, 3, 4, 5, 1, 1, 5, 7, 8, 9, 6, 9, 8, 3, 4, 6, 7, 6, 4, 7, 8, 9, 10, 10, 1, 6, 10, 8, 1, 2, 3, 4, 3, 9, 9, 3, 6, 7, 9, 3, 2, 3, 1, 3, 3, 2, 9, 1, 1, 8, 2, 3, 5, 8, 1, 3, 6, 3, 6, 3, 6, 2, 8, 4, 8, 2, 2, 4, 1, 8, 6, 10, 4, 7, 10, 4, 8, 2, 8, 2, 1, 3, 4, 5, 7, 8, 2, 10, 1, 4, 5, 6, 7, 8, 10, 2, 1, 6, 4, 4, 2, 3, 3, 4, 5, 6, 5, 7, 8, 3, 4, 5, 6, 9, 4, 5, 9, 1, 2, 3, 4, 5, 6, 7, 1, 3, 5, 4, 7, 9, 4, 5, 6, 10, 2, 4, 7, 8, 1, 10, 8, 4, 6, 8, 1, 2, 5, 3, 5, 7, 7, 1, 4, 4, 6, 2, 3, 6, 7, 8, 1, 7, 1, 2, 3, 4, 6, 7, 8, 1, 3, 6, 1, 2, 6, 5, 10, 5, 1, 3, 9, 3, 5, 6, 7, 10, 5, 2, 3, 4, 6, 7, 1, 2, 3, 5, 8, 3, 8, 4, 8, 4, 5, 2, 6, 6, 10, 9, 2, 4, 5, 1, 9, 9, 6, 2, 2, 3, 8, 2, 3, 9, 3, 4, 7, 8, 10, 10, 2, 4, 7, 9, 7, 9, 4, 2, 8, 1, 2, 8, 4, 2, 6, 2, 7, 10, 5, 2, 4, 2, 3, 6, 7, 8, 5, 10, 6, 10, 1, 5, 7, 7, 7, 2, 9, 6, 3, 1, 2, 3, 9, 5, 7, 5, 7, 8, 3, 4, 6, 8, 1, 2, 2, 4, 5, 8, 10, 8, 10, 4, 10, 1, 2, 3, 4, 3, 6, 5, 6, 2, 8, 7, 8, 2, 4, 1, 5, 7, 8, 2, 4, 7, 1, 2, 3, 1, 6, 2, 4, 6, 6, 2, 8, 10, 5, 4, 7, 8, 3, 9, 1, 3, 9, 9, 10, 4, 5, 7, 8, 1, 5, 7, 10, 8, 7, 5, 4, 5, 7, 8, 2, 3, 4, 7, 8, 7, 10, 10, 1, 2, 3, 5, 6, 7, 3, 6, 2, 9, 1, 2, 4, 6, 5, 7], \"Freq\": [0.9944714526835232, 0.011677327408094752, 0.3199587709817962, 0.042038378669141105, 0.6235692835922597, 0.9854482011643527, 0.998029031369543, 0.9309371718506199, 0.06849704943382487, 0.14811847207278328, 0.09045402874673789, 0.38329894681430177, 0.04635768973270316, 0.05427241724804273, 0.1255049648860988, 0.15037982279145173, 0.10748346694389271, 0.16705261729833928, 0.30820560400778874, 0.08417379941389189, 0.2900758625955659, 0.0271946121183343, 0.015539778353333885, 0.0869238690365087, 0.30360365851882026, 0.608467083255561, 0.4086617476395199, 0.5905516584386126, 0.9816423022071222, 0.9958938030969207, 0.9923115438381068, 0.2383653183314329, 0.7363364289050205, 0.023600526567468604, 0.9962142290621635, 0.9989412030877837, 0.9943876430433323, 0.9894539354017391, 0.9889018541497798, 0.9866610324448473, 0.9770450980071543, 0.9919176013768092, 0.7836810805095252, 0.2123995451848246, 0.16647873789470127, 0.8289961642103493, 0.9976961916354924, 0.9915602786270498, 0.9948739025494656, 0.3044732685933879, 0.24860661380561033, 0.44413990556283195, 0.9972668982602065, 0.2342612141006763, 0.7643522947259246, 0.5907607596743452, 0.11161319696137438, 0.177002746696321, 0.1195050391707645, 0.9951747696506346, 0.014363408709805885, 0.9767117922668003, 0.9988493724312882, 0.035958088693700554, 0.9029475605307028, 0.00133178106272965, 0.01997671594094475, 0.03862165081915985, 0.06270730641214821, 0.006967478490238691, 0.9197071607115072, 0.9988283796189205, 0.9963466347013487, 0.07333023543771146, 0.46931350680135336, 0.4575806691313195, 0.1734872917175756, 0.8228254407176442, 0.988098736652269, 0.6979989810238716, 0.06872605351619658, 0.1471167083081083, 0.08590756689524573, 0.995792113157876, 0.008387646401063339, 0.9813546289244107, 0.9917658977536776, 0.9834932034559126, 0.9960649228497714, 0.9981491939596963, 0.9835027058614851, 0.9834167195044029, 0.5610976302882739, 0.43357544158639344, 0.9915633544961769, 0.9605016141674306, 0.9945345404771977, 0.013946325092799604, 0.9762427564959723, 0.29723051345890805, 0.20215367219720765, 0.22984595605983885, 0.1532306373732259, 0.11630759222305098, 0.9938413910085052, 0.9954247441802233, 0.9929374320320954, 0.985884689735906, 0.9857576611341596, 0.01085237792074304, 0.0018087296534571736, 0.9879478514871738, 0.9981258376379719, 0.9978114388370731, 0.9921338991774649, 0.996331508533165, 0.9906937082052932, 0.9875211171844217, 0.986455968160593, 0.7241677196375166, 0.2750945136200012, 0.9958810034632899, 0.9943764611378563, 0.9920890567504368, 0.9881171755301718, 0.29625397901300393, 0.5679338952507356, 0.13515734526399717, 0.5494274434295418, 0.44477459706201, 0.9965522549249883, 0.857917479614081, 0.06733654636505869, 0.07357141176923078, 0.9979413348575921, 0.9773373659389674, 0.8935306499177376, 0.10088249273264778, 0.43744889461698194, 0.023091143997377345, 0.30659907863184366, 0.030788191996503126, 0.20268893064364557, 0.37615448734917545, 0.6090120271367603, 0.9959367328349378, 0.9981084049583074, 0.7796513094139249, 0.14826702251675067, 0.06663686405247221, 0.0049977648039354165, 0.9974955523280635, 0.9951910400518466, 0.9982806221094174, 0.9968425081002735, 0.9841910940844941, 0.009182463130300572, 0.8356041448573521, 0.06060425665998378, 0.08080567554664504, 0.014691941008480916, 0.5641507827283027, 0.4320678613752477, 0.9826682449776143, 0.04804094098737271, 0.9505243323930171, 0.01815841581839253, 0.9775280515567979, 0.9874171498706504, 0.9966678970615807, 0.3769259402216015, 0.10451128342508041, 0.5174165179405621, 0.6872062220260307, 0.3114675682564024, 0.9873406239908401, 0.9951303120631085, 0.9895498186229303, 0.9925214522385971, 0.033054533093243674, 0.6145138197789393, 0.14273548381173407, 0.15776027158139028, 0.004507436330896865, 0.033054533093243674, 0.015024787769656217, 0.9931149683548918, 0.045426990615184605, 0.9514430812180331, 0.5164098889973061, 0.4825469454564991, 0.995895874420005, 0.740417586893604, 0.2583748870930806, 0.05306597753223227, 0.2880724494606895, 0.6557438652197274, 0.9817447041605374, 0.9939125135392932, 0.9876990609748437, 0.9935305690488333, 0.9962334749942606, 0.9482277927713256, 0.04724266583202334, 0.9952668647907855, 0.9888116933347921, 0.819517684263433, 0.1781560183181376, 0.009348047076521052, 0.9877769744190578, 0.9801975889818926, 0.9042005444472465, 0.021464701351863416, 0.07244336706253904, 0.4922561141224844, 0.5057425830025524, 0.9894024544553227, 0.9839265328099969, 0.9970712367674351, 0.9943624306781546, 0.9893721029227579, 0.9958127421322227, 0.9891115634772513, 0.9910455431618747, 0.9629495118780383, 0.03595011511011343, 0.09191046972909671, 0.906339354273037, 0.012747615146505048, 0.005665606731780021, 0.14305656997744554, 0.5920559034710122, 0.1586369884898406, 0.08781690434259033, 0.9986966236147559, 0.031472868231369466, 0.8397533478097218, 0.12732205784508557, 0.9991805040636642, 0.9967477354926401, 0.9862665482151806, 0.994291731562474, 0.9833594742344154, 0.9912816542429878, 0.11667192158058785, 0.882518381186498, 0.03472429540196033, 0.41338446907095633, 0.4183450826998078, 0.009094458319561039, 0.12401534072128689, 0.018926656648329227, 0.42111811042532526, 0.5472958214141868, 0.01261777109888615, 0.9860648790789226, 0.03925508956740975, 0.2907330071086285, 0.024534430979631094, 0.6440288132153162, 0.7452621293341486, 0.03922432259653414, 0.21395085052654986, 0.9938019731901778, 0.9870040759124115, 0.09921718429821275, 0.1633267495370579, 0.07326807455868017, 0.5327199587704038, 0.12821913047769032, 0.9907294589319618, 0.8507755371014173, 0.1405410916745704, 0.006274155878329035, 0.9893643103697957, 0.9933729068471583, 0.998056400419358, 0.1816014264568031, 0.8135743905264778, 0.9915819576273319, 0.9871214435633635, 0.9943894995065888, 0.9982637861979559, 0.2298861119906872, 0.767917437926338, 0.9955973105382414, 0.9935884286915936, 0.9928006952658462, 0.9976141733619583, 0.9988660308935483, 0.14429993699561294, 0.015076112820437172, 0.01076865201459798, 0.8270324747211248, 0.9934936645542407, 0.4109571353187911, 0.3186498403087242, 0.2630125666040263, 0.006322417466442939, 0.9919718020165557, 0.9940439411091105, 0.003392641437232459, 0.9940668720968527, 0.9972090786952117, 0.9840902454308809, 0.29813839621293187, 0.569035720690672, 0.13166518005342676, 0.9989477172800215, 0.9937944171288762, 0.9914679612252608, 0.7829037165302055, 0.21574335370292594, 0.9981482313435345, 0.9520720913554952, 0.035927248730396044, 0.004074795002899538, 0.06519672004639261, 0.9032462256427309, 0.02580703501836374, 0.9920346674579958, 0.997364813220131, 0.9930244257012802, 0.9989827343775171, 0.935804386295182, 0.06176926642212423, 0.9941588359924584, 0.9963970280239756, 0.9895213608532978, 0.9909228379914851, 0.1937893726163594, 0.787629083752629, 0.01822771326589519, 0.5695771935703883, 0.42915511537713463, 0.9835791756941521, 0.03334492739269994, 0.13471350666650775, 0.42281367933943526, 0.3801321722767793, 0.02800973900986795, 0.9990397045153797, 0.9968405611795705, 0.9887022521321381, 0.9990505968969933, 0.99329432075887, 0.8454677265692553, 0.15000233858486786, 0.9972985295622346, 0.9883926655578225, 0.9949157619369577, 0.9910557521116523, 0.9834139284478866, 0.015980476337278157, 0.9903914070938914, 0.9960239274290531, 0.4926468480696859, 0.052250423280118204, 0.45345903060959725, 0.003742667960696392, 0.32186944461988976, 0.05239735144974949, 0.6175402135149047, 0.9798524251036088, 0.9667751457776603, 0.02938526278959454, 0.9952096167519843, 0.0023583166273743704, 0.996735375099461, 0.9764084722690446, 0.9895810176486176, 0.9912524060861123, 0.9890421819146079, 0.9451055369543996, 0.0012618231468016015, 0.05299657216566726, 0.6933950998657514, 0.001159523578370822, 0.11595235783708219, 0.1275475936207904, 0.06145474965365356, 0.9912026603225632, 0.9874594878488443, 0.9967261457771877, 0.9939597435350549, 0.40665697690823593, 0.5055735388588879, 0.08609404466075266, 0.9904630302671925, 0.07180687858642992, 0.9152334355422932, 0.012170657387530495, 0.8807235392351916, 0.0012932797932969041, 0.11768846119001827, 0.4275004219421624, 0.5674096509414156, 0.0034138445409198945, 0.9957046577683025, 0.9922858113476545, 0.3217659250498307, 0.6421911587452872, 0.013406913543742948, 0.021451061669988714, 0.9777123398617995, 0.9914745258866988, 0.9989962145996637, 0.11337021031529922, 0.006030330335920171, 0.07718822829977819, 0.3135771774678489, 0.49086888934390194, 0.9978966659256596, 0.06703024553786267, 0.35079161831481465, 0.5786944531435477, 0.9941014411424463, 0.9854638941571287, 0.9878619079544889, 0.005789658715375324, 0.9929264696868679, 0.9942731368415633, 0.9875676385039237, 0.9948488985119404, 0.17244057742465022, 0.07632615722074682, 0.19505573511968632, 0.5229755216977097, 0.03109584183067463, 0.9908207405903754, 0.9860631350537372, 0.9879257219233847, 0.20970148933779226, 0.7887854186100444, 0.9932179508061273, 0.9944475091600901, 0.42997352997207366, 0.45755673755518783, 0.11195537195499276, 0.7173016861971875, 0.2783558782257743, 0.9942227105155592, 0.08244348734441563, 0.9164648128053645, 0.21644154344794014, 0.7818398610262328, 0.9860056450353307, 0.08620740096201353, 0.587142298443984, 0.05824824389325239, 0.1514454341224562, 0.11649648778650477, 0.0016998155899270327, 0.7037236542297916, 0.15468321868336, 0.07139225477693538, 0.03909575856832175, 0.028896865028759558, 0.9890405736593445, 0.9877246417239942, 0.9975860883543746, 0.9835942596502744, 0.014949151421791103, 0.9716948424164218, 0.9932477427694855, 0.9972450108928702, 0.09791090889746562, 0.7765347947040377, 0.12492081480021476, 0.9934294002672563, 0.9971071214648994, 0.0022227277355505158, 0.771286524236029, 0.11780456998417733, 0.10891365904197528, 0.9899341685936291, 0.007721304353890569, 0.9909007254159563, 0.9959443476278761, 0.7785412866964039, 0.024884881309930718, 0.17774915221379084, 0.017774915221379084, 0.9923977989398348, 0.46607883961082774, 0.4427748976302864, 0.03556917460187896, 0.05519354679601907, 0.9894654244365333, 0.98571753219487, 0.800609954851406, 0.19757983461628528, 0.9826129653129249, 0.991888162932373, 0.08903537655328485, 0.22565862678160126, 0.6401336555641343, 0.044517688276642424, 0.9937842554767067, 0.9940218821057922, 0.9829041118989396, 0.9949767272336303, 0.3918415001565572, 0.4557589079835134, 0.1500669575067666, 0.9960833868736285, 0.0589237388390393, 0.9382472261293181, 0.007830036013942592, 0.9910588440504481, 0.9882206587457747, 0.9962707506485824, 0.98614213139506, 0.9979494276915831, 0.9991702315366955, 0.9947200391512728, 0.6495391175596694, 0.24697304850177546, 0.004939460970035509, 0.09631948891569242, 0.9989314817674364, 0.05565550697094252, 0.9387228842432306, 0.011396882562570149, 0.9858303416623179, 0.22087729843855147, 0.7762259345126238, 0.989737006878925, 0.9856873918429041, 0.979916901368774, 0.017724595115197462, 0.9941122565379835, 0.9935709871116386, 0.9949933214207904, 0.8949924141090211, 0.10366707499332291, 0.9889227431197214, 0.9703004817530152, 0.9918168557334722, 0.24741118596773876, 0.7488019964687315, 0.9923723787349331, 0.9889478655428445, 0.5715519648289386, 0.42699081213215784, 0.9893389497600198, 0.22815603291219674, 0.0017965041961590295, 0.044912604903975736, 0.4994281665322102, 0.17965041961590295, 0.04670910910013477, 0.9955688589728372, 0.9988349578347907, 0.051278336589280195, 0.04444122504404284, 0.054696892361898876, 0.2392989040833076, 0.6050843717535064, 0.9971195732256676, 0.9870854381219887, 0.9902522119715433, 0.5239030445657319, 0.4724482812601689, 0.9972096705036094, 0.9940175800596284, 0.9905060494666025, 0.991328422186425, 0.73586031050333, 0.26330218266597494, 0.04811182491301828, 0.9497630621718054, 0.35783223446019075, 0.540628460256722, 0.10088282272733089, 0.1708391517807056, 0.36109184353649143, 0.11906971184715845, 0.3248532355830084, 0.02200201197175754, 0.009562139469615906, 0.03585802301105965, 0.9538234120941866, 0.11274611411574612, 0.061275062019427236, 0.8235368335411021, 0.590176970518548, 0.2137792741506815, 0.11693909013370611, 0.0785684511835838, 0.012910426476777162, 0.8165844746561555, 0.16783554419810312, 0.3543736948130058, 0.5990602936124622, 0.04580340273093272, 0.2973069926557828, 0.12860255961389674, 0.5738716369867436, 0.9694861010830449, 0.9924496380534787, 0.9162489953668322, 0.023002066829292858, 0.057505167073232145, 0.9968831345407564, 0.9857792006598116, 0.9955060880097684, 0.9528713070253776, 0.03905210274694171, 0.989244367879109, 0.02513586105342739, 0.9740146158203113, 0.9891937425155082, 0.9952475849498269, 0.994712067698521, 0.9951017054819161, 0.9880029219800652, 0.9987861231116757, 0.9934072691204816, 0.9882970036323036, 0.9948244417419021, 0.15027023466541886, 0.12849193978637266, 0.28094000393969615, 0.010889147439523105, 0.42903240911721036, 0.99263846855799, 0.9922622706793541, 0.2606338800438997, 0.0035540983642349962, 0.38621202224686957, 0.15638032802633983, 0.03435628418760496, 0.020139890730664977, 0.13742513675041984, 0.12942384224373027, 0.8481883947044466, 0.018489120320532897, 0.04573461251130103, 0.9489932096094964, 0.9974094519819116, 0.8977322483490804, 0.1008978607654586, 0.9912713170683755, 0.5120073470463118, 0.4184578710633904, 0.0684017673853619, 0.7632277886994377, 0.2349437854893287, 0.7688396393545589, 0.22941182787192482, 0.9866048618748289, 0.9877363347592931, 0.03361649513211796, 0.5679418388110455, 0.37685860332321713, 0.01946218139227882, 0.9953290669134166, 0.3635713926079732, 0.08564126136987814, 0.07109840566555921, 0.05655554996124028, 0.42174281542524894, 0.9972014685424738, 0.9973980911668313, 0.8418504846355218, 0.15644013016622665, 0.06797272056320038, 0.9289605143637385, 0.17072595124243634, 0.8273642252518069, 0.9812553140734999, 0.9861066373234701, 0.9956695918489337, 0.9980949865811666, 0.9855137607537198, 0.9912459928096762, 0.9981778944932868, 0.9857995757974567, 0.9866706699898289, 0.9921900759125275, 0.9934379236916697, 0.024551398997988562, 0.9697802604205482, 0.994878377311739, 0.6836549405359595, 0.30893193965641685, 0.005720961845489201, 0.994871646266192, 0.7182573651476037, 0.25442972495824207, 0.004503180972712249, 0.020264314377205123, 0.9672060239281655, 0.025904143735543787, 0.8030284558018573, 0.15326618376863407, 0.01726942915702919, 0.25348634566341416, 0.7456723334932099, 0.9853286929008557, 0.8790867884998593, 0.11875093578234497, 0.009509384450018202, 0.9350894709184565, 0.05705630670010921, 0.9959117954131937, 0.9951409139037328, 0.9915928165748449, 0.6889725636271902, 0.12691599856290345, 0.18130856937557635, 0.9862881719375068, 0.038447500367802534, 0.9594398955419814, 0.07382534881112589, 0.08251068396537599, 0.8424775099622601, 0.9019482401963177, 0.09423339822946603, 0.10096612712092118, 0.8969548967486486, 0.6412658411884357, 0.35676057361891844, 0.3727902850769794, 0.6110836829889309, 0.016081149552340288, 0.9984318313061926, 0.9967507518809047, 0.9488906523338121, 0.0465713203599417, 0.9764875342013281, 0.9984952246629206, 0.032034925593470126, 0.5686199292840947, 0.10731700073812492, 0.28991607662090463, 0.9814250173485308, 0.9950851788697495, 0.9105339286855645, 0.08519615706999434, 0.9949695183949421, 0.18070767265116425, 0.5676776383284049, 0.25007021366878285, 0.9916513327297861, 0.9960344202295698, 0.9923437013934011, 0.9913915269445468, 0.18149892472609494, 0.28760598841211965, 0.1424068486312437, 0.3853361786492477, 0.994003079021603, 0.9763425736166834, 0.9941728876749135, 0.9947613528791127, 0.4143601268316558, 0.38494567338372965, 0.10998447810963703, 0.08952224962412317, 0.4298826235844486, 0.569035380351669, 0.2679327328597875, 0.7319138068364927, 0.11362622922585669, 0.8850885223908836, 0.9902780445674889, 0.994417564720493, 0.9812304347749595, 0.012579877368909738, 0.4644013895433921, 0.428888342107721, 0.03414716099583766, 0.07239198131117583, 0.1558660072969431, 0.7310335271814374, 0.11196008974850843, 0.15857093470567607, 0.6679800624476605, 0.17244589149242273, 0.13438942048606847, 0.8600922911108383, 0.9921986369441882, 0.9838462077625929, 0.9931026563308383, 0.9979451359934216, 0.9977581595864907, 0.08372562871012364, 0.9042367900693353, 0.9990726544985141, 0.9832438146285699, 0.9929576393108517, 0.9946497502919237, 0.03817040011112653, 0.9415365360744544, 0.5757194683348146, 0.1496870617670518, 0.27250721501181224, 0.9971210866659617, 0.9891082746332536, 0.8350380357893984, 0.059771143614399044, 0.09317266504597498, 0.010547848873129243, 0.8235982864146583, 0.12429984995834689, 0.05097188091817103, 0.9849750343994829, 0.9907510071711204, 0.9938873792958307, 0.9977179564796639, 0.9941937752303727, 0.999110940860615, 0.9933014725836294, 0.9927643783768965, 0.35355024007663327, 0.46463551188318875, 0.13351595169057148, 0.0021362552270491435, 0.044861359768032016, 0.521027196163855, 0.4753230561494817, 0.9979190852898515, 0.061833814667635496, 0.03754195890535012, 0.600671342485602, 0.10820917566836212, 0.002208350523844125, 0.18770979452675063, 0.8191342652677641, 0.1784252855038694, 0.6572203279068269, 0.3406692525388598, 0.1518382404387945, 0.8318094910994829, 0.016504156569434183, 0.9969503547673784, 0.9427063286444177, 0.054649642240256105], \"Term\": [\"abil\", \"access\", \"access\", \"access\", \"access\", \"accompani\", \"accord\", \"account\", \"account\", \"activ\", \"activ\", \"activ\", \"activ\", \"activ\", \"activ\", \"activ\", \"addit\", \"addit\", \"addit\", \"addit\", \"addit\", \"addit\", \"addit\", \"address\", \"address\", \"address\", \"adopt\", \"adopt\", \"affair\", \"affect\", \"afolu\", \"africa\", \"africa\", \"africa\", \"agenc\", \"agreement\", \"align\", \"alloc\", \"altern\", \"although\", \"alway\", \"amend\", \"amount\", \"amount\", \"analysi\", \"analysi\", \"andor\", \"anim\", \"annex\", \"annual\", \"annual\", \"annual\", \"anthropogen\", \"applic\", \"applic\", \"approach\", \"approach\", \"approach\", \"approach\", \"aqaba\", \"arrang\", \"arrang\", \"articl\", \"assess\", \"assess\", \"assess\", \"assess\", \"assess\", \"assist\", \"assist\", \"assist\", \"assumpt\", \"author\", \"averag\", \"averag\", \"averag\", \"bank\", \"bank\", \"barrier\", \"base\", \"base\", \"base\", \"base\", \"baselin\", \"beyond\", \"beyond\", \"biennial\", \"bilater\", \"billion\", \"biodivers\", \"bioga\", \"biolog\", \"biomass\", \"biomass\", \"blue\", \"breakdown\", \"calcul\", \"capita\", \"capita\", \"carbon\", \"carbon\", \"carbon\", \"carbon\", \"carbon\", \"caribbean\", \"categori\", \"caus\", \"center\", \"challeng\", \"challeng\", \"challeng\", \"chapter\", \"circumst\", \"citi\", \"civil\", \"clariti\", \"clean\", \"clear\", \"close\", \"coastal\", \"coastal\", \"collabor\", \"come\", \"commerci\", \"commiss\", \"commit\", \"commit\", \"commit\", \"committe\", \"committe\", \"commonwealth\", \"communiti\", \"communiti\", \"communiti\", \"compar\", \"complement\", \"comprehens\", \"comprehens\", \"condit\", \"condit\", \"condit\", \"condit\", \"condit\", \"connect\", \"connect\", \"consequ\", \"conserv\", \"consid\", \"consid\", \"consid\", \"consid\", \"consist\", \"consult\", \"consumpt\", \"contain\", \"content\", \"continu\", \"continu\", \"continu\", \"continu\", \"continu\", \"convent\", \"convent\", \"cook\", \"cooper\", \"cooper\", \"coordin\", \"coordin\", \"coral\", \"correspond\", \"cost\", \"cost\", \"cost\", \"cover\", \"cover\", \"coverag\", \"covid\", \"credit\", \"cultur\", \"current\", \"current\", \"current\", \"current\", \"current\", \"current\", \"current\", \"cycl\", \"damag\", \"damag\", \"data\", \"data\", \"decemb\", \"decis\", \"decis\", \"decreas\", \"decreas\", \"decreas\", \"dedic\", \"defin\", \"definit\", \"deforest\", \"degrad\", \"demand\", \"demand\", \"depart\", \"describ\", \"design\", \"design\", \"detail\", \"detail\", \"director\", \"disast\", \"disast\", \"disast\", \"diseas\", \"diseas\", \"divid\", \"do\", \"document\", \"draft\", \"driver\", \"drought\", \"earli\", \"ecolog\", \"economi\", \"economi\", \"ecosystem\", \"ecosystem\", \"effect\", \"effect\", \"effect\", \"effect\", \"effect\", \"effect\", \"effici\", \"effort\", \"effort\", \"effort\", \"electr\", \"element\", \"elimin\", \"emerg\", \"end\", \"enforc\", \"engag\", \"engag\", \"enhanc\", \"enhanc\", \"enhanc\", \"enhanc\", \"enhanc\", \"ensur\", \"ensur\", \"ensur\", \"ensur\", \"entiti\", \"environ\", \"environ\", \"environ\", \"environ\", \"environment\", \"environment\", \"environment\", \"equal\", \"equip\", \"establish\", \"establish\", \"establish\", \"establish\", \"establish\", \"estat\", \"estim\", \"estim\", \"estim\", \"european\", \"evalu\", \"event\", \"execut\", \"execut\", \"expert\", \"explor\", \"extern\", \"extrem\", \"facil\", \"facil\", \"fair\", \"farm\", \"farmer\", \"figur\", \"financ\", \"financi\", \"financi\", \"financi\", \"financi\", \"find\", \"first\", \"first\", \"first\", \"first\", \"fish\", \"fisheri\", \"fisheri\", \"fleet\", \"flood\", \"focal\", \"food\", \"food\", \"food\", \"forest\", \"formul\", \"fossil\", \"framework\", \"framework\", \"fuel\", \"function\", \"function\", \"fund\", \"fund\", \"fund\", \"fund\", \"gap\", \"gas\", \"gaza\", \"gender\", \"generat\", \"generat\", \"geograph\", \"geotherm\", \"ghgs\", \"give\", \"global\", \"global\", \"global\", \"goal\", \"goal\", \"governor\", \"green\", \"green\", \"green\", \"green\", \"green\", \"greenhous\", \"grid\", \"gross\", \"growth\", \"guid\", \"guidanc\", \"guidanc\", \"guidelin\", \"gulf\", \"habitat\", \"harvest\", \"health\", \"health\", \"heavi\", \"heritag\", \"high\", \"high\", \"high\", \"higher\", \"higher\", \"higher\", \"higher\", \"host\", \"howev\", \"howev\", \"human\", \"human\", \"hurrican\", \"hydro\", \"hydrogen\", \"hydropow\", \"identif\", \"identifi\", \"identifi\", \"identifi\", \"import\", \"import\", \"import\", \"import\", \"import\", \"incent\", \"incorpor\", \"indc\", \"independ\", \"indic\", \"indic\", \"indic\", \"indigen\", \"industri\", \"industri\", \"industri\", \"infrastructur\", \"infrastructur\", \"infrastructur\", \"instal\", \"instal\", \"institut\", \"institut\", \"instrument\", \"integr\", \"integr\", \"integr\", \"integr\", \"interest\", \"introduc\", \"inventori\", \"invest\", \"invest\", \"invest\", \"invest\", \"invest\", \"ipcc\", \"island\", \"island\", \"island\", \"isra\", \"june\", \"kalinago\", \"land\", \"land\", \"landfil\", \"landscap\", \"last\", \"lead\", \"lead\", \"lead\", \"lead\", \"lead\", \"legal\", \"legisl\", \"life\", \"limit\", \"limit\", \"link\", \"livestock\", \"local\", \"local\", \"local\", \"locat\", \"locat\", \"long\", \"loss\", \"loss\", \"lowcarbon\", \"lowcarbon\", \"lucia\", \"main\", \"main\", \"main\", \"main\", \"main\", \"make\", \"make\", \"make\", \"make\", \"make\", \"make\", \"mandat\", \"mangrov\", \"marin\", \"maritim\", \"master\", \"master\", \"materi\", \"mechan\", \"meet\", \"meet\", \"meet\", \"methan\", \"methodolog\", \"million\", \"million\", \"million\", \"million\", \"minist\", \"ministri\", \"ministri\", \"modern\", \"monitor\", \"monitor\", \"monitor\", \"monitor\", \"multilater\", \"natur\", \"natur\", \"natur\", \"natur\", \"naturebas\", \"nauru\", \"ndcs\", \"ndcs\", \"north\", \"northern\", \"object\", \"object\", \"object\", \"object\", \"obtain\", \"occup\", \"offic\", \"offici\", \"organ\", \"organ\", \"organ\", \"outcom\", \"outlin\", \"outlin\", \"palestin\", \"palestin\", \"palestinian\", \"pandem\", \"panel\", \"paragraph\", \"pari\", \"park\", \"part\", \"part\", \"part\", \"part\", \"parti\", \"particip\", \"particip\", \"partner\", \"partner\", \"partnership\", \"partnership\", \"pathway\", \"pattern\", \"peopl\", \"peopl\", \"percent\", \"percentag\", \"perform\", \"period\", \"period\", \"perspect\", \"photovolta\", \"pillar\", \"plant\", \"plant\", \"pollut\", \"poor\", \"popul\", \"popul\", \"posit\", \"potenti\", \"potenti\", \"potenti\", \"potenti\", \"potenti\", \"potenti\", \"poverti\", \"power\", \"practic\", \"practic\", \"practic\", \"practic\", \"practic\", \"precipit\", \"predict\", \"preindustri\", \"prepar\", \"prepar\", \"prevent\", \"price\", \"primarili\", \"priorit\", \"prioriti\", \"prioriti\", \"privat\", \"privat\", \"product\", \"product\", \"product\", \"program\", \"program\", \"program\", \"program\", \"program\", \"programm\", \"programm\", \"programm\", \"progress\", \"progress\", \"progress\", \"promot\", \"promot\", \"promot\", \"promot\", \"propos\", \"propos\", \"propos\", \"protect\", \"protect\", \"protect\", \"public\", \"public\", \"public\", \"pump\", \"pursu\", \"qualiti\", \"qualiti\", \"qualiti\", \"quantifi\", \"quantiti\", \"rainfal\", \"rais\", \"rais\", \"rangeland\", \"rate\", \"rate\", \"readi\", \"recognis\", \"recycl\", \"redd\", \"reef\", \"refer\", \"reform\", \"refuge\", \"regard\", \"region\", \"region\", \"region\", \"region\", \"region\", \"regul\", \"rehabilit\", \"relat\", \"relat\", \"relat\", \"relat\", \"relat\", \"relat\", \"relat\", \"relev\", \"relev\", \"relev\", \"remain\", \"remain\", \"remov\", \"renew\", \"renew\", \"replac\", \"report\", \"report\", \"report\", \"requir\", \"requir\", \"research\", \"research\", \"reserv\", \"residenti\", \"respons\", \"respons\", \"respons\", \"respons\", \"restor\", \"result\", \"result\", \"result\", \"result\", \"result\", \"review\", \"rise\", \"risk\", \"risk\", \"road\", \"road\", \"role\", \"role\", \"rule\", \"safe\", \"saint\", \"samoa\", \"sanit\", \"save\", \"scenario\", \"scheme\", \"school\", \"scientif\", \"scope\", \"sdgs\", \"sdgs\", \"season\", \"second\", \"second\", \"second\", \"section\", \"secur\", \"secur\", \"secur\", \"secur\", \"sequest\", \"servic\", \"servic\", \"servic\", \"servic\", \"seychell\", \"seychell\", \"short\", \"signific\", \"signific\", \"sinc\", \"sinc\", \"sinc\", \"sit\", \"situat\", \"skill\", \"small\", \"small\", \"small\", \"smart\", \"social\", \"social\", \"societi\", \"societi\", \"societi\", \"soil\", \"soil\", \"solar\", \"solar\", \"solut\", \"solut\", \"sourc\", \"sourc\", \"sourc\", \"south\", \"speci\", \"special\", \"special\", \"specifi\", \"stakehold\", \"state\", \"state\", \"state\", \"state\", \"station\", \"stock\", \"storag\", \"storag\", \"storm\", \"strengthen\", \"strengthen\", \"strengthen\", \"strip\", \"submit\", \"subsector\", \"substanti\", \"suppli\", \"suppli\", \"suppli\", \"suppli\", \"surfac\", \"surviv\", \"synergi\", \"systemat\", \"take\", \"take\", \"take\", \"take\", \"technic\", \"technic\", \"technolog\", \"technolog\", \"temperatur\", \"temperatur\", \"terrestri\", \"threaten\", \"thus\", \"thus\", \"total\", \"total\", \"total\", \"total\", \"tourism\", \"tourism\", \"tourism\", \"toward\", \"toward\", \"toward\", \"track\", \"track\", \"trade\", \"tradit\", \"train\", \"transfer\", \"transit\", \"transmiss\", \"transmiss\", \"transport\", \"treat\", \"treatment\", \"tropic\", \"undp\", \"undp\", \"unfccc\", \"unfccc\", \"unfccc\", \"unit\", \"upgrad\", \"urban\", \"urban\", \"urban\", \"urban\", \"use\", \"use\", \"use\", \"utilis\", \"variabl\", \"various\", \"vehicl\", \"warn\", \"wast\", \"wastewat\", \"weather\", \"well\", \"well\", \"well\", \"well\", \"well\", \"west\", \"west\", \"wind\", \"within\", \"within\", \"within\", \"within\", \"within\", \"within\", \"women\", \"women\", \"world\", \"world\", \"would\", \"would\", \"would\", \"youth\", \"zero\", \"zero\"]}, \"R\": 30, \"lambda.step\": 0.01, \"plot.opts\": {\"xlab\": \"PC1\", \"ylab\": \"PC2\"}, \"topic.order\": [7, 2, 6, 9, 5, 4, 3, 1, 8, 10]};\n",
       "\n",
       "function LDAvis_load_lib(url, callback){\n",
       "  var s = document.createElement('script');\n",
       "  s.src = url;\n",
       "  s.async = true;\n",
       "  s.onreadystatechange = s.onload = callback;\n",
       "  s.onerror = function(){console.warn(\"failed to load library \" + url);};\n",
       "  document.getElementsByTagName(\"head\")[0].appendChild(s);\n",
       "}\n",
       "\n",
       "if(typeof(LDAvis) !== \"undefined\"){\n",
       "   // already loaded: just create the visualization\n",
       "   !function(LDAvis){\n",
       "       new LDAvis(\"#\" + \"ldavis_el4845621180723413764754028636\", ldavis_el4845621180723413764754028636_data);\n",
       "   }(LDAvis);\n",
       "}else if(typeof define === \"function\" && define.amd){\n",
       "   // require.js is available: use it to load d3/LDAvis\n",
       "   require.config({paths: {d3: \"https://d3js.org/d3.v5\"}});\n",
       "   require([\"d3\"], function(d3){\n",
       "      window.d3 = d3;\n",
       "      LDAvis_load_lib(\"https://cdn.jsdelivr.net/gh/bmabey/pyLDAvis@3.4.0/pyLDAvis/js/ldavis.v3.0.0.js\", function(){\n",
       "        new LDAvis(\"#\" + \"ldavis_el4845621180723413764754028636\", ldavis_el4845621180723413764754028636_data);\n",
       "      });\n",
       "    });\n",
       "}else{\n",
       "    // require.js not available: dynamically load d3 & LDAvis\n",
       "    LDAvis_load_lib(\"https://d3js.org/d3.v5.js\", function(){\n",
       "         LDAvis_load_lib(\"https://cdn.jsdelivr.net/gh/bmabey/pyLDAvis@3.4.0/pyLDAvis/js/ldavis.v3.0.0.js\", function(){\n",
       "                 new LDAvis(\"#\" + \"ldavis_el4845621180723413764754028636\", ldavis_el4845621180723413764754028636_data);\n",
       "            })\n",
       "         });\n",
       "}\n",
       "</script>"
      ],
      "text/plain": [
       "PreparedData(topic_coordinates=              x         y  topics  cluster       Freq\n",
       "topic                                                \n",
       "6      0.131310 -0.120403       1        1  16.787574\n",
       "1      0.054981 -0.270336       2        1  14.106287\n",
       "5      0.245957 -0.053942       3        1  14.059751\n",
       "8      0.080690  0.122999       4        1  11.702369\n",
       "4     -0.047811  0.048264       5        1  10.947409\n",
       "3      0.101448  0.245408       6        1   8.949469\n",
       "2     -0.176607  0.100257       7        1   8.581165\n",
       "0     -0.132012 -0.199292       8        1   8.215159\n",
       "7      0.063099  0.113532       9        1   4.195142\n",
       "9     -0.321057  0.013514      10        1   2.455674, topic_info=          Term         Freq        Total Category  logprob  loglift\n",
       "190     forest  1146.000000  1146.000000  Default  30.0000  30.0000\n",
       "98        wast  1157.000000  1157.000000  Default  29.0000  29.0000\n",
       "74        land  1036.000000  1036.000000  Default  28.0000  28.0000\n",
       "252  transport  1120.000000  1120.000000  Default  27.0000  27.0000\n",
       "75    ministri   777.000000   777.000000  Default  26.0000  26.0000\n",
       "..         ...          ...          ...      ...      ...      ...\n",
       "722      solut    78.799374   221.437025  Topic10  -4.3582   2.6735\n",
       "229      renew    78.453338   773.059006  Topic10  -4.3626   1.4189\n",
       "239      small    59.955566   330.927546  Topic10  -4.6315   1.9985\n",
       "732    biomass    50.570246   117.626588  Topic10  -4.8018   2.8626\n",
       "368      locat    51.898779   186.811216  Topic10  -4.7758   2.4260\n",
       "\n",
       "[541 rows x 6 columns], token_table=      Topic      Freq    Term\n",
       "term                         \n",
       "348       4  0.994471    abil\n",
       "349       2  0.011677  access\n",
       "349       4  0.319959  access\n",
       "349       5  0.042038  access\n",
       "349       6  0.623569  access\n",
       "...     ...       ...     ...\n",
       "140       2  0.831809   would\n",
       "140       4  0.016504   would\n",
       "261       6  0.996950   youth\n",
       "1051      5  0.942706    zero\n",
       "1051      7  0.054650    zero\n",
       "\n",
       "[840 rows x 3 columns], R=30, lambda_step=0.01, plot_opts={'xlab': 'PC1', 'ylab': 'PC2'}, topic_order=[7, 2, 6, 9, 5, 4, 3, 1, 8, 10])"
      ]
     },
     "execution_count": 57,
     "metadata": {},
     "output_type": "execute_result"
    }
   ],
   "source": [
    "# Visualize the topics\n",
    "pyLDAvis.enable_notebook()\n",
    "vis = pyLDAvis.gensim_models.prepare(lda_model, corpus, id2word)\n",
    "vis"
   ]
  },
  {
   "cell_type": "code",
   "execution_count": 58,
   "id": "400f8310",
   "metadata": {},
   "outputs": [],
   "source": [
    "# Save the visualization in a html file\n",
    "p = pyLDAvis.gensim_models.prepare(lda_model, corpus, id2word)\n",
    "pyLDAvis.save_html(p, 'lda_visualization.html')"
   ]
  },
  {
   "cell_type": "code",
   "execution_count": 60,
   "id": "e96e0dab",
   "metadata": {},
   "outputs": [
    {
     "name": "stdout",
     "output_type": "stream",
     "text": [
      "Collecting wordcloud\n",
      "  Obtaining dependency information for wordcloud from https://files.pythonhosted.org/packages/34/ac/72a4e42e76bf549dfd91791a6b10a9832f046c1d48b5e778be9ec012aa47/wordcloud-1.9.2-cp311-cp311-win_amd64.whl.metadata\n",
      "  Downloading wordcloud-1.9.2-cp311-cp311-win_amd64.whl.metadata (3.4 kB)\n",
      "Requirement already satisfied: numpy>=1.6.1 in c:\\users\\serva\\appdata\\local\\programs\\python\\python311\\lib\\site-packages (from wordcloud) (1.25.2)\n",
      "Requirement already satisfied: pillow in c:\\users\\serva\\appdata\\local\\programs\\python\\python311\\lib\\site-packages (from wordcloud) (10.0.0)\n",
      "Requirement already satisfied: matplotlib in c:\\users\\serva\\appdata\\local\\programs\\python\\python311\\lib\\site-packages (from wordcloud) (3.7.2)\n",
      "Requirement already satisfied: contourpy>=1.0.1 in c:\\users\\serva\\appdata\\local\\programs\\python\\python311\\lib\\site-packages (from matplotlib->wordcloud) (1.1.0)\n",
      "Requirement already satisfied: cycler>=0.10 in c:\\users\\serva\\appdata\\local\\programs\\python\\python311\\lib\\site-packages (from matplotlib->wordcloud) (0.11.0)\n",
      "Requirement already satisfied: fonttools>=4.22.0 in c:\\users\\serva\\appdata\\local\\programs\\python\\python311\\lib\\site-packages (from matplotlib->wordcloud) (4.42.1)\n",
      "Requirement already satisfied: kiwisolver>=1.0.1 in c:\\users\\serva\\appdata\\local\\programs\\python\\python311\\lib\\site-packages (from matplotlib->wordcloud) (1.4.5)\n",
      "Requirement already satisfied: packaging>=20.0 in c:\\users\\serva\\appdata\\roaming\\python\\python311\\site-packages (from matplotlib->wordcloud) (23.1)\n",
      "Requirement already satisfied: pyparsing<3.1,>=2.3.1 in c:\\users\\serva\\appdata\\local\\programs\\python\\python311\\lib\\site-packages (from matplotlib->wordcloud) (3.0.9)\n",
      "Requirement already satisfied: python-dateutil>=2.7 in c:\\users\\serva\\appdata\\roaming\\python\\python311\\site-packages (from matplotlib->wordcloud) (2.8.2)\n",
      "Requirement already satisfied: six>=1.5 in c:\\users\\serva\\appdata\\roaming\\python\\python311\\site-packages (from python-dateutil>=2.7->matplotlib->wordcloud) (1.16.0)\n",
      "Downloading wordcloud-1.9.2-cp311-cp311-win_amd64.whl (151 kB)\n",
      "   ---------------------------------------- 0.0/151.4 kB ? eta -:--:--\n",
      "   ---------------------------------------- 0.0/151.4 kB ? eta -:--:--\n",
      "   ---------------------------------------- 0.0/151.4 kB ? eta -:--:--\n",
      "   ---------- ----------------------------- 41.0/151.4 kB ? eta -:--:--\n",
      "   ---------- ----------------------------- 41.0/151.4 kB ? eta -:--:--\n",
      "   ---------- ----------------------------- 41.0/151.4 kB ? eta -:--:--\n",
      "   --------------- ----------------------- 61.4/151.4 kB 469.7 kB/s eta 0:00:01\n",
      "   --------------- ----------------------- 61.4/151.4 kB 469.7 kB/s eta 0:00:01\n",
      "   --------------- ----------------------- 61.4/151.4 kB 469.7 kB/s eta 0:00:01\n",
      "   --------------- ----------------------- 61.4/151.4 kB 469.7 kB/s eta 0:00:01\n",
      "   ---------------------------- --------- 112.6/151.4 kB 312.2 kB/s eta 0:00:01\n",
      "   ------------------------------ ------- 122.9/151.4 kB 300.4 kB/s eta 0:00:01\n",
      "   ------------------------------ ------- 122.9/151.4 kB 300.4 kB/s eta 0:00:01\n",
      "   -------------------------------------- 151.4/151.4 kB 301.1 kB/s eta 0:00:00\n",
      "Installing collected packages: wordcloud\n",
      "Successfully installed wordcloud-1.9.2\n",
      "Note: you may need to restart the kernel to use updated packages.\n"
     ]
    },
    {
     "name": "stderr",
     "output_type": "stream",
     "text": [
      "  WARNING: The script wordcloud_cli.exe is installed in 'c:\\Users\\serva\\AppData\\Local\\Programs\\Python\\Python311\\Scripts' which is not on PATH.\n",
      "  Consider adding this directory to PATH or, if you prefer to suppress this warning, use --no-warn-script-location.\n"
     ]
    }
   ],
   "source": [
    "pip install wordcloud"
   ]
  },
  {
   "cell_type": "code",
   "execution_count": 65,
   "id": "999b5883",
   "metadata": {},
   "outputs": [
    {
     "ename": "SyntaxError",
     "evalue": "invalid syntax (3179373350.py, line 17)",
     "output_type": "error",
     "traceback": [
      "\u001b[1;36m  Cell \u001b[1;32mIn[65], line 17\u001b[1;36m\u001b[0m\n\u001b[1;33m    for t in range(10):\u001b[0m\n\u001b[1;37m                      ^\u001b[0m\n\u001b[1;31mSyntaxError\u001b[0m\u001b[1;31m:\u001b[0m invalid syntax\n"
     ]
    }
   ],
   "source": [
    "from wordcloud import WordCloud\n",
    "from os import path\n",
    "from PIL import Image\n",
    "import numpy as np\n",
    "import matplotlib.pyplot as plt\n",
    "import os\n",
    "\n",
    "lda=lda_model\n",
    "\n",
    "\n",
    "\n",
    "\n",
    "wc = WordCloud(background_color=\"white\", max_words=1000, mask=alice_mask)\n",
    "# generate word cloud\n",
    "wc.generate_from_frequencies(WordCloud().fit_words(dict(lda.show_topic(t, 200))\n",
    "                                                   \n",
    "for t in range(10):\n",
    "    wc = WordCloud(background_color=\"white\", max_words=1000, mask=alice_mask)\n",
    "    wc.generate_from_frequencies(WordCloud().fit_words(dict(lda.show_topic(t, 200))\n",
    "    # show\n",
    "    plt.imshow(wc, interpolation=\"bilinear\")\n",
    "    plt.axis(\"off\")\n",
    "    plt.show()\n",
    "    plt.title(\"Topic \" + str(t))\n",
    "    \n",
    "wc.generate(text)\n",
    "for t in range(10):\n",
    "    plt.imshow(wc, interpolation='bilinear')\n",
    "    plt.figure()\n",
    "    plt.imshow(WordCloud().fit_words(dict(lda.show_topic(t, 200))))\n",
    "    plt.axis(\"off\")\n",
    "    plt.title(\"Topic \" + str(t))\n",
    "    plt.show() "
   ]
  },
  {
   "cell_type": "code",
   "execution_count": 63,
   "id": "a19bbb10",
   "metadata": {},
   "outputs": [
    {
     "data": {
      "text/plain": [
       "'wc.generate(text)\\nfor t in range(10):\\n    plt.figure()\\n    plt.imshow(WordCloud(max_font_size=100, max_words=100, background_color=\"white\").fit_words(dict(lda.show_topic(t, 200))))\\n    plt.axis(\"off\")\\n    plt.title(\"Topic \" + str(t))\\n    plt.show()\\n    WordCloud(max_font_size=100, max_words=100, background_color=\"white\").fit_words(dict(lda.show_topic(t, 200))).to_file(\"first_review.png\")'"
      ]
     },
     "execution_count": 63,
     "metadata": {},
     "output_type": "execute_result"
    }
   ],
   "source": [
    "# Creating Wordclouds for every Topic \n",
    "\n",
    "\"\"\"wc.generate(text)\n",
    "for t in range(10):\n",
    "    plt.figure()\n",
    "    plt.imshow(WordCloud(max_font_size=100, max_words=100, background_color=\"white\").fit_words(dict(lda.show_topic(t, 200))))\n",
    "    plt.axis(\"off\")\n",
    "    plt.title(\"Topic \" + str(t))\n",
    "    plt.show()\n",
    "    WordCloud(max_font_size=100, max_words=100, background_color=\"white\").fit_words(dict(lda.show_topic(t, 200))).to_file(\"first_review.png\")\"\"\"\n"
   ]
  },
  {
   "cell_type": "code",
   "execution_count": 66,
   "id": "c614d492",
   "metadata": {},
   "outputs": [
    {
     "ename": "FileNotFoundError",
     "evalue": "[Errno 2] No such file or directory: 'chicken.jpg'",
     "output_type": "error",
     "traceback": [
      "\u001b[1;31m---------------------------------------------------------------------------\u001b[0m",
      "\u001b[1;31mFileNotFoundError\u001b[0m                         Traceback (most recent call last)",
      "Cell \u001b[1;32mIn[66], line 6\u001b[0m\n\u001b[0;32m      4\u001b[0m os\u001b[39m.\u001b[39mchdir(\u001b[39m'\u001b[39m\u001b[39mC:\u001b[39m\u001b[39m\\\\\u001b[39;00m\u001b[39mUsers\u001b[39m\u001b[39m\\\\\u001b[39;00m\u001b[39mserva\u001b[39m\u001b[39m\\\\\u001b[39;00m\u001b[39mDownloads\u001b[39m\u001b[39m'\u001b[39m)\n\u001b[0;32m      5\u001b[0m \u001b[39m#Adding image\u001b[39;00m\n\u001b[1;32m----> 6\u001b[0m chicken_mask \u001b[39m=\u001b[39m np\u001b[39m.\u001b[39marray(Image\u001b[39m.\u001b[39;49mopen(\u001b[39m\"\u001b[39;49m\u001b[39mchicken.jpg\u001b[39;49m\u001b[39m\"\u001b[39;49m))\n\u001b[0;32m      7\u001b[0m tree_mask \u001b[39m=\u001b[39m np\u001b[39m.\u001b[39marray(Image\u001b[39m.\u001b[39mopen(\u001b[39m\"\u001b[39m\u001b[39mEuro.png\u001b[39m\u001b[39m\"\u001b[39m))\n\u001b[0;32m      8\u001b[0m \u001b[39m#Path for the writing style\u001b[39;00m\n",
      "File \u001b[1;32mc:\\Users\\serva\\AppData\\Local\\Programs\\Python\\Python311\\Lib\\site-packages\\PIL\\Image.py:3218\u001b[0m, in \u001b[0;36mopen\u001b[1;34m(fp, mode, formats)\u001b[0m\n\u001b[0;32m   3215\u001b[0m     filename \u001b[39m=\u001b[39m fp\n\u001b[0;32m   3217\u001b[0m \u001b[39mif\u001b[39;00m filename:\n\u001b[1;32m-> 3218\u001b[0m     fp \u001b[39m=\u001b[39m builtins\u001b[39m.\u001b[39;49mopen(filename, \u001b[39m\"\u001b[39;49m\u001b[39mrb\u001b[39;49m\u001b[39m\"\u001b[39;49m)\n\u001b[0;32m   3219\u001b[0m     exclusive_fp \u001b[39m=\u001b[39m \u001b[39mTrue\u001b[39;00m\n\u001b[0;32m   3221\u001b[0m \u001b[39mtry\u001b[39;00m:\n",
      "\u001b[1;31mFileNotFoundError\u001b[0m: [Errno 2] No such file or directory: 'chicken.jpg'"
     ]
    }
   ],
   "source": [
    "\n",
    "import os\n",
    "\n",
    "# Change the current working directory\n",
    "os.chdir('C:\\\\Users\\\\serva\\\\Downloads')\n",
    "#Adding image\n",
    "chicken_mask = np.array(Image.open(\"chicken.jpg\"))\n",
    "tree_mask = np.array(Image.open(\"Euro.png\"))\n",
    "#Path for the writing style\n",
    "font_path = 'font.otf'\n",
    "\n",
    "# lower max_font_size, change the maximum number of word and lighten the background:\n",
    "wordcloud = WordCloud(\n",
    "max_font_size=200, max_words=100, background_color=\"white\",font_path=font_path,mask=chicken_mask).fit_words(dict(lda.show_topic(0, 150)))\n",
    "\n",
    "plt.figure()\n",
    "plt.imshow(wordcloud, interpolation=\"bilinear\")\n",
    "plt.axis(\"off\")\n",
    "plt.show()\n",
    "\n",
    "# Save the image in the img folder:\n",
    "wordcloud.to_file(\"Chicken_pic.png\")"
   ]
  },
  {
   "cell_type": "markdown",
   "id": "2cec3e2c",
   "metadata": {},
   "source": [
    "# Coherence Score"
   ]
  },
  {
   "cell_type": "code",
   "execution_count": 64,
   "id": "5934fe1e",
   "metadata": {},
   "outputs": [
    {
     "name": "stdout",
     "output_type": "stream",
     "text": [
      "\n",
      "Perplexity:  -6.944260699010695\n",
      "\n",
      "Coherence Score:  0.4764790286274829\n"
     ]
    }
   ],
   "source": [
    "data_lemmatized=data_words\n",
    "# Compute Perplexity\n",
    "print('\\nPerplexity: ', lda_model.log_perplexity(corpus))  \n",
    "# a measure of how good the model is. lower the better.\n",
    "\n",
    "# Compute Coherence Score\n",
    "coherence_model_lda = CoherenceModel(model=lda_model, texts=data_lemmatized, dictionary=id2word, coherence='c_v')\n",
    "coherence_lda = coherence_model_lda.get_coherence()\n",
    "print('\\nCoherence Score: ', coherence_lda)"
   ]
  }
 ],
 "metadata": {
  "kernelspec": {
   "display_name": "Python 3 (ipykernel)",
   "language": "python",
   "name": "python3"
  },
  "language_info": {
   "codemirror_mode": {
    "name": "ipython",
    "version": 3
   },
   "file_extension": ".py",
   "mimetype": "text/x-python",
   "name": "python",
   "nbconvert_exporter": "python",
   "pygments_lexer": "ipython3",
   "version": "3.11.5"
  }
 },
 "nbformat": 4,
 "nbformat_minor": 5
}
