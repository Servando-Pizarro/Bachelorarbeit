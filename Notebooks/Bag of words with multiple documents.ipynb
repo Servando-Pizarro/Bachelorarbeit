{
 "cells": [
  {
   "cell_type": "code",
   "execution_count": 6,
   "id": "981b8252",
   "metadata": {},
   "outputs": [],
   "source": [
    "import glob, os, sys; sys.path.append('../src')\n",
    "\n",
    "from typing import Callable, Dict, List, Optional\n",
    "\n",
    "import pandas as pd\n",
    "from pathlib import Path\n",
    "import re\n",
    "import logging\n",
    "import string \n",
    "import pandas as pd\n",
    "#from keybert import KeyBERT\n",
    "\n",
    "import os\n",
    "os.environ[\"TOKENIZERS_PARALLELISM\"] = \"false\"\n",
    "\n",
    "logger = logging.getLogger(__name__)\n",
    "import haystack\n",
    "from haystack.utils import convert_files_to_docs, fetch_archive_from_http\n",
    "from haystack.nodes.file_converter import BaseConverter, DocxToTextConverter, PDFToTextConverter, TextConverter\n",
    "from haystack.schema import Document\n",
    "import pdfplumber\n",
    "\n",
    "from haystack.nodes import PreProcessor\n",
    "import streamlit as st"
   ]
  },
  {
   "cell_type": "code",
   "execution_count": 7,
   "id": "53349185",
   "metadata": {},
   "outputs": [],
   "source": [
    "# Function for reading txt,pdf and docx files \n",
    "\n",
    "def load_document(\n",
    "    file: str,\n",
    "    encoding: Optional[str] = None,\n",
    "    id_hash_keys: Optional[List[str]] = None,\n",
    ") -> List[Document]:\n",
    "    \n",
    "    \"\"\"\n",
    "    takes docx, txt and pdf files as input and extracts text as well as the filename as metadata. Since haystack\n",
    "    does not take care of all pdf files, pdfplumber is attached to the pipeline in case the pdf extraction fails\n",
    "    via Haystack.\n",
    "\n",
    "    Returns a list of type haystack.schema.Document\n",
    "    \"\"\"\n",
    "\n",
    "    if file.endswith('.pdf'):\n",
    "        converter = PDFToTextConverter(remove_numeric_tables=True)\n",
    "    if file.endswith('.txt'):\n",
    "        converter = TextConverter()\n",
    "    if file.endswith('.docx'):\n",
    "        converter = DocxToTextConverter()\n",
    "\n",
    "    print(converter)\n",
    "    documents = []\n",
    "\n",
    "    logger.info(\"Converting {}\".format(file))\n",
    "    # PDFToTextConverter, TextConverter, and DocxToTextConverter return a list containing a single Document\n",
    "    document = converter.convert(\n",
    "                file_path=file, meta=None, encoding=encoding, id_hash_keys=id_hash_keys\n",
    "            )[0]\n",
    "    text = document.content\n",
    "    documents.append(Document(content=text, meta={\"name\": file}, id_hash_keys=id_hash_keys))\n",
    "    \n",
    "    '''check if text is empty and apply different pdf processor. This can happen whith certain pdf types.'''\n",
    "    \n",
    "    return documents"
   ]
  },
  {
   "cell_type": "code",
   "execution_count": 8,
   "id": "2a069b76",
   "metadata": {},
   "outputs": [],
   "source": [
    "'''basic cleaning - suitable for transformer models'''\n",
    "def basic(s):\n",
    "    \"\"\"\n",
    "    :param s: string to be processed\n",
    "    :return: processed string: see comments in the source code for more info\n",
    "    \"\"\"\n",
    "    # Text Lowercase\n",
    "    s = s.lower() \n",
    "    # Remove punctuation\n",
    "    translator = str.maketrans(' ', ' ', string.punctuation) \n",
    "    s = s.translate(translator)\n",
    "    # Remove URLs\n",
    "    s = re.sub(r'^https?:\\/\\/.*[\\r\\n]*', ' ', s, flags=re.MULTILINE)\n",
    "    s = re.sub(r\"http\\S+\", \" \", s)\n",
    "    # Remove new line characters\n",
    "    s = re.sub('\\n', ' ', s) \n",
    "  \n",
    "    # Remove distracting single quotes\n",
    "    s = re.sub(\"\\'\", \" \", s) \n",
    "    # Remove all remaining numbers and non alphanumeric characters\n",
    "    s = re.sub(r'\\d+', ' ', s) \n",
    "    s = re.sub(r'\\W+', ' ', s)\n",
    "\n",
    "    # define custom words to replace:\n",
    "    #s = re.sub(r'strengthenedstakeholder', 'strengthened stakeholder', s)\n",
    "    \n",
    "    return s.strip()\n",
    "\n",
    " \n",
    "\n",
    "def preprocessing(document):\n",
    "\n",
    "    \"\"\"\n",
    "    takes in haystack document object and splits it into paragraphs and applies simple cleaning.\n",
    "\n",
    "    Returns cleaned list of haystack document objects. One paragraph per object. Also returns pandas df and \n",
    "    list that contains all text joined together.\n",
    "    \"\"\"    \n",
    "\n",
    "    preprocessor = PreProcessor(\n",
    "        clean_empty_lines=True,\n",
    "        clean_whitespace=True,\n",
    "        clean_header_footer=True,\n",
    "        split_by=\"word\",\n",
    "        split_length=120,\n",
    "        split_respect_sentence_boundary=True,\n",
    "        #split_overlap=5\n",
    "    )\n",
    "    for i in document:\n",
    "        docs_processed = preprocessor.process([i])\n",
    "        for item in docs_processed:\n",
    "            item.content = basic(item.content)\n",
    "\n",
    "    print(\"your document has been splitted to\", len(docs_processed), \"paragraphs\")\n",
    "    \n",
    "    # create dataframe of text and list of all text\n",
    "    df = pd.DataFrame(docs_processed)\n",
    "    all_text = \" \".join(df.content.to_list())\n",
    "    par_list = df.content.to_list()\n",
    "\n",
    "    return df"
   ]
  },
  {
   "cell_type": "code",
   "execution_count": 9,
   "id": "cb0bce5b",
   "metadata": {},
   "outputs": [
    {
     "name": "stdout",
     "output_type": "stream",
     "text": [
      "Current working directory: C:\\Users\\serva\\Downloads\\NDCs\n",
      "Files in 'C:\\\\Users\\\\serva\\\\Downloads\\\\NDCs': ['Australias NDC June 2022 Update.docx', 'BOTSWANA.docx', 'EU_NDC_Submission_December 2020.docx', 'Updated - First NDC - FINAL - PDF.docx']\n"
     ]
    }
   ],
   "source": [
    "import os\n",
    "\n",
    "# Change the current working directory\n",
    "os.chdir('C:\\\\Users\\\\serva\\\\Downloads\\\\NDCs')\n",
    "\n",
    "# Print the current working directory\n",
    "print(\"Current working directory: {0}\".format(os.getcwd()))\n",
    "\n",
    "\n",
    "cwd = os.getcwd()  # Get the current working directory (cwd)\n",
    "files = os.listdir(cwd)  # Get all the files in that directory\n",
    "print(\"Files in %r: %s\" % (cwd, files))\n",
    "\n",
    "\n",
    "# Safe directory in a var\n",
    "directory_in_str='C:\\\\Users\\\\serva\\\\Downloads\\\\NDCs'\n",
    "directory = os.fsencode(directory_in_str)\n"
   ]
  },
  {
   "cell_type": "code",
   "execution_count": 11,
   "id": "f1f03e59",
   "metadata": {},
   "outputs": [
    {
     "name": "stderr",
     "output_type": "stream",
     "text": [
      "INFO - __main__ -  Converting Australias NDC June 2022 Update.docx\n",
      "2022-08-16 18:56:49.913 INFO    __main__: Converting Australias NDC June 2022 Update.docx\n"
     ]
    },
    {
     "name": "stdout",
     "output_type": "stream",
     "text": [
      "<haystack.nodes.file_converter.docx.DocxToTextConverter object at 0x0000023AFC734760>\n"
     ]
    },
    {
     "name": "stderr",
     "output_type": "stream",
     "text": [
      "100%|██████████████████████████████████████████████████████████████████████████████████| 1/1 [00:00<00:00, 81.32docs/s]"
     ]
    },
    {
     "name": "stdout",
     "output_type": "stream",
     "text": [
      "your document has been splitted to 14 paragraphs\n"
     ]
    },
    {
     "name": "stderr",
     "output_type": "stream",
     "text": [
      "\n",
      "C:\\Users\\serva\\AppData\\Local\\Temp\\ipykernel_23076\\3120851790.py:16: FutureWarning: The frame.append method is deprecated and will be removed from pandas in a future version. Use pandas.concat instead.\n",
      "  data=data.append(df)\n",
      "INFO - __main__ -  Converting BOTSWANA.docx\n",
      "2022-08-16 18:56:51.201 INFO    __main__: Converting BOTSWANA.docx\n"
     ]
    },
    {
     "name": "stdout",
     "output_type": "stream",
     "text": [
      "<haystack.nodes.file_converter.docx.DocxToTextConverter object at 0x0000023AFBD26CA0>\n"
     ]
    },
    {
     "name": "stderr",
     "output_type": "stream",
     "text": [
      "100%|█████████████████████████████████████████████████████████████████████████████████| 1/1 [00:00<00:00, 634.35docs/s]\n",
      "C:\\Users\\serva\\AppData\\Local\\Temp\\ipykernel_23076\\3120851790.py:16: FutureWarning: The frame.append method is deprecated and will be removed from pandas in a future version. Use pandas.concat instead.\n",
      "  data=data.append(df)\n",
      "INFO - __main__ -  Converting EU_NDC_Submission_December 2020.docx\n",
      "2022-08-16 18:56:51.251 INFO    __main__: Converting EU_NDC_Submission_December 2020.docx\n"
     ]
    },
    {
     "name": "stdout",
     "output_type": "stream",
     "text": [
      "your document has been splitted to 9 paragraphs\n",
      "<haystack.nodes.file_converter.docx.DocxToTextConverter object at 0x0000023AFBC1BF40>\n"
     ]
    },
    {
     "name": "stderr",
     "output_type": "stream",
     "text": [
      "  0%|                                                                                          | 0/1 [00:00<?, ?docs/s]WARNING - haystack.nodes.preprocessor.preprocessor -  One or more sentence found with word count higher than the split length.\n",
      "2022-08-16 18:56:51.282 WARNING haystack.nodes.preprocessor.preprocessor: One or more sentence found with word count higher than the split length.\n",
      "100%|█████████████████████████████████████████████████████████████████████████████████| 1/1 [00:00<00:00, 164.22docs/s]\n",
      "C:\\Users\\serva\\AppData\\Local\\Temp\\ipykernel_23076\\3120851790.py:16: FutureWarning: The frame.append method is deprecated and will be removed from pandas in a future version. Use pandas.concat instead.\n",
      "  data=data.append(df)\n",
      "INFO - __main__ -  Converting Updated - First NDC - FINAL - PDF.docx\n",
      "2022-08-16 18:56:51.319 INFO    __main__: Converting Updated - First NDC - FINAL - PDF.docx\n"
     ]
    },
    {
     "name": "stdout",
     "output_type": "stream",
     "text": [
      "your document has been splitted to 38 paragraphs\n",
      "<haystack.nodes.file_converter.docx.DocxToTextConverter object at 0x0000023AFBD1FA90>\n"
     ]
    },
    {
     "name": "stderr",
     "output_type": "stream",
     "text": [
      "  0%|                                                                                          | 0/1 [00:00<?, ?docs/s]WARNING - haystack.nodes.preprocessor.preprocessor -  One or more sentence found with word count higher than the split length.\n",
      "2022-08-16 18:56:51.337 WARNING haystack.nodes.preprocessor.preprocessor: One or more sentence found with word count higher than the split length.\n",
      "100%|█████████████████████████████████████████████████████████████████████████████████| 1/1 [00:00<00:00, 140.95docs/s]"
     ]
    },
    {
     "name": "stdout",
     "output_type": "stream",
     "text": [
      "your document has been splitted to 40 paragraphs\n"
     ]
    },
    {
     "name": "stderr",
     "output_type": "stream",
     "text": [
      "\n",
      "C:\\Users\\serva\\AppData\\Local\\Temp\\ipykernel_23076\\3120851790.py:16: FutureWarning: The frame.append method is deprecated and will be removed from pandas in a future version. Use pandas.concat instead.\n",
      "  data=data.append(df)\n"
     ]
    }
   ],
   "source": [
    "#Test\n",
    "\"\"\"\"data=pd.DataFrame(columns=[\"content\",\"id\",\"meta\",\"score\",\"embedding\"])\n",
    "df=preprocessing(docs)\n",
    "data1=data.append(df)\n",
    "\n",
    "print(data1)\"\"\"\n",
    "\n",
    "data=pd.DataFrame(columns=[\"content\",\"id\",\"meta\",\"score\",\"embedding\"])\n",
    "\n",
    "for file in os.listdir(directory):\n",
    "    filename = os.fsdecode(file)\n",
    "    docs=load_document(filename)\n",
    "# Using the Preprocessor to create df and text \n",
    "    df = preprocessing(docs)\n",
    "    df[\"Country\"]=filename\n",
    "    data=data.append(df)\n"
   ]
  },
  {
   "cell_type": "code",
   "execution_count": 12,
   "id": "a3de94cb",
   "metadata": {},
   "outputs": [
    {
     "data": {
      "text/plain": [
       "101"
      ]
     },
     "execution_count": 12,
     "metadata": {},
     "output_type": "execute_result"
    }
   ],
   "source": [
    "data.head(5)\n",
    "len(data)"
   ]
  },
  {
   "cell_type": "code",
   "execution_count": 13,
   "id": "0988822a",
   "metadata": {},
   "outputs": [
    {
     "data": {
      "text/html": [
       "<div>\n",
       "<style scoped>\n",
       "    .dataframe tbody tr th:only-of-type {\n",
       "        vertical-align: middle;\n",
       "    }\n",
       "\n",
       "    .dataframe tbody tr th {\n",
       "        vertical-align: top;\n",
       "    }\n",
       "\n",
       "    .dataframe thead th {\n",
       "        text-align: right;\n",
       "    }\n",
       "</style>\n",
       "<table border=\"1\" class=\"dataframe\">\n",
       "  <thead>\n",
       "    <tr style=\"text-align: right;\">\n",
       "      <th></th>\n",
       "      <th>Text</th>\n",
       "      <th>content_type</th>\n",
       "      <th>id</th>\n",
       "      <th>meta</th>\n",
       "      <th>score</th>\n",
       "      <th>embedding</th>\n",
       "      <th>Country</th>\n",
       "    </tr>\n",
       "  </thead>\n",
       "  <tbody>\n",
       "    <tr>\n",
       "      <th>0</th>\n",
       "      <td>federative republic of brazil paris agreement nationally determined contribu...</td>\n",
       "      <td>text</td>\n",
       "      <td>986c33e39b7ad3e80d26bb72742c73d6</td>\n",
       "      <td>{'name': 'Updated - First NDC - FINAL - PDF.docx', '_split_id': 0}</td>\n",
       "      <td>None</td>\n",
       "      <td>None</td>\n",
       "      <td>Updated - First NDC - FINAL - PDF.docx</td>\n",
       "    </tr>\n",
       "    <tr>\n",
       "      <th>1</th>\n",
       "      <td>brazil s updated ndc is broad in scope and includes a consideration of means...</td>\n",
       "      <td>text</td>\n",
       "      <td>76065630447e731a0abdb92a88f14ea2</td>\n",
       "      <td>{'name': 'Updated - First NDC - FINAL - PDF.docx', '_split_id': 1}</td>\n",
       "      <td>None</td>\n",
       "      <td>None</td>\n",
       "      <td>Updated - First NDC - FINAL - PDF.docx</td>\n",
       "    </tr>\n",
       "    <tr>\n",
       "      <th>2</th>\n",
       "      <td>annex information to facilitate clarity transparency and understanding of br...</td>\n",
       "      <td>text</td>\n",
       "      <td>7165ebf036a1aa030c7d5ce64244c15b</td>\n",
       "      <td>{'name': 'Updated - First NDC - FINAL - PDF.docx', '_split_id': 2}</td>\n",
       "      <td>None</td>\n",
       "      <td>None</td>\n",
       "      <td>Updated - First NDC - FINAL - PDF.docx</td>\n",
       "    </tr>\n",
       "    <tr>\n",
       "      <th>3</th>\n",
       "      <td>brazil will adopt the latest national inventory report available and submitt...</td>\n",
       "      <td>text</td>\n",
       "      <td>ac64b0d84efa5f32553ac705532ba503</td>\n",
       "      <td>{'name': 'Updated - First NDC - FINAL - PDF.docx', '_split_id': 3}</td>\n",
       "      <td>None</td>\n",
       "      <td>None</td>\n",
       "      <td>Updated - First NDC - FINAL - PDF.docx</td>\n",
       "    </tr>\n",
       "    <tr>\n",
       "      <th>4</th>\n",
       "      <td>information on sources of data used in quantifying the reference points nati...</td>\n",
       "      <td>text</td>\n",
       "      <td>d93c9fc0d4b66988120244c50593d662</td>\n",
       "      <td>{'name': 'Updated - First NDC - FINAL - PDF.docx', '_split_id': 4}</td>\n",
       "      <td>None</td>\n",
       "      <td>None</td>\n",
       "      <td>Updated - First NDC - FINAL - PDF.docx</td>\n",
       "    </tr>\n",
       "    <tr>\n",
       "      <th>5</th>\n",
       "      <td>net emissions from to compared with net emissions from to whether it is a si...</td>\n",
       "      <td>text</td>\n",
       "      <td>f4192996eea8b1b3d7955372b5815946</td>\n",
       "      <td>{'name': 'Updated - First NDC - FINAL - PDF.docx', '_split_id': 5}</td>\n",
       "      <td>None</td>\n",
       "      <td>None</td>\n",
       "      <td>Updated - First NDC - FINAL - PDF.docx</td>\n",
       "    </tr>\n",
       "    <tr>\n",
       "      <th>6</th>\n",
       "      <td>how the party has taken into consideration paragraph c and d of decision cp ...</td>\n",
       "      <td>text</td>\n",
       "      <td>ecbf8a1825265edc67e394a357c8c9f3</td>\n",
       "      <td>{'name': 'Updated - First NDC - FINAL - PDF.docx', '_split_id': 6}</td>\n",
       "      <td>None</td>\n",
       "      <td>None</td>\n",
       "      <td>Updated - First NDC - FINAL - PDF.docx</td>\n",
       "    </tr>\n",
       "    <tr>\n",
       "      <th>7</th>\n",
       "      <td>according to the working group i contribution to the sixth assessment report...</td>\n",
       "      <td>text</td>\n",
       "      <td>783a824d994caeffb6b4e40378471545</td>\n",
       "      <td>{'name': 'Updated - First NDC - FINAL - PDF.docx', '_split_id': 7}</td>\n",
       "      <td>None</td>\n",
       "      <td>None</td>\n",
       "      <td>Updated - First NDC - FINAL - PDF.docx</td>\n",
       "    </tr>\n",
       "    <tr>\n",
       "      <th>8</th>\n",
       "      <td>adaptation actions implemented in the context of this ndc will aim at reduci...</td>\n",
       "      <td>text</td>\n",
       "      <td>87727313fe09b33ffe8f651608b87c50</td>\n",
       "      <td>{'name': 'Updated - First NDC - FINAL - PDF.docx', '_split_id': 8}</td>\n",
       "      <td>None</td>\n",
       "      <td>None</td>\n",
       "      <td>Updated - First NDC - FINAL - PDF.docx</td>\n",
       "    </tr>\n",
       "    <tr>\n",
       "      <th>9</th>\n",
       "      <td>adaptation policies will be based on the best available science regarding cl...</td>\n",
       "      <td>text</td>\n",
       "      <td>3a502ab088e2c33f7ce088babee719a</td>\n",
       "      <td>{'name': 'Updated - First NDC - FINAL - PDF.docx', '_split_id': 9}</td>\n",
       "      <td>None</td>\n",
       "      <td>None</td>\n",
       "      <td>Updated - First NDC - FINAL - PDF.docx</td>\n",
       "    </tr>\n",
       "  </tbody>\n",
       "</table>\n",
       "</div>"
      ],
      "text/plain": [
       "                                                                              Text  \\\n",
       "0  federative republic of brazil paris agreement nationally determined contribu...   \n",
       "1  brazil s updated ndc is broad in scope and includes a consideration of means...   \n",
       "2  annex information to facilitate clarity transparency and understanding of br...   \n",
       "3  brazil will adopt the latest national inventory report available and submitt...   \n",
       "4  information on sources of data used in quantifying the reference points nati...   \n",
       "5  net emissions from to compared with net emissions from to whether it is a si...   \n",
       "6  how the party has taken into consideration paragraph c and d of decision cp ...   \n",
       "7  according to the working group i contribution to the sixth assessment report...   \n",
       "8  adaptation actions implemented in the context of this ndc will aim at reduci...   \n",
       "9  adaptation policies will be based on the best available science regarding cl...   \n",
       "\n",
       "  content_type                                id  \\\n",
       "0         text  986c33e39b7ad3e80d26bb72742c73d6   \n",
       "1         text  76065630447e731a0abdb92a88f14ea2   \n",
       "2         text  7165ebf036a1aa030c7d5ce64244c15b   \n",
       "3         text  ac64b0d84efa5f32553ac705532ba503   \n",
       "4         text  d93c9fc0d4b66988120244c50593d662   \n",
       "5         text  f4192996eea8b1b3d7955372b5815946   \n",
       "6         text  ecbf8a1825265edc67e394a357c8c9f3   \n",
       "7         text  783a824d994caeffb6b4e40378471545   \n",
       "8         text  87727313fe09b33ffe8f651608b87c50   \n",
       "9         text   3a502ab088e2c33f7ce088babee719a   \n",
       "\n",
       "                                                                 meta score  \\\n",
       "0  {'name': 'Updated - First NDC - FINAL - PDF.docx', '_split_id': 0}  None   \n",
       "1  {'name': 'Updated - First NDC - FINAL - PDF.docx', '_split_id': 1}  None   \n",
       "2  {'name': 'Updated - First NDC - FINAL - PDF.docx', '_split_id': 2}  None   \n",
       "3  {'name': 'Updated - First NDC - FINAL - PDF.docx', '_split_id': 3}  None   \n",
       "4  {'name': 'Updated - First NDC - FINAL - PDF.docx', '_split_id': 4}  None   \n",
       "5  {'name': 'Updated - First NDC - FINAL - PDF.docx', '_split_id': 5}  None   \n",
       "6  {'name': 'Updated - First NDC - FINAL - PDF.docx', '_split_id': 6}  None   \n",
       "7  {'name': 'Updated - First NDC - FINAL - PDF.docx', '_split_id': 7}  None   \n",
       "8  {'name': 'Updated - First NDC - FINAL - PDF.docx', '_split_id': 8}  None   \n",
       "9  {'name': 'Updated - First NDC - FINAL - PDF.docx', '_split_id': 9}  None   \n",
       "\n",
       "  embedding                                 Country  \n",
       "0      None  Updated - First NDC - FINAL - PDF.docx  \n",
       "1      None  Updated - First NDC - FINAL - PDF.docx  \n",
       "2      None  Updated - First NDC - FINAL - PDF.docx  \n",
       "3      None  Updated - First NDC - FINAL - PDF.docx  \n",
       "4      None  Updated - First NDC - FINAL - PDF.docx  \n",
       "5      None  Updated - First NDC - FINAL - PDF.docx  \n",
       "6      None  Updated - First NDC - FINAL - PDF.docx  \n",
       "7      None  Updated - First NDC - FINAL - PDF.docx  \n",
       "8      None  Updated - First NDC - FINAL - PDF.docx  \n",
       "9      None  Updated - First NDC - FINAL - PDF.docx  "
      ]
     },
     "execution_count": 13,
     "metadata": {},
     "output_type": "execute_result"
    }
   ],
   "source": [
    "# Rename the columns \n",
    "\n",
    "data=df.rename(columns = {'content':'Text'})\n",
    "\n",
    "data.head(10)"
   ]
  },
  {
   "cell_type": "code",
   "execution_count": 14,
   "id": "847f4653",
   "metadata": {},
   "outputs": [
    {
     "data": {
      "text/html": [
       "<div>\n",
       "<style scoped>\n",
       "    .dataframe tbody tr th:only-of-type {\n",
       "        vertical-align: middle;\n",
       "    }\n",
       "\n",
       "    .dataframe tbody tr th {\n",
       "        vertical-align: top;\n",
       "    }\n",
       "\n",
       "    .dataframe thead th {\n",
       "        text-align: right;\n",
       "    }\n",
       "</style>\n",
       "<table border=\"1\" class=\"dataframe\">\n",
       "  <thead>\n",
       "    <tr style=\"text-align: right;\">\n",
       "      <th></th>\n",
       "      <th>text</th>\n",
       "      <th>content_type</th>\n",
       "      <th>id</th>\n",
       "      <th>meta</th>\n",
       "      <th>score</th>\n",
       "      <th>embedding</th>\n",
       "      <th>country</th>\n",
       "    </tr>\n",
       "  </thead>\n",
       "  <tbody>\n",
       "    <tr>\n",
       "      <th>0</th>\n",
       "      <td>federative republic of brazil paris agreement nationally determined contribu...</td>\n",
       "      <td>text</td>\n",
       "      <td>986c33e39b7ad3e80d26bb72742c73d6</td>\n",
       "      <td>{'name': 'Updated - First NDC - FINAL - PDF.docx', '_split_id': 0}</td>\n",
       "      <td>None</td>\n",
       "      <td>None</td>\n",
       "      <td>Updated - First NDC - FINAL - PDF.docx</td>\n",
       "    </tr>\n",
       "    <tr>\n",
       "      <th>1</th>\n",
       "      <td>brazil s updated ndc is broad in scope and includes a consideration of means...</td>\n",
       "      <td>text</td>\n",
       "      <td>76065630447e731a0abdb92a88f14ea2</td>\n",
       "      <td>{'name': 'Updated - First NDC - FINAL - PDF.docx', '_split_id': 1}</td>\n",
       "      <td>None</td>\n",
       "      <td>None</td>\n",
       "      <td>Updated - First NDC - FINAL - PDF.docx</td>\n",
       "    </tr>\n",
       "    <tr>\n",
       "      <th>2</th>\n",
       "      <td>annex information to facilitate clarity transparency and understanding of br...</td>\n",
       "      <td>text</td>\n",
       "      <td>7165ebf036a1aa030c7d5ce64244c15b</td>\n",
       "      <td>{'name': 'Updated - First NDC - FINAL - PDF.docx', '_split_id': 2}</td>\n",
       "      <td>None</td>\n",
       "      <td>None</td>\n",
       "      <td>Updated - First NDC - FINAL - PDF.docx</td>\n",
       "    </tr>\n",
       "    <tr>\n",
       "      <th>3</th>\n",
       "      <td>brazil will adopt the latest national inventory report available and submitt...</td>\n",
       "      <td>text</td>\n",
       "      <td>ac64b0d84efa5f32553ac705532ba503</td>\n",
       "      <td>{'name': 'Updated - First NDC - FINAL - PDF.docx', '_split_id': 3}</td>\n",
       "      <td>None</td>\n",
       "      <td>None</td>\n",
       "      <td>Updated - First NDC - FINAL - PDF.docx</td>\n",
       "    </tr>\n",
       "    <tr>\n",
       "      <th>4</th>\n",
       "      <td>information on sources of data used in quantifying the reference points nati...</td>\n",
       "      <td>text</td>\n",
       "      <td>d93c9fc0d4b66988120244c50593d662</td>\n",
       "      <td>{'name': 'Updated - First NDC - FINAL - PDF.docx', '_split_id': 4}</td>\n",
       "      <td>None</td>\n",
       "      <td>None</td>\n",
       "      <td>Updated - First NDC - FINAL - PDF.docx</td>\n",
       "    </tr>\n",
       "    <tr>\n",
       "      <th>5</th>\n",
       "      <td>net emissions from to compared with net emissions from to whether it is a si...</td>\n",
       "      <td>text</td>\n",
       "      <td>f4192996eea8b1b3d7955372b5815946</td>\n",
       "      <td>{'name': 'Updated - First NDC - FINAL - PDF.docx', '_split_id': 5}</td>\n",
       "      <td>None</td>\n",
       "      <td>None</td>\n",
       "      <td>Updated - First NDC - FINAL - PDF.docx</td>\n",
       "    </tr>\n",
       "  </tbody>\n",
       "</table>\n",
       "</div>"
      ],
      "text/plain": [
       "                                                                              text  \\\n",
       "0  federative republic of brazil paris agreement nationally determined contribu...   \n",
       "1  brazil s updated ndc is broad in scope and includes a consideration of means...   \n",
       "2  annex information to facilitate clarity transparency and understanding of br...   \n",
       "3  brazil will adopt the latest national inventory report available and submitt...   \n",
       "4  information on sources of data used in quantifying the reference points nati...   \n",
       "5  net emissions from to compared with net emissions from to whether it is a si...   \n",
       "\n",
       "  content_type                                id  \\\n",
       "0         text  986c33e39b7ad3e80d26bb72742c73d6   \n",
       "1         text  76065630447e731a0abdb92a88f14ea2   \n",
       "2         text  7165ebf036a1aa030c7d5ce64244c15b   \n",
       "3         text  ac64b0d84efa5f32553ac705532ba503   \n",
       "4         text  d93c9fc0d4b66988120244c50593d662   \n",
       "5         text  f4192996eea8b1b3d7955372b5815946   \n",
       "\n",
       "                                                                 meta score  \\\n",
       "0  {'name': 'Updated - First NDC - FINAL - PDF.docx', '_split_id': 0}  None   \n",
       "1  {'name': 'Updated - First NDC - FINAL - PDF.docx', '_split_id': 1}  None   \n",
       "2  {'name': 'Updated - First NDC - FINAL - PDF.docx', '_split_id': 2}  None   \n",
       "3  {'name': 'Updated - First NDC - FINAL - PDF.docx', '_split_id': 3}  None   \n",
       "4  {'name': 'Updated - First NDC - FINAL - PDF.docx', '_split_id': 4}  None   \n",
       "5  {'name': 'Updated - First NDC - FINAL - PDF.docx', '_split_id': 5}  None   \n",
       "\n",
       "  embedding                                 country  \n",
       "0      None  Updated - First NDC - FINAL - PDF.docx  \n",
       "1      None  Updated - First NDC - FINAL - PDF.docx  \n",
       "2      None  Updated - First NDC - FINAL - PDF.docx  \n",
       "3      None  Updated - First NDC - FINAL - PDF.docx  \n",
       "4      None  Updated - First NDC - FINAL - PDF.docx  \n",
       "5      None  Updated - First NDC - FINAL - PDF.docx  "
      ]
     },
     "execution_count": 14,
     "metadata": {},
     "output_type": "execute_result"
    }
   ],
   "source": [
    "data.columns = map(str.lower, data.columns)\n",
    "data.head(6)"
   ]
  },
  {
   "cell_type": "code",
   "execution_count": 15,
   "id": "b7371905",
   "metadata": {},
   "outputs": [],
   "source": [
    "import gensim\n",
    "from gensim.utils import simple_preprocess\n",
    "from gensim.parsing.preprocessing import STOPWORDS\n",
    "from nltk.stem import WordNetLemmatizer, SnowballStemmer\n",
    "from nltk.stem.porter import *\n",
    "import numpy as np\n",
    "np.random.seed(2018)"
   ]
  },
  {
   "cell_type": "code",
   "execution_count": 16,
   "id": "2e8ddd17",
   "metadata": {},
   "outputs": [
    {
     "data": {
      "text/plain": [
       "0    federative republic of brazil paris agreement nationally determined contribu...\n",
       "1    brazil s updated ndc is broad in scope and includes a consideration of means...\n",
       "2    annex information to facilitate clarity transparency and understanding of br...\n",
       "3    brazil will adopt the latest national inventory report available and submitt...\n",
       "4    information on sources of data used in quantifying the reference points nati...\n",
       "5    net emissions from to compared with net emissions from to whether it is a si...\n",
       "6    how the party has taken into consideration paragraph c and d of decision cp ...\n",
       "7    according to the working group i contribution to the sixth assessment report...\n",
       "8    adaptation actions implemented in the context of this ndc will aim at reduci...\n",
       "9    adaptation policies will be based on the best available science regarding cl...\n",
       "Name: text, dtype: object"
      ]
     },
     "execution_count": 16,
     "metadata": {},
     "output_type": "execute_result"
    }
   ],
   "source": [
    "\n",
    "documents=data[\"text\"]\n",
    "\n",
    "documents.head(10)\n",
    "\n"
   ]
  },
  {
   "cell_type": "code",
   "execution_count": 17,
   "id": "b7e7421c",
   "metadata": {},
   "outputs": [],
   "source": [
    "def lemmatize_stemming(text):\n",
    "    return stemmer.stem(WordNetLemmatizer().lemmatize(text, pos='v'))\n",
    "\n",
    "def preprocess(text):\n",
    "    result = []\n",
    "    for token in gensim.utils.simple_preprocess(text):\n",
    "        if token not in gensim.parsing.preprocessing.STOPWORDS and len(token) > 3:\n",
    "            result.append(lemmatize_stemming(token))\n",
    "    return result"
   ]
  },
  {
   "cell_type": "code",
   "execution_count": 18,
   "id": "89db13ce",
   "metadata": {},
   "outputs": [
    {
     "data": {
      "text/html": [
       "<div>\n",
       "<style scoped>\n",
       "    .dataframe tbody tr th:only-of-type {\n",
       "        vertical-align: middle;\n",
       "    }\n",
       "\n",
       "    .dataframe tbody tr th {\n",
       "        vertical-align: top;\n",
       "    }\n",
       "\n",
       "    .dataframe thead th {\n",
       "        text-align: right;\n",
       "    }\n",
       "</style>\n",
       "<table border=\"1\" class=\"dataframe\">\n",
       "  <thead>\n",
       "    <tr style=\"text-align: right;\">\n",
       "      <th></th>\n",
       "      <th>original word</th>\n",
       "      <th>stemmed</th>\n",
       "    </tr>\n",
       "  </thead>\n",
       "  <tbody>\n",
       "    <tr>\n",
       "      <th>0</th>\n",
       "      <td>caresses</td>\n",
       "      <td>caress</td>\n",
       "    </tr>\n",
       "    <tr>\n",
       "      <th>1</th>\n",
       "      <td>flies</td>\n",
       "      <td>fli</td>\n",
       "    </tr>\n",
       "    <tr>\n",
       "      <th>2</th>\n",
       "      <td>dies</td>\n",
       "      <td>die</td>\n",
       "    </tr>\n",
       "    <tr>\n",
       "      <th>3</th>\n",
       "      <td>mules</td>\n",
       "      <td>mule</td>\n",
       "    </tr>\n",
       "    <tr>\n",
       "      <th>4</th>\n",
       "      <td>denied</td>\n",
       "      <td>deni</td>\n",
       "    </tr>\n",
       "    <tr>\n",
       "      <th>5</th>\n",
       "      <td>died</td>\n",
       "      <td>die</td>\n",
       "    </tr>\n",
       "    <tr>\n",
       "      <th>6</th>\n",
       "      <td>agreed</td>\n",
       "      <td>agre</td>\n",
       "    </tr>\n",
       "    <tr>\n",
       "      <th>7</th>\n",
       "      <td>owned</td>\n",
       "      <td>own</td>\n",
       "    </tr>\n",
       "    <tr>\n",
       "      <th>8</th>\n",
       "      <td>humbled</td>\n",
       "      <td>humbl</td>\n",
       "    </tr>\n",
       "    <tr>\n",
       "      <th>9</th>\n",
       "      <td>sized</td>\n",
       "      <td>size</td>\n",
       "    </tr>\n",
       "    <tr>\n",
       "      <th>10</th>\n",
       "      <td>meeting</td>\n",
       "      <td>meet</td>\n",
       "    </tr>\n",
       "    <tr>\n",
       "      <th>11</th>\n",
       "      <td>stating</td>\n",
       "      <td>state</td>\n",
       "    </tr>\n",
       "    <tr>\n",
       "      <th>12</th>\n",
       "      <td>siezing</td>\n",
       "      <td>siez</td>\n",
       "    </tr>\n",
       "    <tr>\n",
       "      <th>13</th>\n",
       "      <td>itemization</td>\n",
       "      <td>item</td>\n",
       "    </tr>\n",
       "    <tr>\n",
       "      <th>14</th>\n",
       "      <td>sensational</td>\n",
       "      <td>sensat</td>\n",
       "    </tr>\n",
       "    <tr>\n",
       "      <th>15</th>\n",
       "      <td>traditional</td>\n",
       "      <td>tradit</td>\n",
       "    </tr>\n",
       "    <tr>\n",
       "      <th>16</th>\n",
       "      <td>reference</td>\n",
       "      <td>refer</td>\n",
       "    </tr>\n",
       "    <tr>\n",
       "      <th>17</th>\n",
       "      <td>colonizer</td>\n",
       "      <td>colon</td>\n",
       "    </tr>\n",
       "    <tr>\n",
       "      <th>18</th>\n",
       "      <td>plotted</td>\n",
       "      <td>plot</td>\n",
       "    </tr>\n",
       "  </tbody>\n",
       "</table>\n",
       "</div>"
      ],
      "text/plain": [
       "   original word stemmed\n",
       "0       caresses  caress\n",
       "1          flies     fli\n",
       "2           dies     die\n",
       "3          mules    mule\n",
       "4         denied    deni\n",
       "5           died     die\n",
       "6         agreed    agre\n",
       "7          owned     own\n",
       "8        humbled   humbl\n",
       "9          sized    size\n",
       "10       meeting    meet\n",
       "11       stating   state\n",
       "12       siezing    siez\n",
       "13   itemization    item\n",
       "14   sensational  sensat\n",
       "15   traditional  tradit\n",
       "16     reference   refer\n",
       "17     colonizer   colon\n",
       "18       plotted    plot"
      ]
     },
     "execution_count": 18,
     "metadata": {},
     "output_type": "execute_result"
    }
   ],
   "source": [
    "stemmer = SnowballStemmer('english')\n",
    "original_words = ['caresses', 'flies', 'dies', 'mules', 'denied','died', 'agreed', 'owned', \n",
    "           'humbled', 'sized','meeting', 'stating', 'siezing', 'itemization','sensational', \n",
    "           'traditional', 'reference', 'colonizer','plotted']\n",
    "singles = [stemmer.stem(plural) for plural in original_words]\n",
    "pd.DataFrame(data = {'original word': original_words, 'stemmed': singles})"
   ]
  },
  {
   "cell_type": "code",
   "execution_count": 19,
   "id": "d0662240",
   "metadata": {},
   "outputs": [],
   "source": [
    "\n",
    "processed_docs = data['text'].map(preprocess)\n",
    "\n"
   ]
  },
  {
   "cell_type": "code",
   "execution_count": 20,
   "id": "2a64d368",
   "metadata": {},
   "outputs": [
    {
     "data": {
      "text/plain": [
       "0    [feder, republ, brazil, pari, agreement, nation, determin, contribut, brasíl...\n",
       "1    [brazil, updat, broad, scope, includ, consider, mean, implement, implement, ...\n",
       "2    [annex, inform, facilit, clariti, transpar, understand, brazil, quantifi, in...\n",
       "3    [brazil, adopt, latest, nation, inventori, report, avail, submit, unfccc, ti...\n",
       "4    [inform, sourc, data, quantifi, refer, point, nation, inventori, anthropogen...\n",
       "5    [emiss, compar, emiss, singleyear, multiyear, target, applic, singleyear, ta...\n",
       "6    [parti, take, consider, paragraph, decis, gas, previous, indic, indc, keep, ...\n",
       "7    [accord, work, group, contribut, sixth, assess, report, ipcc, publish, augus...\n",
       "8    [adapt, action, implement, context, reduc, vulner, term, water, energi, food...\n",
       "9    [adapt, polici, base, best, avail, scienc, climat, chang, nation, circumst, ...\n",
       "Name: text, dtype: object"
      ]
     },
     "execution_count": 20,
     "metadata": {},
     "output_type": "execute_result"
    }
   ],
   "source": [
    "processed_docs[:10]"
   ]
  },
  {
   "cell_type": "markdown",
   "id": "2ad5e2c5",
   "metadata": {},
   "source": [
    "# Bag of Words\n"
   ]
  },
  {
   "cell_type": "code",
   "execution_count": 21,
   "id": "c254a047",
   "metadata": {},
   "outputs": [
    {
     "name": "stderr",
     "output_type": "stream",
     "text": [
      "INFO - gensim.corpora.dictionary -  adding document #0 to Dictionary(0 unique tokens: [])\n",
      "2022-08-16 18:56:57.469 INFO    gensim.corpora.dictionary: adding document #0 to Dictionary(0 unique tokens: [])\n",
      "INFO - gensim.corpora.dictionary -  built Dictionary(631 unique tokens: ['achiev', 'addit', 'adopt', 'agreement', 'brasília']...) from 40 documents (total 2198 corpus positions)\n",
      "2022-08-16 18:56:57.472 INFO    gensim.corpora.dictionary: built Dictionary(631 unique tokens: ['achiev', 'addit', 'adopt', 'agreement', 'brasília']...) from 40 documents (total 2198 corpus positions)\n",
      "INFO - gensim.utils -  Dictionary lifecycle event {'msg': \"built Dictionary(631 unique tokens: ['achiev', 'addit', 'adopt', 'agreement', 'brasília']...) from 40 documents (total 2198 corpus positions)\", 'datetime': '2022-08-16T18:56:57.473964', 'gensim': '4.1.2', 'python': '3.9.12 (main, Apr  4 2022, 05:22:27) [MSC v.1916 64 bit (AMD64)]', 'platform': 'Windows-10-10.0.22000-SP0', 'event': 'created'}\n",
      "2022-08-16 18:56:57.473 INFO    gensim.utils: Dictionary lifecycle event {'msg': \"built Dictionary(631 unique tokens: ['achiev', 'addit', 'adopt', 'agreement', 'brasília']...) from 40 documents (total 2198 corpus positions)\", 'datetime': '2022-08-16T18:56:57.473964', 'gensim': '4.1.2', 'python': '3.9.12 (main, Apr  4 2022, 05:22:27) [MSC v.1916 64 bit (AMD64)]', 'platform': 'Windows-10-10.0.22000-SP0', 'event': 'created'}\n"
     ]
    }
   ],
   "source": [
    "dictionary = gensim.corpora.Dictionary(processed_docs)"
   ]
  },
  {
   "cell_type": "code",
   "execution_count": 22,
   "id": "d5e78aad",
   "metadata": {},
   "outputs": [
    {
     "name": "stdout",
     "output_type": "stream",
     "text": [
      "0 achiev\n",
      "1 addit\n",
      "2 adopt\n",
      "3 agreement\n",
      "4 brasília\n",
      "5 brazil\n",
      "6 chang\n",
      "7 climat\n",
      "8 commit\n",
      "9 communic\n",
      "10 compar\n"
     ]
    }
   ],
   "source": [
    "count = 0\n",
    "for k, v in dictionary.iteritems():\n",
    "    print(k, v)\n",
    "    count += 1\n",
    "    if count > 10:\n",
    "        break"
   ]
  },
  {
   "cell_type": "code",
   "execution_count": 23,
   "id": "700e4298",
   "metadata": {},
   "outputs": [
    {
     "data": {
      "text/plain": [
       "[(6, 1),\n",
       " (7, 1),\n",
       " (18, 1),\n",
       " (21, 1),\n",
       " (26, 1),\n",
       " (40, 2),\n",
       " (71, 1),\n",
       " (115, 3),\n",
       " (153, 1),\n",
       " (163, 2),\n",
       " (221, 1),\n",
       " (249, 1),\n",
       " (254, 1),\n",
       " (255, 1),\n",
       " (256, 1),\n",
       " (257, 1),\n",
       " (258, 1),\n",
       " (259, 1),\n",
       " (260, 1),\n",
       " (261, 1),\n",
       " (262, 1),\n",
       " (263, 1),\n",
       " (264, 1)]"
      ]
     },
     "execution_count": 23,
     "metadata": {},
     "output_type": "execute_result"
    }
   ],
   "source": [
    "bow_corpus = [dictionary.doc2bow(doc) for doc in processed_docs]\n",
    "bow_corpus[10]"
   ]
  },
  {
   "cell_type": "code",
   "execution_count": 24,
   "id": "cd60e11d",
   "metadata": {},
   "outputs": [
    {
     "name": "stdout",
     "output_type": "stream",
     "text": [
      "Word 6 (\"chang\") appears 1 time.\n",
      "Word 7 (\"climat\") appears 1 time.\n",
      "Word 18 (\"feder\") appears 1 time.\n",
      "Word 21 (\"govern\") appears 1 time.\n",
      "Word 26 (\"nation\") appears 1 time.\n",
      "Word 40 (\"adapt\") appears 2 time.\n",
      "Word 71 (\"sector\") appears 1 time.\n",
      "Word 115 (\"plan\") appears 3 time.\n",
      "Word 153 (\"polici\") appears 1 time.\n",
      "Word 163 (\"effort\") appears 2 time.\n",
      "Word 221 (\"resili\") appears 1 time.\n",
      "Word 249 (\"scientif\") appears 1 time.\n",
      "Word 254 (\"complement\") appears 1 time.\n",
      "Word 255 (\"criteria\") appears 1 time.\n",
      "Word 256 (\"entiti\") appears 1 time.\n",
      "Word 257 (\"incorpor\") appears 1 time.\n",
      "Word 258 (\"knowledg\") appears 1 time.\n",
      "Word 259 (\"mainstream\") appears 1 time.\n",
      "Word 260 (\"promot\") appears 1 time.\n",
      "Word 261 (\"strateg\") appears 1 time.\n",
      "Word 262 (\"subject\") appears 1 time.\n",
      "Word 263 (\"subnat\") appears 1 time.\n",
      "Word 264 (\"support\") appears 1 time.\n"
     ]
    }
   ],
   "source": [
    "bow_doc_4310 = bow_corpus[10]\n",
    "\n",
    "for i in range(len(bow_doc_4310)):\n",
    "    print(\"Word {} (\\\"{}\\\") appears {} time.\".format(bow_doc_4310[i][0], \n",
    "                                                     dictionary[bow_doc_4310[i][0]], \n",
    "                                                     bow_doc_4310[i][1]))\n",
    "\n"
   ]
  },
  {
   "cell_type": "code",
   "execution_count": 25,
   "id": "3a28380b",
   "metadata": {},
   "outputs": [
    {
     "name": "stderr",
     "output_type": "stream",
     "text": [
      "INFO - gensim.models.ldamodel -  using symmetric alpha at 0.1\n",
      "2022-08-16 18:56:57.924 INFO    gensim.models.ldamodel: using symmetric alpha at 0.1\n",
      "INFO - gensim.models.ldamodel -  using symmetric eta at 0.1\n",
      "2022-08-16 18:56:57.926 INFO    gensim.models.ldamodel: using symmetric eta at 0.1\n",
      "INFO - gensim.models.ldamodel -  using serial LDA version on this node\n",
      "2022-08-16 18:56:57.927 INFO    gensim.models.ldamodel: using serial LDA version on this node\n",
      "INFO - gensim.models.ldamulticore -  running online LDA training, 10 topics, 2 passes over the supplied corpus of 40 documents, updating every 4000 documents, evaluating every ~40 documents, iterating 50x with a convergence threshold of 0.001000\n",
      "2022-08-16 18:56:57.930 INFO    gensim.models.ldamulticore: running online LDA training, 10 topics, 2 passes over the supplied corpus of 40 documents, updating every 4000 documents, evaluating every ~40 documents, iterating 50x with a convergence threshold of 0.001000\n",
      "WARNING - gensim.models.ldamulticore -  too few updates, training might not converge; consider increasing the number of passes or iterations to improve accuracy\n",
      "2022-08-16 18:56:57.931 WARNING gensim.models.ldamulticore: too few updates, training might not converge; consider increasing the number of passes or iterations to improve accuracy\n",
      "INFO - gensim.models.ldamulticore -  training LDA model using 2 processes\n",
      "2022-08-16 18:56:57.934 INFO    gensim.models.ldamulticore: training LDA model using 2 processes\n",
      "INFO - gensim.models.ldamulticore -  PROGRESS: pass 0, dispatched chunk #0 = documents up to #40/40, outstanding queue size 1\n",
      "2022-08-16 18:56:58.184 INFO    gensim.models.ldamulticore: PROGRESS: pass 0, dispatched chunk #0 = documents up to #40/40, outstanding queue size 1\n",
      "INFO - gensim.models.ldamodel -  topic #2 (0.100): 0.029*\"refer\" + 0.026*\"nation\" + 0.022*\"includ\" + 0.020*\"brazil\" + 0.020*\"year\" + 0.018*\"approach\" + 0.018*\"contribut\" + 0.015*\"emiss\" + 0.015*\"inform\" + 0.015*\"assumpt\"\n",
      "2022-08-16 18:57:00.366 INFO    gensim.models.ldamodel: topic #2 (0.100): 0.029*\"refer\" + 0.026*\"nation\" + 0.022*\"includ\" + 0.020*\"brazil\" + 0.020*\"year\" + 0.018*\"approach\" + 0.018*\"contribut\" + 0.015*\"emiss\" + 0.015*\"inform\" + 0.015*\"assumpt\"\n",
      "INFO - gensim.models.ldamodel -  topic #0 (0.100): 0.026*\"articl\" + 0.026*\"agreement\" + 0.024*\"pari\" + 0.022*\"level\" + 0.022*\"increas\" + 0.022*\"brazil\" + 0.020*\"temperatur\" + 0.018*\"effort\" + 0.017*\"contribut\" + 0.016*\"global\"\n",
      "2022-08-16 18:57:00.367 INFO    gensim.models.ldamodel: topic #0 (0.100): 0.026*\"articl\" + 0.026*\"agreement\" + 0.024*\"pari\" + 0.022*\"level\" + 0.022*\"increas\" + 0.022*\"brazil\" + 0.020*\"temperatur\" + 0.018*\"effort\" + 0.017*\"contribut\" + 0.016*\"global\"\n",
      "INFO - gensim.models.ldamodel -  topic #6 (0.100): 0.023*\"climat\" + 0.021*\"nation\" + 0.020*\"chang\" + 0.015*\"contribut\" + 0.015*\"includ\" + 0.013*\"emiss\" + 0.013*\"implement\" + 0.012*\"global\" + 0.012*\"target\" + 0.012*\"determin\"\n",
      "2022-08-16 18:57:00.370 INFO    gensim.models.ldamodel: topic #6 (0.100): 0.023*\"climat\" + 0.021*\"nation\" + 0.020*\"chang\" + 0.015*\"contribut\" + 0.015*\"includ\" + 0.013*\"emiss\" + 0.013*\"implement\" + 0.012*\"global\" + 0.012*\"target\" + 0.012*\"determin\"\n",
      "INFO - gensim.models.ldamodel -  topic #7 (0.100): 0.020*\"climat\" + 0.017*\"contribut\" + 0.017*\"articl\" + 0.016*\"nation\" + 0.015*\"emiss\" + 0.014*\"parti\" + 0.014*\"brazil\" + 0.012*\"agreement\" + 0.012*\"chang\" + 0.012*\"pari\"\n",
      "2022-08-16 18:57:00.371 INFO    gensim.models.ldamodel: topic #7 (0.100): 0.020*\"climat\" + 0.017*\"contribut\" + 0.017*\"articl\" + 0.016*\"nation\" + 0.015*\"emiss\" + 0.014*\"parti\" + 0.014*\"brazil\" + 0.012*\"agreement\" + 0.012*\"chang\" + 0.012*\"pari\"\n",
      "INFO - gensim.models.ldamodel -  topic #9 (0.100): 0.022*\"brazil\" + 0.019*\"emiss\" + 0.015*\"sector\" + 0.014*\"ipcc\" + 0.013*\"global\" + 0.012*\"plan\" + 0.011*\"agreement\" + 0.011*\"implement\" + 0.011*\"methodolog\" + 0.010*\"contribut\"\n",
      "2022-08-16 18:57:00.372 INFO    gensim.models.ldamodel: topic #9 (0.100): 0.022*\"brazil\" + 0.019*\"emiss\" + 0.015*\"sector\" + 0.014*\"ipcc\" + 0.013*\"global\" + 0.012*\"plan\" + 0.011*\"agreement\" + 0.011*\"implement\" + 0.011*\"methodolog\" + 0.010*\"contribut\"\n",
      "INFO - gensim.models.ldamodel -  topic diff=5.558552, rho=1.000000\n",
      "2022-08-16 18:57:00.373 INFO    gensim.models.ldamodel: topic diff=5.558552, rho=1.000000\n",
      "INFO - gensim.models.ldamodel -  -6.937 per-word bound, 122.6 perplexity estimate based on a held-out corpus of 40 documents with 2198 words\n",
      "2022-08-16 18:57:00.404 INFO    gensim.models.ldamodel: -6.937 per-word bound, 122.6 perplexity estimate based on a held-out corpus of 40 documents with 2198 words\n",
      "INFO - gensim.models.ldamulticore -  PROGRESS: pass 1, dispatched chunk #0 = documents up to #40/40, outstanding queue size 1\n",
      "2022-08-16 18:57:00.407 INFO    gensim.models.ldamulticore: PROGRESS: pass 1, dispatched chunk #0 = documents up to #40/40, outstanding queue size 1\n",
      "INFO - gensim.models.ldamodel -  topic #8 (0.100): 0.019*\"brazilian\" + 0.018*\"implement\" + 0.016*\"adapt\" + 0.015*\"develop\" + 0.015*\"brazil\" + 0.015*\"polici\" + 0.014*\"nation\" + 0.014*\"plan\" + 0.013*\"econom\" + 0.013*\"govern\"\n",
      "2022-08-16 18:57:00.422 INFO    gensim.models.ldamodel: topic #8 (0.100): 0.019*\"brazilian\" + 0.018*\"implement\" + 0.016*\"adapt\" + 0.015*\"develop\" + 0.015*\"brazil\" + 0.015*\"polici\" + 0.014*\"nation\" + 0.014*\"plan\" + 0.013*\"econom\" + 0.013*\"govern\"\n",
      "INFO - gensim.models.ldamodel -  topic #3 (0.100): 0.040*\"brazil\" + 0.028*\"climat\" + 0.021*\"commit\" + 0.018*\"nation\" + 0.016*\"contribut\" + 0.015*\"emiss\" + 0.015*\"agreement\" + 0.013*\"parti\" + 0.013*\"pari\" + 0.012*\"feder\"\n",
      "2022-08-16 18:57:00.423 INFO    gensim.models.ldamodel: topic #3 (0.100): 0.040*\"brazil\" + 0.028*\"climat\" + 0.021*\"commit\" + 0.018*\"nation\" + 0.016*\"contribut\" + 0.015*\"emiss\" + 0.015*\"agreement\" + 0.013*\"parti\" + 0.013*\"pari\" + 0.012*\"feder\"\n",
      "INFO - gensim.models.ldamodel -  topic #1 (0.100): 0.033*\"nation\" + 0.025*\"climat\" + 0.023*\"chang\" + 0.016*\"includ\" + 0.013*\"impact\" + 0.013*\"agreement\" + 0.013*\"brazilian\" + 0.012*\"determin\" + 0.012*\"contribut\" + 0.010*\"inform\"\n",
      "2022-08-16 18:57:00.424 INFO    gensim.models.ldamodel: topic #1 (0.100): 0.033*\"nation\" + 0.025*\"climat\" + 0.023*\"chang\" + 0.016*\"includ\" + 0.013*\"impact\" + 0.013*\"agreement\" + 0.013*\"brazilian\" + 0.012*\"determin\" + 0.012*\"contribut\" + 0.010*\"inform\"\n",
      "INFO - gensim.models.ldamodel -  topic #0 (0.100): 0.038*\"agreement\" + 0.036*\"articl\" + 0.035*\"pari\" + 0.026*\"increas\" + 0.025*\"level\" + 0.022*\"brazil\" + 0.022*\"temperatur\" + 0.021*\"effort\" + 0.021*\"contribut\" + 0.018*\"global\"\n",
      "2022-08-16 18:57:00.426 INFO    gensim.models.ldamodel: topic #0 (0.100): 0.038*\"agreement\" + 0.036*\"articl\" + 0.035*\"pari\" + 0.026*\"increas\" + 0.025*\"level\" + 0.022*\"brazil\" + 0.022*\"temperatur\" + 0.021*\"effort\" + 0.021*\"contribut\" + 0.018*\"global\"\n",
      "INFO - gensim.models.ldamodel -  topic #7 (0.100): 0.019*\"climat\" + 0.017*\"contribut\" + 0.017*\"articl\" + 0.015*\"energi\" + 0.014*\"emiss\" + 0.014*\"parti\" + 0.013*\"nation\" + 0.013*\"sourc\" + 0.013*\"brazil\" + 0.012*\"account\"\n",
      "2022-08-16 18:57:00.428 INFO    gensim.models.ldamodel: topic #7 (0.100): 0.019*\"climat\" + 0.017*\"contribut\" + 0.017*\"articl\" + 0.015*\"energi\" + 0.014*\"emiss\" + 0.014*\"parti\" + 0.013*\"nation\" + 0.013*\"sourc\" + 0.013*\"brazil\" + 0.012*\"account\"\n",
      "INFO - gensim.models.ldamodel -  topic diff=0.833371, rho=0.703598\n",
      "2022-08-16 18:57:00.429 INFO    gensim.models.ldamodel: topic diff=0.833371, rho=0.703598\n",
      "INFO - gensim.models.ldamodel -  -6.551 per-word bound, 93.7 perplexity estimate based on a held-out corpus of 40 documents with 2198 words\n",
      "2022-08-16 18:57:00.448 INFO    gensim.models.ldamodel: -6.551 per-word bound, 93.7 perplexity estimate based on a held-out corpus of 40 documents with 2198 words\n",
      "INFO - gensim.utils -  LdaMulticore lifecycle event {'msg': 'trained LdaModel(num_terms=631, num_topics=10, decay=0.5, chunksize=2000) in 2.54s', 'datetime': '2022-08-16T18:57:00.472240', 'gensim': '4.1.2', 'python': '3.9.12 (main, Apr  4 2022, 05:22:27) [MSC v.1916 64 bit (AMD64)]', 'platform': 'Windows-10-10.0.22000-SP0', 'event': 'created'}\n",
      "2022-08-16 18:57:00.472 INFO    gensim.utils: LdaMulticore lifecycle event {'msg': 'trained LdaModel(num_terms=631, num_topics=10, decay=0.5, chunksize=2000) in 2.54s', 'datetime': '2022-08-16T18:57:00.472240', 'gensim': '4.1.2', 'python': '3.9.12 (main, Apr  4 2022, 05:22:27) [MSC v.1916 64 bit (AMD64)]', 'platform': 'Windows-10-10.0.22000-SP0', 'event': 'created'}\n"
     ]
    }
   ],
   "source": [
    "lda_model = gensim.models.LdaMulticore(bow_corpus, num_topics=10, id2word=dictionary, passes=2, workers=2)"
   ]
  },
  {
   "cell_type": "code",
   "execution_count": 26,
   "id": "a2e85433",
   "metadata": {},
   "outputs": [
    {
     "name": "stdout",
     "output_type": "stream",
     "text": [
      "\n",
      "Score: 0.9859341382980347\t \n",
      "Topic: 0.032*\"refer\" + 0.026*\"approach\" + 0.025*\"nation\" + 0.023*\"includ\" + 0.022*\"inform\" + 0.021*\"brazil\" + 0.020*\"emiss\" + 0.020*\"applic\" + 0.019*\"contribut\" + 0.019*\"methodolog\"\n"
     ]
    }
   ],
   "source": [
    "for index, score in sorted(lda_model[bow_corpus[12]], key=lambda tup: -1*tup[1]):\n",
    "    print(\"\\nScore: {}\\t \\nTopic: {}\".format(score, lda_model.print_topic(index, 10)))"
   ]
  },
  {
   "cell_type": "code",
   "execution_count": 27,
   "id": "ac3b6c8b",
   "metadata": {},
   "outputs": [],
   "source": [
    "import gensim\n",
    "import gensim.corpora as corpora\n",
    "from gensim.corpora import Dictionary\n",
    "from gensim.models.coherencemodel import CoherenceModel\n",
    "from gensim.models.ldamodel import LdaModel\n",
    "\n",
    "from pprint import pprint\n",
    "\n",
    "import spacy\n",
    "\n",
    "import pickle\n",
    "import re \n",
    "import pyLDAvis\n",
    "import pyLDAvis.gensim_models as gensimvis\n",
    "\n",
    "import matplotlib.pyplot as plt \n",
    "import pandas as pd"
   ]
  },
  {
   "cell_type": "code",
   "execution_count": 28,
   "id": "f7fa3359",
   "metadata": {},
   "outputs": [
    {
     "name": "stderr",
     "output_type": "stream",
     "text": [
      "C:\\Users\\serva\\Downloads\\Anaconda\\envs\\py39\\lib\\site-packages\\pyLDAvis\\_prepare.py:246: FutureWarning: In a future version of pandas all arguments of DataFrame.drop except for the argument 'labels' will be keyword-only.\n",
      "  default_term_info = default_term_info.sort_values(\n"
     ]
    },
    {
     "data": {
      "text/html": [
       "\n",
       "<link rel=\"stylesheet\" type=\"text/css\" href=\"https://cdn.jsdelivr.net/gh/bmabey/pyLDAvis@3.3.1/pyLDAvis/js/ldavis.v1.0.0.css\">\n",
       "\n",
       "\n",
       "<div id=\"ldavis_el2307624503482716481819481571\"></div>\n",
       "<script type=\"text/javascript\">\n",
       "\n",
       "var ldavis_el2307624503482716481819481571_data = {\"mdsDat\": {\"x\": [-0.018308669220862946, -0.16845706586300913, 0.04831968854126959, 0.00024944323255470457, 0.09093025632253778, -0.006630213891050544, 0.014911648101398169, -0.01127347170098287, 0.0761889776272979, -0.025930593149152633], \"y\": [-0.09182331982821247, 0.033137046348260035, -0.0514884590535777, -0.012833561575822848, 0.12467041672136406, 0.034042677067135325, -0.02240663487474968, 0.011444432371921241, -0.047953004531280825, 0.02321040735496244], \"topics\": [1, 2, 3, 4, 5, 6, 7, 8, 9, 10], \"cluster\": [1, 1, 1, 1, 1, 1, 1, 1, 1, 1], \"Freq\": [19.802780417670004, 17.49903482207304, 15.732402869257195, 12.777861017866353, 9.48994210103306, 7.791094139332322, 6.511695313332123, 4.409051634879031, 3.9446678109115183, 2.04146987364535]}, \"tinfo\": {\"Term\": [\"refer\", \"articl\", \"nation\", \"brazil\", \"agreement\", \"pari\", \"climat\", \"applic\", \"level\", \"brazilian\", \"approach\", \"methodolog\", \"effort\", \"temperatur\", \"global\", \"establish\", \"paragraph\", \"inform\", \"increas\", \"chang\", \"ipcc\", \"commit\", \"contribut\", \"assumpt\", \"measur\", \"relat\", \"year\", \"emiss\", \"determin\", \"anthropogen\", \"individu\", \"singleyear\", \"actor\", \"government\", \"institut\", \"food\", \"decre\", \"public\", \"synergi\", \"light\", \"general\", \"hfcs\", \"coverag\", \"translat\", \"multiyear\", \"pool\", \"detail\", \"panel\", \"pfcs\", \"allow\", \"reconstruct\", \"attribut\", \"capita\", \"fair\", \"hous\", \"prior\", \"obtain\", \"consent\", \"associ\", \"inclus\", \"term\", \"cycl\", \"process\", \"temperatur\", \"target\", \"circumst\", \"chang\", \"infrastructur\", \"climat\", \"water\", \"increas\", \"adapt\", \"implement\", \"social\", \"develop\", \"differ\", \"secur\", \"condit\", \"ambiti\", \"nation\", \"global\", \"includ\", \"plan\", \"determin\", \"contribut\", \"govern\", \"emiss\", \"brazilian\", \"polici\", \"sector\", \"parti\", \"feder\", \"brazil\", \"refer\", \"approach\", \"assumpt\", \"quantifi\", \"correspond\", \"remov\", \"forcer\", \"protocol\", \"guidanc\", \"control\", \"montreal\", \"subsequ\", \"methodolog\", \"sink\", \"year\", \"compon\", \"replac\", \"appropri\", \"come\", \"base\", \"quantif\", \"facilit\", \"annex\", \"clariti\", \"technic\", \"attent\", \"paramet\", \"definit\", \"start\", \"constitut\", \"guidelin\", \"inventori\", \"inform\", \"indic\", \"decis\", \"applic\", \"point\", \"includ\", \"ipcc\", \"estim\", \"account\", \"nation\", \"emiss\", \"brazil\", \"greenhous\", \"contribut\", \"anthropogen\", \"period\", \"determin\", \"climat\", \"gas\", \"parti\", \"consist\", \"chang\", \"brazilian\", \"million\", \"biom\", \"initi\", \"rank\", \"progress\", \"spite\", \"tropic\", \"subtrop\", \"rainforest\", \"equatori\", \"economi\", \"rainfal\", \"challeng\", \"keep\", \"subnat\", \"face\", \"criteria\", \"entiti\", \"cope\", \"mainstream\", \"strateg\", \"support\", \"incorpor\", \"specif\", \"minimum\", \"fight\", \"incom\", \"life\", \"standard\", \"have\", \"popul\", \"diversif\", \"econom\", \"rang\", \"action\", \"andor\", \"project\", \"polici\", \"poverti\", \"develop\", \"work\", \"measur\", \"growth\", \"adapt\", \"social\", \"effort\", \"brazilian\", \"govern\", \"implement\", \"plan\", \"area\", \"brazil\", \"parti\", \"mitig\", \"sector\", \"nation\", \"climat\", \"emiss\", \"sustain\", \"level\", \"chang\", \"contribut\", \"countri\", \"transport\", \"atmospher\", \"concentr\", \"signific\", \"wind\", \"biomass\", \"solar\", \"repres\", \"demand\", \"industri\", \"address\", \"ndcs\", \"stabil\", \"instal\", \"compens\", \"reflect\", \"rapid\", \"capac\", \"intermitt\", \"invest\", \"post\", \"revolut\", \"remain\", \"affect\", \"uncondit\", \"issu\", \"nonetheless\", \"equiti\", \"incent\", \"use\", \"electr\", \"energi\", \"object\", \"renew\", \"sourc\", \"effect\", \"resourc\", \"articl\", \"time\", \"present\", \"account\", \"target\", \"frame\", \"parti\", \"climat\", \"contribut\", \"consist\", \"world\", \"paragraph\", \"pari\", \"product\", \"emiss\", \"sector\", \"agreement\", \"nation\", \"brazil\", \"plan\", \"adapt\", \"chang\", \"implement\", \"greenhous\", \"inform\", \"includ\", \"determin\", \"preindustri\", \"collect\", \"pursu\", \"hold\", \"evalu\", \"high\", \"margin\", \"confid\", \"intent\", \"coordin\", \"itmo\", \"rule\", \"strive\", \"voluntari\", \"respons\", \"believ\", \"token\", \"outcom\", \"peak\", \"compat\", \"sizeabl\", \"carbon\", \"transfer\", \"articl\", \"surfac\", \"pari\", \"averag\", \"give\", \"agreement\", \"intern\", \"effort\", \"relat\", \"level\", \"increas\", \"temperatur\", \"achiev\", \"paragraph\", \"global\", \"mitig\", \"limit\", \"brazil\", \"contribut\", \"measur\", \"applic\", \"brazilian\", \"exceed\", \"nation\", \"accord\", \"parti\", \"plan\", \"emiss\", \"govern\", \"determin\", \"warm\", \"tier\", \"timehorizon\", \"small\", \"respect\", \"stipul\", \"depend\", \"fifth\", \"aggreg\", \"identifi\", \"calcul\", \"problem\", \"capabl\", \"broad\", \"fulli\", \"provis\", \"mean\", \"principl\", \"farm\", \"agre\", \"agroforestri\", \"basi\", \"plant\", \"cattl\", \"appli\", \"metric\", \"accumul\", \"breed\", \"cleanest\", \"valu\", \"potenti\", \"ipcc\", \"carbon\", \"histor\", \"exceed\", \"cover\", \"sector\", \"methodolog\", \"global\", \"brazil\", \"emiss\", \"plan\", \"gas\", \"implement\", \"year\", \"greenhous\", \"anthropogen\", \"develop\", \"includ\", \"countri\", \"contribut\", \"climat\", \"chang\", \"adapt\", \"scienc\", \"mcti\", \"research\", \"joint\", \"gain\", \"ministri\", \"intend\", \"lesson\", \"better\", \"learn\", \"teach\", \"practic\", \"decreas\", \"futur\", \"consolid\", \"highest\", \"tool\", \"space\", \"inp\", \"adaptabrasil\", \"innov\", \"network\", \"provid\", \"best\", \"acknowledg\", \"join\", \"stock\", \"impact\", \"region\", \"member\", \"experi\", \"prepar\", \"nation\", \"chang\", \"climat\", \"includ\", \"understand\", \"agreement\", \"determin\", \"brazilian\", \"inform\", \"term\", \"polici\", \"develop\", \"contribut\", \"applic\", \"current\", \"unit\", \"effort\", \"brazil\", \"water\", \"adapt\", \"parti\", \"pari\", \"republ\", \"glasgow\", \"pact\", \"secretariat\", \"commit\", \"pleas\", \"confirm\", \"march\", \"bras\\u00edlia\", \"conserv\", \"combat\", \"embodi\", \"monitor\", \"addit\", \"make\", \"decad\", \"confer\", \"context\", \"communic\", \"unfccc\", \"compar\", \"adopt\", \"unit\", \"longterm\", \"neutral\", \"reduc\", \"better\", \"framework\", \"updat\", \"ambit\", \"feder\", \"brazil\", \"climat\", \"agreement\", \"pari\", \"nation\", \"contribut\", \"emiss\", \"parti\", \"determin\", \"chang\", \"convent\", \"govern\", \"object\", \"includ\", \"greenhous\", \"brazilian\", \"protect\", \"preserv\", \"elimin\", \"establish\", \"fragil\", \"choos\", \"landown\", \"deforest\", \"advanc\", \"illeg\", \"ecosystem\", \"code\", \"law\", \"addit\", \"purpos\", \"caus\", \"give\", \"kind\", \"despit\", \"centuri\", \"past\", \"approxim\", \"requir\", \"criterion\", \"bear\", \"primarili\", \"upper\", \"half\", \"activ\", \"connect\", \"exist\", \"environment\", \"brazilian\", \"interfer\", \"anthropogen\", \"limit\", \"global\", \"world\", \"measur\", \"climat\", \"commit\", \"chang\", \"emiss\", \"area\", \"forest\", \"temperatur\", \"territori\", \"polici\", \"polic\", \"express\", \"numer\", \"exampl\", \"percentag\", \"latest\", \"provid\", \"compon\", \"submit\", \"relev\", \"reduct\", \"time\", \"assess\", \"adopt\", \"unfccc\", \"avail\", \"strategi\", \"report\", \"indic\", \"inventori\", \"biofuel\", \"result\", \"fuel\", \"incentiv\", \"paragraph\", \"refer\", \"reduc\", \"model\", \"applic\", \"baselin\", \"level\", \"forcer\", \"relat\", \"action\", \"nation\", \"inform\", \"contribut\", \"determin\", \"plan\", \"brazil\", \"parti\"], \"Freq\": [15.0, 16.0, 37.0, 34.0, 19.0, 16.0, 35.0, 17.0, 14.0, 23.0, 13.0, 11.0, 11.0, 13.0, 17.0, 4.0, 10.0, 16.0, 16.0, 25.0, 10.0, 4.0, 31.0, 9.0, 12.0, 8.0, 11.0, 28.0, 18.0, 10.0, 3.697811894702807, 1.9361505623345205, 1.9088327309825392, 1.843333295416077, 4.1817189040879095, 1.7633521399060947, 1.7272821195958195, 3.443450959726521, 1.64452730600011, 2.6213139348743018, 1.0161576965309675, 1.0155753793341176, 1.0153262781037213, 1.0142348133960857, 1.0135607807340166, 1.0132237137314544, 1.0124049631861445, 1.0121557606126925, 1.0120735713946896, 1.0074692523545774, 1.0028418270978132, 0.9982522028007472, 0.9955995483232762, 2.531998273209175, 0.9863849310027779, 0.9835218883421082, 0.9827698215273112, 0.9811539065075108, 0.9794609707655375, 0.9789535460866952, 3.610141638886629, 2.460458994221574, 1.743856573635224, 5.835201794558684, 4.692302648655959, 2.7518141981742112, 8.652057155002428, 1.700139814415948, 10.440535075970239, 2.2530186778208487, 5.602557460257404, 6.000288821208706, 7.1030374700148755, 2.631831114487023, 5.288920972124566, 2.264019871866594, 1.691740704662984, 1.3685981365820559, 1.8604128432440477, 8.696141384140914, 5.00189838648027, 6.00977817955264, 5.015205135038429, 4.6536216258640195, 6.071432051535449, 3.8051070305286623, 5.240967059755221, 4.670584021119843, 3.5831770894260884, 3.795545110556997, 3.764447385921321, 2.725269208963403, 3.564045142038319, 12.469221646711521, 10.018473406432598, 7.080385774388555, 2.507993259786719, 1.7990177033824457, 6.145005157460044, 1.6718551465476919, 1.6078329073525388, 2.149983795437943, 1.6049795579818018, 1.6020103265545171, 3.1801102624057123, 7.434864507700651, 1.5951363892310906, 7.095062496555126, 1.7778680638686621, 0.9861565698838625, 4.192049336124378, 0.9793555290009538, 4.514557159300559, 0.9652205151497288, 0.963167862430921, 0.9628992023307323, 0.9574796116829937, 0.9290090739924364, 0.9496562295655004, 0.9156267561885734, 0.9135224311771625, 2.512775767783544, 0.9415572917385805, 3.41028641520293, 3.128628897580631, 8.414524607701852, 3.296890718328776, 2.2118402760121088, 7.554896825476399, 3.191866111963033, 8.786335141397318, 4.232649250464885, 2.656514473693203, 4.47608109260541, 9.491724801891008, 7.837159007430856, 8.106485384667963, 4.130729638430389, 7.477552090126358, 3.7083701695642293, 3.0571588630880484, 4.832610239802147, 5.471986889758285, 3.010430274542038, 3.790050720717848, 3.1703930056886227, 3.778457141861041, 3.1135087071420147, 2.410398869016107, 2.320320768236184, 1.6893146589073882, 1.6636421465709865, 1.6204733191885212, 1.6298370746759647, 1.594133680938817, 1.5824791860734715, 1.568465516273103, 1.5729310571439012, 1.5246720735351702, 1.5232579533877828, 2.4673320997461787, 0.925256300448109, 0.9164940532515522, 0.9216130329242289, 0.9126096510293445, 0.9111345024674888, 0.9187939710453503, 0.9094453518928937, 0.9091724953010298, 0.8975421541617274, 0.8959914044373577, 3.1091023975983814, 0.8912505916020914, 0.8876384018723864, 0.8842188783640831, 0.8811999846584101, 0.8817131708244, 0.8718889648061602, 3.156201519282536, 2.47770419278349, 4.648920467610808, 1.646720690204742, 3.9192422007512104, 2.666546396278018, 2.4775481597132534, 5.20760710067057, 1.637292846830865, 5.307983867160634, 1.6264125593976124, 4.312276783715004, 2.438766937178888, 5.539312474764497, 2.4515151127594526, 4.038924879442467, 6.607937080735981, 4.421318940960194, 6.391193137016139, 4.7442758354814085, 2.264223417452034, 5.285874834539751, 3.9638019607040618, 2.9717330724998434, 3.6151889783801545, 4.863694111384916, 4.4084002400737665, 4.037825079783317, 2.2389428395768878, 2.8885624542936483, 2.893151340192105, 2.9163788513536115, 2.474023809033924, 2.0475732807058873, 1.5233167794529576, 1.5201612132047133, 1.5197047756132689, 1.5207776001297786, 1.5156320182966005, 1.512530596794161, 1.4912985325117933, 1.4243945904367943, 1.428053415095319, 3.1386385604689266, 0.796010484466877, 0.7957258975903775, 0.7993099135662929, 0.7990232341392309, 0.7988880030591295, 0.7986247994336906, 0.7985890298975129, 0.7982833213387732, 0.7979591067859965, 0.7971368651993457, 0.7967647181602467, 0.7955798767964384, 0.7955512350106142, 0.7948473533151545, 0.7934886994702488, 0.7929877297871462, 0.7922753471050265, 0.7607345940453418, 0.75383388542787, 1.4689890662585605, 4.152978904445122, 2.5034422215350083, 2.147021615404108, 3.6188666208272453, 1.8804610157252508, 1.9125559023307666, 4.718532544970965, 1.7357706915905815, 1.5603602865699564, 3.2555496219644087, 3.085932181607234, 1.0739381457622388, 3.815268185246731, 5.231894835642309, 4.855442896898683, 2.572157396906258, 1.4627765452073298, 2.512302080616617, 3.093689004973587, 1.8681536795919296, 3.9140836541842066, 3.057144963518974, 3.0862873920652176, 3.71385821518058, 3.5131797389801727, 2.865829604810456, 2.771648089093628, 2.809717599908301, 2.6608064705046663, 1.9357254068651852, 1.946370080792193, 2.0011032256580736, 1.8869014940033837, 2.824259993262146, 1.4437176424279348, 1.4386717432031368, 1.4316485321817845, 0.776125719490154, 0.7761247967381735, 0.7761233397613622, 0.776120328675952, 0.7743271301824564, 0.7739307839238799, 0.7738922226042734, 0.773705486742954, 0.7735613431704195, 0.7732839833514352, 2.259047014034941, 0.741814935467016, 0.7411124298144847, 1.9600697387056192, 0.7328040681137487, 0.732704653729322, 0.7312612753682275, 1.8100656226451086, 1.4782661565007886, 7.604942620875781, 0.9713154459277027, 7.209632564207556, 2.849709104357497, 0.8246551887809901, 7.870173787828144, 1.8266837058916048, 4.424618281126216, 3.3569763674257924, 5.187397315970255, 5.333125302221289, 4.552460031514169, 2.1831968012369147, 3.0615203136541016, 3.6695344150089166, 2.6633990687943023, 1.44161561341633, 4.629910976168914, 4.306761678485269, 2.5169072381669797, 2.443706974793407, 2.613632431927069, 1.1676702681553812, 2.926037399813216, 1.4498934757358155, 1.9126894355917756, 1.7748145543538298, 1.8591853618081098, 1.656719007515824, 1.4843367960828913, 1.5128527466895472, 1.5097861237573817, 1.5093239293920075, 1.2855230541321983, 1.2586224808356818, 0.7957554775263427, 0.7947149022548161, 0.7927788852081364, 0.7911301846380688, 0.7899845869408697, 0.7895703185267704, 0.6820705757123178, 0.6727536431945705, 0.6694150145722237, 0.6557997781232794, 0.6529822744453286, 1.3153857063972838, 1.2450463586614469, 0.5663652481670465, 0.8261244224114698, 0.5452080937584751, 0.7903081070478958, 0.5305708224434476, 0.5166030391882024, 0.7887203306488333, 0.7951296491309913, 0.4928689677822073, 0.492112359752761, 0.4798731802342683, 1.5978256975311627, 1.517960169863027, 3.0253131544768097, 1.1349160313533841, 1.1954309577962423, 1.0929551465230147, 1.568477950203486, 3.237165954519506, 2.3203063029983153, 2.837123493837348, 3.7115378176762635, 3.263414702981211, 2.48635257927514, 1.586309912799677, 2.5259947571417434, 1.568349084417695, 1.5077764235510047, 1.439234817321896, 1.4996940826765846, 1.5882094072412252, 1.2725808144649269, 1.5525882246609624, 1.5640808837254434, 1.3869251965069789, 1.2933039638987658, 1.2886998815167712, 1.2622572638100291, 1.2458231528450967, 1.0641255137841237, 0.6934400640914523, 0.6928256960826488, 0.6887601900977276, 0.6870383867630097, 0.9940115812263889, 0.6844976704619035, 0.684639565611691, 0.6817851337304766, 0.6779130423649464, 0.6811507711021633, 0.6780364091673217, 0.6749675016674991, 0.66767246473936, 0.6635743008759062, 0.6631822730360513, 0.6616246255275086, 0.657127968897225, 0.6463528017946791, 1.124748933542815, 1.2807097649657408, 0.6193472689000054, 0.6157862938140473, 0.6056147642745012, 1.89767360857145, 0.5943599928986476, 0.5874167946251487, 1.2985852214024007, 1.279169646073635, 4.749486727820079, 3.362593003295908, 3.5634024327665617, 2.254893215214146, 1.0628469911639373, 1.844941665240874, 1.7492971362209697, 1.8327352166250872, 1.4999238418027463, 1.0924621551482943, 1.330515562379794, 1.3757129998892355, 1.6476552877278416, 1.38371857894602, 1.0650962525613228, 0.9296519668661022, 1.0635947899336027, 1.3137288796241726, 0.8580185098743567, 1.0716991424107654, 1.092619579452568, 1.0400010056146123, 1.0818470352962841, 1.0324249154992609, 1.0222659527885143, 0.5897563602055333, 2.0495354821753904, 0.5807427831295772, 0.5749649509330873, 0.5702457238436031, 0.5600538630544607, 0.4749719411282841, 0.44897821719377534, 0.4362315882096545, 0.43417963262028, 0.5770574311787023, 0.3945270687871217, 0.39181430858602045, 0.6067213441637553, 0.5785083312040814, 1.1091854738261784, 1.1133038258623853, 1.1425212907135986, 1.0252241624387164, 0.9192974043045601, 0.5757834316571797, 0.5670791596968948, 1.0635479417473719, 0.31514226820255054, 0.5840638193234028, 1.0155410259811997, 0.40764532421237953, 1.180566812750117, 3.837134027269243, 2.7558457629012114, 1.4430647771438843, 1.2170059699051887, 1.747213243127757, 1.5418754417443414, 1.463252283571463, 1.2277340829104852, 1.1500984988769927, 1.1267353576391153, 0.6489590922479124, 0.655220783424593, 0.6036787006251056, 0.6351264656552957, 0.6036128142129551, 0.5866201218594862, 1.7424754449056983, 0.6426675721673994, 0.6368967495554115, 2.0387836799379966, 0.6364483088510812, 0.6352761130314337, 0.6336028280264578, 0.6328084173576539, 0.6303756860891996, 0.6297273911050064, 0.62888247180911, 0.6270950881789034, 1.19755252318436, 0.6269063772891905, 0.4532051092384992, 0.44486266672720287, 0.6341437265693509, 0.6269960492802158, 0.6346618538367204, 0.4222457433068663, 0.421244695425065, 0.6297919097189905, 0.6273590169521281, 0.402400092192691, 0.37866818376373035, 0.37545864515294086, 0.37141048568416574, 0.3482675215744693, 0.49079362144587796, 0.33176351476880284, 0.6319675355219567, 0.6322372378632665, 2.418407167159471, 0.7016444490310858, 1.165468522714227, 0.6555314856066287, 1.2187530651921987, 0.6326461922068481, 0.943886812287654, 1.3112323022940138, 0.641967516943452, 1.0410183340278576, 0.879094700749788, 0.6373059057720033, 0.6354396705441052, 0.6381377840714562, 0.6352565313494675, 0.6326275391407277, 0.356371869745344, 0.3473893091301214, 0.3418887622094154, 0.38479001096391413, 0.3473799064143768, 0.35802482538338576, 0.395257949927687, 0.42581773726392824, 0.3774022345186604, 0.2737936052549958, 0.3477212041009796, 0.3762935916476079, 0.349814311310485, 0.3602740803590221, 0.34475274584550564, 0.3646206842137108, 0.3320914249325429, 0.35083906106217233, 0.404579509787886, 0.34894203181832634, 0.07882119524164903, 0.36617334421714415, 0.07655131175241538, 0.07583051523463213, 0.5663322138792126, 0.7878873184316791, 0.33180587490284325, 0.0800249935960362, 0.8684210355156116, 0.07919544944693642, 0.7280902252812038, 0.1196768152774213, 0.35914880512856373, 0.37035876462904765, 0.9779536473323445, 0.478403323546974, 0.6353536637040123, 0.48975148207397873, 0.4020669369815549, 0.39922451690690547, 0.3548425702668049], \"Total\": [15.0, 16.0, 37.0, 34.0, 19.0, 16.0, 35.0, 17.0, 14.0, 23.0, 13.0, 11.0, 11.0, 13.0, 17.0, 4.0, 10.0, 16.0, 16.0, 25.0, 10.0, 4.0, 31.0, 9.0, 12.0, 8.0, 11.0, 28.0, 18.0, 10.0, 4.399878376932733, 2.571850660511971, 2.561532113137295, 2.552599536174569, 5.915935274211045, 2.525626263449542, 2.5285042089298577, 5.233563040052699, 2.524222418678864, 4.099011075593863, 1.643920486691122, 1.643794292136177, 1.6437386566427645, 1.6435145673698632, 1.6433764223125988, 1.6433072013161492, 1.6431294472783424, 1.6430803438787123, 1.643055204698308, 1.6407520762086154, 1.6392972128014445, 1.6378642188574188, 1.636793497996434, 4.165562041064256, 1.6454182603982956, 1.645420648158475, 1.6454180798548659, 1.6454276993558932, 1.6454349636650483, 1.6454365063166168, 6.471795139716529, 4.363550865956445, 3.2009970166436936, 13.593921062230764, 11.038137495529485, 5.833482185156753, 25.612169476480286, 3.238114137797076, 35.49689589495936, 4.76791457745834, 16.39986449756761, 18.027767124306777, 23.221020074697446, 6.011144192351016, 15.673054320042779, 5.012802644308072, 3.3647365452413274, 2.5095285847052446, 3.9158510028157263, 37.906605458996616, 17.403444792724063, 23.247874765603466, 18.856041743679317, 18.8428084821471, 31.29951224493211, 13.700296302656433, 28.88258779439473, 23.70980521600696, 13.936696089233225, 17.539061900240473, 20.444776894649667, 8.644117181435458, 34.58313755995222, 15.152639138306876, 13.100676753495566, 9.411045625074443, 3.4509659512956805, 2.5091407298454245, 8.594407640981219, 2.435988495799838, 2.5201850431008053, 3.370709157073598, 2.516842029615055, 2.5134091720943608, 5.004329461476649, 11.70899282661529, 2.51466263237827, 11.362566262161922, 2.8813865043166054, 1.6395243605410281, 7.010898172842597, 1.638097636757166, 7.667981310946385, 1.6429139472962302, 1.6428401952321967, 1.6426997736941589, 1.64243359202588, 1.6002468346944754, 1.6466986484552184, 1.5905969253980778, 1.5882753287843525, 4.373236636747563, 1.6468619953972585, 5.971811050839739, 5.658526467634602, 16.181333136895084, 6.505289586477895, 4.225298082018367, 17.17774117072749, 6.852613967823668, 23.247874765603466, 10.000839283456708, 5.768234689344318, 11.383408320207293, 37.906605458996616, 28.88258779439473, 34.58313755995222, 11.77056762285005, 31.29951224493211, 10.491125242684165, 7.680122382976938, 18.8428084821471, 35.49689589495936, 8.288944378355374, 20.444776894649667, 10.605946233346227, 25.612169476480286, 23.70980521600696, 3.263036204596502, 3.2256369856055467, 2.42821937819068, 2.4288034668215093, 2.3963217178665714, 2.411914280464493, 2.3880973092077427, 2.3827799078952623, 2.3793773726095337, 2.387068827983833, 2.382184166756329, 2.387720659174806, 4.207014557719609, 1.5797824188003444, 1.5681544614532008, 1.5795778746886928, 1.566860390039839, 1.5663731061961697, 1.5797573044579791, 1.5658124485818203, 1.5657228037735549, 1.5618617287074876, 1.561344821377912, 5.485234825328583, 1.5747023967600582, 1.574417369671657, 1.5732621621524168, 1.5728128998032143, 1.5745257360089988, 1.5656658858197343, 5.960838468237434, 4.900544919345581, 9.793474138716808, 3.145870660502254, 9.355044986875432, 5.885184632186624, 5.392975370756093, 13.936696089233225, 3.33980738115257, 15.673054320042779, 3.3319017368043955, 12.282015189112496, 5.84710356809661, 18.027767124306777, 6.011144192351016, 11.9158202020507, 23.70980521600696, 13.700296302656433, 23.221020074697446, 18.856041743679317, 5.432313043703478, 34.58313755995222, 20.444776894649667, 10.590424819819098, 17.539061900240473, 37.906605458996616, 35.49689589495936, 28.88258779439473, 5.832053730186854, 14.617415024920371, 25.612169476480286, 31.29951224493211, 10.83066260203423, 2.8409992061024707, 2.1824714034540564, 2.181807371409047, 2.1817911436583364, 2.188792558258961, 2.1886156294423986, 2.1884776662479477, 2.16233654760632, 2.1296053242026476, 2.1671225523154307, 5.337018689722334, 1.4449849749680292, 1.4448451018061996, 1.4520435664020575, 1.4519782405245332, 1.452016133245092, 1.4519010993945642, 1.451852592254715, 1.4520041273971929, 1.4520097652589439, 1.4520054926242199, 1.4519829957735793, 1.4519185207225096, 1.4519350930001278, 1.451864884905886, 1.451772106492082, 1.4519077151227344, 1.4519043224186248, 1.4282847374085719, 1.4249288529131126, 2.814143655986148, 8.435718248151113, 4.9554685043237345, 4.363143844629964, 9.418854493210384, 4.451342855131488, 4.66435092134767, 16.0368371760895, 4.2505314206054345, 3.818505691522732, 11.383408320207293, 11.038137495529485, 2.2639677024872764, 20.444776894649667, 35.49689589495936, 31.29951224493211, 10.605946233346227, 4.126688062438789, 10.795801739389093, 16.49968646215786, 6.490580315577209, 28.88258779439473, 17.539061900240473, 19.51038259218549, 37.906605458996616, 34.58313755995222, 18.856041743679317, 18.027767124306777, 25.612169476480286, 23.221020074697446, 11.77056762285005, 16.181333136895084, 23.247874765603466, 18.8428084821471, 3.5409248712748083, 2.128302135002645, 2.12854648258163, 2.128845075130132, 1.420929832334237, 1.4209286878329312, 1.4209274060855162, 1.4209245195744529, 1.4212636102306857, 1.4213063279545441, 1.421302169902286, 1.4213099950652368, 1.4213720618424392, 1.4214259227526012, 4.278389233505362, 1.4225205650147799, 1.4225503257755856, 3.762947868363055, 1.422929090654876, 1.4229328445946785, 1.4230087673819078, 3.6041023949763846, 3.057284154962342, 16.0368371760895, 2.137854283117395, 16.49968646215786, 6.920674609709367, 2.0421059315458745, 19.51038259218549, 4.647724895657656, 11.9158202020507, 8.914151112021955, 14.617415024920371, 16.39986449756761, 13.593921062230764, 5.736438254200296, 10.795801739389093, 17.403444792724063, 10.590424819819098, 4.2093792623727575, 34.58313755995222, 31.29951224493211, 12.282015189112496, 17.17774117072749, 23.70980521600696, 3.7218374490948465, 37.906605458996616, 7.314337989959178, 20.444776894649667, 18.856041743679317, 28.88258779439473, 13.700296302656433, 18.8428084821471, 2.1938111711869452, 2.1938166476092684, 2.193869911081377, 2.166408162096958, 2.1608889611745448, 1.4546389017777408, 1.454617233854266, 1.4546242203419766, 1.4544740871251713, 1.4545506474602121, 1.4544113661836289, 1.4394589259797916, 1.4387287490369827, 1.4401803512679072, 1.438686603604033, 1.4383541953142984, 2.9035494530110424, 3.02568531560843, 1.4506665765000095, 2.1505548179194536, 1.4499156375116675, 2.1239157264361554, 1.4474066375340011, 1.4474146336005607, 2.2829920018834917, 2.3183860457326153, 1.4466800415304795, 1.447431761921758, 1.4476114180635604, 4.828970757949484, 4.782858852202257, 10.000839283456708, 3.6041023949763846, 3.9990957822765694, 3.7218374490948465, 6.002329048703469, 17.539061900240473, 11.70899282661529, 17.403444792724063, 34.58313755995222, 28.88258779439473, 18.856041743679317, 8.288944378355374, 23.221020074697446, 11.362566262161922, 11.77056762285005, 10.491125242684165, 15.673054320042779, 23.247874765603466, 10.83066260203423, 31.29951224493211, 35.49689589495936, 25.612169476480286, 18.027767124306777, 2.065937478301775, 2.0475054303462015, 2.051187848928242, 2.1055075109268917, 1.3849028156770622, 1.3893689545358319, 1.3851942215469115, 1.3827053800923148, 2.008922686913172, 1.384457921431272, 1.3850975043883869, 1.3824385506388608, 1.3767943255155963, 1.3882522436446192, 1.387056893379104, 1.3816022238777326, 1.3789106629539218, 1.386040988264216, 1.3857190943038094, 1.386088385307949, 1.3835251401144761, 1.3840149168356028, 2.445919799782239, 2.792911318071076, 1.4086087741035584, 1.4091486848464279, 1.4090986714200606, 4.420284342923979, 1.409803834366024, 1.409668684584163, 3.695974748612754, 4.621990451639064, 37.906605458996616, 25.612169476480286, 35.49689589495936, 23.247874765603466, 4.558114498963747, 19.51038259218549, 18.8428084821471, 23.70980521600696, 16.181333136895084, 6.471795139716529, 13.936696089233225, 15.673054320042779, 31.29951224493211, 17.17774117072749, 6.7616212223284755, 4.377835794612122, 11.9158202020507, 34.58313755995222, 4.76791457745834, 18.027767124306777, 20.444776894649667, 16.49968646215786, 1.9069011310400623, 1.9003049745748046, 1.9027966606943616, 1.3055008677584226, 4.564186759843039, 1.3080088927689253, 1.309610369438354, 1.3109243786888927, 1.3138099944766606, 1.3152739946291234, 1.3218912109476215, 1.3208002729335881, 1.322477920123204, 1.931250237976649, 1.327272175254539, 1.330612928775834, 2.069545743512715, 2.211851967079558, 4.256975037509796, 4.7062330483201675, 5.234571353653802, 4.8172618205813365, 4.377835794612122, 2.753677880979125, 2.7562762069008118, 6.424886235062732, 2.008922686913172, 3.813748358327411, 6.750048990802876, 2.8989964636907923, 8.644117181435458, 34.58313755995222, 35.49689589495936, 19.51038259218549, 16.49968646215786, 37.906605458996616, 31.29951224493211, 28.88258779439473, 20.444776894649667, 18.8428084821471, 25.612169476480286, 5.491246664304054, 13.700296302656433, 4.9554685043237345, 23.247874765603466, 11.77056762285005, 23.70980521600696, 3.2205582091743485, 1.3352929162071658, 1.3361426891603958, 4.277916294028106, 1.3362098682193966, 1.336377652602807, 1.336626632675779, 1.336741720335901, 1.3370965210646943, 1.3371952863975307, 1.3373169059658236, 1.3375837065438323, 2.8173664711059003, 1.931250237976649, 1.4221169144420998, 1.4251049700097338, 2.0421059315458745, 2.0402922281398315, 2.073527722802525, 1.4373933634667106, 1.4349310430640863, 2.174688003030473, 2.173132053716878, 1.4476888341822138, 1.4623318790651576, 1.4625345090913418, 1.4655146406832467, 1.47440640942033, 2.1267850152470253, 1.4828986914637443, 3.088285949225591, 3.1009425969397975, 23.70980521600696, 3.7828730993184347, 10.491125242684165, 4.2093792623727575, 17.403444792724063, 4.126688062438789, 12.282015189112496, 35.49689589495936, 4.564186759843039, 25.612169476480286, 28.88258779439473, 5.432313043703478, 4.504148237924547, 13.593921062230764, 6.192653883813567, 13.936696089233225, 1.1301911973185201, 1.1412116334550737, 1.1474246106510655, 2.009033132750598, 1.8780107141039648, 1.9890842788575616, 2.445919799782239, 2.8813865043166054, 2.5879918877247627, 2.718959933513487, 3.489005710262966, 4.2505314206054345, 4.5260849981258415, 4.8172618205813365, 4.7062330483201675, 5.126596458547802, 4.768561984454673, 5.506252127987109, 6.505289586477895, 5.658526467634602, 1.4091351202606492, 6.59403573671535, 1.4115064798895587, 1.4122413878533788, 10.795801739389093, 15.152639138306876, 6.424886235062732, 1.5754729777459442, 17.17774117072749, 1.5763990097460754, 14.617415024920371, 2.435988495799838, 8.914151112021955, 9.355044986875432, 37.906605458996616, 16.181333136895084, 31.29951224493211, 18.8428084821471, 18.856041743679317, 34.58313755995222, 20.444776894649667], \"Category\": [\"Default\", \"Default\", \"Default\", \"Default\", \"Default\", \"Default\", \"Default\", \"Default\", \"Default\", \"Default\", \"Default\", \"Default\", \"Default\", \"Default\", \"Default\", \"Default\", \"Default\", \"Default\", \"Default\", \"Default\", \"Default\", \"Default\", \"Default\", \"Default\", \"Default\", \"Default\", \"Default\", \"Default\", \"Default\", \"Default\", \"Topic1\", \"Topic1\", \"Topic1\", \"Topic1\", \"Topic1\", \"Topic1\", \"Topic1\", \"Topic1\", \"Topic1\", \"Topic1\", \"Topic1\", \"Topic1\", \"Topic1\", \"Topic1\", \"Topic1\", \"Topic1\", \"Topic1\", \"Topic1\", \"Topic1\", \"Topic1\", \"Topic1\", \"Topic1\", \"Topic1\", \"Topic1\", \"Topic1\", \"Topic1\", \"Topic1\", \"Topic1\", \"Topic1\", \"Topic1\", \"Topic1\", \"Topic1\", \"Topic1\", \"Topic1\", \"Topic1\", \"Topic1\", \"Topic1\", \"Topic1\", \"Topic1\", \"Topic1\", \"Topic1\", \"Topic1\", \"Topic1\", \"Topic1\", \"Topic1\", \"Topic1\", \"Topic1\", \"Topic1\", \"Topic1\", \"Topic1\", \"Topic1\", \"Topic1\", \"Topic1\", \"Topic1\", \"Topic1\", \"Topic1\", \"Topic1\", \"Topic1\", \"Topic1\", \"Topic1\", \"Topic1\", \"Topic1\", \"Topic1\", \"Topic2\", \"Topic2\", \"Topic2\", \"Topic2\", \"Topic2\", \"Topic2\", \"Topic2\", \"Topic2\", \"Topic2\", \"Topic2\", \"Topic2\", \"Topic2\", \"Topic2\", \"Topic2\", \"Topic2\", \"Topic2\", \"Topic2\", \"Topic2\", \"Topic2\", \"Topic2\", \"Topic2\", \"Topic2\", \"Topic2\", \"Topic2\", \"Topic2\", \"Topic2\", \"Topic2\", \"Topic2\", \"Topic2\", \"Topic2\", \"Topic2\", \"Topic2\", \"Topic2\", \"Topic2\", \"Topic2\", \"Topic2\", \"Topic2\", \"Topic2\", \"Topic2\", \"Topic2\", \"Topic2\", \"Topic2\", \"Topic2\", \"Topic2\", \"Topic2\", \"Topic2\", \"Topic2\", \"Topic2\", \"Topic2\", \"Topic2\", \"Topic2\", \"Topic2\", \"Topic2\", \"Topic2\", \"Topic2\", \"Topic3\", \"Topic3\", \"Topic3\", \"Topic3\", \"Topic3\", \"Topic3\", \"Topic3\", \"Topic3\", \"Topic3\", \"Topic3\", \"Topic3\", \"Topic3\", \"Topic3\", \"Topic3\", \"Topic3\", \"Topic3\", \"Topic3\", \"Topic3\", \"Topic3\", \"Topic3\", \"Topic3\", \"Topic3\", \"Topic3\", \"Topic3\", \"Topic3\", \"Topic3\", \"Topic3\", \"Topic3\", \"Topic3\", \"Topic3\", \"Topic3\", \"Topic3\", \"Topic3\", \"Topic3\", \"Topic3\", \"Topic3\", \"Topic3\", \"Topic3\", \"Topic3\", \"Topic3\", \"Topic3\", \"Topic3\", \"Topic3\", \"Topic3\", \"Topic3\", \"Topic3\", \"Topic3\", \"Topic3\", \"Topic3\", \"Topic3\", \"Topic3\", \"Topic3\", \"Topic3\", \"Topic3\", \"Topic3\", \"Topic3\", \"Topic3\", \"Topic3\", \"Topic3\", \"Topic3\", \"Topic3\", \"Topic3\", \"Topic3\", \"Topic4\", \"Topic4\", \"Topic4\", \"Topic4\", \"Topic4\", \"Topic4\", \"Topic4\", \"Topic4\", \"Topic4\", \"Topic4\", \"Topic4\", \"Topic4\", \"Topic4\", \"Topic4\", \"Topic4\", \"Topic4\", \"Topic4\", \"Topic4\", \"Topic4\", \"Topic4\", \"Topic4\", \"Topic4\", \"Topic4\", \"Topic4\", \"Topic4\", \"Topic4\", \"Topic4\", \"Topic4\", \"Topic4\", \"Topic4\", \"Topic4\", \"Topic4\", \"Topic4\", \"Topic4\", \"Topic4\", \"Topic4\", \"Topic4\", \"Topic4\", \"Topic4\", \"Topic4\", \"Topic4\", \"Topic4\", \"Topic4\", \"Topic4\", \"Topic4\", \"Topic4\", \"Topic4\", \"Topic4\", \"Topic4\", \"Topic4\", \"Topic4\", \"Topic4\", \"Topic4\", \"Topic4\", \"Topic4\", \"Topic4\", \"Topic4\", \"Topic4\", \"Topic4\", \"Topic4\", \"Topic4\", \"Topic4\", \"Topic4\", \"Topic4\", \"Topic5\", \"Topic5\", \"Topic5\", \"Topic5\", \"Topic5\", \"Topic5\", \"Topic5\", \"Topic5\", \"Topic5\", \"Topic5\", \"Topic5\", \"Topic5\", \"Topic5\", \"Topic5\", \"Topic5\", \"Topic5\", \"Topic5\", \"Topic5\", \"Topic5\", \"Topic5\", \"Topic5\", \"Topic5\", \"Topic5\", \"Topic5\", \"Topic5\", \"Topic5\", \"Topic5\", \"Topic5\", \"Topic5\", \"Topic5\", \"Topic5\", \"Topic5\", \"Topic5\", \"Topic5\", \"Topic5\", \"Topic5\", \"Topic5\", \"Topic5\", \"Topic5\", \"Topic5\", \"Topic5\", \"Topic5\", \"Topic5\", \"Topic5\", \"Topic5\", \"Topic5\", \"Topic5\", \"Topic5\", \"Topic5\", \"Topic5\", \"Topic5\", \"Topic5\", \"Topic5\", \"Topic6\", \"Topic6\", \"Topic6\", \"Topic6\", \"Topic6\", \"Topic6\", \"Topic6\", \"Topic6\", \"Topic6\", \"Topic6\", \"Topic6\", \"Topic6\", \"Topic6\", \"Topic6\", \"Topic6\", \"Topic6\", \"Topic6\", \"Topic6\", \"Topic6\", \"Topic6\", \"Topic6\", \"Topic6\", \"Topic6\", \"Topic6\", \"Topic6\", \"Topic6\", \"Topic6\", \"Topic6\", \"Topic6\", \"Topic6\", \"Topic6\", \"Topic6\", \"Topic6\", \"Topic6\", \"Topic6\", \"Topic6\", \"Topic6\", \"Topic6\", \"Topic6\", \"Topic6\", \"Topic6\", \"Topic6\", \"Topic6\", \"Topic6\", \"Topic6\", \"Topic6\", \"Topic6\", \"Topic6\", \"Topic6\", \"Topic6\", \"Topic6\", \"Topic6\", \"Topic6\", \"Topic6\", \"Topic7\", \"Topic7\", \"Topic7\", \"Topic7\", \"Topic7\", \"Topic7\", \"Topic7\", \"Topic7\", \"Topic7\", \"Topic7\", \"Topic7\", \"Topic7\", \"Topic7\", \"Topic7\", \"Topic7\", \"Topic7\", \"Topic7\", \"Topic7\", \"Topic7\", \"Topic7\", \"Topic7\", \"Topic7\", \"Topic7\", \"Topic7\", \"Topic7\", \"Topic7\", \"Topic7\", \"Topic7\", \"Topic7\", \"Topic7\", \"Topic7\", \"Topic7\", \"Topic7\", \"Topic7\", \"Topic7\", \"Topic7\", \"Topic7\", \"Topic7\", \"Topic7\", \"Topic7\", \"Topic7\", \"Topic7\", \"Topic7\", \"Topic7\", \"Topic7\", \"Topic7\", \"Topic7\", \"Topic7\", \"Topic7\", \"Topic7\", \"Topic7\", \"Topic7\", \"Topic7\", \"Topic7\", \"Topic8\", \"Topic8\", \"Topic8\", \"Topic8\", \"Topic8\", \"Topic8\", \"Topic8\", \"Topic8\", \"Topic8\", \"Topic8\", \"Topic8\", \"Topic8\", \"Topic8\", \"Topic8\", \"Topic8\", \"Topic8\", \"Topic8\", \"Topic8\", \"Topic8\", \"Topic8\", \"Topic8\", \"Topic8\", \"Topic8\", \"Topic8\", \"Topic8\", \"Topic8\", \"Topic8\", \"Topic8\", \"Topic8\", \"Topic8\", \"Topic8\", \"Topic8\", \"Topic8\", \"Topic8\", \"Topic8\", \"Topic8\", \"Topic8\", \"Topic8\", \"Topic8\", \"Topic8\", \"Topic8\", \"Topic8\", \"Topic8\", \"Topic8\", \"Topic8\", \"Topic8\", \"Topic8\", \"Topic9\", \"Topic9\", \"Topic9\", \"Topic9\", \"Topic9\", \"Topic9\", \"Topic9\", \"Topic9\", \"Topic9\", \"Topic9\", \"Topic9\", \"Topic9\", \"Topic9\", \"Topic9\", \"Topic9\", \"Topic9\", \"Topic9\", \"Topic9\", \"Topic9\", \"Topic9\", \"Topic9\", \"Topic9\", \"Topic9\", \"Topic9\", \"Topic9\", \"Topic9\", \"Topic9\", \"Topic9\", \"Topic9\", \"Topic9\", \"Topic9\", \"Topic9\", \"Topic9\", \"Topic9\", \"Topic9\", \"Topic9\", \"Topic9\", \"Topic9\", \"Topic9\", \"Topic9\", \"Topic9\", \"Topic9\", \"Topic9\", \"Topic9\", \"Topic9\", \"Topic9\", \"Topic9\", \"Topic9\", \"Topic10\", \"Topic10\", \"Topic10\", \"Topic10\", \"Topic10\", \"Topic10\", \"Topic10\", \"Topic10\", \"Topic10\", \"Topic10\", \"Topic10\", \"Topic10\", \"Topic10\", \"Topic10\", \"Topic10\", \"Topic10\", \"Topic10\", \"Topic10\", \"Topic10\", \"Topic10\", \"Topic10\", \"Topic10\", \"Topic10\", \"Topic10\", \"Topic10\", \"Topic10\", \"Topic10\", \"Topic10\", \"Topic10\", \"Topic10\", \"Topic10\", \"Topic10\", \"Topic10\", \"Topic10\", \"Topic10\", \"Topic10\", \"Topic10\", \"Topic10\", \"Topic10\", \"Topic10\", \"Topic10\"], \"logprob\": [30.0, 29.0, 28.0, 27.0, 26.0, 25.0, 24.0, 23.0, 22.0, 21.0, 20.0, 19.0, 18.0, 17.0, 16.0, 15.0, 14.0, 13.0, 12.0, 11.0, 10.0, 9.0, 8.0, 7.0, 6.0, 5.0, 4.0, 3.0, 2.0, 1.0, -4.7682, -5.4153, -5.4295, -5.4644, -4.6452, -5.5087, -5.5294, -4.8395, -5.5785, -5.1123, -6.0599, -6.0605, -6.0607, -6.0618, -6.0625, -6.0628, -6.0636, -6.0639, -6.064, -6.0685, -6.0731, -6.0777, -6.0804, -5.1469, -6.0897, -6.0926, -6.0933, -6.095, -6.0967, -6.0972, -4.7922, -5.1756, -5.5199, -4.312, -4.53, -5.0637, -3.9182, -5.5452, -3.7303, -5.2637, -4.3527, -4.2841, -4.1154, -5.1083, -4.4103, -5.2588, -5.5502, -5.7622, -5.4552, -3.9131, -4.4661, -4.2826, -4.4635, -4.5383, -4.2724, -4.7396, -4.4194, -4.5347, -4.7997, -4.7421, -4.7504, -5.0734, -4.8051, -3.429, -3.6478, -3.995, -5.0328, -5.365, -4.1366, -5.4383, -5.4774, -5.1868, -5.4792, -5.481, -4.7954, -3.9461, -5.4853, -3.9929, -5.3769, -5.9662, -4.5191, -5.9731, -4.445, -5.9877, -5.9898, -5.9901, -5.9957, -6.0259, -6.0039, -6.0404, -6.0427, -5.0309, -6.0125, -4.7255, -4.8117, -3.8223, -4.7593, -5.1585, -3.9301, -4.7917, -3.7791, -4.5095, -4.9753, -4.4535, -3.7019, -3.8934, -3.8596, -4.5338, -3.9404, -4.6417, -4.8348, -4.3769, -4.2526, -4.8502, -4.6199, -4.7984, -4.623, -4.8165, -4.9661, -5.0041, -5.3215, -5.3368, -5.3631, -5.3574, -5.3795, -5.3869, -5.3958, -5.3929, -5.4241, -5.425, -4.9427, -5.9235, -5.9331, -5.9275, -5.9373, -5.9389, -5.9305, -5.9408, -5.9411, -5.954, -5.9557, -4.7115, -5.961, -5.965, -5.9689, -5.9723, -5.9717, -5.9829, -4.6965, -4.9385, -4.3092, -5.3471, -4.48, -4.8651, -4.9386, -4.1957, -5.3528, -4.1766, -5.3595, -4.3844, -4.9544, -4.134, -4.9491, -4.4499, -3.9576, -4.3594, -3.9909, -4.2889, -5.0286, -4.1808, -4.4687, -4.7567, -4.5607, -4.2641, -4.3623, -4.4501, -5.0399, -4.7851, -4.7835, -4.7755, -4.94, -4.9212, -5.217, -5.219, -5.2193, -5.2186, -5.222, -5.2241, -5.2382, -5.2841, -5.2815, -4.4941, -5.866, -5.8663, -5.8619, -5.8622, -5.8624, -5.8627, -5.8628, -5.8631, -5.8635, -5.8646, -5.865, -5.8665, -5.8666, -5.8675, -5.8692, -5.8698, -5.8707, -5.9113, -5.9204, -5.2533, -4.214, -4.7202, -4.8738, -4.3517, -5.0063, -4.9894, -4.0863, -5.0864, -5.1929, -4.4575, -4.511, -5.5665, -4.2988, -3.9831, -4.0577, -4.6931, -5.2575, -4.7166, -4.5085, -5.0129, -4.2733, -4.5204, -4.5109, -4.3258, -4.3813, -4.585, -4.6184, -4.6048, -4.6592, -4.9774, -4.9719, -4.9441, -5.0029, -4.3021, -4.9731, -4.9766, -4.9815, -5.5938, -5.5938, -5.5938, -5.5938, -5.5961, -5.5966, -5.5967, -5.5969, -5.5971, -5.5975, -4.5254, -5.639, -5.64, -4.6674, -5.6512, -5.6514, -5.6533, -4.747, -4.9495, -3.3116, -5.3695, -3.3649, -4.2931, -5.5332, -3.2773, -4.7379, -3.8532, -4.1293, -3.6941, -3.6664, -3.8247, -4.5596, -4.2215, -4.0403, -4.3608, -4.9746, -3.8078, -3.8802, -4.4173, -4.4468, -4.3796, -5.1854, -4.2667, -4.9689, -4.6919, -4.7667, -4.7202, -4.8355, -4.9454, -4.7291, -4.7311, -4.7315, -4.8919, -4.9131, -5.3716, -5.3729, -5.3753, -5.3774, -5.3789, -5.3794, -5.5257, -5.5395, -5.5445, -5.565, -5.5693, -4.869, -4.9239, -5.7116, -5.3341, -5.7497, -5.3784, -5.7769, -5.8036, -5.3805, -5.3724, -5.8506, -5.8522, -5.8773, -4.6745, -4.7257, -4.0361, -5.0166, -4.9646, -5.0542, -4.693, -3.9684, -4.3014, -4.1003, -3.8317, -3.9603, -4.2323, -4.6817, -4.2165, -4.6931, -4.7325, -4.779, -4.7379, -4.6805, -4.9021, -4.7032, -4.6958, -4.816, -4.8859, -4.7101, -4.7308, -4.7439, -4.9016, -5.3298, -5.3307, -5.3366, -5.3391, -4.9697, -5.3428, -5.3426, -5.3468, -5.3525, -5.3477, -5.3523, -5.3568, -5.3677, -5.3738, -5.3744, -5.3768, -5.3836, -5.4001, -4.8462, -4.7163, -5.4428, -5.4486, -5.4652, -4.3231, -5.484, -5.4958, -4.7025, -4.7175, -3.4057, -3.751, -3.693, -4.1506, -4.9028, -4.3513, -4.4045, -4.3579, -4.5583, -4.8753, -4.6782, -4.6448, -4.4644, -4.639, -4.9007, -5.0367, -4.9021, -4.6909, -5.1169, -4.8945, -4.8752, -4.9245, -4.4951, -4.5419, -4.5518, -5.1018, -3.8562, -5.1172, -5.1272, -5.1355, -5.1535, -5.3183, -5.3746, -5.4034, -5.4081, -5.1236, -5.5039, -5.5108, -5.0735, -5.1211, -4.4702, -4.4665, -4.4406, -4.5489, -4.6579, -5.1258, -5.141, -4.5122, -5.7285, -5.1115, -4.5584, -5.4712, -4.4078, -3.2291, -3.5601, -4.207, -4.3774, -4.0158, -4.1408, -4.1931, -4.3686, -4.4339, -4.4545, -5.0062, -4.9966, -5.0785, -5.0277, -5.0786, -5.1072, -3.9072, -4.9046, -4.9136, -3.7501, -4.9143, -4.9162, -4.9188, -4.9201, -4.9239, -4.925, -4.9263, -4.9292, -4.2822, -4.9295, -5.2539, -5.2725, -4.918, -4.9293, -4.9172, -5.3247, -5.327, -4.9249, -4.9287, -5.3728, -5.4336, -5.4421, -5.4529, -5.5173, -5.1742, -5.5658, -4.9214, -4.921, -3.5794, -4.8168, -4.3094, -4.8848, -4.2647, -4.9203, -4.5202, -4.1915, -4.9057, -4.4223, -4.5914, -4.913, -4.9159, -4.9117, -4.9162, -4.9204, -4.8356, -4.8611, -4.8771, -4.7589, -4.8611, -4.831, -4.732, -4.6575, -4.7782, -5.0992, -4.8602, -4.7812, -4.8542, -4.8247, -4.8687, -4.8127, -4.9061, -4.8512, -4.7087, -4.8567, -6.3444, -4.8085, -6.3736, -6.3831, -4.3724, -4.0422, -4.907, -6.3292, -3.9449, -6.3396, -4.1211, -5.9268, -4.8278, -4.7971, -3.8261, -4.5411, -4.2574, -4.5177, -4.7149, -4.722, -4.8399], \"loglift\": [30.0, 29.0, 28.0, 27.0, 26.0, 25.0, 24.0, 23.0, 22.0, 21.0, 20.0, 19.0, 18.0, 17.0, 16.0, 15.0, 14.0, 13.0, 12.0, 11.0, 10.0, 9.0, 8.0, 7.0, 6.0, 5.0, 4.0, 3.0, 2.0, 1.0, 1.4455, 1.3354, 1.3252, 1.2938, 1.2724, 1.2601, 1.2383, 1.2007, 1.1909, 1.1723, 1.1383, 1.1378, 1.1376, 1.1366, 1.1361, 1.1358, 1.1351, 1.1349, 1.1348, 1.1316, 1.1279, 1.1242, 1.1222, 1.1215, 1.1076, 1.1047, 1.104, 1.1023, 1.1006, 1.1001, 1.0356, 1.0464, 1.012, 0.7736, 0.7639, 0.868, 0.5341, 0.9751, 0.3956, 0.8697, 0.5453, 0.5192, 0.4348, 0.7934, 0.533, 0.8245, 0.9318, 1.013, 0.8751, 0.1471, 0.3725, 0.2665, 0.295, 0.2209, -0.0207, 0.3383, -0.0874, -0.0053, 0.2611, 0.0887, -0.0728, 0.465, -0.6531, 1.5481, 1.4748, 1.4585, 1.4239, 1.4103, 1.4076, 1.3666, 1.2936, 1.2934, 1.2931, 1.2926, 1.2896, 1.2888, 1.2878, 1.2721, 1.2602, 1.2347, 1.2287, 1.2286, 1.2133, 1.2112, 1.2091, 1.2089, 1.2034, 1.1992, 1.1926, 1.1908, 1.1899, 1.1889, 1.1839, 1.1828, 1.1505, 1.0891, 1.0634, 1.0958, 0.9216, 0.979, 0.77, 0.8832, 0.9677, 0.8096, 0.3583, 0.4387, 0.2923, 0.6959, 0.3113, 0.7031, 0.8219, 0.3823, -0.1268, 0.7302, 0.0577, 0.5355, -0.1707, -0.2871, 1.5466, 1.52, 1.4866, 1.4711, 1.4582, 1.4575, 1.4453, 1.4402, 1.4327, 1.4323, 1.4032, 1.4, 1.3158, 1.3145, 1.3123, 1.3107, 1.3089, 1.3076, 1.3075, 1.3061, 1.3059, 1.2955, 1.2941, 1.2817, 1.2803, 1.2764, 1.2732, 1.2701, 1.2696, 1.264, 1.2136, 1.1674, 1.1044, 1.2021, 0.9794, 1.0578, 1.0716, 0.865, 1.1366, 0.7667, 1.1323, 0.8028, 0.975, 0.6694, 0.9525, 0.7676, 0.5718, 0.7185, 0.5593, 0.4696, 0.9743, -0.0289, 0.2089, 0.5786, 0.2702, -0.2039, -0.2365, -0.1181, 0.8921, 0.228, -0.3313, -0.5238, 0.3729, 1.73, 1.6979, 1.6961, 1.6958, 1.6933, 1.69, 1.688, 1.6859, 1.6553, 1.6404, 1.5266, 1.4612, 1.461, 1.4605, 1.4602, 1.46, 1.4597, 1.4597, 1.4592, 1.4588, 1.4578, 1.4573, 1.4559, 1.4558, 1.455, 1.4534, 1.4526, 1.4517, 1.4275, 1.4208, 1.4074, 1.3488, 1.3746, 1.3483, 1.1009, 1.1958, 1.1659, 0.8341, 1.1619, 1.1625, 0.8057, 0.783, 1.3117, 0.3787, 0.1428, 0.194, 0.6408, 1.0203, 0.5995, 0.3835, 0.8121, 0.0588, 0.3105, 0.2135, -0.2656, -0.2294, 0.1735, 0.185, -0.1525, -0.109, 0.2523, -0.0604, -0.3951, -0.2437, 2.1288, 1.9668, 1.9632, 1.9582, 1.7502, 1.7502, 1.7502, 1.7502, 1.7476, 1.7471, 1.747, 1.7468, 1.7466, 1.7462, 1.7163, 1.7039, 1.7029, 1.7027, 1.6913, 1.6912, 1.6892, 1.6662, 1.6283, 1.6088, 1.566, 1.527, 1.4676, 1.4482, 1.4471, 1.4211, 1.3643, 1.3783, 1.319, 1.2316, 1.261, 1.3889, 1.0947, 0.7983, 0.9746, 1.2834, 0.3441, 0.3715, 0.7698, 0.4048, 0.1498, 1.1957, -0.2065, 0.7366, -0.0143, -0.0082, -0.3882, 0.2424, -0.1862, 2.1805, 2.1785, 2.1782, 2.0303, 2.0117, 1.949, 1.9477, 1.9452, 1.9433, 1.9418, 1.9413, 1.8053, 1.7921, 1.7861, 1.7666, 1.7625, 1.7604, 1.6642, 1.6116, 1.5955, 1.5741, 1.5636, 1.5486, 1.5219, 1.4894, 1.4821, 1.4754, 1.4733, 1.448, 1.4462, 1.4045, 1.3565, 1.3967, 1.3446, 1.3269, 1.2101, 0.8625, 0.9335, 0.7383, 0.3203, 0.3717, 0.5262, 0.8987, 0.3338, 0.5719, 0.4972, 0.5658, 0.2055, -0.1314, 0.4109, -0.4515, -0.57, -0.3638, -0.0825, 2.2596, 2.2478, 2.2329, 2.0492, 2.0398, 2.0357, 2.0329, 2.0322, 2.028, 2.0272, 2.0269, 2.0247, 2.0231, 2.0196, 2.0158, 2.0152, 2.0063, 1.995, 1.9946, 1.992, 1.9871, 1.9702, 1.9547, 1.9519, 1.9099, 1.9037, 1.8871, 1.886, 1.8678, 1.8562, 1.6856, 1.447, 0.6545, 0.7012, 0.4328, 0.3985, 1.2756, 0.3731, 0.3547, 0.1715, 0.3531, 0.9526, 0.3826, 0.2986, -0.2127, 0.2127, 0.8834, 1.1821, 0.3154, -0.5389, 1.0165, -0.0911, -0.1976, -0.0325, 2.5547, 2.5114, 2.5002, 2.3269, 2.3209, 2.3096, 2.2983, 2.2891, 2.2689, 2.103, 2.0417, 2.0137, 2.0077, 1.9135, 1.9083, 1.8989, 1.8945, 1.7804, 1.7766, 1.68, 1.5995, 1.5742, 1.5608, 1.5565, 1.5404, 1.3229, 1.2692, 1.2452, 1.2274, 1.1598, 1.1306, 0.9229, 0.5658, 0.5173, 0.5146, 0.0444, 0.1109, 0.1389, 0.309, 0.3252, -0.0022, 0.986, 0.0813, 1.0163, -0.4786, 0.1511, -0.5778, 2.6186, 2.5015, 2.4919, 2.4917, 2.4911, 2.4891, 2.4863, 2.485, 2.4809, 2.4798, 2.4783, 2.4753, 2.3773, 2.1077, 2.0892, 2.0686, 2.0633, 2.0529, 2.0489, 2.0078, 2.0071, 1.9936, 1.9904, 1.9525, 1.8817, 1.873, 1.8602, 1.7898, 1.7665, 1.7355, 1.6463, 1.6426, 0.95, 1.548, 1.0354, 1.3732, 0.574, 1.3575, 0.6669, -0.0657, 1.2713, 0.0299, -0.2593, 1.0899, 1.2744, 0.174, 0.9557, 0.1404, 2.7373, 2.7021, 2.6807, 2.2388, 2.204, 2.1767, 2.0689, 1.9795, 1.9662, 1.5959, 1.5855, 1.4671, 1.3313, 1.2984, 1.2777, 1.2482, 1.2271, 1.1382, 1.114, 1.1055, 1.008, 1.0007, 0.977, 0.9671, 0.9438, 0.9349, 0.9281, 0.9115, 0.9068, 0.9005, 0.892, 0.8782, 0.6798, 0.6623, 0.2341, 0.3703, -0.0057, 0.2415, 0.0435, -0.5701, -0.1623]}, \"token.table\": {\"Topic\": [1, 2, 3, 5, 7, 1, 2, 3, 4, 7, 3, 4, 5, 8, 7, 1, 2, 3, 4, 6, 7, 4, 1, 1, 3, 4, 6, 7, 7, 8, 9, 2, 3, 4, 2, 4, 8, 9, 4, 6, 6, 7, 2, 3, 4, 5, 6, 7, 8, 6, 1, 3, 6, 1, 4, 2, 3, 2, 1, 2, 4, 6, 9, 3, 6, 1, 2, 3, 4, 5, 6, 7, 10, 1, 2, 4, 8, 1, 2, 3, 3, 9, 1, 3, 9, 2, 3, 4, 5, 2, 3, 6, 1, 2, 3, 6, 4, 2, 1, 1, 4, 6, 7, 1, 4, 5, 1, 2, 6, 7, 2, 6, 7, 5, 4, 7, 7, 4, 3, 4, 8, 1, 2, 3, 4, 5, 6, 7, 8, 1, 2, 3, 4, 5, 6, 7, 8, 9, 6, 6, 6, 4, 1, 5, 6, 6, 1, 3, 1, 2, 3, 4, 6, 7, 8, 9, 9, 1, 2, 3, 7, 2, 1, 2, 3, 4, 6, 7, 8, 9, 9, 5, 2, 3, 8, 9, 2, 4, 6, 8, 1, 4, 8, 5, 4, 2, 4, 1, 4, 8, 5, 8, 1, 1, 1, 2, 3, 4, 5, 7, 2, 1, 8, 1, 2, 3, 4, 5, 6, 7, 8, 10, 2, 2, 4, 8, 5, 3, 2, 1, 3, 4, 5, 6, 7, 9, 1, 2, 4, 6, 1, 3, 3, 4, 7, 1, 2, 2, 3, 1, 7, 2, 9, 4, 6, 4, 9, 1, 1, 2, 3, 4, 5, 6, 7, 8, 1, 3, 4, 6, 7, 1, 2, 6, 1, 3, 4, 1, 3, 4, 5, 6, 3, 9, 3, 4, 9, 3, 5, 6, 7, 8, 4, 7, 9, 1, 2, 3, 4, 5, 6, 8, 9, 1, 3, 4, 6, 3, 1, 3, 9, 3, 4, 1, 2, 9, 1, 2, 5, 6, 5, 2, 3, 5, 6, 1, 3, 9, 1, 4, 7, 3, 2, 1, 4, 6, 1, 2, 3, 5, 7, 8, 6, 3, 1, 2, 2, 3, 5, 6, 9, 9, 4, 1, 2, 7, 8, 4, 6, 7, 7, 1, 2, 3, 4, 6, 1, 5, 9, 8, 1, 2, 3, 5, 6, 9, 1, 2, 3, 5, 7, 8, 9, 1, 1, 2, 3, 4, 6, 8, 1, 3, 4, 2, 1, 2, 6, 3, 1, 5, 7, 1, 2, 6, 5, 1, 6, 9, 3, 7, 1, 2, 3, 4, 5, 6, 4, 4, 1, 2, 3, 4, 5, 6, 7, 8, 1, 3, 3, 1, 3, 4, 5, 6, 9, 1, 2, 3, 1, 4, 1, 2, 3, 4, 5, 7, 1, 4, 3, 7, 7, 4, 1, 4, 7, 7, 5, 1, 4, 9, 4, 1, 2, 5, 1, 2, 4, 1, 2, 6, 4, 5, 7, 7, 3, 4, 9, 9, 3, 3, 9, 7, 7, 1, 2, 3, 4, 5, 6, 7, 10, 3, 1, 4, 5, 9, 4, 5, 8, 3, 8, 5, 7, 4, 6, 1, 3, 4, 5, 9, 7, 2, 3, 6, 2, 6, 3, 3, 7, 1, 3, 4, 5, 6, 7, 2, 2, 1, 1, 2, 3, 4, 5, 6, 7, 8, 10, 4, 7, 4, 5, 8, 4, 4, 5, 8, 1, 1, 5, 8, 1, 2, 3, 4, 5, 7, 10, 2, 2, 3, 4, 5, 6, 7, 8, 1, 2, 3, 4, 5, 7, 8, 5, 4, 1, 2, 3, 4, 1, 1, 3, 4, 5, 6, 7, 6, 8, 1, 2, 3, 4, 1, 2, 3, 6, 7, 9, 1, 1, 3, 4, 1, 2, 6, 1, 3, 7, 5, 1, 4, 7, 1, 4, 5, 9, 3, 6, 1, 6, 1, 7, 1, 2, 4, 3, 3, 4, 6, 7, 9, 2, 7, 6, 1, 3, 5, 2, 2, 3, 3, 3, 6, 3, 4, 1, 1, 3, 4, 8, 1, 4, 5, 2, 3, 10, 4, 7, 1, 2, 3, 5, 7, 5, 4, 2, 3, 6, 3, 4, 7, 2, 1, 2, 3, 6, 4, 8, 3, 9, 7, 1, 4, 6, 5, 9, 1, 2, 3, 4, 6, 7, 9, 4, 5, 7, 8, 1, 2, 3, 4, 5, 6, 7, 1, 3, 4, 1, 2, 5, 6, 1, 3, 4, 1, 2, 3, 4, 7, 7, 3, 4, 7, 3, 4, 3, 1, 2, 6, 7, 3, 1, 2, 5, 3, 7, 3, 2, 6, 3, 3, 5, 6, 1, 3, 6, 1, 1, 2, 4, 5, 7, 2, 1, 2, 5, 6, 9, 1, 6, 7, 1, 3, 5, 8, 9, 6, 3, 4, 6, 5, 7, 1, 5, 1, 4, 3, 4, 2, 4, 7, 1, 2, 4, 6, 8, 2, 3, 7, 8, 2, 3, 4, 6, 7, 8, 4, 2, 6, 5, 6, 1, 4, 7, 4, 2, 3, 4, 5, 9, 1, 2, 3, 6], \"Freq\": [0.27343554573845474, 0.13671777286922737, 0.13671777286922737, 0.13671777286922737, 0.13671777286922737, 0.0878471519136186, 0.3513886076544744, 0.0878471519136186, 0.2635414557408558, 0.0878471519136186, 0.17432419834167773, 0.34864839668335545, 0.34864839668335545, 0.17432419834167773, 0.7099203259161878, 0.10689419467281451, 0.10689419467281451, 0.42757677869125804, 0.10689419467281451, 0.10689419467281451, 0.10689419467281451, 0.4701932695740055, 0.78078271583738, 0.332819919329345, 0.332819919329345, 0.1664099596646725, 0.05546998655489084, 0.05546998655489084, 0.7214547142878113, 0.5177992889454294, 0.5177992889454294, 0.18737052615643482, 0.18737052615643482, 0.5621115784693044, 0.2075868070378874, 0.2075868070378874, 0.2075868070378874, 0.7478891645037912, 0.6887360218931715, 0.687533733912401, 0.46499628452505404, 0.46499628452505404, 0.1025095223299753, 0.05125476116498765, 0.15376428349496296, 0.4100380893199012, 0.05125476116498765, 0.1025095223299753, 0.05125476116498765, 0.6896952995942517, 0.6094766019195053, 0.34494695406660564, 0.34494695406660564, 0.5107446627979162, 0.2553723313989581, 0.3398364070112284, 0.5097546105168426, 0.6087539646707116, 0.1906373199952666, 0.3812746399905332, 0.0953186599976333, 0.0953186599976333, 0.0953186599976333, 0.4380216834640637, 0.4380216834640637, 0.116429743592143, 0.465718974368572, 0.0582148717960715, 0.0582148717960715, 0.116429743592143, 0.0582148717960715, 0.0582148717960715, 0.0582148717960715, 0.07633193451118292, 0.7633193451118292, 0.07633193451118292, 0.07633193451118292, 0.14263507689693714, 0.5705403075877485, 0.14263507689693714, 0.45983607699425355, 0.45983607699425355, 0.18408364760184187, 0.36816729520368374, 0.18408364760184187, 0.062356435313253265, 0.062356435313253265, 0.31178217656626633, 0.4988514825060261, 0.4418829961938759, 0.22094149809693794, 0.22094149809693794, 0.6077420390852739, 0.7438068285791175, 0.10625811836844536, 0.10625811836844536, 0.9163923049964042, 0.6072756548006573, 0.61055122182082, 0.39012237771617686, 0.19506118885808843, 0.19506118885808843, 0.19506118885808843, 0.2889891683672135, 0.14449458418360675, 0.4334837525508203, 0.1304124200945111, 0.6520621004725555, 0.1304124200945111, 0.1304124200945111, 0.6343571607299341, 0.4708284738198909, 0.4708284738198909, 0.7029775348025356, 0.35804932062456246, 0.35804932062456246, 0.497779235863257, 0.7096551534497479, 0.620032573077823, 0.9138196644010749, 0.7611450698381521, 0.11566330536278636, 0.23132661072557273, 0.14457913170348294, 0.11566330536278636, 0.14457913170348294, 0.11566330536278636, 0.02891582634069659, 0.11566330536278636, 0.21088321706769658, 0.12652993024061795, 0.2952365038947752, 0.042176643413539314, 0.12652993024061795, 0.042176643413539314, 0.08435328682707863, 0.042176643413539314, 0.08435328682707863, 0.6943574803805781, 0.6875633835453288, 0.6950580508447843, 0.6887751589484772, 0.6109506185258433, 0.5549231905252527, 0.27746159526262637, 0.6908870318054056, 0.23769825045293994, 0.47539650090587987, 0.3513954570800697, 0.1561757587022532, 0.1171318190266899, 0.1171318190266899, 0.0390439396755633, 0.1171318190266899, 0.0390439396755633, 0.0390439396755633, 0.7482914713908465, 0.5142725913577786, 0.17142419711925952, 0.17142419711925952, 0.17142419711925952, 0.6088526226296539, 0.2817147738661854, 0.1408573869330927, 0.11268590954647416, 0.1408573869330927, 0.05634295477323708, 0.11268590954647416, 0.08451443215985562, 0.02817147738661854, 0.7476167623063299, 0.4698581012318334, 0.6104642223766552, 0.21909708182808668, 0.43819416365617336, 0.21909708182808668, 0.23490858912458418, 0.23490858912458418, 0.23490858912458418, 0.23490858912458418, 0.38207521970332353, 0.19103760985166177, 0.19103760985166177, 0.7027738545769877, 0.6887155551578692, 0.6941102823254707, 0.916671208562453, 0.39848121519502616, 0.48319782403198475, 0.48319782403198475, 0.7037671503476385, 0.7635858903811711, 0.67435490081451, 0.6077447221725102, 0.1885734620935364, 0.28286019314030464, 0.0942867310467682, 0.28286019314030464, 0.0942867310467682, 0.720950960824564, 0.6072154210825531, 0.45210982239483255, 0.45210982239483255, 0.19169627798182368, 0.22364565764546096, 0.09584813899091184, 0.1597468983181864, 0.1277975186545491, 0.06389875932727455, 0.06389875932727455, 0.06389875932727455, 0.03194937966363728, 0.7946466152688555, 0.3642160191056496, 0.3642160191056496, 0.1821080095528248, 0.7035780959612964, 0.633008625551571, 0.7970856222652805, 0.1846609088925323, 0.1846609088925323, 0.1846609088925323, 0.09233045444626616, 0.09233045444626616, 0.09233045444626616, 0.09233045444626616, 0.16660199597288067, 0.16660199597288067, 0.16660199597288067, 0.33320399194576134, 0.6083692173075973, 0.6382189545136016, 0.2957870508030716, 0.2957870508030716, 0.1478935254015358, 0.45834231373434914, 0.22917115686717457, 0.4733393860450734, 0.2366696930225367, 0.7909814794599305, 0.726324899418444, 0.6296137589478195, 0.7480876707796003, 0.4695705765923614, 0.6874660747352229, 0.48226989637178647, 0.48226989637178647, 0.608594777274783, 0.2653532250639455, 0.2653532250639455, 0.053070645012789096, 0.10614129002557819, 0.053070645012789096, 0.053070645012789096, 0.10614129002557819, 0.053070645012789096, 0.3190188649831945, 0.3190188649831945, 0.06380377299663889, 0.06380377299663889, 0.06380377299663889, 0.39897840428067843, 0.19948920214033922, 0.19948920214033922, 0.20405893966043678, 0.40811787932087357, 0.20405893966043678, 0.2042176220278507, 0.5105440550696267, 0.10210881101392535, 0.10210881101392535, 0.10210881101392535, 0.8395656506790048, 0.747765915123753, 0.22465130917678125, 0.4493026183535625, 0.22465130917678125, 0.3356881802657281, 0.3356881802657281, 0.08392204506643203, 0.08392204506643203, 0.08392204506643203, 0.35534788633580766, 0.35534788633580766, 0.7484230599864893, 0.17311468195278384, 0.27698349112445414, 0.13849174556222707, 0.13849174556222707, 0.06924587278111353, 0.1038688091716703, 0.03462293639055677, 0.03462293639055677, 0.23708710286031034, 0.11854355143015517, 0.4741742057206207, 0.11854355143015517, 0.6384174983880002, 0.32248258996695456, 0.32248258996695456, 0.32248258996695456, 0.8378476466844238, 0.6887506184527165, 0.23375866456199293, 0.23375866456199293, 0.46751732912398586, 0.17336326516799044, 0.5200897955039713, 0.17336326516799044, 0.17336326516799044, 0.7037645190102363, 0.49775187063783494, 0.2686844908401899, 0.2686844908401899, 0.2686844908401899, 0.3238042125764801, 0.3238042125764801, 0.3238042125764801, 0.27056461908332563, 0.27056461908332563, 0.27056461908332563, 0.6330805312128612, 0.6087019315099369, 0.7201909299215556, 0.2400636433071852, 0.6893382781401619, 0.3470568407428524, 0.1156856135809508, 0.2313712271619016, 0.1156856135809508, 0.1156856135809508, 0.1156856135809508, 0.687462772869892, 0.6351555942301048, 0.7918828010872705, 0.8210219397375748, 0.22201755963093855, 0.22201755963093855, 0.22201755963093855, 0.22201755963093855, 0.22201755963093855, 0.7483854323966173, 0.441702414262078, 0.26220922463761304, 0.26220922463761304, 0.26220922463761304, 0.26220922463761304, 0.7084629183411496, 0.6950784121398742, 0.7203301882478294, 0.7220723278774707, 0.12064262400062237, 0.3619278720018671, 0.12064262400062237, 0.12064262400062237, 0.24128524800124473, 0.6083019270675293, 0.4896905613721027, 0.4896905613721027, 0.526231322540084, 0.28729944327403345, 0.11491977730961339, 0.11491977730961339, 0.22983955461922678, 0.1723796659644201, 0.057459888654806696, 0.291964488331863, 0.07299112208296575, 0.291964488331863, 0.1459822441659315, 0.07299112208296575, 0.07299112208296575, 0.07299112208296575, 0.7835149899765642, 0.08495767001573594, 0.33983068006294376, 0.08495767001573594, 0.16991534003147188, 0.16991534003147188, 0.08495767001573594, 0.3420496963509497, 0.3420496963509497, 0.17102484817547484, 0.5933469506862976, 0.16745338917904692, 0.5023601675371407, 0.16745338917904692, 0.6387058752809389, 0.608348626579339, 0.7037650858644477, 0.723797329446465, 0.2500565263857544, 0.2500565263857544, 0.2500565263857544, 0.4697382687365693, 0.6077482085059251, 0.6874975455451469, 0.7478339253603329, 0.45245958061535424, 0.45245958061535424, 0.30145101194875934, 0.08612886055678838, 0.25838658167036516, 0.12919329083518258, 0.04306443027839419, 0.12919329083518258, 0.7001405068672538, 0.7080942455028953, 0.25808810742895677, 0.3871321611434351, 0.04301468457149279, 0.08602936914298558, 0.04301468457149279, 0.08602936914298558, 0.08602936914298558, 0.04301468457149279, 0.6077414693068557, 0.6356219732837638, 0.6404735112372447, 0.3658566813701361, 0.06097611356168935, 0.1219522271233787, 0.30488056780844675, 0.06097611356168935, 0.06097611356168935, 0.15372105833361088, 0.4611631750008327, 0.15372105833361088, 0.9091160385184331, 0.46144137023149173, 0.061799605232766536, 0.4943968418621323, 0.061799605232766536, 0.12359921046553307, 0.061799605232766536, 0.061799605232766536, 0.6176434538408895, 0.30882172692044474, 0.8236488094787565, 0.7227913472661998, 0.7216469803372406, 0.688684570586162, 0.6761399194877844, 0.1690349798719461, 0.1690349798719461, 0.7219204241866191, 0.7035992428158276, 0.2643493381208509, 0.2643493381208509, 0.2643493381208509, 0.6887032764793595, 0.2151590342479811, 0.2151590342479811, 0.4303180684959622, 0.17672445392272304, 0.5301733617681691, 0.6887006023831149, 0.19998321573954106, 0.3999664314790821, 0.2999748236093116, 0.6888133444141592, 0.703580154295233, 0.709648322248537, 0.4749448742454391, 0.6329985623965737, 0.4901258683476517, 0.4901258683476517, 0.7481520834267011, 0.5027439061427573, 0.35494140015355197, 0.35494140015355197, 0.7223043651382239, 0.7232198662112937, 0.0684115487105729, 0.1368230974211458, 0.20523464613171868, 0.0684115487105729, 0.34205774355286445, 0.0684115487105729, 0.0684115487105729, 0.0684115487105729, 0.635803533990036, 0.7318838482438991, 0.2375647186127668, 0.2375647186127668, 0.2375647186127668, 0.36315068182355087, 0.36315068182355087, 0.36315068182355087, 0.6386460913027706, 0.7628205076177922, 0.7037657206956685, 0.48839919307609136, 0.34440605065740443, 0.34440605065740443, 0.16283972696703047, 0.32567945393406095, 0.08141986348351524, 0.2442595904505457, 0.08141986348351524, 0.7093865465948044, 0.5978310947538162, 0.08540444210768804, 0.17080888421537607, 0.4313345492398345, 0.4313345492398345, 0.6129260831316196, 0.6350406286657686, 0.7197512199587658, 0.09442491845356224, 0.28327475536068675, 0.09442491845356224, 0.28327475536068675, 0.09442491845356224, 0.09442491845356224, 0.6347300233804816, 0.7957319572974464, 0.6085033145314181, 0.23742563838208236, 0.23742563838208236, 0.1319031324344902, 0.10552250594759216, 0.07914187946069412, 0.02638062648689804, 0.1319031324344902, 0.05276125297379608, 0.02638062648689804, 0.6920487183765529, 0.7225355650691898, 0.36280834173887505, 0.36280834173887505, 0.36280834173887505, 0.6887490090342737, 0.6053918004690064, 0.20179726682300214, 0.20179726682300214, 0.6077482751910718, 0.26574909751141906, 0.5314981950228381, 0.5255422298434577, 0.608612965108794, 0.09262859990763293, 0.18525719981526587, 0.2778857997228988, 0.2778857997228988, 0.09262859990763293, 0.09262859990763293, 0.6286947900076763, 0.06060721228209436, 0.06060721228209436, 0.18182163684628308, 0.42425048597466053, 0.06060721228209436, 0.06060721228209436, 0.06060721228209436, 0.1956489924351675, 0.1956489924351675, 0.1956489924351675, 0.1956489924351675, 0.09782449621758375, 0.04891224810879188, 0.04891224810879188, 0.7027757086193024, 0.5324783253311307, 0.2604125169193942, 0.3906187753790913, 0.1302062584596971, 0.1302062584596971, 0.608622277048577, 0.26516699888384776, 0.26516699888384776, 0.15910019933030864, 0.1060667995535391, 0.1060667995535391, 0.05303339977676955, 0.6908908485480874, 0.7645207960957353, 0.14592971451412307, 0.4377891435423692, 0.14592971451412307, 0.14592971451412307, 0.2870120704641177, 0.07175301761602942, 0.3587650880801471, 0.07175301761602942, 0.07175301761602942, 0.07175301761602942, 0.6085289465043938, 0.33552326751632006, 0.5032849012744801, 0.6887026289361295, 0.20907997306664236, 0.20907997306664236, 0.4181599461332847, 0.29941846516157444, 0.5988369303231489, 0.723359457487549, 0.8472362755665969, 0.43271400512970637, 0.21635700256485318, 0.21635700256485318, 0.2618825479873052, 0.5237650959746104, 0.2618825479873052, 0.7488993522413427, 0.33050363659477644, 0.33050363659477644, 0.6077473265691554, 0.6947054771426239, 0.6248053308394015, 0.31240266541970074, 0.3081388570448865, 0.15406942852244326, 0.3081388570448865, 0.8346124750647363, 0.370852796926384, 0.185426398463192, 0.185426398463192, 0.185426398463192, 0.6210103560005947, 0.7935925203092326, 0.40884414938258823, 0.6952390470008588, 0.5732232471532036, 0.19107441571773454, 0.46980416363148414, 0.6086746062663331, 0.869321819554214, 0.837618920083892, 0.8405560307596524, 0.6357540458070485, 0.31787702290352426, 0.8234507350309948, 0.6887521473859309, 0.6100175076190545, 0.15564477928693413, 0.31128955857386825, 0.31128955857386825, 0.15564477928693413, 0.2866146068659286, 0.2866146068659286, 0.2866146068659286, 0.7919412513205838, 0.06599510427671532, 0.06599510427671532, 0.6886975820062777, 0.7093185417882559, 0.22436236214379693, 0.11218118107189846, 0.11218118107189846, 0.3365435432156954, 0.11218118107189846, 0.36778769251953736, 0.6887438831638955, 0.6981283935602318, 0.11635473226003865, 0.11635473226003865, 0.22919253538495463, 0.45838507076990925, 0.22919253538495463, 0.6099329928040893, 0.18161173458026242, 0.36322346916052484, 0.18161173458026242, 0.18161173458026242, 0.4624627008718822, 0.5244110372175299, 0.4601653168244524, 0.4601653168244524, 0.48752238880632315, 0.4287842046460219, 0.4287842046460219, 0.4627725061154706, 0.46746564906656785, 0.23373282453328392, 0.1516521960037366, 0.1516521960037366, 0.1516521960037366, 0.1516521960037366, 0.1516521960037366, 0.1516521960037366, 0.1516521960037366, 0.6887132996121802, 0.7035762806650079, 0.4840417536846332, 0.7659895329805677, 0.22806236860052118, 0.11403118430026059, 0.22806236860052118, 0.17104677645039087, 0.057015592150130294, 0.17104677645039087, 0.057015592150130294, 0.5944001775795956, 0.2972000887897978, 0.9166780265898795, 0.7776501298103622, 0.7953353162561125, 0.7027363589894309, 0.46159353417135285, 0.49907303900934563, 0.33271535933956375, 0.9138772722451015, 0.10617002319346304, 0.21234004638692608, 0.10617002319346304, 0.42468009277385216, 0.10617002319346304, 0.7214793851459851, 0.5469228019459113, 0.18230760064863707, 0.18230760064863707, 0.8292168657067011, 0.6921157145149337, 0.6351118798062535, 0.22866359245167991, 0.6859907773550398, 0.6874558344190312, 0.7096735099410892, 0.6386826567192455, 0.4194136526944438, 0.4194136526944438, 0.7035455577364874, 0.38639997472293147, 0.38639997472293147, 0.6376922838795517, 0.5994809140952876, 0.19982697136509586, 0.8393557430013012, 0.6402615427599637, 0.4677587279437078, 0.4677587279437078, 0.34293236868651444, 0.34293236868651444, 0.17146618434325722, 0.7923232062279071, 0.45297496991906755, 0.09059499398381352, 0.2717849819514405, 0.09059499398381352, 0.7219708337006692, 0.6249035950700215, 0.4413737561468081, 0.07356229269113468, 0.3678114634556734, 0.07356229269113468, 0.07356229269113468, 0.6180665354273256, 0.1545166338568314, 0.1545166338568314, 0.32296331064579986, 0.32296331064579986, 0.16148165532289993, 0.16148165532289993, 0.16148165532289993, 0.9116532150394238, 0.2352647001154417, 0.4705294002308834, 0.9116310816324489, 0.7029628280143918, 0.7252101436780436, 0.32708768610103806, 0.32708768610103806, 0.6084521669925399, 0.7039776694424965, 0.8374868110644558, 0.6887693272262198, 0.4387779202244008, 0.2193889601122004, 0.2193889601122004, 0.2124841650918536, 0.2124841650918536, 0.2124841650918536, 0.2124841650918536, 0.2124841650918536, 0.22842336874094665, 0.22842336874094665, 0.22842336874094665, 0.22842336874094665, 0.2962941458239865, 0.14814707291199325, 0.14814707291199325, 0.14814707291199325, 0.14814707291199325, 0.14814707291199325, 0.7017894247531085, 0.4141669312674107, 0.4141669312674107, 0.7035188988698708, 0.9116554908041219, 0.4194706024003793, 0.20973530120018966, 0.20973530120018966, 0.9137457967194785, 0.3001288990470329, 0.6002577980940658, 0.24232507639771064, 0.24232507639771064, 0.24232507639771064, 0.08800828764625686, 0.616058013523798, 0.08800828764625686, 0.17601657529251372], \"Term\": [\"accord\", \"accord\", \"accord\", \"accord\", \"accord\", \"account\", \"account\", \"account\", \"account\", \"account\", \"achiev\", \"achiev\", \"achiev\", \"achiev\", \"acknowledg\", \"action\", \"action\", \"action\", \"action\", \"action\", \"action\", \"activ\", \"actor\", \"adapt\", \"adapt\", \"adapt\", \"adapt\", \"adapt\", \"adaptabrasil\", \"addit\", \"addit\", \"address\", \"address\", \"address\", \"adopt\", \"adopt\", \"adopt\", \"advanc\", \"affect\", \"aggreg\", \"agre\", \"agre\", \"agreement\", \"agreement\", \"agreement\", \"agreement\", \"agreement\", \"agreement\", \"agreement\", \"agroforestri\", \"allow\", \"ambit\", \"ambit\", \"ambiti\", \"ambiti\", \"andor\", \"andor\", \"annex\", \"anthropogen\", \"anthropogen\", \"anthropogen\", \"anthropogen\", \"anthropogen\", \"appli\", \"appli\", \"applic\", \"applic\", \"applic\", \"applic\", \"applic\", \"applic\", \"applic\", \"applic\", \"approach\", \"approach\", \"approach\", \"approach\", \"appropri\", \"appropri\", \"appropri\", \"approxim\", \"approxim\", \"area\", \"area\", \"area\", \"articl\", \"articl\", \"articl\", \"articl\", \"assess\", \"assess\", \"assess\", \"associ\", \"assumpt\", \"assumpt\", \"assumpt\", \"atmospher\", \"attent\", \"attribut\", \"avail\", \"avail\", \"avail\", \"avail\", \"averag\", \"averag\", \"averag\", \"base\", \"base\", \"base\", \"base\", \"baselin\", \"basi\", \"basi\", \"believ\", \"best\", \"best\", \"better\", \"biofuel\", \"biom\", \"biomass\", \"bras\\u00edlia\", \"brazil\", \"brazil\", \"brazil\", \"brazil\", \"brazil\", \"brazil\", \"brazil\", \"brazil\", \"brazilian\", \"brazilian\", \"brazilian\", \"brazilian\", \"brazilian\", \"brazilian\", \"brazilian\", \"brazilian\", \"brazilian\", \"broad\", \"calcul\", \"capabl\", \"capac\", \"capita\", \"carbon\", \"carbon\", \"cattl\", \"challeng\", \"challeng\", \"chang\", \"chang\", \"chang\", \"chang\", \"chang\", \"chang\", \"chang\", \"chang\", \"choos\", \"circumst\", \"circumst\", \"circumst\", \"circumst\", \"clariti\", \"climat\", \"climat\", \"climat\", \"climat\", \"climat\", \"climat\", \"climat\", \"climat\", \"code\", \"collect\", \"come\", \"commit\", \"commit\", \"commit\", \"communic\", \"communic\", \"communic\", \"communic\", \"compar\", \"compar\", \"compar\", \"compat\", \"compens\", \"compon\", \"concentr\", \"condit\", \"confer\", \"confer\", \"confid\", \"confirm\", \"connect\", \"consent\", \"consist\", \"consist\", \"consist\", \"consist\", \"consist\", \"consolid\", \"constitut\", \"context\", \"context\", \"contribut\", \"contribut\", \"contribut\", \"contribut\", \"contribut\", \"contribut\", \"contribut\", \"contribut\", \"contribut\", \"control\", \"convent\", \"convent\", \"convent\", \"coordin\", \"cope\", \"correspond\", \"countri\", \"countri\", \"countri\", \"countri\", \"countri\", \"countri\", \"countri\", \"cover\", \"cover\", \"cover\", \"cover\", \"coverag\", \"criteria\", \"current\", \"current\", \"current\", \"cycl\", \"cycl\", \"decis\", \"decis\", \"decre\", \"decreas\", \"definit\", \"deforest\", \"demand\", \"depend\", \"despit\", \"despit\", \"detail\", \"determin\", \"determin\", \"determin\", \"determin\", \"determin\", \"determin\", \"determin\", \"determin\", \"develop\", \"develop\", \"develop\", \"develop\", \"develop\", \"differ\", \"differ\", \"differ\", \"diversif\", \"diversif\", \"diversif\", \"econom\", \"econom\", \"econom\", \"econom\", \"econom\", \"economi\", \"ecosystem\", \"effect\", \"effect\", \"effect\", \"effort\", \"effort\", \"effort\", \"effort\", \"effort\", \"electr\", \"electr\", \"elimin\", \"emiss\", \"emiss\", \"emiss\", \"emiss\", \"emiss\", \"emiss\", \"emiss\", \"emiss\", \"energi\", \"energi\", \"energi\", \"energi\", \"entiti\", \"environment\", \"environment\", \"environment\", \"equatori\", \"equiti\", \"establish\", \"establish\", \"establish\", \"estim\", \"estim\", \"estim\", \"estim\", \"evalu\", \"exampl\", \"exceed\", \"exceed\", \"exceed\", \"exist\", \"exist\", \"exist\", \"experi\", \"experi\", \"experi\", \"face\", \"facilit\", \"fair\", \"fair\", \"farm\", \"feder\", \"feder\", \"feder\", \"feder\", \"feder\", \"feder\", \"fifth\", \"fight\", \"food\", \"forcer\", \"forest\", \"forest\", \"forest\", \"forest\", \"forest\", \"fragil\", \"frame\", \"framework\", \"framework\", \"framework\", \"framework\", \"fuel\", \"fulli\", \"futur\", \"gain\", \"gas\", \"gas\", \"gas\", \"gas\", \"gas\", \"general\", \"give\", \"give\", \"glasgow\", \"global\", \"global\", \"global\", \"global\", \"global\", \"global\", \"govern\", \"govern\", \"govern\", \"govern\", \"govern\", \"govern\", \"govern\", \"government\", \"greenhous\", \"greenhous\", \"greenhous\", \"greenhous\", \"greenhous\", \"greenhous\", \"growth\", \"growth\", \"growth\", \"guidanc\", \"guidelin\", \"guidelin\", \"guidelin\", \"have\", \"hfcs\", \"high\", \"highest\", \"histor\", \"histor\", \"histor\", \"hold\", \"hous\", \"identifi\", \"illeg\", \"impact\", \"impact\", \"implement\", \"implement\", \"implement\", \"implement\", \"implement\", \"implement\", \"incent\", \"incentiv\", \"includ\", \"includ\", \"includ\", \"includ\", \"includ\", \"includ\", \"includ\", \"includ\", \"inclus\", \"incom\", \"incorpor\", \"increas\", \"increas\", \"increas\", \"increas\", \"increas\", \"increas\", \"indic\", \"indic\", \"indic\", \"individu\", \"industri\", \"inform\", \"inform\", \"inform\", \"inform\", \"inform\", \"inform\", \"infrastructur\", \"infrastructur\", \"initi\", \"innov\", \"inp\", \"instal\", \"institut\", \"institut\", \"institut\", \"intend\", \"intent\", \"interfer\", \"interfer\", \"interfer\", \"intermitt\", \"intern\", \"intern\", \"intern\", \"inventori\", \"inventori\", \"invest\", \"ipcc\", \"ipcc\", \"ipcc\", \"issu\", \"itmo\", \"join\", \"joint\", \"keep\", \"kind\", \"kind\", \"landown\", \"latest\", \"law\", \"law\", \"learn\", \"lesson\", \"level\", \"level\", \"level\", \"level\", \"level\", \"level\", \"level\", \"level\", \"life\", \"light\", \"limit\", \"limit\", \"limit\", \"longterm\", \"longterm\", \"longterm\", \"mainstream\", \"march\", \"margin\", \"mcti\", \"mean\", \"mean\", \"measur\", \"measur\", \"measur\", \"measur\", \"measur\", \"member\", \"methodolog\", \"methodolog\", \"methodolog\", \"metric\", \"metric\", \"million\", \"minimum\", \"ministri\", \"mitig\", \"mitig\", \"mitig\", \"mitig\", \"mitig\", \"mitig\", \"model\", \"montreal\", \"multiyear\", \"nation\", \"nation\", \"nation\", \"nation\", \"nation\", \"nation\", \"nation\", \"nation\", \"nation\", \"ndcs\", \"network\", \"neutral\", \"neutral\", \"neutral\", \"nonetheless\", \"object\", \"object\", \"object\", \"obtain\", \"outcom\", \"outcom\", \"pact\", \"panel\", \"paragraph\", \"paragraph\", \"paragraph\", \"paragraph\", \"paragraph\", \"paragraph\", \"paramet\", \"pari\", \"pari\", \"pari\", \"pari\", \"pari\", \"pari\", \"pari\", \"parti\", \"parti\", \"parti\", \"parti\", \"parti\", \"parti\", \"parti\", \"peak\", \"percentag\", \"period\", \"period\", \"period\", \"period\", \"pfcs\", \"plan\", \"plan\", \"plan\", \"plan\", \"plan\", \"plan\", \"plant\", \"pleas\", \"point\", \"point\", \"point\", \"point\", \"polici\", \"polici\", \"polici\", \"polici\", \"polici\", \"polici\", \"pool\", \"popul\", \"popul\", \"post\", \"potenti\", \"potenti\", \"potenti\", \"poverti\", \"poverti\", \"practic\", \"preindustri\", \"prepar\", \"prepar\", \"prepar\", \"present\", \"present\", \"present\", \"preserv\", \"principl\", \"principl\", \"prior\", \"problem\", \"process\", \"process\", \"product\", \"product\", \"product\", \"progress\", \"project\", \"project\", \"project\", \"project\", \"protect\", \"protocol\", \"provid\", \"provis\", \"public\", \"public\", \"pursu\", \"quantif\", \"quantifi\", \"rainfal\", \"rainforest\", \"rang\", \"rang\", \"rank\", \"rapid\", \"reconstruct\", \"reduc\", \"reduc\", \"reduc\", \"reduc\", \"reduct\", \"reduct\", \"reduct\", \"refer\", \"refer\", \"refer\", \"reflect\", \"region\", \"relat\", \"relat\", \"relat\", \"relat\", \"relat\", \"relev\", \"remain\", \"remov\", \"remov\", \"remov\", \"renew\", \"renew\", \"renew\", \"replac\", \"report\", \"report\", \"report\", \"report\", \"repres\", \"republ\", \"requir\", \"requir\", \"research\", \"resourc\", \"resourc\", \"respect\", \"respons\", \"respons\", \"result\", \"result\", \"result\", \"result\", \"result\", \"result\", \"result\", \"revolut\", \"rule\", \"scienc\", \"secretariat\", \"sector\", \"sector\", \"sector\", \"sector\", \"sector\", \"sector\", \"sector\", \"secur\", \"secur\", \"signific\", \"singleyear\", \"sink\", \"sizeabl\", \"small\", \"social\", \"social\", \"solar\", \"sourc\", \"sourc\", \"sourc\", \"sourc\", \"sourc\", \"space\", \"specif\", \"specif\", \"specif\", \"spite\", \"stabil\", \"standard\", \"start\", \"start\", \"stipul\", \"stock\", \"strateg\", \"strategi\", \"strategi\", \"strive\", \"submit\", \"submit\", \"subnat\", \"subsequ\", \"subsequ\", \"subtrop\", \"support\", \"surfac\", \"surfac\", \"sustain\", \"sustain\", \"sustain\", \"synergi\", \"target\", \"target\", \"target\", \"target\", \"teach\", \"technic\", \"temperatur\", \"temperatur\", \"temperatur\", \"temperatur\", \"temperatur\", \"term\", \"term\", \"term\", \"territori\", \"territori\", \"territori\", \"territori\", \"territori\", \"tier\", \"time\", \"time\", \"timehorizon\", \"token\", \"tool\", \"transfer\", \"transfer\", \"translat\", \"transport\", \"tropic\", \"uncondit\", \"understand\", \"understand\", \"understand\", \"unfccc\", \"unfccc\", \"unfccc\", \"unfccc\", \"unfccc\", \"unit\", \"unit\", \"unit\", \"unit\", \"updat\", \"updat\", \"updat\", \"updat\", \"updat\", \"updat\", \"use\", \"valu\", \"valu\", \"voluntari\", \"warm\", \"water\", \"water\", \"water\", \"wind\", \"work\", \"work\", \"world\", \"world\", \"world\", \"year\", \"year\", \"year\", \"year\"]}, \"R\": 30, \"lambda.step\": 0.01, \"plot.opts\": {\"xlab\": \"PC1\", \"ylab\": \"PC2\"}, \"topic.order\": [7, 3, 9, 8, 1, 10, 2, 4, 6, 5]};\n",
       "\n",
       "function LDAvis_load_lib(url, callback){\n",
       "  var s = document.createElement('script');\n",
       "  s.src = url;\n",
       "  s.async = true;\n",
       "  s.onreadystatechange = s.onload = callback;\n",
       "  s.onerror = function(){console.warn(\"failed to load library \" + url);};\n",
       "  document.getElementsByTagName(\"head\")[0].appendChild(s);\n",
       "}\n",
       "\n",
       "if(typeof(LDAvis) !== \"undefined\"){\n",
       "   // already loaded: just create the visualization\n",
       "   !function(LDAvis){\n",
       "       new LDAvis(\"#\" + \"ldavis_el2307624503482716481819481571\", ldavis_el2307624503482716481819481571_data);\n",
       "   }(LDAvis);\n",
       "}else if(typeof define === \"function\" && define.amd){\n",
       "   // require.js is available: use it to load d3/LDAvis\n",
       "   require.config({paths: {d3: \"https://d3js.org/d3.v5\"}});\n",
       "   require([\"d3\"], function(d3){\n",
       "      window.d3 = d3;\n",
       "      LDAvis_load_lib(\"https://cdn.jsdelivr.net/gh/bmabey/pyLDAvis@3.3.1/pyLDAvis/js/ldavis.v3.0.0.js\", function(){\n",
       "        new LDAvis(\"#\" + \"ldavis_el2307624503482716481819481571\", ldavis_el2307624503482716481819481571_data);\n",
       "      });\n",
       "    });\n",
       "}else{\n",
       "    // require.js not available: dynamically load d3 & LDAvis\n",
       "    LDAvis_load_lib(\"https://d3js.org/d3.v5.js\", function(){\n",
       "         LDAvis_load_lib(\"https://cdn.jsdelivr.net/gh/bmabey/pyLDAvis@3.3.1/pyLDAvis/js/ldavis.v3.0.0.js\", function(){\n",
       "                 new LDAvis(\"#\" + \"ldavis_el2307624503482716481819481571\", ldavis_el2307624503482716481819481571_data);\n",
       "            })\n",
       "         });\n",
       "}\n",
       "</script>"
      ],
      "text/plain": [
       "PreparedData(topic_coordinates=              x         y  topics  cluster       Freq\n",
       "topic                                                \n",
       "6     -0.018309 -0.091823       1        1  19.802780\n",
       "2     -0.168457  0.033137       2        1  17.499035\n",
       "8      0.048320 -0.051488       3        1  15.732403\n",
       "7      0.000249 -0.012834       4        1  12.777861\n",
       "0      0.090930  0.124670       5        1   9.489942\n",
       "9     -0.006630  0.034043       6        1   7.791094\n",
       "1      0.014912 -0.022407       7        1   6.511695\n",
       "3     -0.011273  0.011444       8        1   4.409052\n",
       "5      0.076189 -0.047953       9        1   3.944668\n",
       "4     -0.025931  0.023210      10        1   2.041470, topic_info=          Term       Freq      Total Category  logprob  loglift\n",
       "92       refer  15.000000  15.000000  Default  30.0000  30.0000\n",
       "104     articl  16.000000  16.000000  Default  29.0000  29.0000\n",
       "26      nation  37.000000  37.000000  Default  28.0000  28.0000\n",
       "5       brazil  34.000000  34.000000  Default  27.0000  27.0000\n",
       "3    agreement  19.000000  19.000000  Default  26.0000  26.0000\n",
       "..         ...        ...        ...      ...      ...      ...\n",
       "14   contribut   0.635354  31.299512  Topic10  -4.2574  -0.0057\n",
       "16    determin   0.489751  18.842808  Topic10  -4.5177   0.2415\n",
       "115       plan   0.402067  18.856042  Topic10  -4.7149   0.0435\n",
       "5       brazil   0.399225  34.583138  Topic10  -4.7220  -0.5701\n",
       "31       parti   0.354843  20.444777  Topic10  -4.8399  -0.1623\n",
       "\n",
       "[572 rows x 6 columns], token_table=      Topic      Freq    Term\n",
       "term                         \n",
       "158       1  0.273436  accord\n",
       "158       2  0.136718  accord\n",
       "158       3  0.136718  accord\n",
       "158       5  0.136718  accord\n",
       "158       7  0.136718  accord\n",
       "...     ...       ...     ...\n",
       "532       9  0.242325   world\n",
       "103       1  0.088008    year\n",
       "103       2  0.616058    year\n",
       "103       3  0.088008    year\n",
       "103       6  0.176017    year\n",
       "\n",
       "[803 rows x 3 columns], R=30, lambda_step=0.01, plot_opts={'xlab': 'PC1', 'ylab': 'PC2'}, topic_order=[7, 3, 9, 8, 1, 10, 2, 4, 6, 5])"
      ]
     },
     "execution_count": 28,
     "metadata": {},
     "output_type": "execute_result"
    }
   ],
   "source": [
    "#Creating Topic Distance Visualization \n",
    "pyLDAvis.enable_notebook()\n",
    "p = pyLDAvis.gensim_models.prepare(lda_model, bow_corpus, dictionary)\n",
    "p"
   ]
  },
  {
   "cell_type": "code",
   "execution_count": 29,
   "id": "baea64d8",
   "metadata": {},
   "outputs": [
    {
     "name": "stderr",
     "output_type": "stream",
     "text": [
      "C:\\Users\\serva\\Downloads\\Anaconda\\envs\\py39\\lib\\site-packages\\pyLDAvis\\_prepare.py:246: FutureWarning: In a future version of pandas all arguments of DataFrame.drop except for the argument 'labels' will be keyword-only.\n",
      "  default_term_info = default_term_info.sort_values(\n"
     ]
    }
   ],
   "source": [
    "# Save the visualization in a html file\n",
    "p = pyLDAvis.gensim_models.prepare(lda_model, bow_corpus, dictionary)\n",
    "pyLDAvis.save_html(p, 'lda.html')"
   ]
  },
  {
   "cell_type": "code",
   "execution_count": 30,
   "id": "52be34d8",
   "metadata": {},
   "outputs": [
    {
     "name": "stdout",
     "output_type": "stream",
     "text": [
      "Score: 0.6999505162239075\t Topic: 0.024*\"climat\" + 0.020*\"nation\" + 0.020*\"chang\" + 0.016*\"implement\" + 0.014*\"contribut\"\n",
      "Score: 0.033346109092235565\t Topic: 0.033*\"nation\" + 0.025*\"climat\" + 0.023*\"chang\" + 0.016*\"includ\" + 0.013*\"impact\"\n",
      "Score: 0.033341437578201294\t Topic: 0.032*\"refer\" + 0.026*\"approach\" + 0.025*\"nation\" + 0.023*\"includ\" + 0.022*\"inform\"\n",
      "Score: 0.0333399698138237\t Topic: 0.040*\"brazil\" + 0.028*\"climat\" + 0.021*\"commit\" + 0.018*\"nation\" + 0.016*\"contribut\"\n",
      "Score: 0.03333881497383118\t Topic: 0.022*\"nation\" + 0.019*\"applic\" + 0.018*\"refer\" + 0.016*\"level\" + 0.014*\"contribut\"\n",
      "Score: 0.033337995409965515\t Topic: 0.019*\"climat\" + 0.017*\"contribut\" + 0.017*\"articl\" + 0.015*\"energi\" + 0.014*\"emiss\"\n",
      "Score: 0.03333771973848343\t Topic: 0.038*\"agreement\" + 0.036*\"articl\" + 0.035*\"pari\" + 0.026*\"increas\" + 0.025*\"level\"\n",
      "Score: 0.03333723545074463\t Topic: 0.022*\"brazil\" + 0.019*\"emiss\" + 0.019*\"sector\" + 0.018*\"ipcc\" + 0.017*\"global\"\n",
      "Score: 0.03333597257733345\t Topic: 0.019*\"brazilian\" + 0.018*\"implement\" + 0.016*\"adapt\" + 0.015*\"develop\" + 0.015*\"brazil\"\n",
      "Score: 0.03333423286676407\t Topic: 0.028*\"brazilian\" + 0.024*\"establish\" + 0.020*\"protect\" + 0.015*\"climat\" + 0.014*\"global\"\n"
     ]
    }
   ],
   "source": [
    "unseen_document = 'Determining this huge process was quiet nice'\n",
    "bow_vector = dictionary.doc2bow(preprocess(unseen_document))\n",
    "\n",
    "for index, score in sorted(lda_model[bow_vector], key=lambda tup: -1*tup[1]):\n",
    "    print(\"Score: {}\\t Topic: {}\".format(score, lda_model.print_topic(index, 5)))"
   ]
  }
 ],
 "metadata": {
  "kernelspec": {
   "display_name": "Python 3 (ipykernel)",
   "language": "python",
   "name": "python3"
  },
  "language_info": {
   "codemirror_mode": {
    "name": "ipython",
    "version": 3
   },
   "file_extension": ".py",
   "mimetype": "text/x-python",
   "name": "python",
   "nbconvert_exporter": "python",
   "pygments_lexer": "ipython3",
   "version": "3.9.12"
  }
 },
 "nbformat": 4,
 "nbformat_minor": 5
}
