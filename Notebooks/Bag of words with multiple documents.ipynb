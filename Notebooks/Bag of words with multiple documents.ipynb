{
 "cells": [
  {
   "cell_type": "code",
   "execution_count": 3,
   "id": "981b8252",
   "metadata": {},
   "outputs": [],
   "source": [
    "import glob, os, sys; sys.path.append('../src')\n",
    "\n",
    "from typing import Callable, Dict, List, Optional\n",
    "\n",
    "import pandas as pd\n",
    "from pathlib import Path\n",
    "import re\n",
    "import logging\n",
    "import string \n",
    "import pandas as pd\n",
    "#from keybert import KeyBERT\n",
    "\n",
    "import os\n",
    "os.environ[\"TOKENIZERS_PARALLELISM\"] = \"false\"\n",
    "\n",
    "logger = logging.getLogger(__name__)\n",
    "import haystack\n",
    "from haystack.utils import convert_files_to_docs, fetch_archive_from_http\n",
    "from haystack.nodes.file_converter import BaseConverter, DocxToTextConverter, PDFToTextConverter, TextConverter\n",
    "from haystack.schema import Document\n",
    "import pdfplumber\n",
    "\n",
    "from haystack.nodes import PreProcessor\n",
    "import streamlit as st"
   ]
  },
  {
   "cell_type": "code",
   "execution_count": 4,
   "id": "53349185",
   "metadata": {},
   "outputs": [],
   "source": [
    "# Function for reading txt,pdf and docx files \n",
    "\n",
    "def load_document(\n",
    "    file: str,\n",
    "    encoding: Optional[str] = None,\n",
    "    id_hash_keys: Optional[List[str]] = None,\n",
    ") -> List[Document]:\n",
    "    \n",
    "    \"\"\"\n",
    "    takes docx, txt and pdf files as input and extracts text as well as the filename as metadata. Since haystack\n",
    "    does not take care of all pdf files, pdfplumber is attached to the pipeline in case the pdf extraction fails\n",
    "    via Haystack.\n",
    "\n",
    "    Returns a list of type haystack.schema.Document\n",
    "    \"\"\"\n",
    "\n",
    "    if file.endswith('.pdf'):\n",
    "        converter = PDFToTextConverter(remove_numeric_tables=True)\n",
    "    if file.endswith('.txt'):\n",
    "        converter = TextConverter()\n",
    "    if file.endswith('.docx'):\n",
    "        converter = DocxToTextConverter()\n",
    "\n",
    "    print(converter)\n",
    "    documents = []\n",
    "\n",
    "    logger.info(\"Converting {}\".format(file))\n",
    "    # PDFToTextConverter, TextConverter, and DocxToTextConverter return a list containing a single Document\n",
    "    document = converter.convert(\n",
    "                file_path=file, meta=None, encoding=encoding, id_hash_keys=id_hash_keys\n",
    "            )[0]\n",
    "    text = document.content\n",
    "    documents.append(Document(content=text, meta={\"name\": file}, id_hash_keys=id_hash_keys))\n",
    "    \n",
    "    '''check if text is empty and apply different pdf processor. This can happen whith certain pdf types.'''\n",
    "    \n",
    "    return documents"
   ]
  },
  {
   "cell_type": "code",
   "execution_count": 5,
   "id": "2a069b76",
   "metadata": {},
   "outputs": [],
   "source": [
    "'''basic cleaning - suitable for transformer models'''\n",
    "def basic(s):\n",
    "    \"\"\"\n",
    "    :param s: string to be processed\n",
    "    :return: processed string: see comments in the source code for more info\n",
    "    \"\"\"\n",
    "    # Text Lowercase\n",
    "    s = s.lower() \n",
    "    # Remove punctuation\n",
    "    translator = str.maketrans(' ', ' ', string.punctuation) \n",
    "    s = s.translate(translator)\n",
    "    # Remove URLs\n",
    "    s = re.sub(r'^https?:\\/\\/.*[\\r\\n]*', ' ', s, flags=re.MULTILINE)\n",
    "    s = re.sub(r\"http\\S+\", \" \", s)\n",
    "    # Remove new line characters\n",
    "    s = re.sub('\\n', ' ', s) \n",
    "  \n",
    "    # Remove distracting single quotes\n",
    "    s = re.sub(\"\\'\", \" \", s) \n",
    "    # Remove all remaining numbers and non alphanumeric characters\n",
    "    s = re.sub(r'\\d+', ' ', s) \n",
    "    s = re.sub(r'\\W+', ' ', s)\n",
    "\n",
    "    # define custom words to replace:\n",
    "    #s = re.sub(r'strengthenedstakeholder', 'strengthened stakeholder', s)\n",
    "    \n",
    "    return s.strip()\n",
    "\n",
    " \n",
    "\n",
    "def preprocessing(document):\n",
    "\n",
    "    \"\"\"\n",
    "    takes in haystack document object and splits it into paragraphs and applies simple cleaning.\n",
    "\n",
    "    Returns cleaned list of haystack document objects. One paragraph per object. Also returns pandas df and \n",
    "    list that contains all text joined together.\n",
    "    \"\"\"    \n",
    "\n",
    "    preprocessor = PreProcessor(\n",
    "        clean_empty_lines=True,\n",
    "        clean_whitespace=True,\n",
    "        clean_header_footer=True,\n",
    "        split_by=\"word\",\n",
    "        split_length=120,\n",
    "        split_respect_sentence_boundary=True,\n",
    "        #split_overlap=5\n",
    "    )\n",
    "    for i in document:\n",
    "        docs_processed = preprocessor.process([i])\n",
    "        for item in docs_processed:\n",
    "            item.content = basic(item.content)\n",
    "\n",
    "    print(\"your document has been splitted to\", len(docs_processed), \"paragraphs\")\n",
    "    \n",
    "    # create dataframe of text and list of all text\n",
    "    df = pd.DataFrame(docs_processed)\n",
    "    all_text = \" \".join(df.content.to_list())\n",
    "    par_list = df.content.to_list()\n",
    "\n",
    "    return df"
   ]
  },
  {
   "cell_type": "code",
   "execution_count": 6,
   "id": "cb0bce5b",
   "metadata": {},
   "outputs": [
    {
     "name": "stdout",
     "output_type": "stream",
     "text": [
      "Current working directory: C:\\Users\\serva\\Downloads\\NDCs\n",
      "Files in 'C:\\\\Users\\\\serva\\\\Downloads\\\\NDCs': ['Australias NDC June 2022 Update.docx', 'BOTSWANA.docx', 'EU_NDC_Submission_December 2020.docx', 'Updated - First NDC - FINAL - PDF.docx']\n"
     ]
    }
   ],
   "source": [
    "import os\n",
    "\n",
    "# Change the current working directory\n",
    "os.chdir('C:\\\\Users\\\\serva\\\\Downloads\\\\NDCs')\n",
    "\n",
    "# Print the current working directory\n",
    "print(\"Current working directory: {0}\".format(os.getcwd()))\n",
    "\n",
    "\n",
    "cwd = os.getcwd()  # Get the current working directory (cwd)\n",
    "files = os.listdir(cwd)  # Get all the files in that directory\n",
    "print(\"Files in %r: %s\" % (cwd, files))\n",
    "\n",
    "\n",
    "# Safe directory in a var\n",
    "directory_in_str='C:\\\\Users\\\\serva\\\\Downloads\\\\NDCs'\n",
    "directory = os.fsencode(directory_in_str)\n"
   ]
  },
  {
   "cell_type": "code",
   "execution_count": 7,
   "id": "f1f03e59",
   "metadata": {},
   "outputs": [
    {
     "name": "stderr",
     "output_type": "stream",
     "text": [
      "INFO - __main__ -  Converting Australias NDC June 2022 Update.docx\n",
      "2022-08-16 18:06:04.401 INFO    __main__: Converting Australias NDC June 2022 Update.docx\n"
     ]
    },
    {
     "name": "stdout",
     "output_type": "stream",
     "text": [
      "<haystack.nodes.file_converter.docx.DocxToTextConverter object at 0x0000026090B49C10>\n"
     ]
    },
    {
     "name": "stderr",
     "output_type": "stream",
     "text": [
      "100%|██████████████████████████████████████████████████████████████████████████████████| 1/1 [00:00<00:00, 77.41docs/s]"
     ]
    },
    {
     "name": "stdout",
     "output_type": "stream",
     "text": [
      "your document has been splitted to 14 paragraphs\n"
     ]
    },
    {
     "name": "stderr",
     "output_type": "stream",
     "text": [
      "\n",
      "C:\\Users\\serva\\AppData\\Local\\Temp\\ipykernel_1868\\2648344278.py:15: FutureWarning: The frame.append method is deprecated and will be removed from pandas in a future version. Use pandas.concat instead.\n",
      "  data=data.append(df)\n",
      "INFO - __main__ -  Converting BOTSWANA.docx\n",
      "2022-08-16 18:06:05.886 INFO    __main__: Converting BOTSWANA.docx\n"
     ]
    },
    {
     "name": "stdout",
     "output_type": "stream",
     "text": [
      "<haystack.nodes.file_converter.docx.DocxToTextConverter object at 0x00000260A528F6A0>\n"
     ]
    },
    {
     "name": "stderr",
     "output_type": "stream",
     "text": [
      "100%|█████████████████████████████████████████████████████████████████████████████████| 1/1 [00:00<00:00, 813.80docs/s]\n",
      "C:\\Users\\serva\\AppData\\Local\\Temp\\ipykernel_1868\\2648344278.py:15: FutureWarning: The frame.append method is deprecated and will be removed from pandas in a future version. Use pandas.concat instead.\n",
      "  data=data.append(df)\n",
      "INFO - __main__ -  Converting EU_NDC_Submission_December 2020.docx\n",
      "2022-08-16 18:06:05.930 INFO    __main__: Converting EU_NDC_Submission_December 2020.docx\n"
     ]
    },
    {
     "name": "stdout",
     "output_type": "stream",
     "text": [
      "your document has been splitted to 9 paragraphs\n",
      "<haystack.nodes.file_converter.docx.DocxToTextConverter object at 0x00000260A528F6A0>\n"
     ]
    },
    {
     "name": "stderr",
     "output_type": "stream",
     "text": [
      "  0%|                                                                                          | 0/1 [00:00<?, ?docs/s]WARNING - haystack.nodes.preprocessor.preprocessor -  One or more sentence found with word count higher than the split length.\n",
      "2022-08-16 18:06:05.973 WARNING haystack.nodes.preprocessor.preprocessor: One or more sentence found with word count higher than the split length.\n",
      "100%|█████████████████████████████████████████████████████████████████████████████████| 1/1 [00:00<00:00, 191.72docs/s]\n",
      "C:\\Users\\serva\\AppData\\Local\\Temp\\ipykernel_1868\\2648344278.py:15: FutureWarning: The frame.append method is deprecated and will be removed from pandas in a future version. Use pandas.concat instead.\n",
      "  data=data.append(df)\n",
      "INFO - __main__ -  Converting Updated - First NDC - FINAL - PDF.docx\n",
      "2022-08-16 18:06:06.003 INFO    __main__: Converting Updated - First NDC - FINAL - PDF.docx\n"
     ]
    },
    {
     "name": "stdout",
     "output_type": "stream",
     "text": [
      "your document has been splitted to 38 paragraphs\n",
      "<haystack.nodes.file_converter.docx.DocxToTextConverter object at 0x00000260A525E370>\n"
     ]
    },
    {
     "name": "stderr",
     "output_type": "stream",
     "text": [
      "  0%|                                                                                          | 0/1 [00:00<?, ?docs/s]WARNING - haystack.nodes.preprocessor.preprocessor -  One or more sentence found with word count higher than the split length.\n",
      "2022-08-16 18:06:06.021 WARNING haystack.nodes.preprocessor.preprocessor: One or more sentence found with word count higher than the split length.\n",
      "100%|█████████████████████████████████████████████████████████████████████████████████| 1/1 [00:00<00:00, 146.92docs/s]"
     ]
    },
    {
     "name": "stdout",
     "output_type": "stream",
     "text": [
      "your document has been splitted to 40 paragraphs\n"
     ]
    },
    {
     "name": "stderr",
     "output_type": "stream",
     "text": [
      "\n",
      "C:\\Users\\serva\\AppData\\Local\\Temp\\ipykernel_1868\\2648344278.py:15: FutureWarning: The frame.append method is deprecated and will be removed from pandas in a future version. Use pandas.concat instead.\n",
      "  data=data.append(df)\n"
     ]
    }
   ],
   "source": [
    "#Test\n",
    "\"\"\"\"data=pd.DataFrame(columns=[\"content\",\"id\",\"meta\",\"score\",\"embedding\"])\n",
    "df=preprocessing(docs)\n",
    "data1=data.append(df)\n",
    "\n",
    "print(data1)\"\"\"\n",
    "\n",
    "data=pd.DataFrame(columns=[\"content\",\"id\",\"meta\",\"score\",\"embedding\"])\n",
    "\n",
    "for file in os.listdir(directory):\n",
    "    filename = os.fsdecode(file)\n",
    "    docs=load_document(filename)\n",
    "# Using the Preprocessor to create df and text \n",
    "    df = preprocessing(docs)\n",
    "    data=data.append(df)\n"
   ]
  },
  {
   "cell_type": "code",
   "execution_count": 8,
   "id": "a3de94cb",
   "metadata": {},
   "outputs": [
    {
     "data": {
      "text/plain": [
       "101"
      ]
     },
     "execution_count": 8,
     "metadata": {},
     "output_type": "execute_result"
    }
   ],
   "source": [
    "data.head(5)\n",
    "len(data)"
   ]
  },
  {
   "cell_type": "code",
   "execution_count": 9,
   "id": "0988822a",
   "metadata": {},
   "outputs": [
    {
     "data": {
      "text/html": [
       "<div>\n",
       "<style scoped>\n",
       "    .dataframe tbody tr th:only-of-type {\n",
       "        vertical-align: middle;\n",
       "    }\n",
       "\n",
       "    .dataframe tbody tr th {\n",
       "        vertical-align: top;\n",
       "    }\n",
       "\n",
       "    .dataframe thead th {\n",
       "        text-align: right;\n",
       "    }\n",
       "</style>\n",
       "<table border=\"1\" class=\"dataframe\">\n",
       "  <thead>\n",
       "    <tr style=\"text-align: right;\">\n",
       "      <th></th>\n",
       "      <th>Text</th>\n",
       "      <th>content_type</th>\n",
       "      <th>id</th>\n",
       "      <th>meta</th>\n",
       "      <th>score</th>\n",
       "      <th>embedding</th>\n",
       "    </tr>\n",
       "  </thead>\n",
       "  <tbody>\n",
       "    <tr>\n",
       "      <th>0</th>\n",
       "      <td>federative republic of brazil paris agreement nationally determined contribu...</td>\n",
       "      <td>text</td>\n",
       "      <td>986c33e39b7ad3e80d26bb72742c73d6</td>\n",
       "      <td>{'name': 'Updated - First NDC - FINAL - PDF.docx', '_split_id': 0}</td>\n",
       "      <td>None</td>\n",
       "      <td>None</td>\n",
       "    </tr>\n",
       "    <tr>\n",
       "      <th>1</th>\n",
       "      <td>brazil s updated ndc is broad in scope and includes a consideration of means...</td>\n",
       "      <td>text</td>\n",
       "      <td>76065630447e731a0abdb92a88f14ea2</td>\n",
       "      <td>{'name': 'Updated - First NDC - FINAL - PDF.docx', '_split_id': 1}</td>\n",
       "      <td>None</td>\n",
       "      <td>None</td>\n",
       "    </tr>\n",
       "    <tr>\n",
       "      <th>2</th>\n",
       "      <td>annex information to facilitate clarity transparency and understanding of br...</td>\n",
       "      <td>text</td>\n",
       "      <td>7165ebf036a1aa030c7d5ce64244c15b</td>\n",
       "      <td>{'name': 'Updated - First NDC - FINAL - PDF.docx', '_split_id': 2}</td>\n",
       "      <td>None</td>\n",
       "      <td>None</td>\n",
       "    </tr>\n",
       "    <tr>\n",
       "      <th>3</th>\n",
       "      <td>brazil will adopt the latest national inventory report available and submitt...</td>\n",
       "      <td>text</td>\n",
       "      <td>ac64b0d84efa5f32553ac705532ba503</td>\n",
       "      <td>{'name': 'Updated - First NDC - FINAL - PDF.docx', '_split_id': 3}</td>\n",
       "      <td>None</td>\n",
       "      <td>None</td>\n",
       "    </tr>\n",
       "    <tr>\n",
       "      <th>4</th>\n",
       "      <td>information on sources of data used in quantifying the reference points nati...</td>\n",
       "      <td>text</td>\n",
       "      <td>d93c9fc0d4b66988120244c50593d662</td>\n",
       "      <td>{'name': 'Updated - First NDC - FINAL - PDF.docx', '_split_id': 4}</td>\n",
       "      <td>None</td>\n",
       "      <td>None</td>\n",
       "    </tr>\n",
       "    <tr>\n",
       "      <th>5</th>\n",
       "      <td>net emissions from to compared with net emissions from to whether it is a si...</td>\n",
       "      <td>text</td>\n",
       "      <td>f4192996eea8b1b3d7955372b5815946</td>\n",
       "      <td>{'name': 'Updated - First NDC - FINAL - PDF.docx', '_split_id': 5}</td>\n",
       "      <td>None</td>\n",
       "      <td>None</td>\n",
       "    </tr>\n",
       "    <tr>\n",
       "      <th>6</th>\n",
       "      <td>how the party has taken into consideration paragraph c and d of decision cp ...</td>\n",
       "      <td>text</td>\n",
       "      <td>ecbf8a1825265edc67e394a357c8c9f3</td>\n",
       "      <td>{'name': 'Updated - First NDC - FINAL - PDF.docx', '_split_id': 6}</td>\n",
       "      <td>None</td>\n",
       "      <td>None</td>\n",
       "    </tr>\n",
       "    <tr>\n",
       "      <th>7</th>\n",
       "      <td>according to the working group i contribution to the sixth assessment report...</td>\n",
       "      <td>text</td>\n",
       "      <td>783a824d994caeffb6b4e40378471545</td>\n",
       "      <td>{'name': 'Updated - First NDC - FINAL - PDF.docx', '_split_id': 7}</td>\n",
       "      <td>None</td>\n",
       "      <td>None</td>\n",
       "    </tr>\n",
       "    <tr>\n",
       "      <th>8</th>\n",
       "      <td>adaptation actions implemented in the context of this ndc will aim at reduci...</td>\n",
       "      <td>text</td>\n",
       "      <td>87727313fe09b33ffe8f651608b87c50</td>\n",
       "      <td>{'name': 'Updated - First NDC - FINAL - PDF.docx', '_split_id': 8}</td>\n",
       "      <td>None</td>\n",
       "      <td>None</td>\n",
       "    </tr>\n",
       "    <tr>\n",
       "      <th>9</th>\n",
       "      <td>adaptation policies will be based on the best available science regarding cl...</td>\n",
       "      <td>text</td>\n",
       "      <td>3a502ab088e2c33f7ce088babee719a</td>\n",
       "      <td>{'name': 'Updated - First NDC - FINAL - PDF.docx', '_split_id': 9}</td>\n",
       "      <td>None</td>\n",
       "      <td>None</td>\n",
       "    </tr>\n",
       "  </tbody>\n",
       "</table>\n",
       "</div>"
      ],
      "text/plain": [
       "                                                                              Text  \\\n",
       "0  federative republic of brazil paris agreement nationally determined contribu...   \n",
       "1  brazil s updated ndc is broad in scope and includes a consideration of means...   \n",
       "2  annex information to facilitate clarity transparency and understanding of br...   \n",
       "3  brazil will adopt the latest national inventory report available and submitt...   \n",
       "4  information on sources of data used in quantifying the reference points nati...   \n",
       "5  net emissions from to compared with net emissions from to whether it is a si...   \n",
       "6  how the party has taken into consideration paragraph c and d of decision cp ...   \n",
       "7  according to the working group i contribution to the sixth assessment report...   \n",
       "8  adaptation actions implemented in the context of this ndc will aim at reduci...   \n",
       "9  adaptation policies will be based on the best available science regarding cl...   \n",
       "\n",
       "  content_type                                id  \\\n",
       "0         text  986c33e39b7ad3e80d26bb72742c73d6   \n",
       "1         text  76065630447e731a0abdb92a88f14ea2   \n",
       "2         text  7165ebf036a1aa030c7d5ce64244c15b   \n",
       "3         text  ac64b0d84efa5f32553ac705532ba503   \n",
       "4         text  d93c9fc0d4b66988120244c50593d662   \n",
       "5         text  f4192996eea8b1b3d7955372b5815946   \n",
       "6         text  ecbf8a1825265edc67e394a357c8c9f3   \n",
       "7         text  783a824d994caeffb6b4e40378471545   \n",
       "8         text  87727313fe09b33ffe8f651608b87c50   \n",
       "9         text   3a502ab088e2c33f7ce088babee719a   \n",
       "\n",
       "                                                                 meta score  \\\n",
       "0  {'name': 'Updated - First NDC - FINAL - PDF.docx', '_split_id': 0}  None   \n",
       "1  {'name': 'Updated - First NDC - FINAL - PDF.docx', '_split_id': 1}  None   \n",
       "2  {'name': 'Updated - First NDC - FINAL - PDF.docx', '_split_id': 2}  None   \n",
       "3  {'name': 'Updated - First NDC - FINAL - PDF.docx', '_split_id': 3}  None   \n",
       "4  {'name': 'Updated - First NDC - FINAL - PDF.docx', '_split_id': 4}  None   \n",
       "5  {'name': 'Updated - First NDC - FINAL - PDF.docx', '_split_id': 5}  None   \n",
       "6  {'name': 'Updated - First NDC - FINAL - PDF.docx', '_split_id': 6}  None   \n",
       "7  {'name': 'Updated - First NDC - FINAL - PDF.docx', '_split_id': 7}  None   \n",
       "8  {'name': 'Updated - First NDC - FINAL - PDF.docx', '_split_id': 8}  None   \n",
       "9  {'name': 'Updated - First NDC - FINAL - PDF.docx', '_split_id': 9}  None   \n",
       "\n",
       "  embedding  \n",
       "0      None  \n",
       "1      None  \n",
       "2      None  \n",
       "3      None  \n",
       "4      None  \n",
       "5      None  \n",
       "6      None  \n",
       "7      None  \n",
       "8      None  \n",
       "9      None  "
      ]
     },
     "execution_count": 9,
     "metadata": {},
     "output_type": "execute_result"
    }
   ],
   "source": [
    "# Rename the columns \n",
    "\n",
    "data=df.rename(columns = {'content':'Text'})\n",
    "\n",
    "data.head(10)"
   ]
  },
  {
   "cell_type": "code",
   "execution_count": 10,
   "id": "847f4653",
   "metadata": {},
   "outputs": [
    {
     "data": {
      "text/html": [
       "<div>\n",
       "<style scoped>\n",
       "    .dataframe tbody tr th:only-of-type {\n",
       "        vertical-align: middle;\n",
       "    }\n",
       "\n",
       "    .dataframe tbody tr th {\n",
       "        vertical-align: top;\n",
       "    }\n",
       "\n",
       "    .dataframe thead th {\n",
       "        text-align: right;\n",
       "    }\n",
       "</style>\n",
       "<table border=\"1\" class=\"dataframe\">\n",
       "  <thead>\n",
       "    <tr style=\"text-align: right;\">\n",
       "      <th></th>\n",
       "      <th>text</th>\n",
       "      <th>content_type</th>\n",
       "      <th>id</th>\n",
       "      <th>meta</th>\n",
       "      <th>score</th>\n",
       "      <th>embedding</th>\n",
       "    </tr>\n",
       "  </thead>\n",
       "  <tbody>\n",
       "    <tr>\n",
       "      <th>0</th>\n",
       "      <td>federative republic of brazil paris agreement nationally determined contribu...</td>\n",
       "      <td>text</td>\n",
       "      <td>986c33e39b7ad3e80d26bb72742c73d6</td>\n",
       "      <td>{'name': 'Updated - First NDC - FINAL - PDF.docx', '_split_id': 0}</td>\n",
       "      <td>None</td>\n",
       "      <td>None</td>\n",
       "    </tr>\n",
       "    <tr>\n",
       "      <th>1</th>\n",
       "      <td>brazil s updated ndc is broad in scope and includes a consideration of means...</td>\n",
       "      <td>text</td>\n",
       "      <td>76065630447e731a0abdb92a88f14ea2</td>\n",
       "      <td>{'name': 'Updated - First NDC - FINAL - PDF.docx', '_split_id': 1}</td>\n",
       "      <td>None</td>\n",
       "      <td>None</td>\n",
       "    </tr>\n",
       "    <tr>\n",
       "      <th>2</th>\n",
       "      <td>annex information to facilitate clarity transparency and understanding of br...</td>\n",
       "      <td>text</td>\n",
       "      <td>7165ebf036a1aa030c7d5ce64244c15b</td>\n",
       "      <td>{'name': 'Updated - First NDC - FINAL - PDF.docx', '_split_id': 2}</td>\n",
       "      <td>None</td>\n",
       "      <td>None</td>\n",
       "    </tr>\n",
       "    <tr>\n",
       "      <th>3</th>\n",
       "      <td>brazil will adopt the latest national inventory report available and submitt...</td>\n",
       "      <td>text</td>\n",
       "      <td>ac64b0d84efa5f32553ac705532ba503</td>\n",
       "      <td>{'name': 'Updated - First NDC - FINAL - PDF.docx', '_split_id': 3}</td>\n",
       "      <td>None</td>\n",
       "      <td>None</td>\n",
       "    </tr>\n",
       "    <tr>\n",
       "      <th>4</th>\n",
       "      <td>information on sources of data used in quantifying the reference points nati...</td>\n",
       "      <td>text</td>\n",
       "      <td>d93c9fc0d4b66988120244c50593d662</td>\n",
       "      <td>{'name': 'Updated - First NDC - FINAL - PDF.docx', '_split_id': 4}</td>\n",
       "      <td>None</td>\n",
       "      <td>None</td>\n",
       "    </tr>\n",
       "    <tr>\n",
       "      <th>5</th>\n",
       "      <td>net emissions from to compared with net emissions from to whether it is a si...</td>\n",
       "      <td>text</td>\n",
       "      <td>f4192996eea8b1b3d7955372b5815946</td>\n",
       "      <td>{'name': 'Updated - First NDC - FINAL - PDF.docx', '_split_id': 5}</td>\n",
       "      <td>None</td>\n",
       "      <td>None</td>\n",
       "    </tr>\n",
       "  </tbody>\n",
       "</table>\n",
       "</div>"
      ],
      "text/plain": [
       "                                                                              text  \\\n",
       "0  federative republic of brazil paris agreement nationally determined contribu...   \n",
       "1  brazil s updated ndc is broad in scope and includes a consideration of means...   \n",
       "2  annex information to facilitate clarity transparency and understanding of br...   \n",
       "3  brazil will adopt the latest national inventory report available and submitt...   \n",
       "4  information on sources of data used in quantifying the reference points nati...   \n",
       "5  net emissions from to compared with net emissions from to whether it is a si...   \n",
       "\n",
       "  content_type                                id  \\\n",
       "0         text  986c33e39b7ad3e80d26bb72742c73d6   \n",
       "1         text  76065630447e731a0abdb92a88f14ea2   \n",
       "2         text  7165ebf036a1aa030c7d5ce64244c15b   \n",
       "3         text  ac64b0d84efa5f32553ac705532ba503   \n",
       "4         text  d93c9fc0d4b66988120244c50593d662   \n",
       "5         text  f4192996eea8b1b3d7955372b5815946   \n",
       "\n",
       "                                                                 meta score  \\\n",
       "0  {'name': 'Updated - First NDC - FINAL - PDF.docx', '_split_id': 0}  None   \n",
       "1  {'name': 'Updated - First NDC - FINAL - PDF.docx', '_split_id': 1}  None   \n",
       "2  {'name': 'Updated - First NDC - FINAL - PDF.docx', '_split_id': 2}  None   \n",
       "3  {'name': 'Updated - First NDC - FINAL - PDF.docx', '_split_id': 3}  None   \n",
       "4  {'name': 'Updated - First NDC - FINAL - PDF.docx', '_split_id': 4}  None   \n",
       "5  {'name': 'Updated - First NDC - FINAL - PDF.docx', '_split_id': 5}  None   \n",
       "\n",
       "  embedding  \n",
       "0      None  \n",
       "1      None  \n",
       "2      None  \n",
       "3      None  \n",
       "4      None  \n",
       "5      None  "
      ]
     },
     "execution_count": 10,
     "metadata": {},
     "output_type": "execute_result"
    }
   ],
   "source": [
    "data.columns = map(str.lower, data.columns)\n",
    "data.head(6)"
   ]
  },
  {
   "cell_type": "code",
   "execution_count": 11,
   "id": "b7371905",
   "metadata": {},
   "outputs": [],
   "source": [
    "import gensim\n",
    "from gensim.utils import simple_preprocess\n",
    "from gensim.parsing.preprocessing import STOPWORDS\n",
    "from nltk.stem import WordNetLemmatizer, SnowballStemmer\n",
    "from nltk.stem.porter import *\n",
    "import numpy as np\n",
    "np.random.seed(2018)"
   ]
  },
  {
   "cell_type": "code",
   "execution_count": 12,
   "id": "2e8ddd17",
   "metadata": {},
   "outputs": [
    {
     "data": {
      "text/plain": [
       "0    federative republic of brazil paris agreement nationally determined contribu...\n",
       "1    brazil s updated ndc is broad in scope and includes a consideration of means...\n",
       "2    annex information to facilitate clarity transparency and understanding of br...\n",
       "3    brazil will adopt the latest national inventory report available and submitt...\n",
       "4    information on sources of data used in quantifying the reference points nati...\n",
       "5    net emissions from to compared with net emissions from to whether it is a si...\n",
       "6    how the party has taken into consideration paragraph c and d of decision cp ...\n",
       "7    according to the working group i contribution to the sixth assessment report...\n",
       "8    adaptation actions implemented in the context of this ndc will aim at reduci...\n",
       "9    adaptation policies will be based on the best available science regarding cl...\n",
       "Name: text, dtype: object"
      ]
     },
     "execution_count": 12,
     "metadata": {},
     "output_type": "execute_result"
    }
   ],
   "source": [
    "\n",
    "documents=data[\"text\"]\n",
    "\n",
    "documents.head(10)\n",
    "\n"
   ]
  },
  {
   "cell_type": "code",
   "execution_count": 14,
   "id": "b7e7421c",
   "metadata": {},
   "outputs": [],
   "source": [
    "def lemmatize_stemming(text):\n",
    "    return stemmer.stem(WordNetLemmatizer().lemmatize(text, pos='v'))\n",
    "\n",
    "def preprocess(text):\n",
    "    result = []\n",
    "    for token in gensim.utils.simple_preprocess(text):\n",
    "        if token not in gensim.parsing.preprocessing.STOPWORDS and len(token) > 3:\n",
    "            result.append(lemmatize_stemming(token))\n",
    "    return result"
   ]
  },
  {
   "cell_type": "code",
   "execution_count": 15,
   "id": "89db13ce",
   "metadata": {},
   "outputs": [
    {
     "data": {
      "text/html": [
       "<div>\n",
       "<style scoped>\n",
       "    .dataframe tbody tr th:only-of-type {\n",
       "        vertical-align: middle;\n",
       "    }\n",
       "\n",
       "    .dataframe tbody tr th {\n",
       "        vertical-align: top;\n",
       "    }\n",
       "\n",
       "    .dataframe thead th {\n",
       "        text-align: right;\n",
       "    }\n",
       "</style>\n",
       "<table border=\"1\" class=\"dataframe\">\n",
       "  <thead>\n",
       "    <tr style=\"text-align: right;\">\n",
       "      <th></th>\n",
       "      <th>original word</th>\n",
       "      <th>stemmed</th>\n",
       "    </tr>\n",
       "  </thead>\n",
       "  <tbody>\n",
       "    <tr>\n",
       "      <th>0</th>\n",
       "      <td>caresses</td>\n",
       "      <td>caress</td>\n",
       "    </tr>\n",
       "    <tr>\n",
       "      <th>1</th>\n",
       "      <td>flies</td>\n",
       "      <td>fli</td>\n",
       "    </tr>\n",
       "    <tr>\n",
       "      <th>2</th>\n",
       "      <td>dies</td>\n",
       "      <td>die</td>\n",
       "    </tr>\n",
       "    <tr>\n",
       "      <th>3</th>\n",
       "      <td>mules</td>\n",
       "      <td>mule</td>\n",
       "    </tr>\n",
       "    <tr>\n",
       "      <th>4</th>\n",
       "      <td>denied</td>\n",
       "      <td>deni</td>\n",
       "    </tr>\n",
       "    <tr>\n",
       "      <th>5</th>\n",
       "      <td>died</td>\n",
       "      <td>die</td>\n",
       "    </tr>\n",
       "    <tr>\n",
       "      <th>6</th>\n",
       "      <td>agreed</td>\n",
       "      <td>agre</td>\n",
       "    </tr>\n",
       "    <tr>\n",
       "      <th>7</th>\n",
       "      <td>owned</td>\n",
       "      <td>own</td>\n",
       "    </tr>\n",
       "    <tr>\n",
       "      <th>8</th>\n",
       "      <td>humbled</td>\n",
       "      <td>humbl</td>\n",
       "    </tr>\n",
       "    <tr>\n",
       "      <th>9</th>\n",
       "      <td>sized</td>\n",
       "      <td>size</td>\n",
       "    </tr>\n",
       "    <tr>\n",
       "      <th>10</th>\n",
       "      <td>meeting</td>\n",
       "      <td>meet</td>\n",
       "    </tr>\n",
       "    <tr>\n",
       "      <th>11</th>\n",
       "      <td>stating</td>\n",
       "      <td>state</td>\n",
       "    </tr>\n",
       "    <tr>\n",
       "      <th>12</th>\n",
       "      <td>siezing</td>\n",
       "      <td>siez</td>\n",
       "    </tr>\n",
       "    <tr>\n",
       "      <th>13</th>\n",
       "      <td>itemization</td>\n",
       "      <td>item</td>\n",
       "    </tr>\n",
       "    <tr>\n",
       "      <th>14</th>\n",
       "      <td>sensational</td>\n",
       "      <td>sensat</td>\n",
       "    </tr>\n",
       "    <tr>\n",
       "      <th>15</th>\n",
       "      <td>traditional</td>\n",
       "      <td>tradit</td>\n",
       "    </tr>\n",
       "    <tr>\n",
       "      <th>16</th>\n",
       "      <td>reference</td>\n",
       "      <td>refer</td>\n",
       "    </tr>\n",
       "    <tr>\n",
       "      <th>17</th>\n",
       "      <td>colonizer</td>\n",
       "      <td>colon</td>\n",
       "    </tr>\n",
       "    <tr>\n",
       "      <th>18</th>\n",
       "      <td>plotted</td>\n",
       "      <td>plot</td>\n",
       "    </tr>\n",
       "  </tbody>\n",
       "</table>\n",
       "</div>"
      ],
      "text/plain": [
       "   original word stemmed\n",
       "0       caresses  caress\n",
       "1          flies     fli\n",
       "2           dies     die\n",
       "3          mules    mule\n",
       "4         denied    deni\n",
       "5           died     die\n",
       "6         agreed    agre\n",
       "7          owned     own\n",
       "8        humbled   humbl\n",
       "9          sized    size\n",
       "10       meeting    meet\n",
       "11       stating   state\n",
       "12       siezing    siez\n",
       "13   itemization    item\n",
       "14   sensational  sensat\n",
       "15   traditional  tradit\n",
       "16     reference   refer\n",
       "17     colonizer   colon\n",
       "18       plotted    plot"
      ]
     },
     "execution_count": 15,
     "metadata": {},
     "output_type": "execute_result"
    }
   ],
   "source": [
    "stemmer = SnowballStemmer('english')\n",
    "original_words = ['caresses', 'flies', 'dies', 'mules', 'denied','died', 'agreed', 'owned', \n",
    "           'humbled', 'sized','meeting', 'stating', 'siezing', 'itemization','sensational', \n",
    "           'traditional', 'reference', 'colonizer','plotted']\n",
    "singles = [stemmer.stem(plural) for plural in original_words]\n",
    "pd.DataFrame(data = {'original word': original_words, 'stemmed': singles})"
   ]
  },
  {
   "cell_type": "code",
   "execution_count": 16,
   "id": "d0662240",
   "metadata": {},
   "outputs": [],
   "source": [
    "\n",
    "processed_docs = data['text'].map(preprocess)\n",
    "\n"
   ]
  },
  {
   "cell_type": "code",
   "execution_count": 17,
   "id": "2a64d368",
   "metadata": {},
   "outputs": [
    {
     "data": {
      "text/plain": [
       "0    [feder, republ, brazil, pari, agreement, nation, determin, contribut, brasíl...\n",
       "1    [brazil, updat, broad, scope, includ, consider, mean, implement, implement, ...\n",
       "2    [annex, inform, facilit, clariti, transpar, understand, brazil, quantifi, in...\n",
       "3    [brazil, adopt, latest, nation, inventori, report, avail, submit, unfccc, ti...\n",
       "4    [inform, sourc, data, quantifi, refer, point, nation, inventori, anthropogen...\n",
       "5    [emiss, compar, emiss, singleyear, multiyear, target, applic, singleyear, ta...\n",
       "6    [parti, take, consider, paragraph, decis, gas, previous, indic, indc, keep, ...\n",
       "7    [accord, work, group, contribut, sixth, assess, report, ipcc, publish, augus...\n",
       "8    [adapt, action, implement, context, reduc, vulner, term, water, energi, food...\n",
       "9    [adapt, polici, base, best, avail, scienc, climat, chang, nation, circumst, ...\n",
       "Name: text, dtype: object"
      ]
     },
     "execution_count": 17,
     "metadata": {},
     "output_type": "execute_result"
    }
   ],
   "source": [
    "processed_docs[:10]"
   ]
  },
  {
   "cell_type": "markdown",
   "id": "2ad5e2c5",
   "metadata": {},
   "source": [
    "# Bag of Words\n"
   ]
  },
  {
   "cell_type": "code",
   "execution_count": 18,
   "id": "c254a047",
   "metadata": {},
   "outputs": [
    {
     "name": "stderr",
     "output_type": "stream",
     "text": [
      "INFO - gensim.corpora.dictionary -  adding document #0 to Dictionary(0 unique tokens: [])\n",
      "2022-08-16 14:55:30.671 INFO    gensim.corpora.dictionary: adding document #0 to Dictionary(0 unique tokens: [])\n",
      "INFO - gensim.corpora.dictionary -  built Dictionary(631 unique tokens: ['achiev', 'addit', 'adopt', 'agreement', 'brasília']...) from 40 documents (total 2198 corpus positions)\n",
      "2022-08-16 14:55:30.676 INFO    gensim.corpora.dictionary: built Dictionary(631 unique tokens: ['achiev', 'addit', 'adopt', 'agreement', 'brasília']...) from 40 documents (total 2198 corpus positions)\n",
      "INFO - gensim.utils -  Dictionary lifecycle event {'msg': \"built Dictionary(631 unique tokens: ['achiev', 'addit', 'adopt', 'agreement', 'brasília']...) from 40 documents (total 2198 corpus positions)\", 'datetime': '2022-08-16T14:55:30.677944', 'gensim': '4.1.2', 'python': '3.9.12 (main, Apr  4 2022, 05:22:27) [MSC v.1916 64 bit (AMD64)]', 'platform': 'Windows-10-10.0.22000-SP0', 'event': 'created'}\n",
      "2022-08-16 14:55:30.677 INFO    gensim.utils: Dictionary lifecycle event {'msg': \"built Dictionary(631 unique tokens: ['achiev', 'addit', 'adopt', 'agreement', 'brasília']...) from 40 documents (total 2198 corpus positions)\", 'datetime': '2022-08-16T14:55:30.677944', 'gensim': '4.1.2', 'python': '3.9.12 (main, Apr  4 2022, 05:22:27) [MSC v.1916 64 bit (AMD64)]', 'platform': 'Windows-10-10.0.22000-SP0', 'event': 'created'}\n"
     ]
    }
   ],
   "source": [
    "dictionary = gensim.corpora.Dictionary(processed_docs)"
   ]
  },
  {
   "cell_type": "code",
   "execution_count": 19,
   "id": "d5e78aad",
   "metadata": {},
   "outputs": [
    {
     "name": "stdout",
     "output_type": "stream",
     "text": [
      "0 achiev\n",
      "1 addit\n",
      "2 adopt\n",
      "3 agreement\n",
      "4 brasília\n",
      "5 brazil\n",
      "6 chang\n",
      "7 climat\n",
      "8 commit\n",
      "9 communic\n",
      "10 compar\n"
     ]
    }
   ],
   "source": [
    "count = 0\n",
    "for k, v in dictionary.iteritems():\n",
    "    print(k, v)\n",
    "    count += 1\n",
    "    if count > 10:\n",
    "        break"
   ]
  },
  {
   "cell_type": "code",
   "execution_count": 20,
   "id": "700e4298",
   "metadata": {},
   "outputs": [
    {
     "data": {
      "text/plain": [
       "[(6, 1),\n",
       " (7, 1),\n",
       " (18, 1),\n",
       " (21, 1),\n",
       " (26, 1),\n",
       " (40, 2),\n",
       " (71, 1),\n",
       " (115, 3),\n",
       " (153, 1),\n",
       " (163, 2),\n",
       " (221, 1),\n",
       " (249, 1),\n",
       " (254, 1),\n",
       " (255, 1),\n",
       " (256, 1),\n",
       " (257, 1),\n",
       " (258, 1),\n",
       " (259, 1),\n",
       " (260, 1),\n",
       " (261, 1),\n",
       " (262, 1),\n",
       " (263, 1),\n",
       " (264, 1)]"
      ]
     },
     "execution_count": 20,
     "metadata": {},
     "output_type": "execute_result"
    }
   ],
   "source": [
    "bow_corpus = [dictionary.doc2bow(doc) for doc in processed_docs]\n",
    "bow_corpus[10]"
   ]
  },
  {
   "cell_type": "code",
   "execution_count": 21,
   "id": "cd60e11d",
   "metadata": {},
   "outputs": [
    {
     "name": "stdout",
     "output_type": "stream",
     "text": [
      "Word 6 (\"chang\") appears 1 time.\n",
      "Word 7 (\"climat\") appears 1 time.\n",
      "Word 18 (\"feder\") appears 1 time.\n",
      "Word 21 (\"govern\") appears 1 time.\n",
      "Word 26 (\"nation\") appears 1 time.\n",
      "Word 40 (\"adapt\") appears 2 time.\n",
      "Word 71 (\"sector\") appears 1 time.\n",
      "Word 115 (\"plan\") appears 3 time.\n",
      "Word 153 (\"polici\") appears 1 time.\n",
      "Word 163 (\"effort\") appears 2 time.\n",
      "Word 221 (\"resili\") appears 1 time.\n",
      "Word 249 (\"scientif\") appears 1 time.\n",
      "Word 254 (\"complement\") appears 1 time.\n",
      "Word 255 (\"criteria\") appears 1 time.\n",
      "Word 256 (\"entiti\") appears 1 time.\n",
      "Word 257 (\"incorpor\") appears 1 time.\n",
      "Word 258 (\"knowledg\") appears 1 time.\n",
      "Word 259 (\"mainstream\") appears 1 time.\n",
      "Word 260 (\"promot\") appears 1 time.\n",
      "Word 261 (\"strateg\") appears 1 time.\n",
      "Word 262 (\"subject\") appears 1 time.\n",
      "Word 263 (\"subnat\") appears 1 time.\n",
      "Word 264 (\"support\") appears 1 time.\n"
     ]
    }
   ],
   "source": [
    "bow_doc_4310 = bow_corpus[10]\n",
    "\n",
    "for i in range(len(bow_doc_4310)):\n",
    "    print(\"Word {} (\\\"{}\\\") appears {} time.\".format(bow_doc_4310[i][0], \n",
    "                                                     dictionary[bow_doc_4310[i][0]], \n",
    "                                                     bow_doc_4310[i][1]))\n",
    "\n"
   ]
  },
  {
   "cell_type": "code",
   "execution_count": 25,
   "id": "3a28380b",
   "metadata": {},
   "outputs": [
    {
     "name": "stderr",
     "output_type": "stream",
     "text": [
      "INFO - gensim.models.ldamodel -  using symmetric alpha at 0.1\n",
      "2022-08-16 14:55:52.374 INFO    gensim.models.ldamodel: using symmetric alpha at 0.1\n",
      "INFO - gensim.models.ldamodel -  using symmetric eta at 0.1\n",
      "2022-08-16 14:55:52.376 INFO    gensim.models.ldamodel: using symmetric eta at 0.1\n",
      "INFO - gensim.models.ldamodel -  using serial LDA version on this node\n",
      "2022-08-16 14:55:52.377 INFO    gensim.models.ldamodel: using serial LDA version on this node\n",
      "INFO - gensim.models.ldamulticore -  running online LDA training, 10 topics, 2 passes over the supplied corpus of 40 documents, updating every 4000 documents, evaluating every ~40 documents, iterating 50x with a convergence threshold of 0.001000\n",
      "2022-08-16 14:55:52.385 INFO    gensim.models.ldamulticore: running online LDA training, 10 topics, 2 passes over the supplied corpus of 40 documents, updating every 4000 documents, evaluating every ~40 documents, iterating 50x with a convergence threshold of 0.001000\n",
      "WARNING - gensim.models.ldamulticore -  too few updates, training might not converge; consider increasing the number of passes or iterations to improve accuracy\n",
      "2022-08-16 14:55:52.386 WARNING gensim.models.ldamulticore: too few updates, training might not converge; consider increasing the number of passes or iterations to improve accuracy\n",
      "INFO - gensim.models.ldamulticore -  training LDA model using 2 processes\n",
      "2022-08-16 14:55:52.390 INFO    gensim.models.ldamulticore: training LDA model using 2 processes\n",
      "INFO - gensim.models.ldamulticore -  PROGRESS: pass 0, dispatched chunk #0 = documents up to #40/40, outstanding queue size 1\n",
      "2022-08-16 14:55:52.651 INFO    gensim.models.ldamulticore: PROGRESS: pass 0, dispatched chunk #0 = documents up to #40/40, outstanding queue size 1\n",
      "INFO - gensim.models.ldamodel -  topic #2 (0.100): 0.029*\"refer\" + 0.026*\"nation\" + 0.022*\"includ\" + 0.020*\"brazil\" + 0.020*\"year\" + 0.018*\"approach\" + 0.018*\"contribut\" + 0.015*\"emiss\" + 0.015*\"inform\" + 0.015*\"assumpt\"\n",
      "2022-08-16 14:55:54.813 INFO    gensim.models.ldamodel: topic #2 (0.100): 0.029*\"refer\" + 0.026*\"nation\" + 0.022*\"includ\" + 0.020*\"brazil\" + 0.020*\"year\" + 0.018*\"approach\" + 0.018*\"contribut\" + 0.015*\"emiss\" + 0.015*\"inform\" + 0.015*\"assumpt\"\n",
      "INFO - gensim.models.ldamodel -  topic #0 (0.100): 0.026*\"articl\" + 0.026*\"agreement\" + 0.024*\"pari\" + 0.022*\"level\" + 0.022*\"increas\" + 0.022*\"brazil\" + 0.020*\"temperatur\" + 0.018*\"effort\" + 0.017*\"contribut\" + 0.016*\"global\"\n",
      "2022-08-16 14:55:54.815 INFO    gensim.models.ldamodel: topic #0 (0.100): 0.026*\"articl\" + 0.026*\"agreement\" + 0.024*\"pari\" + 0.022*\"level\" + 0.022*\"increas\" + 0.022*\"brazil\" + 0.020*\"temperatur\" + 0.018*\"effort\" + 0.017*\"contribut\" + 0.016*\"global\"\n",
      "INFO - gensim.models.ldamodel -  topic #6 (0.100): 0.023*\"climat\" + 0.021*\"nation\" + 0.020*\"chang\" + 0.015*\"contribut\" + 0.015*\"includ\" + 0.013*\"emiss\" + 0.013*\"implement\" + 0.012*\"global\" + 0.012*\"target\" + 0.012*\"determin\"\n",
      "2022-08-16 14:55:54.817 INFO    gensim.models.ldamodel: topic #6 (0.100): 0.023*\"climat\" + 0.021*\"nation\" + 0.020*\"chang\" + 0.015*\"contribut\" + 0.015*\"includ\" + 0.013*\"emiss\" + 0.013*\"implement\" + 0.012*\"global\" + 0.012*\"target\" + 0.012*\"determin\"\n",
      "INFO - gensim.models.ldamodel -  topic #7 (0.100): 0.020*\"climat\" + 0.017*\"contribut\" + 0.017*\"articl\" + 0.016*\"nation\" + 0.015*\"emiss\" + 0.014*\"parti\" + 0.014*\"brazil\" + 0.012*\"agreement\" + 0.012*\"chang\" + 0.012*\"pari\"\n",
      "2022-08-16 14:55:54.818 INFO    gensim.models.ldamodel: topic #7 (0.100): 0.020*\"climat\" + 0.017*\"contribut\" + 0.017*\"articl\" + 0.016*\"nation\" + 0.015*\"emiss\" + 0.014*\"parti\" + 0.014*\"brazil\" + 0.012*\"agreement\" + 0.012*\"chang\" + 0.012*\"pari\"\n",
      "INFO - gensim.models.ldamodel -  topic #9 (0.100): 0.022*\"brazil\" + 0.019*\"emiss\" + 0.015*\"sector\" + 0.014*\"ipcc\" + 0.013*\"global\" + 0.012*\"plan\" + 0.011*\"agreement\" + 0.011*\"implement\" + 0.011*\"methodolog\" + 0.010*\"contribut\"\n",
      "2022-08-16 14:55:54.819 INFO    gensim.models.ldamodel: topic #9 (0.100): 0.022*\"brazil\" + 0.019*\"emiss\" + 0.015*\"sector\" + 0.014*\"ipcc\" + 0.013*\"global\" + 0.012*\"plan\" + 0.011*\"agreement\" + 0.011*\"implement\" + 0.011*\"methodolog\" + 0.010*\"contribut\"\n",
      "INFO - gensim.models.ldamodel -  topic diff=5.558552, rho=1.000000\n",
      "2022-08-16 14:55:54.821 INFO    gensim.models.ldamodel: topic diff=5.558552, rho=1.000000\n",
      "INFO - gensim.models.ldamodel -  -6.937 per-word bound, 122.6 perplexity estimate based on a held-out corpus of 40 documents with 2198 words\n",
      "2022-08-16 14:55:54.853 INFO    gensim.models.ldamodel: -6.937 per-word bound, 122.6 perplexity estimate based on a held-out corpus of 40 documents with 2198 words\n",
      "INFO - gensim.models.ldamulticore -  PROGRESS: pass 1, dispatched chunk #0 = documents up to #40/40, outstanding queue size 1\n",
      "2022-08-16 14:55:54.855 INFO    gensim.models.ldamulticore: PROGRESS: pass 1, dispatched chunk #0 = documents up to #40/40, outstanding queue size 1\n",
      "INFO - gensim.models.ldamodel -  topic #8 (0.100): 0.019*\"brazilian\" + 0.018*\"implement\" + 0.016*\"adapt\" + 0.015*\"develop\" + 0.015*\"brazil\" + 0.015*\"polici\" + 0.014*\"nation\" + 0.014*\"plan\" + 0.013*\"econom\" + 0.013*\"govern\"\n",
      "2022-08-16 14:55:54.873 INFO    gensim.models.ldamodel: topic #8 (0.100): 0.019*\"brazilian\" + 0.018*\"implement\" + 0.016*\"adapt\" + 0.015*\"develop\" + 0.015*\"brazil\" + 0.015*\"polici\" + 0.014*\"nation\" + 0.014*\"plan\" + 0.013*\"econom\" + 0.013*\"govern\"\n",
      "INFO - gensim.models.ldamodel -  topic #3 (0.100): 0.040*\"brazil\" + 0.028*\"climat\" + 0.021*\"commit\" + 0.018*\"nation\" + 0.016*\"contribut\" + 0.015*\"emiss\" + 0.015*\"agreement\" + 0.013*\"parti\" + 0.013*\"pari\" + 0.012*\"feder\"\n",
      "2022-08-16 14:55:54.875 INFO    gensim.models.ldamodel: topic #3 (0.100): 0.040*\"brazil\" + 0.028*\"climat\" + 0.021*\"commit\" + 0.018*\"nation\" + 0.016*\"contribut\" + 0.015*\"emiss\" + 0.015*\"agreement\" + 0.013*\"parti\" + 0.013*\"pari\" + 0.012*\"feder\"\n",
      "INFO - gensim.models.ldamodel -  topic #1 (0.100): 0.033*\"nation\" + 0.025*\"climat\" + 0.023*\"chang\" + 0.016*\"includ\" + 0.013*\"impact\" + 0.013*\"agreement\" + 0.013*\"brazilian\" + 0.012*\"determin\" + 0.012*\"contribut\" + 0.010*\"inform\"\n",
      "2022-08-16 14:55:54.877 INFO    gensim.models.ldamodel: topic #1 (0.100): 0.033*\"nation\" + 0.025*\"climat\" + 0.023*\"chang\" + 0.016*\"includ\" + 0.013*\"impact\" + 0.013*\"agreement\" + 0.013*\"brazilian\" + 0.012*\"determin\" + 0.012*\"contribut\" + 0.010*\"inform\"\n",
      "INFO - gensim.models.ldamodel -  topic #0 (0.100): 0.038*\"agreement\" + 0.036*\"articl\" + 0.035*\"pari\" + 0.026*\"increas\" + 0.025*\"level\" + 0.022*\"brazil\" + 0.022*\"temperatur\" + 0.021*\"effort\" + 0.021*\"contribut\" + 0.018*\"global\"\n",
      "2022-08-16 14:55:54.878 INFO    gensim.models.ldamodel: topic #0 (0.100): 0.038*\"agreement\" + 0.036*\"articl\" + 0.035*\"pari\" + 0.026*\"increas\" + 0.025*\"level\" + 0.022*\"brazil\" + 0.022*\"temperatur\" + 0.021*\"effort\" + 0.021*\"contribut\" + 0.018*\"global\"\n",
      "INFO - gensim.models.ldamodel -  topic #7 (0.100): 0.019*\"climat\" + 0.017*\"contribut\" + 0.017*\"articl\" + 0.015*\"energi\" + 0.014*\"emiss\" + 0.014*\"parti\" + 0.013*\"nation\" + 0.013*\"sourc\" + 0.013*\"brazil\" + 0.012*\"account\"\n",
      "2022-08-16 14:55:54.880 INFO    gensim.models.ldamodel: topic #7 (0.100): 0.019*\"climat\" + 0.017*\"contribut\" + 0.017*\"articl\" + 0.015*\"energi\" + 0.014*\"emiss\" + 0.014*\"parti\" + 0.013*\"nation\" + 0.013*\"sourc\" + 0.013*\"brazil\" + 0.012*\"account\"\n",
      "INFO - gensim.models.ldamodel -  topic diff=0.833371, rho=0.703598\n",
      "2022-08-16 14:55:54.881 INFO    gensim.models.ldamodel: topic diff=0.833371, rho=0.703598\n",
      "INFO - gensim.models.ldamodel -  -6.551 per-word bound, 93.7 perplexity estimate based on a held-out corpus of 40 documents with 2198 words\n",
      "2022-08-16 14:55:54.904 INFO    gensim.models.ldamodel: -6.551 per-word bound, 93.7 perplexity estimate based on a held-out corpus of 40 documents with 2198 words\n",
      "INFO - gensim.utils -  LdaMulticore lifecycle event {'msg': 'trained LdaModel(num_terms=631, num_topics=10, decay=0.5, chunksize=2000) in 2.54s', 'datetime': '2022-08-16T14:55:54.929443', 'gensim': '4.1.2', 'python': '3.9.12 (main, Apr  4 2022, 05:22:27) [MSC v.1916 64 bit (AMD64)]', 'platform': 'Windows-10-10.0.22000-SP0', 'event': 'created'}\n",
      "2022-08-16 14:55:54.929 INFO    gensim.utils: LdaMulticore lifecycle event {'msg': 'trained LdaModel(num_terms=631, num_topics=10, decay=0.5, chunksize=2000) in 2.54s', 'datetime': '2022-08-16T14:55:54.929443', 'gensim': '4.1.2', 'python': '3.9.12 (main, Apr  4 2022, 05:22:27) [MSC v.1916 64 bit (AMD64)]', 'platform': 'Windows-10-10.0.22000-SP0', 'event': 'created'}\n"
     ]
    }
   ],
   "source": [
    "lda_model = gensim.models.LdaMulticore(bow_corpus, num_topics=10, id2word=dictionary, passes=2, workers=2)"
   ]
  },
  {
   "cell_type": "code",
   "execution_count": 27,
   "id": "a2e85433",
   "metadata": {},
   "outputs": [
    {
     "name": "stdout",
     "output_type": "stream",
     "text": [
      "\n",
      "Score: 0.9859340786933899\t \n",
      "Topic: 0.032*\"refer\" + 0.026*\"approach\" + 0.025*\"nation\" + 0.023*\"includ\" + 0.022*\"inform\" + 0.021*\"brazil\" + 0.020*\"emiss\" + 0.020*\"applic\" + 0.019*\"contribut\" + 0.019*\"methodolog\"\n"
     ]
    }
   ],
   "source": [
    "for index, score in sorted(lda_model[bow_corpus[12]], key=lambda tup: -1*tup[1]):\n",
    "    print(\"\\nScore: {}\\t \\nTopic: {}\".format(score, lda_model.print_topic(index, 10)))"
   ]
  },
  {
   "cell_type": "code",
   "execution_count": 28,
   "id": "ac3b6c8b",
   "metadata": {},
   "outputs": [],
   "source": [
    "import gensim\n",
    "import gensim.corpora as corpora\n",
    "from gensim.corpora import Dictionary\n",
    "from gensim.models.coherencemodel import CoherenceModel\n",
    "from gensim.models.ldamodel import LdaModel\n",
    "\n",
    "from pprint import pprint\n",
    "\n",
    "import spacy\n",
    "\n",
    "import pickle\n",
    "import re \n",
    "import pyLDAvis\n",
    "import pyLDAvis.gensim_models as gensimvis\n",
    "\n",
    "import matplotlib.pyplot as plt \n",
    "import pandas as pd"
   ]
  },
  {
   "cell_type": "code",
   "execution_count": 29,
   "id": "f7fa3359",
   "metadata": {},
   "outputs": [
    {
     "name": "stderr",
     "output_type": "stream",
     "text": [
      "C:\\Users\\serva\\Downloads\\Anaconda\\envs\\py39\\lib\\site-packages\\pyLDAvis\\_prepare.py:246: FutureWarning: In a future version of pandas all arguments of DataFrame.drop except for the argument 'labels' will be keyword-only.\n",
      "  default_term_info = default_term_info.sort_values(\n"
     ]
    },
    {
     "data": {
      "text/html": [
       "\n",
       "<link rel=\"stylesheet\" type=\"text/css\" href=\"https://cdn.jsdelivr.net/gh/bmabey/pyLDAvis@3.3.1/pyLDAvis/js/ldavis.v1.0.0.css\">\n",
       "\n",
       "\n",
       "<div id=\"ldavis_el2004424973848082242456800582\"></div>\n",
       "<script type=\"text/javascript\">\n",
       "\n",
       "var ldavis_el2004424973848082242456800582_data = {\"mdsDat\": {\"x\": [-0.018308669220862946, -0.16845706586300913, 0.04831968854126959, 0.00024944323255470457, 0.09093025632253778, -0.006630213891050544, 0.014911648101398169, -0.01127347170098287, 0.0761889776272979, -0.025930593149152633], \"y\": [-0.09182331982821247, 0.033137046348260035, -0.0514884590535777, -0.012833561575822848, 0.12467041672136406, 0.034042677067135325, -0.02240663487474968, 0.011444432371921241, -0.047953004531280825, 0.02321040735496244], \"topics\": [1, 2, 3, 4, 5, 6, 7, 8, 9, 10], \"cluster\": [1, 1, 1, 1, 1, 1, 1, 1, 1, 1], \"Freq\": [19.802742694360095, 17.498733275026563, 15.732606804471855, 12.77818117366836, 9.48909962023565, 7.792638761210377, 6.510746341009859, 4.409722184669295, 3.9446459582244873, 2.0408831871234563]}, \"tinfo\": {\"Term\": [\"refer\", \"articl\", \"nation\", \"brazil\", \"agreement\", \"pari\", \"climat\", \"applic\", \"level\", \"brazilian\", \"approach\", \"methodolog\", \"effort\", \"temperatur\", \"global\", \"establish\", \"paragraph\", \"inform\", \"increas\", \"chang\", \"ipcc\", \"commit\", \"contribut\", \"assumpt\", \"measur\", \"relat\", \"year\", \"emiss\", \"determin\", \"anthropogen\", \"individu\", \"singleyear\", \"actor\", \"government\", \"institut\", \"food\", \"decre\", \"public\", \"synergi\", \"light\", \"general\", \"hfcs\", \"coverag\", \"translat\", \"multiyear\", \"pool\", \"detail\", \"panel\", \"pfcs\", \"allow\", \"reconstruct\", \"attribut\", \"capita\", \"fair\", \"hous\", \"prior\", \"obtain\", \"consent\", \"associ\", \"inclus\", \"term\", \"cycl\", \"process\", \"temperatur\", \"target\", \"circumst\", \"chang\", \"infrastructur\", \"climat\", \"water\", \"increas\", \"adapt\", \"implement\", \"social\", \"develop\", \"differ\", \"secur\", \"condit\", \"ambiti\", \"nation\", \"global\", \"includ\", \"plan\", \"determin\", \"contribut\", \"govern\", \"emiss\", \"brazilian\", \"polici\", \"sector\", \"parti\", \"feder\", \"brazil\", \"refer\", \"approach\", \"assumpt\", \"quantifi\", \"correspond\", \"remov\", \"forcer\", \"protocol\", \"guidanc\", \"control\", \"montreal\", \"subsequ\", \"methodolog\", \"sink\", \"year\", \"compon\", \"replac\", \"appropri\", \"come\", \"base\", \"quantif\", \"facilit\", \"annex\", \"clariti\", \"technic\", \"attent\", \"paramet\", \"definit\", \"start\", \"constitut\", \"guidelin\", \"inventori\", \"inform\", \"indic\", \"decis\", \"applic\", \"point\", \"includ\", \"ipcc\", \"estim\", \"account\", \"nation\", \"emiss\", \"brazil\", \"greenhous\", \"contribut\", \"anthropogen\", \"period\", \"determin\", \"climat\", \"gas\", \"parti\", \"consist\", \"chang\", \"brazilian\", \"million\", \"biom\", \"initi\", \"rank\", \"progress\", \"spite\", \"tropic\", \"subtrop\", \"rainforest\", \"equatori\", \"economi\", \"rainfal\", \"challeng\", \"keep\", \"subnat\", \"face\", \"criteria\", \"entiti\", \"cope\", \"mainstream\", \"strateg\", \"support\", \"incorpor\", \"specif\", \"minimum\", \"fight\", \"incom\", \"life\", \"standard\", \"have\", \"popul\", \"diversif\", \"econom\", \"rang\", \"action\", \"andor\", \"project\", \"polici\", \"poverti\", \"develop\", \"work\", \"measur\", \"growth\", \"adapt\", \"social\", \"effort\", \"brazilian\", \"govern\", \"implement\", \"plan\", \"area\", \"brazil\", \"parti\", \"mitig\", \"sector\", \"nation\", \"climat\", \"emiss\", \"sustain\", \"level\", \"chang\", \"contribut\", \"countri\", \"transport\", \"atmospher\", \"concentr\", \"signific\", \"wind\", \"biomass\", \"solar\", \"repres\", \"demand\", \"industri\", \"address\", \"ndcs\", \"stabil\", \"instal\", \"compens\", \"reflect\", \"rapid\", \"capac\", \"intermitt\", \"invest\", \"post\", \"revolut\", \"remain\", \"affect\", \"uncondit\", \"issu\", \"nonetheless\", \"equiti\", \"incent\", \"use\", \"electr\", \"energi\", \"object\", \"renew\", \"sourc\", \"effect\", \"resourc\", \"articl\", \"time\", \"present\", \"account\", \"target\", \"frame\", \"parti\", \"climat\", \"contribut\", \"consist\", \"world\", \"paragraph\", \"pari\", \"product\", \"emiss\", \"sector\", \"agreement\", \"nation\", \"brazil\", \"plan\", \"adapt\", \"chang\", \"implement\", \"greenhous\", \"inform\", \"includ\", \"determin\", \"preindustri\", \"collect\", \"pursu\", \"hold\", \"evalu\", \"high\", \"margin\", \"confid\", \"intent\", \"coordin\", \"itmo\", \"rule\", \"strive\", \"voluntari\", \"respons\", \"believ\", \"token\", \"outcom\", \"peak\", \"compat\", \"sizeabl\", \"carbon\", \"transfer\", \"articl\", \"surfac\", \"pari\", \"averag\", \"give\", \"agreement\", \"intern\", \"effort\", \"relat\", \"level\", \"increas\", \"temperatur\", \"achiev\", \"paragraph\", \"global\", \"mitig\", \"limit\", \"brazil\", \"contribut\", \"measur\", \"applic\", \"brazilian\", \"exceed\", \"nation\", \"accord\", \"parti\", \"plan\", \"emiss\", \"govern\", \"determin\", \"warm\", \"tier\", \"timehorizon\", \"small\", \"respect\", \"stipul\", \"depend\", \"fifth\", \"aggreg\", \"identifi\", \"calcul\", \"problem\", \"capabl\", \"broad\", \"fulli\", \"provis\", \"mean\", \"principl\", \"farm\", \"agre\", \"agroforestri\", \"basi\", \"plant\", \"cattl\", \"appli\", \"metric\", \"accumul\", \"breed\", \"cleanest\", \"valu\", \"potenti\", \"ipcc\", \"carbon\", \"histor\", \"exceed\", \"cover\", \"sector\", \"methodolog\", \"global\", \"brazil\", \"emiss\", \"plan\", \"gas\", \"implement\", \"year\", \"greenhous\", \"anthropogen\", \"develop\", \"includ\", \"countri\", \"contribut\", \"climat\", \"chang\", \"adapt\", \"scienc\", \"mcti\", \"research\", \"joint\", \"gain\", \"ministri\", \"intend\", \"lesson\", \"better\", \"learn\", \"teach\", \"practic\", \"decreas\", \"futur\", \"consolid\", \"highest\", \"tool\", \"space\", \"inp\", \"adaptabrasil\", \"innov\", \"network\", \"provid\", \"best\", \"acknowledg\", \"join\", \"stock\", \"impact\", \"region\", \"member\", \"experi\", \"prepar\", \"nation\", \"chang\", \"climat\", \"includ\", \"understand\", \"agreement\", \"determin\", \"brazilian\", \"inform\", \"term\", \"polici\", \"develop\", \"contribut\", \"applic\", \"current\", \"unit\", \"effort\", \"brazil\", \"water\", \"adapt\", \"parti\", \"pari\", \"republ\", \"glasgow\", \"pact\", \"secretariat\", \"commit\", \"pleas\", \"confirm\", \"march\", \"bras\\u00edlia\", \"conserv\", \"combat\", \"embodi\", \"monitor\", \"addit\", \"make\", \"decad\", \"confer\", \"context\", \"communic\", \"unfccc\", \"compar\", \"adopt\", \"unit\", \"longterm\", \"neutral\", \"reduc\", \"better\", \"framework\", \"updat\", \"ambit\", \"feder\", \"brazil\", \"climat\", \"agreement\", \"pari\", \"nation\", \"contribut\", \"emiss\", \"parti\", \"determin\", \"chang\", \"convent\", \"govern\", \"object\", \"includ\", \"greenhous\", \"brazilian\", \"protect\", \"preserv\", \"elimin\", \"establish\", \"fragil\", \"choos\", \"landown\", \"deforest\", \"advanc\", \"illeg\", \"ecosystem\", \"code\", \"law\", \"addit\", \"purpos\", \"caus\", \"give\", \"kind\", \"despit\", \"centuri\", \"past\", \"approxim\", \"requir\", \"criterion\", \"bear\", \"primarili\", \"upper\", \"half\", \"activ\", \"connect\", \"exist\", \"environment\", \"brazilian\", \"interfer\", \"anthropogen\", \"limit\", \"global\", \"world\", \"measur\", \"climat\", \"commit\", \"chang\", \"emiss\", \"area\", \"forest\", \"temperatur\", \"territori\", \"polici\", \"polic\", \"express\", \"numer\", \"exampl\", \"percentag\", \"latest\", \"provid\", \"compon\", \"submit\", \"relev\", \"reduct\", \"time\", \"assess\", \"adopt\", \"unfccc\", \"avail\", \"strategi\", \"report\", \"indic\", \"inventori\", \"biofuel\", \"result\", \"fuel\", \"incentiv\", \"paragraph\", \"refer\", \"reduc\", \"model\", \"applic\", \"baselin\", \"level\", \"forcer\", \"relat\", \"action\", \"nation\", \"inform\", \"contribut\", \"determin\", \"plan\", \"brazil\", \"parti\"], \"Freq\": [15.0, 16.0, 37.0, 34.0, 19.0, 16.0, 35.0, 17.0, 14.0, 23.0, 13.0, 11.0, 11.0, 13.0, 17.0, 4.0, 10.0, 16.0, 16.0, 25.0, 10.0, 4.0, 31.0, 9.0, 12.0, 8.0, 11.0, 28.0, 18.0, 10.0, 3.69780490098007, 1.9361469004662062, 1.9088291207808168, 1.8433298090943422, 4.181710995145159, 1.7633488048538246, 1.7272788527632772, 3.4434444470801355, 1.6445241956828904, 2.621308977147032, 1.0161557746578738, 1.0155734585623684, 1.0153243578031006, 1.0142328951597674, 1.0135588637725055, 1.0132217974074427, 1.012403048410647, 1.0121538463085153, 1.012071657245958, 1.007467346914058, 1.0028399304092073, 0.9982503147925611, 0.9955976653320923, 2.531993484405851, 0.986383065439327, 0.9835200281935693, 0.9827679628011667, 0.9811520508375687, 0.9794591182974682, 0.9789516945783252, 3.6101348109758584, 2.4604543407214767, 1.7438532754551879, 5.835190758360892, 4.692293774039117, 2.7518089936299908, 8.652040791247167, 1.7001365989180228, 10.44051532964197, 2.2530144166554886, 5.602546864063057, 6.00027747277954, 7.10302403594195, 2.6318261368684666, 5.288910969115243, 2.2640155898945236, 1.6917375050504109, 1.3685955481334873, 1.8604093246195281, 8.696124937008541, 5.00188892632073, 6.009766813176119, 5.015195649711652, 4.65361282440513, 6.071420568552108, 3.8050998338771524, 5.240957147441795, 4.6705751875797406, 3.583170312513743, 3.7955379319900784, 3.764440266169959, 2.725264054624087, 3.5640384013104898, 12.46900694449505, 10.018300902606219, 7.080263860241681, 2.507950075719018, 1.7989867268628736, 6.1448993492336035, 1.6718263595860232, 1.6078052227625375, 2.14994677578272, 1.604951922522408, 1.6019827422210546, 3.1800555054416204, 7.434736489935454, 1.595108923257027, 7.094940329696025, 1.7778374515157245, 0.9861395896739231, 4.1919771550123945, 0.9793386658952405, 4.514479425063737, 0.9652038954287986, 0.9631512780537436, 0.9628826225794987, 0.957463125249383, 0.9289930777808877, 0.9496398778393743, 0.915610990401455, 0.9135067016235201, 2.5127325013678745, 0.9415410794646151, 3.410227694933703, 3.1285750270522326, 8.414379721586663, 3.2968339505717545, 2.211802191276494, 7.554766740925847, 3.191811152579975, 8.786183853234917, 4.2325763702802695, 2.6564687323019798, 4.476004020871591, 9.49156136792449, 7.837024062728018, 8.106345802548951, 4.130658513156162, 7.47742333734186, 3.7083063167178, 3.0571062231717323, 4.8325270291448, 5.471892669946735, 3.0103784392253847, 3.789985461448799, 3.1703384160418353, 3.778392082216888, 3.113455096961735, 2.4104301472850134, 2.320350877616781, 1.6893365801084173, 1.6636637346355567, 1.6204943470776745, 1.6298582240728343, 1.5941543670346268, 1.582499720936044, 1.568485869288871, 1.5729514681062562, 1.5246918582702707, 1.5232777197727125, 2.4673641168027287, 0.9252683069320751, 0.9165059460332062, 0.9216249921317451, 0.9126214934054915, 0.911146325701537, 0.9188058936716281, 0.90945715320787, 0.9091842930753135, 0.8975538010162017, 0.8960030311687032, 3.109142742514776, 0.8912621568148142, 0.8876499202119368, 0.8842303523305726, 0.881211419450566, 0.8817246122758584, 0.8719002787749178, 3.156242475375368, 2.477736344432335, 4.648980793802617, 1.6467420586899433, 3.919293058355335, 2.666580998416405, 2.4775803093373527, 5.207674676596424, 1.6373140929767207, 5.308052745614271, 1.6264336643566462, 4.31233274148804, 2.4387985835628294, 5.539384355027705, 2.451546924568656, 4.0389772900953655, 6.608022827885792, 4.421376313706477, 6.391276071612625, 4.744337399041388, 2.264252798891689, 5.285943426098021, 3.9638533965328833, 2.9717716348586936, 3.6152358904719524, 4.863757224562677, 4.408457445181987, 4.037877476164789, 2.238971892965977, 2.8885999373983573, 2.8931888828439742, 2.9164166954146578, 2.4740559129246846, 2.04762461161727, 1.523354967702116, 1.5201993223465242, 1.5197428733125795, 1.5208157247238827, 1.5156700138953678, 1.5125685146429428, 1.491335918090878, 1.4244302987912572, 1.4280892151733875, 3.1387172434539647, 0.7960304397690989, 0.7957458457582498, 0.7993299515823812, 0.7990432649685111, 0.7989080304982822, 0.7986448202745534, 0.798609049841664, 0.7983033336190721, 0.7979791109385138, 0.7971568487389694, 0.7967846923704625, 0.7955998213036941, 0.7955711787998448, 0.794867279458673, 0.7935085915534771, 0.7930076093114928, 0.7922952087705484, 0.7607536650111533, 0.7538527833988169, 1.469025892558402, 4.1530830160752785, 2.5035049806909497, 2.147075439400209, 3.618957342719141, 1.880508157275039, 1.9126038484719192, 4.718650834547316, 1.73581420587766, 1.5603994034681645, 3.2556312358097945, 3.0860095432884203, 1.073965068473289, 3.815363830757914, 5.23202599477234, 4.855564618700494, 2.5722218786928917, 1.4628132157645803, 2.5123650618816504, 3.093766561111703, 1.8682005126073242, 3.9141817769147047, 3.057221603529217, 3.0863647626512263, 3.713951318430524, 3.513267811392307, 2.8659014487082395, 2.7717175719413416, 2.8097880371260993, 2.6608731746477763, 1.9357739338460056, 1.9464188746258873, 2.0011533916049102, 1.8869487970104553, 2.824009304761067, 1.4435894943776046, 1.4385440430396572, 1.43152145541638, 0.776056828597059, 0.7760559059269844, 0.776054449079498, 0.7760514382613595, 0.7742583989367235, 0.7738620878588491, 0.7738235299620434, 0.7736368106758742, 0.7734926798978897, 0.7732153446980685, 2.2588464952756313, 0.7417490900863875, 0.7410466467900448, 1.9598957579297773, 0.7327390225606273, 0.7326396170004743, 0.7311963667573147, 1.8099049566161742, 1.4781349418364682, 7.60426758682404, 0.9712292294979846, 7.208992618881997, 2.849456156928582, 0.8245819902887563, 7.869475211183356, 1.8265215647993298, 4.42422554075267, 3.35667839366427, 5.186936869389294, 5.332651920453579, 4.552055943581668, 2.1830030151354336, 3.061248565323465, 3.6692086978000362, 2.663162658718061, 1.441487651947442, 4.629500013493553, 4.306379399363566, 2.516683831078257, 2.4434900651462605, 2.6134004392641077, 1.167566622772174, 2.9257776772906396, 1.4497647795028115, 1.9125196604121597, 1.774657017299385, 1.859020335786181, 1.6565719529225165, 1.4842050425731597, 1.5131526976553327, 1.5100854667085986, 1.509623180704665, 1.2857779327927092, 1.2588720259612813, 0.7959132507296736, 0.7948724691449032, 0.7929360682471288, 0.7912870407917583, 0.7901412159586819, 0.7897268654082273, 0.6822058087866315, 0.6728870290151361, 0.6695477384480746, 0.6559298025273335, 0.653111740227302, 1.3156465058795055, 1.2452932120703761, 0.5664775405256695, 0.8262882168183633, 0.5453161913209345, 0.7904648002095375, 0.5306760178968436, 0.5167054652708937, 0.788876709004513, 0.7952872982522977, 0.4929666881474018, 0.492209930106456, 0.4799683239448382, 1.5981424959520136, 1.5182611334696772, 3.0259129786199557, 1.1351410493932659, 1.1956679740366567, 1.0931718450433945, 1.568788929892029, 3.2378077823884714, 2.320766346527354, 2.837686005908593, 3.712273698518201, 3.2640617351487897, 2.4868455445416333, 1.5866244280037645, 2.5264955822013087, 1.5686600385562186, 1.508075368042081, 1.439520172175098, 1.4999914246944817, 1.5885242990551272, 1.2728331270876683, 1.5528960539182863, 1.564390991614441, 1.3872001800128586, 1.2935603852681783, 1.2885120923089228, 1.262073327817583, 1.2456416116295295, 1.0639704495289384, 0.6933390160800466, 0.6927247375968831, 0.6886598240370558, 0.6869382716033343, 0.9938667339658995, 0.6843979255351337, 0.6845398000079753, 0.6816857840742669, 0.6778142569494733, 0.6810515138852075, 0.6779376057748514, 0.6748691454758989, 0.6675751715797548, 0.6634776049002975, 0.6630856341866972, 0.6615282136583815, 0.6570322122804176, 0.6462586153340606, 1.124585035249436, 1.2805231400768151, 0.6192570176827298, 0.6156965615016774, 0.6055265141563196, 1.8973970797777258, 0.594273382824538, 0.5873311963131433, 1.2983959917038896, 1.2789832456106685, 4.748794633125965, 3.3621030066058624, 3.5628831741480953, 2.25456463241784, 1.0626921132149305, 1.844672820540249, 1.7490422288308054, 1.8324681506468388, 1.4997052730621692, 1.0923029616807833, 1.3303216797954367, 1.3755125311391554, 1.6474151915768858, 1.3835169436238226, 1.0649410468501876, 0.9295164980816812, 1.0634398030154397, 1.3135374431934175, 0.8578934795095685, 1.071542974527233, 1.0924603630452043, 1.0398494567801575, 1.0820115825542895, 1.0325819457294132, 1.0224214378561771, 0.5898460612342343, 2.0498472133469643, 0.5808311132071692, 0.5750524022113536, 0.5703324573347404, 0.560139046379362, 0.47504418362467443, 0.4490465060850263, 0.43629793835838476, 0.43424567066974407, 0.5771452007199723, 0.39458707574305896, 0.3918739029353339, 0.6068136255402332, 0.5785963214249973, 1.10935417921833, 1.1134731576495012, 1.142695066431853, 1.0253800974454839, 0.9194372280155235, 0.5758710074250962, 0.5671654115585313, 1.0637097057415987, 0.3151902008533066, 0.5841526545254548, 1.0156954881979137, 0.4077073264346434, 1.1807463751333305, 3.83771764941007, 2.7562649227722256, 1.4432842650608044, 1.217191074627752, 1.747478991555148, 1.5421099586102638, 1.463474841976835, 1.2279208193624158, 1.1502734270768695, 1.1269067323414053, 0.6490577979204365, 0.6553204414906441, 0.6037705192202151, 0.6352230674067455, 0.6037046227868433, 0.5867093458711936, 1.7424658156939508, 0.642664020678537, 0.6368932299570834, 2.038772413277213, 0.6364447917309116, 0.6352726023890151, 0.6335993266308928, 0.6328049203521356, 0.6303722025273626, 0.6297239111257563, 0.6288789964990257, 0.6270916227462009, 1.197545905308132, 0.6269029128993362, 0.4532026047510043, 0.4448602083414454, 0.6341402221846898, 0.626992584394819, 0.6346583465888009, 0.42224340990602344, 0.4212423675561807, 0.6297884293831996, 0.627355550060911, 0.4023978684622469, 0.37866609117979516, 0.3754565703054547, 0.3714084332074882, 0.3482655969896955, 0.49079090923795615, 0.3317616813879405, 0.6319640431632926, 0.6322337440141819, 2.4183938026355847, 0.7016405716261038, 1.1654620821395703, 0.6555278630296216, 1.2187463301582175, 0.6326426960978133, 0.9438815962107172, 1.3112250562042478, 0.6419639693232122, 1.04101258118583, 0.8790898427249336, 0.6373023839126092, 0.6354361589978402, 0.638134257614963, 0.6352530208152604, 0.6326240431347727, 0.35626945890032385, 0.34728947961011913, 0.34179051338560734, 0.38467943357685414, 0.34728007959643986, 0.3579219395272942, 0.395144364361346, 0.42569536970913513, 0.3772937801623242, 0.27371492498627725, 0.3476212792040767, 0.37618545588278496, 0.34971378491583144, 0.360170548132882, 0.34465367399662405, 0.36451590290083996, 0.3319959915767183, 0.35073824018443267, 0.40446324547806595, 0.34884175609126883, 0.078798544337087, 0.36606811671523176, 0.07652931314593285, 0.07580872376397244, 0.5661694665764387, 0.7876609026763646, 0.33171052360573966, 0.08000199675506005, 0.8681714767270798, 0.0791726909926695, 0.7278809934603105, 0.11964242366342931, 0.3590455962735902, 0.3702523343598084, 0.9776726120769932, 0.4782658444337659, 0.6351710816566888, 0.48961074183214953, 0.401951394711621, 0.39910979146530867, 0.3547405988976951], \"Total\": [15.0, 16.0, 37.0, 34.0, 19.0, 16.0, 35.0, 17.0, 14.0, 23.0, 13.0, 11.0, 11.0, 13.0, 17.0, 4.0, 10.0, 16.0, 16.0, 25.0, 10.0, 4.0, 31.0, 9.0, 12.0, 8.0, 11.0, 28.0, 18.0, 10.0, 4.3998685297299485, 2.5718450408951634, 2.561526004145691, 2.552595936390614, 5.915846351389208, 2.525600254535866, 2.528503133881827, 5.233585557044411, 2.524208878533849, 4.09902606427012, 1.6439164081627187, 1.643790226141067, 1.6437345959592888, 1.6435105304904996, 1.6433724001679886, 1.6433031865210468, 1.6431254500851478, 1.6430763521693532, 1.6430512145681087, 1.6407477951546128, 1.6392929190190437, 1.6378599119672013, 1.636789193372675, 4.165577297655165, 1.645413471279801, 1.6454158151136558, 1.6454132353344304, 1.6454228298970077, 1.6454300681299814, 1.6454316029828193, 6.471798629290649, 4.363530300408647, 3.200900498001998, 13.593607717242527, 11.03802433500156, 5.833412536290304, 25.61205606596142, 3.2381135467282647, 35.49704135833372, 4.767812388487588, 16.399605315076492, 18.027940520017925, 23.221484396191187, 6.011164531894328, 15.673194810965233, 5.012955816742225, 3.364722285395807, 2.509530771002054, 3.9158760975571827, 37.90573641219734, 17.403670317316607, 23.24774399207167, 18.856277646652735, 18.84265774466178, 31.299267336528377, 13.700225372220627, 28.88319205326172, 23.709513404599615, 13.936684738725836, 17.539575715536092, 20.444698203471695, 8.64415583249095, 34.58374905261183, 15.15226523638593, 13.100579412381965, 9.411045382996745, 3.450938710175039, 2.50910348024509, 8.594494509439523, 2.4359466368178957, 2.5201719872119197, 3.3706974693718803, 2.5168309037280014, 2.5133961377729155, 5.00444873935703, 11.709305610284261, 2.5146525606125425, 11.362760313929401, 2.8812445319598634, 1.6395073015736912, 7.010864946539578, 1.6380808296173375, 7.667945185383356, 1.6428976860632343, 1.6428239146241381, 1.642683623666247, 1.6424174566394552, 1.6002266449554103, 1.6466812743946324, 1.5905744436210376, 1.5882519452581032, 4.373206778089143, 1.646844747933607, 5.971895585977558, 5.658407454071823, 16.180966240320544, 6.505149212016405, 4.225300235963932, 17.177114742183843, 6.852615403939481, 23.24774399207167, 10.001355697725652, 5.768255837953554, 11.383350618983712, 37.90573641219734, 28.88319205326172, 34.58374905261183, 11.770811317752102, 31.299267336528377, 10.491371617543939, 7.680151400890772, 18.84265774466178, 35.49704135833372, 8.289240911473707, 20.444698203471695, 10.605903299391196, 25.61205606596142, 23.709513404599615, 3.263092708536719, 3.2256864576009816, 2.4282404828981634, 2.428841197023487, 2.396352300330735, 2.4119375358449084, 2.3881323129909338, 2.382816313424063, 2.3794147042937537, 2.3871041811829077, 2.3822134736354523, 2.387748234608578, 4.207047078576545, 1.579791004286004, 1.5681662187561438, 1.5795864966348976, 1.5668724909203084, 1.5663853382266784, 1.5797658354522663, 1.5658248303225228, 1.5657352098940898, 1.5618751655427923, 1.561358395325614, 5.485239788056372, 1.5747172129483753, 1.5744325514871484, 1.5732784429621651, 1.5728296664761006, 1.574541027052246, 1.565675274585966, 5.960884878535527, 4.900584402772814, 9.793611578535334, 3.145971755237179, 9.354987506214693, 5.885212280118548, 5.393019290391949, 13.936684738725836, 3.3398401489341527, 15.673194810965233, 3.3319351803614796, 12.281865386320725, 5.847172922218007, 18.027940520017925, 6.011164531894328, 11.91562544633134, 23.709513404599615, 13.700225372220627, 23.221484396191187, 18.856277646652735, 5.432348274775431, 34.58374905261183, 20.444698203471695, 10.590320914653859, 17.539575715536092, 37.90573641219734, 35.49704135833372, 28.88319205326172, 5.832191393195256, 14.616802909223184, 25.61205606596142, 31.299267336528377, 10.830755868362042, 2.841027488379492, 2.1825051147338104, 2.1818411368162742, 2.1818249807097247, 2.1888307150948085, 2.188654456799112, 2.18851684580658, 2.1623615912024103, 2.1296191527465917, 2.16715752178378, 5.337117724206263, 1.4449985098734721, 1.4448585879304965, 1.4520610448921332, 1.4519956925882644, 1.4520336531964688, 1.451918527582653, 1.451869969278957, 1.4520217314428439, 1.4520274355593965, 1.4520232974048164, 1.4520008354091238, 1.4519364881809311, 1.451953083258468, 1.451882909697571, 1.4517902559834808, 1.4519261090826536, 1.4519228337367407, 1.4282923796447888, 1.4249353418633817, 2.8140707273350074, 8.435868810062967, 4.955554305796512, 4.363092326691396, 9.418812353727027, 4.451394841158845, 4.664377846073482, 16.03623878520888, 4.2504968371420615, 3.8184820478409476, 11.383350618983712, 11.03802433500156, 2.2640033415046705, 20.444698203471695, 35.49704135833372, 31.299267336528377, 10.605903299391196, 4.126721526133467, 10.795387507694139, 16.49927652355564, 6.490609827967949, 28.88319205326172, 17.539575715536092, 19.50986508977816, 37.90573641219734, 34.58374905261183, 18.856277646652735, 18.027940520017925, 25.61205606596142, 23.221484396191187, 11.770811317752102, 16.180966240320544, 23.24774399207167, 18.84265774466178, 3.5406865121649918, 2.128182447620546, 2.128428243325847, 2.1287276145268335, 1.4208647367323417, 1.4208635923014932, 1.4208623106948475, 1.4208594244418786, 1.4211987071283636, 1.4212414688136703, 1.421237315126133, 1.4212451614084485, 1.4213072419031465, 1.421361132212803, 4.278269862779434, 1.4224624848755383, 1.4224924187811712, 3.7627644091146304, 1.4228727071974108, 1.4228765606300093, 1.4229530651365334, 3.6041552318093513, 3.0571541026756694, 16.03623878520888, 2.1378618996283483, 16.49927652355564, 6.920442099983444, 2.042033363803436, 19.50986508977816, 4.6475447628653415, 11.91562544633134, 8.913673539794656, 14.616802909223184, 16.399605315076492, 13.593607717242527, 5.736393095688557, 10.795387507694139, 17.403670317316607, 10.590320914653859, 4.209287523463816, 34.58374905261183, 31.299267336528377, 12.281865386320725, 17.177114742183843, 23.709513404599615, 3.721949234394537, 37.90573641219734, 7.314159905134856, 20.444698203471695, 18.856277646652735, 28.88319205326172, 13.700225372220627, 18.84265774466178, 2.1940923435822874, 2.1940973377072375, 2.194150679237883, 2.16663376352523, 2.1611097359607787, 1.4547788162966713, 1.4547569182661197, 1.4547636191033715, 1.4546128338052464, 1.4546893932380667, 1.4545497030361407, 1.4395721085853082, 1.4388394828343303, 1.4402890953757794, 1.4387920473953728, 1.438458971183106, 2.90380063595445, 3.025912542852594, 1.4507422332595339, 2.1506207201833267, 1.4499853568646375, 2.123962329082818, 1.4474718376365907, 1.4474760167597136, 2.2831495268028714, 2.3185256158861325, 1.446734786657168, 1.4474864547813073, 1.4476628035005807, 4.82925482320472, 4.783139273671491, 10.001355697725652, 3.6041552318093513, 3.9992835277630214, 3.721949234394537, 6.0026568420990944, 17.539575715536092, 11.709305610284261, 17.403670317316607, 34.58374905261183, 28.88319205326172, 18.856277646652735, 8.289240911473707, 23.221484396191187, 11.362760313929401, 11.770811317752102, 10.491371617543939, 15.673194810965233, 23.24774399207167, 10.830755868362042, 31.299267336528377, 35.49704135833372, 25.61205606596142, 18.027940520017925, 2.0657502794877374, 2.0473160210291033, 2.0510020971690723, 2.105356199768843, 1.3848039526759632, 1.3892716042521998, 1.3850961928156076, 1.382606769876582, 2.00881273927442, 1.3843603172684886, 1.3849999484113749, 1.3823406401171363, 1.3766951139072594, 1.388156252709328, 1.386960965626151, 1.3815050960303172, 1.3788135638164534, 1.3859468672631, 1.3856249245147536, 1.385994569089701, 1.3834311387842382, 1.3839226771505828, 2.4456703624978378, 2.7927424099745792, 1.4085284320865068, 1.4090698666696624, 1.409019318275495, 4.4200294099800335, 1.4097264449694964, 1.409590480271968, 3.6958076810711495, 4.621831720316571, 37.90573641219734, 25.61205606596142, 35.49704135833372, 23.24774399207167, 4.557972887753665, 19.50986508977816, 18.84265774466178, 23.709513404599615, 16.180966240320544, 6.471798629290649, 13.936684738725836, 15.673194810965233, 31.299267336528377, 17.177114742183843, 6.761588830556823, 4.377841565225601, 11.91562544633134, 34.58374905261183, 4.767812388487588, 18.027940520017925, 20.444698203471695, 16.49927652355564, 1.9070807963367016, 1.900440413749842, 1.9029280581689199, 1.3055869587046884, 4.564506127920461, 1.308095202166618, 1.309696288375704, 1.3110101835385786, 1.3138983352039197, 1.3153080534222814, 1.3219171477668485, 1.3208225540863145, 1.3224987306978404, 1.9313268807372472, 1.3272807611234756, 1.3306200745186378, 2.0696562978959454, 2.2119256557463665, 4.257281387081863, 4.706437570674274, 5.2347866250139505, 4.81730874012428, 4.377841565225601, 2.753727710109594, 2.7563279724018375, 6.4250269433127585, 2.00881273927442, 3.8137241831167086, 6.75020422553571, 2.8991375912574813, 8.64415583249095, 34.58374905261183, 35.49704135833372, 19.50986508977816, 16.49927652355564, 37.90573641219734, 31.299267336528377, 28.88319205326172, 20.444698203471695, 18.84265774466178, 25.61205606596142, 5.491339844945818, 13.700225372220627, 4.955554305796512, 23.24774399207167, 11.770811317752102, 23.709513404599615, 3.22052199361854, 1.3352837962381272, 1.3361330134254341, 4.27788535999433, 1.3362001491971773, 1.3363678211402228, 1.3366166398187076, 1.336731651148052, 1.3370862178916487, 1.33718492048508, 1.3373064589311892, 1.3375730870404456, 2.8173664933026457, 1.9313268807372472, 1.422115762042289, 1.4251038843374373, 2.042033363803436, 2.040288239015949, 2.073536263689066, 1.4373921879906135, 1.4349307055047724, 2.17469064151551, 2.1731403868632886, 1.4476877570584925, 1.4623303466411355, 1.4625331496450122, 1.4655132618376168, 1.474405269595367, 2.12679851459537, 1.4828977191947292, 3.088296911831261, 3.1009409116911777, 23.709513404599615, 3.7828984010834494, 10.491371617543939, 4.209287523463816, 17.403670317316607, 4.126721526133467, 12.281865386320725, 35.49704135833372, 4.564506127920461, 25.61205606596142, 28.88319205326172, 5.432348274775431, 4.504258464623707, 13.593607717242527, 6.192642386344752, 13.936684738725836, 1.1300903953828147, 1.1411124220104503, 1.1473262655257057, 2.0089137643292276, 1.877929867033072, 1.989002433889821, 2.4456703624978378, 2.8812445319598634, 2.5877850848931416, 2.7188210616690767, 3.4888810514037125, 4.2504968371420615, 4.526130523818495, 4.81730874012428, 4.706437570674274, 5.126567707235128, 4.7684455669347985, 5.506286089230977, 6.505149212016405, 5.658407454071823, 1.4091361965884635, 6.5939677964704035, 1.4115084627495704, 1.4122436100357998, 10.795387507694139, 15.15226523638593, 6.4250269433127585, 1.5754479614875465, 17.177114742183843, 1.5763744981914976, 14.616802909223184, 2.4359466368178957, 8.913673539794656, 9.354987506214693, 37.90573641219734, 16.180966240320544, 31.299267336528377, 18.84265774466178, 18.856277646652735, 34.58374905261183, 20.444698203471695], \"Category\": [\"Default\", \"Default\", \"Default\", \"Default\", \"Default\", \"Default\", \"Default\", \"Default\", \"Default\", \"Default\", \"Default\", \"Default\", \"Default\", \"Default\", \"Default\", \"Default\", \"Default\", \"Default\", \"Default\", \"Default\", \"Default\", \"Default\", \"Default\", \"Default\", \"Default\", \"Default\", \"Default\", \"Default\", \"Default\", \"Default\", \"Topic1\", \"Topic1\", \"Topic1\", \"Topic1\", \"Topic1\", \"Topic1\", \"Topic1\", \"Topic1\", \"Topic1\", \"Topic1\", \"Topic1\", \"Topic1\", \"Topic1\", \"Topic1\", \"Topic1\", \"Topic1\", \"Topic1\", \"Topic1\", \"Topic1\", \"Topic1\", \"Topic1\", \"Topic1\", \"Topic1\", \"Topic1\", \"Topic1\", \"Topic1\", \"Topic1\", \"Topic1\", \"Topic1\", \"Topic1\", \"Topic1\", \"Topic1\", \"Topic1\", \"Topic1\", \"Topic1\", \"Topic1\", \"Topic1\", \"Topic1\", \"Topic1\", \"Topic1\", \"Topic1\", \"Topic1\", \"Topic1\", \"Topic1\", \"Topic1\", \"Topic1\", \"Topic1\", \"Topic1\", \"Topic1\", \"Topic1\", \"Topic1\", \"Topic1\", \"Topic1\", \"Topic1\", \"Topic1\", \"Topic1\", \"Topic1\", \"Topic1\", \"Topic1\", \"Topic1\", \"Topic1\", \"Topic1\", \"Topic1\", \"Topic2\", \"Topic2\", \"Topic2\", \"Topic2\", \"Topic2\", \"Topic2\", \"Topic2\", \"Topic2\", \"Topic2\", \"Topic2\", \"Topic2\", \"Topic2\", \"Topic2\", \"Topic2\", \"Topic2\", \"Topic2\", \"Topic2\", \"Topic2\", \"Topic2\", \"Topic2\", \"Topic2\", \"Topic2\", \"Topic2\", \"Topic2\", \"Topic2\", \"Topic2\", \"Topic2\", \"Topic2\", \"Topic2\", \"Topic2\", \"Topic2\", \"Topic2\", \"Topic2\", \"Topic2\", \"Topic2\", \"Topic2\", \"Topic2\", \"Topic2\", \"Topic2\", \"Topic2\", \"Topic2\", \"Topic2\", \"Topic2\", \"Topic2\", \"Topic2\", \"Topic2\", \"Topic2\", \"Topic2\", \"Topic2\", \"Topic2\", \"Topic2\", \"Topic2\", \"Topic2\", \"Topic2\", \"Topic2\", \"Topic3\", \"Topic3\", \"Topic3\", \"Topic3\", \"Topic3\", \"Topic3\", \"Topic3\", \"Topic3\", \"Topic3\", \"Topic3\", \"Topic3\", \"Topic3\", \"Topic3\", \"Topic3\", \"Topic3\", \"Topic3\", \"Topic3\", \"Topic3\", \"Topic3\", \"Topic3\", \"Topic3\", \"Topic3\", \"Topic3\", \"Topic3\", \"Topic3\", \"Topic3\", \"Topic3\", \"Topic3\", \"Topic3\", \"Topic3\", \"Topic3\", \"Topic3\", \"Topic3\", \"Topic3\", \"Topic3\", \"Topic3\", \"Topic3\", \"Topic3\", \"Topic3\", \"Topic3\", \"Topic3\", \"Topic3\", \"Topic3\", \"Topic3\", \"Topic3\", \"Topic3\", \"Topic3\", \"Topic3\", \"Topic3\", \"Topic3\", \"Topic3\", \"Topic3\", \"Topic3\", \"Topic3\", \"Topic3\", \"Topic3\", \"Topic3\", \"Topic3\", \"Topic3\", \"Topic3\", \"Topic3\", \"Topic3\", \"Topic3\", \"Topic4\", \"Topic4\", \"Topic4\", \"Topic4\", \"Topic4\", \"Topic4\", \"Topic4\", \"Topic4\", \"Topic4\", \"Topic4\", \"Topic4\", \"Topic4\", \"Topic4\", \"Topic4\", \"Topic4\", \"Topic4\", \"Topic4\", \"Topic4\", \"Topic4\", \"Topic4\", \"Topic4\", \"Topic4\", \"Topic4\", \"Topic4\", \"Topic4\", \"Topic4\", \"Topic4\", \"Topic4\", \"Topic4\", \"Topic4\", \"Topic4\", \"Topic4\", \"Topic4\", \"Topic4\", \"Topic4\", \"Topic4\", \"Topic4\", \"Topic4\", \"Topic4\", \"Topic4\", \"Topic4\", \"Topic4\", \"Topic4\", \"Topic4\", \"Topic4\", \"Topic4\", \"Topic4\", \"Topic4\", \"Topic4\", \"Topic4\", \"Topic4\", \"Topic4\", \"Topic4\", \"Topic4\", \"Topic4\", \"Topic4\", \"Topic4\", \"Topic4\", \"Topic4\", \"Topic4\", \"Topic4\", \"Topic4\", \"Topic4\", \"Topic4\", \"Topic5\", \"Topic5\", \"Topic5\", \"Topic5\", \"Topic5\", \"Topic5\", \"Topic5\", \"Topic5\", \"Topic5\", \"Topic5\", \"Topic5\", \"Topic5\", \"Topic5\", \"Topic5\", \"Topic5\", \"Topic5\", \"Topic5\", \"Topic5\", \"Topic5\", \"Topic5\", \"Topic5\", \"Topic5\", \"Topic5\", \"Topic5\", \"Topic5\", \"Topic5\", \"Topic5\", \"Topic5\", \"Topic5\", \"Topic5\", \"Topic5\", \"Topic5\", \"Topic5\", \"Topic5\", \"Topic5\", \"Topic5\", \"Topic5\", \"Topic5\", \"Topic5\", \"Topic5\", \"Topic5\", \"Topic5\", \"Topic5\", \"Topic5\", \"Topic5\", \"Topic5\", \"Topic5\", \"Topic5\", \"Topic5\", \"Topic5\", \"Topic5\", \"Topic5\", \"Topic5\", \"Topic6\", \"Topic6\", \"Topic6\", \"Topic6\", \"Topic6\", \"Topic6\", \"Topic6\", \"Topic6\", \"Topic6\", \"Topic6\", \"Topic6\", \"Topic6\", \"Topic6\", \"Topic6\", \"Topic6\", \"Topic6\", \"Topic6\", \"Topic6\", \"Topic6\", \"Topic6\", \"Topic6\", \"Topic6\", \"Topic6\", \"Topic6\", \"Topic6\", \"Topic6\", \"Topic6\", \"Topic6\", \"Topic6\", \"Topic6\", \"Topic6\", \"Topic6\", \"Topic6\", \"Topic6\", \"Topic6\", \"Topic6\", \"Topic6\", \"Topic6\", \"Topic6\", \"Topic6\", \"Topic6\", \"Topic6\", \"Topic6\", \"Topic6\", \"Topic6\", \"Topic6\", \"Topic6\", \"Topic6\", \"Topic6\", \"Topic6\", \"Topic6\", \"Topic6\", \"Topic6\", \"Topic6\", \"Topic7\", \"Topic7\", \"Topic7\", \"Topic7\", \"Topic7\", \"Topic7\", \"Topic7\", \"Topic7\", \"Topic7\", \"Topic7\", \"Topic7\", \"Topic7\", \"Topic7\", \"Topic7\", \"Topic7\", \"Topic7\", \"Topic7\", \"Topic7\", \"Topic7\", \"Topic7\", \"Topic7\", \"Topic7\", \"Topic7\", \"Topic7\", \"Topic7\", \"Topic7\", \"Topic7\", \"Topic7\", \"Topic7\", \"Topic7\", \"Topic7\", \"Topic7\", \"Topic7\", \"Topic7\", \"Topic7\", \"Topic7\", \"Topic7\", \"Topic7\", \"Topic7\", \"Topic7\", \"Topic7\", \"Topic7\", \"Topic7\", \"Topic7\", \"Topic7\", \"Topic7\", \"Topic7\", \"Topic7\", \"Topic7\", \"Topic7\", \"Topic7\", \"Topic7\", \"Topic7\", \"Topic7\", \"Topic8\", \"Topic8\", \"Topic8\", \"Topic8\", \"Topic8\", \"Topic8\", \"Topic8\", \"Topic8\", \"Topic8\", \"Topic8\", \"Topic8\", \"Topic8\", \"Topic8\", \"Topic8\", \"Topic8\", \"Topic8\", \"Topic8\", \"Topic8\", \"Topic8\", \"Topic8\", \"Topic8\", \"Topic8\", \"Topic8\", \"Topic8\", \"Topic8\", \"Topic8\", \"Topic8\", \"Topic8\", \"Topic8\", \"Topic8\", \"Topic8\", \"Topic8\", \"Topic8\", \"Topic8\", \"Topic8\", \"Topic8\", \"Topic8\", \"Topic8\", \"Topic8\", \"Topic8\", \"Topic8\", \"Topic8\", \"Topic8\", \"Topic8\", \"Topic8\", \"Topic8\", \"Topic8\", \"Topic9\", \"Topic9\", \"Topic9\", \"Topic9\", \"Topic9\", \"Topic9\", \"Topic9\", \"Topic9\", \"Topic9\", \"Topic9\", \"Topic9\", \"Topic9\", \"Topic9\", \"Topic9\", \"Topic9\", \"Topic9\", \"Topic9\", \"Topic9\", \"Topic9\", \"Topic9\", \"Topic9\", \"Topic9\", \"Topic9\", \"Topic9\", \"Topic9\", \"Topic9\", \"Topic9\", \"Topic9\", \"Topic9\", \"Topic9\", \"Topic9\", \"Topic9\", \"Topic9\", \"Topic9\", \"Topic9\", \"Topic9\", \"Topic9\", \"Topic9\", \"Topic9\", \"Topic9\", \"Topic9\", \"Topic9\", \"Topic9\", \"Topic9\", \"Topic9\", \"Topic9\", \"Topic9\", \"Topic9\", \"Topic10\", \"Topic10\", \"Topic10\", \"Topic10\", \"Topic10\", \"Topic10\", \"Topic10\", \"Topic10\", \"Topic10\", \"Topic10\", \"Topic10\", \"Topic10\", \"Topic10\", \"Topic10\", \"Topic10\", \"Topic10\", \"Topic10\", \"Topic10\", \"Topic10\", \"Topic10\", \"Topic10\", \"Topic10\", \"Topic10\", \"Topic10\", \"Topic10\", \"Topic10\", \"Topic10\", \"Topic10\", \"Topic10\", \"Topic10\", \"Topic10\", \"Topic10\", \"Topic10\", \"Topic10\", \"Topic10\", \"Topic10\", \"Topic10\", \"Topic10\", \"Topic10\", \"Topic10\", \"Topic10\"], \"logprob\": [30.0, 29.0, 28.0, 27.0, 26.0, 25.0, 24.0, 23.0, 22.0, 21.0, 20.0, 19.0, 18.0, 17.0, 16.0, 15.0, 14.0, 13.0, 12.0, 11.0, 10.0, 9.0, 8.0, 7.0, 6.0, 5.0, 4.0, 3.0, 2.0, 1.0, -4.7682, -5.4153, -5.4295, -5.4644, -4.6452, -5.5087, -5.5294, -4.8395, -5.5785, -5.1123, -6.0599, -6.0605, -6.0607, -6.0618, -6.0625, -6.0628, -6.0636, -6.0639, -6.064, -6.0685, -6.0731, -6.0777, -6.0804, -5.1469, -6.0897, -6.0926, -6.0933, -6.095, -6.0967, -6.0972, -4.7922, -5.1756, -5.5199, -4.312, -4.53, -5.0637, -3.9182, -5.5452, -3.7303, -5.2637, -4.3527, -4.2841, -4.1154, -5.1083, -4.4103, -5.2588, -5.5502, -5.7622, -5.4552, -3.9131, -4.4661, -4.2826, -4.4635, -4.5383, -4.2724, -4.7396, -4.4194, -4.5347, -4.7997, -4.7421, -4.7504, -5.0734, -4.8051, -3.429, -3.6478, -3.995, -5.0328, -5.365, -4.1366, -5.4383, -5.4774, -5.1868, -5.4792, -5.481, -4.7954, -3.9461, -5.4853, -3.9929, -5.3769, -5.9662, -4.5191, -5.9731, -4.445, -5.9877, -5.9898, -5.9901, -5.9957, -6.0259, -6.0039, -6.0404, -6.0427, -5.0309, -6.0125, -4.7255, -4.8117, -3.8223, -4.7593, -5.1585, -3.9301, -4.7917, -3.7791, -4.5095, -4.9753, -4.4535, -3.7019, -3.8934, -3.8596, -4.5338, -3.9404, -4.6417, -4.8348, -4.3769, -4.2526, -4.8502, -4.6199, -4.7984, -4.623, -4.8165, -4.9661, -5.0041, -5.3215, -5.3368, -5.3631, -5.3574, -5.3795, -5.3869, -5.3958, -5.3929, -5.4241, -5.425, -4.9427, -5.9235, -5.9331, -5.9275, -5.9373, -5.9389, -5.9305, -5.9408, -5.9411, -5.954, -5.9557, -4.7115, -5.961, -5.965, -5.9689, -5.9723, -5.9717, -5.9829, -4.6965, -4.9385, -4.3092, -5.3471, -4.48, -4.8651, -4.9386, -4.1957, -5.3528, -4.1766, -5.3595, -4.3844, -4.9544, -4.134, -4.9491, -4.4499, -3.9576, -4.3594, -3.9909, -4.2889, -5.0286, -4.1808, -4.4687, -4.7567, -4.5607, -4.2641, -4.3623, -4.4501, -5.0399, -4.7851, -4.7835, -4.7755, -4.94, -4.9212, -5.217, -5.219, -5.2193, -5.2186, -5.222, -5.2241, -5.2382, -5.2841, -5.2815, -4.4941, -5.866, -5.8663, -5.8619, -5.8622, -5.8624, -5.8627, -5.8628, -5.8631, -5.8635, -5.8646, -5.865, -5.8665, -5.8666, -5.8675, -5.8692, -5.8698, -5.8707, -5.9113, -5.9204, -5.2533, -4.214, -4.7202, -4.8738, -4.3517, -5.0063, -4.9894, -4.0863, -5.0864, -5.1929, -4.4575, -4.511, -5.5665, -4.2988, -3.9831, -4.0577, -4.6931, -5.2575, -4.7166, -4.5085, -5.0129, -4.2733, -4.5204, -4.5109, -4.3258, -4.3813, -4.585, -4.6184, -4.6048, -4.6592, -4.9774, -4.9719, -4.9441, -5.0029, -4.3021, -4.9731, -4.9766, -4.9815, -5.5938, -5.5938, -5.5938, -5.5938, -5.5961, -5.5966, -5.5967, -5.5969, -5.5971, -5.5975, -4.5254, -5.639, -5.64, -4.6674, -5.6512, -5.6514, -5.6533, -4.747, -4.9495, -3.3116, -5.3695, -3.3649, -4.2931, -5.5332, -3.2773, -4.7379, -3.8532, -4.1293, -3.6941, -3.6664, -3.8247, -4.5596, -4.2215, -4.0403, -4.3608, -4.9746, -3.8078, -3.8802, -4.4173, -4.4468, -4.3796, -5.1854, -4.2667, -4.9689, -4.6919, -4.7667, -4.7202, -4.8355, -4.9454, -4.7291, -4.7311, -4.7315, -4.8919, -4.9131, -5.3716, -5.3729, -5.3753, -5.3774, -5.3789, -5.3794, -5.5257, -5.5395, -5.5445, -5.565, -5.5693, -4.869, -4.9239, -5.7116, -5.3341, -5.7497, -5.3784, -5.7769, -5.8036, -5.3805, -5.3724, -5.8506, -5.8522, -5.8773, -4.6745, -4.7257, -4.0361, -5.0166, -4.9646, -5.0542, -4.693, -3.9684, -4.3014, -4.1003, -3.8317, -3.9603, -4.2323, -4.6817, -4.2165, -4.6931, -4.7325, -4.779, -4.7379, -4.6805, -4.9021, -4.7032, -4.6958, -4.816, -4.8859, -4.7101, -4.7308, -4.7439, -4.9016, -5.3298, -5.3307, -5.3366, -5.3391, -4.9697, -5.3428, -5.3426, -5.3468, -5.3525, -5.3477, -5.3523, -5.3568, -5.3677, -5.3738, -5.3744, -5.3768, -5.3836, -5.4001, -4.8462, -4.7163, -5.4428, -5.4486, -5.4652, -4.3231, -5.484, -5.4958, -4.7025, -4.7175, -3.4057, -3.751, -3.693, -4.1506, -4.9028, -4.3513, -4.4045, -4.3579, -4.5583, -4.8753, -4.6782, -4.6448, -4.4644, -4.639, -4.9007, -5.0367, -4.9021, -4.6909, -5.1169, -4.8945, -4.8752, -4.9245, -4.4951, -4.5419, -4.5518, -5.1018, -3.8562, -5.1172, -5.1272, -5.1355, -5.1535, -5.3183, -5.3746, -5.4034, -5.4081, -5.1236, -5.5039, -5.5108, -5.0735, -5.1211, -4.4702, -4.4665, -4.4406, -4.5489, -4.6579, -5.1258, -5.141, -4.5122, -5.7285, -5.1115, -4.5584, -5.4712, -4.4078, -3.2291, -3.5601, -4.207, -4.3774, -4.0158, -4.1408, -4.1931, -4.3686, -4.4339, -4.4545, -5.0062, -4.9966, -5.0785, -5.0277, -5.0786, -5.1072, -3.9072, -4.9046, -4.9136, -3.7501, -4.9143, -4.9162, -4.9188, -4.9201, -4.9239, -4.925, -4.9263, -4.9292, -4.2822, -4.9295, -5.2539, -5.2725, -4.918, -4.9293, -4.9172, -5.3247, -5.327, -4.9249, -4.9287, -5.3728, -5.4336, -5.4421, -5.4529, -5.5173, -5.1742, -5.5658, -4.9214, -4.921, -3.5794, -4.8168, -4.3094, -4.8848, -4.2647, -4.9203, -4.5202, -4.1915, -4.9057, -4.4223, -4.5914, -4.913, -4.9159, -4.9117, -4.9162, -4.9204, -4.8356, -4.8611, -4.8771, -4.7589, -4.8611, -4.831, -4.732, -4.6575, -4.7782, -5.0992, -4.8602, -4.7812, -4.8542, -4.8247, -4.8687, -4.8127, -4.9061, -4.8512, -4.7087, -4.8567, -6.3444, -4.8085, -6.3736, -6.3831, -4.3724, -4.0422, -4.907, -6.3292, -3.9449, -6.3396, -4.1211, -5.9268, -4.8278, -4.7971, -3.8261, -4.5411, -4.2574, -4.5177, -4.7149, -4.722, -4.8399], \"loglift\": [30.0, 29.0, 28.0, 27.0, 26.0, 25.0, 24.0, 23.0, 22.0, 21.0, 20.0, 19.0, 18.0, 17.0, 16.0, 15.0, 14.0, 13.0, 12.0, 11.0, 10.0, 9.0, 8.0, 7.0, 6.0, 5.0, 4.0, 3.0, 2.0, 1.0, 1.4455, 1.3354, 1.3252, 1.2938, 1.2724, 1.2601, 1.2383, 1.2007, 1.1909, 1.1723, 1.1383, 1.1378, 1.1376, 1.1366, 1.1361, 1.1358, 1.1351, 1.1349, 1.1348, 1.1316, 1.1279, 1.1242, 1.1222, 1.1215, 1.1076, 1.1047, 1.104, 1.1023, 1.1006, 1.1001, 1.0356, 1.0464, 1.012, 0.7737, 0.7639, 0.868, 0.5341, 0.9751, 0.3956, 0.8697, 0.5453, 0.5192, 0.4348, 0.7934, 0.533, 0.8245, 0.9318, 1.013, 0.8751, 0.1471, 0.3725, 0.2665, 0.295, 0.2209, -0.0207, 0.3383, -0.0874, -0.0052, 0.2611, 0.0887, -0.0728, 0.465, -0.6531, 1.5481, 1.4748, 1.4585, 1.4239, 1.4103, 1.4075, 1.3666, 1.2936, 1.2934, 1.2931, 1.2926, 1.2896, 1.2888, 1.2878, 1.2721, 1.2602, 1.2347, 1.2288, 1.2286, 1.2133, 1.2112, 1.2091, 1.2089, 1.2034, 1.1992, 1.1926, 1.1908, 1.1899, 1.1889, 1.1839, 1.1828, 1.1505, 1.0891, 1.0634, 1.0958, 0.9216, 0.979, 0.77, 0.8831, 0.9677, 0.8096, 0.3583, 0.4386, 0.2923, 0.6959, 0.3113, 0.7031, 0.8219, 0.3823, -0.1268, 0.7301, 0.0577, 0.5355, -0.1707, -0.2871, 1.5466, 1.52, 1.4866, 1.471, 1.4582, 1.4575, 1.4453, 1.4402, 1.4327, 1.4323, 1.4032, 1.3999, 1.3158, 1.3145, 1.3123, 1.3107, 1.3089, 1.3076, 1.3075, 1.3061, 1.3059, 1.2955, 1.2941, 1.2817, 1.2802, 1.2764, 1.2732, 1.2701, 1.2696, 1.264, 1.2136, 1.1674, 1.1044, 1.2021, 0.9794, 1.0578, 1.0716, 0.865, 1.1366, 0.7667, 1.1323, 0.8028, 0.975, 0.6694, 0.9525, 0.7676, 0.5718, 0.7185, 0.5593, 0.4695, 0.9743, -0.0289, 0.2089, 0.5787, 0.2701, -0.2039, -0.2365, -0.1181, 0.8921, 0.228, -0.3313, -0.5238, 0.3729, 1.7299, 1.6979, 1.6961, 1.6958, 1.6933, 1.69, 1.688, 1.6859, 1.6553, 1.6404, 1.5266, 1.4612, 1.4609, 1.4605, 1.4602, 1.46, 1.4597, 1.4597, 1.4592, 1.4588, 1.4578, 1.4573, 1.4559, 1.4558, 1.455, 1.4533, 1.4526, 1.4517, 1.4275, 1.4207, 1.4074, 1.3488, 1.3746, 1.3484, 1.1009, 1.1958, 1.1659, 0.8341, 1.1619, 1.1625, 0.8057, 0.783, 1.3117, 0.3787, 0.1428, 0.194, 0.6408, 1.0203, 0.5995, 0.3835, 0.8121, 0.0588, 0.3105, 0.2135, -0.2656, -0.2294, 0.1735, 0.185, -0.1525, -0.109, 0.2523, -0.0604, -0.3951, -0.2437, 2.1289, 1.9669, 1.9633, 1.9582, 1.7502, 1.7502, 1.7502, 1.7502, 1.7477, 1.7471, 1.7471, 1.7468, 1.7466, 1.7462, 1.7163, 1.7039, 1.7029, 1.7028, 1.6914, 1.6912, 1.6892, 1.6662, 1.6283, 1.6089, 1.566, 1.527, 1.4677, 1.4482, 1.4471, 1.4211, 1.3643, 1.3784, 1.319, 1.2316, 1.261, 1.3889, 1.0947, 0.7983, 0.9746, 1.2834, 0.3441, 0.3715, 0.7698, 0.4049, 0.1498, 1.1957, -0.2065, 0.7366, -0.0143, -0.0082, -0.3882, 0.2424, -0.1862, 2.1804, 2.1784, 2.1781, 2.0302, 2.0116, 1.9489, 1.9476, 1.9451, 1.9432, 1.9417, 1.9412, 1.8052, 1.792, 1.786, 1.7665, 1.7624, 1.7603, 1.6641, 1.6116, 1.5954, 1.574, 1.5636, 1.5486, 1.5219, 1.4893, 1.482, 1.4754, 1.4733, 1.448, 1.4461, 1.4045, 1.3565, 1.3967, 1.3446, 1.3268, 1.2101, 0.8624, 0.9335, 0.7383, 0.3203, 0.3717, 0.5262, 0.8986, 0.3337, 0.5719, 0.4972, 0.5657, 0.2055, -0.1314, 0.4108, -0.4515, -0.57, -0.3638, -0.0825, 2.2597, 2.2479, 2.233, 2.0492, 2.0399, 2.0358, 2.0329, 2.0322, 2.028, 2.0273, 2.027, 2.0248, 2.0231, 2.0196, 2.0159, 2.0153, 2.0064, 1.9951, 1.9947, 1.9921, 1.9871, 1.9702, 1.9548, 1.952, 1.9099, 1.9038, 1.8872, 1.8861, 1.8679, 1.8563, 1.6856, 1.447, 0.6545, 0.7012, 0.4328, 0.3985, 1.2756, 0.3731, 0.3547, 0.1715, 0.3531, 0.9526, 0.3826, 0.2986, -0.2127, 0.2128, 0.8834, 1.1821, 0.3154, -0.5389, 1.0166, -0.0911, -0.1976, -0.0325, 2.5546, 2.5113, 2.5001, 2.3268, 2.3208, 2.3095, 2.2983, 2.289, 2.2688, 2.1029, 2.0416, 2.0137, 2.0077, 1.9135, 1.9083, 1.8989, 1.8944, 1.7803, 1.7765, 1.6799, 1.5994, 1.5742, 1.5608, 1.5565, 1.5404, 1.3229, 1.2692, 1.2452, 1.2274, 1.1597, 1.1306, 0.9229, 0.5658, 0.5174, 0.5146, 0.0444, 0.1109, 0.1389, 0.309, 0.3252, -0.0022, 0.986, 0.0813, 1.0163, -0.4786, 0.1511, -0.5777, 2.6186, 2.5015, 2.4919, 2.4917, 2.4911, 2.4892, 2.4863, 2.485, 2.4809, 2.4798, 2.4783, 2.4753, 2.3773, 2.1076, 2.0892, 2.0686, 2.0634, 2.0529, 2.0489, 2.0078, 2.0071, 1.9936, 1.9904, 1.9525, 1.8817, 1.873, 1.8602, 1.7898, 1.7665, 1.7355, 1.6463, 1.6426, 0.95, 1.548, 1.0354, 1.3732, 0.574, 1.3575, 0.6669, -0.0657, 1.2713, 0.0299, -0.2593, 1.0899, 1.2743, 0.174, 0.9557, 0.1404, 2.7374, 2.7022, 2.6808, 2.2388, 2.204, 2.1767, 2.069, 1.9795, 1.9663, 1.5959, 1.5856, 1.4671, 1.3313, 1.2984, 1.2776, 1.2482, 1.2271, 1.1382, 1.114, 1.1055, 1.0079, 1.0007, 0.977, 0.9671, 0.9438, 0.9349, 0.9281, 0.9115, 0.9068, 0.9005, 0.892, 0.8782, 0.6799, 0.6623, 0.2341, 0.3704, -0.0057, 0.2415, 0.0435, -0.5701, -0.1623]}, \"token.table\": {\"Topic\": [1, 2, 3, 5, 7, 1, 2, 3, 4, 7, 3, 4, 5, 8, 7, 1, 2, 3, 4, 6, 7, 4, 1, 1, 3, 4, 6, 7, 7, 8, 9, 2, 3, 4, 2, 4, 8, 9, 4, 6, 6, 7, 2, 3, 4, 5, 6, 7, 8, 6, 1, 3, 6, 1, 4, 2, 3, 2, 1, 2, 4, 6, 9, 3, 6, 1, 2, 3, 4, 5, 6, 7, 10, 1, 2, 4, 8, 1, 2, 3, 3, 9, 1, 3, 9, 2, 3, 4, 5, 2, 3, 6, 1, 2, 3, 6, 4, 2, 1, 1, 4, 6, 7, 1, 4, 5, 1, 2, 6, 7, 2, 6, 7, 5, 4, 7, 7, 4, 3, 4, 8, 1, 2, 3, 4, 5, 6, 7, 8, 1, 2, 3, 4, 5, 6, 7, 8, 9, 6, 6, 6, 4, 1, 5, 6, 6, 1, 3, 1, 2, 3, 4, 6, 7, 8, 9, 9, 1, 2, 3, 7, 2, 1, 2, 3, 4, 6, 7, 8, 9, 9, 5, 2, 3, 8, 9, 2, 4, 6, 8, 1, 4, 8, 5, 4, 2, 4, 1, 4, 8, 5, 8, 1, 1, 1, 2, 3, 4, 5, 7, 2, 1, 8, 1, 2, 3, 4, 5, 6, 7, 8, 10, 2, 2, 4, 8, 5, 3, 2, 1, 3, 4, 5, 6, 7, 9, 1, 2, 4, 6, 1, 3, 3, 4, 7, 1, 2, 2, 3, 1, 7, 2, 9, 4, 6, 4, 9, 1, 1, 2, 3, 4, 5, 6, 7, 8, 1, 3, 4, 6, 7, 1, 2, 6, 1, 3, 4, 1, 3, 4, 5, 6, 3, 9, 3, 4, 9, 3, 5, 6, 7, 8, 4, 7, 9, 1, 2, 3, 4, 5, 6, 8, 9, 1, 3, 4, 6, 3, 1, 3, 9, 3, 4, 1, 2, 9, 1, 2, 5, 6, 5, 2, 3, 5, 6, 1, 3, 9, 1, 4, 7, 3, 2, 1, 4, 6, 1, 2, 3, 5, 7, 8, 6, 3, 1, 2, 2, 3, 5, 6, 9, 9, 4, 1, 2, 7, 8, 4, 6, 7, 7, 1, 2, 3, 4, 6, 1, 5, 9, 8, 1, 2, 3, 5, 6, 9, 1, 2, 3, 5, 7, 8, 9, 1, 1, 2, 3, 4, 6, 8, 1, 3, 4, 2, 1, 2, 6, 3, 1, 5, 7, 1, 2, 6, 5, 1, 6, 9, 3, 7, 1, 2, 3, 4, 5, 6, 4, 4, 1, 2, 3, 4, 5, 6, 7, 8, 1, 3, 3, 1, 3, 4, 5, 6, 9, 1, 2, 3, 1, 4, 1, 2, 3, 4, 5, 7, 1, 4, 3, 7, 7, 4, 1, 4, 7, 7, 5, 1, 4, 9, 4, 1, 2, 5, 1, 2, 4, 1, 2, 6, 4, 5, 7, 7, 3, 4, 9, 9, 3, 3, 9, 7, 7, 1, 2, 3, 4, 5, 6, 7, 10, 3, 1, 4, 5, 9, 4, 5, 8, 3, 8, 5, 7, 4, 6, 1, 3, 4, 5, 9, 7, 2, 3, 6, 2, 6, 3, 3, 7, 1, 3, 4, 5, 6, 7, 2, 2, 1, 1, 2, 3, 4, 5, 6, 7, 8, 10, 4, 7, 4, 5, 8, 4, 4, 5, 8, 1, 1, 5, 8, 1, 2, 3, 4, 5, 7, 10, 2, 2, 3, 4, 5, 6, 7, 8, 1, 2, 3, 4, 5, 7, 8, 5, 4, 1, 2, 3, 4, 1, 1, 3, 4, 5, 6, 7, 6, 8, 1, 2, 3, 4, 1, 2, 3, 6, 7, 9, 1, 1, 3, 4, 1, 2, 6, 1, 3, 7, 5, 1, 4, 7, 1, 4, 5, 9, 3, 6, 1, 6, 1, 7, 1, 2, 4, 3, 3, 4, 6, 7, 9, 2, 7, 6, 1, 3, 5, 2, 2, 3, 3, 3, 6, 3, 4, 1, 1, 3, 4, 8, 1, 4, 5, 2, 3, 10, 4, 7, 1, 2, 3, 5, 7, 5, 4, 2, 3, 6, 3, 4, 7, 2, 1, 2, 3, 6, 4, 8, 3, 9, 7, 1, 4, 6, 5, 9, 1, 2, 3, 4, 6, 7, 9, 4, 5, 7, 8, 1, 2, 3, 4, 5, 6, 7, 1, 3, 4, 1, 2, 5, 6, 1, 3, 4, 1, 2, 3, 4, 7, 7, 3, 4, 7, 3, 4, 3, 1, 2, 6, 7, 3, 1, 2, 5, 3, 7, 3, 2, 6, 3, 3, 5, 6, 1, 3, 6, 1, 1, 2, 4, 5, 7, 2, 1, 2, 5, 6, 9, 1, 6, 7, 1, 3, 5, 8, 9, 6, 3, 4, 6, 5, 7, 1, 5, 1, 4, 3, 4, 2, 4, 7, 1, 2, 4, 6, 8, 2, 3, 7, 8, 2, 3, 4, 6, 7, 8, 4, 2, 6, 5, 6, 1, 4, 7, 4, 2, 3, 4, 5, 9, 1, 2, 3, 6], \"Freq\": [0.2734422033343725, 0.13672110166718626, 0.13672110166718626, 0.13672110166718626, 0.13672110166718626, 0.08784759720326338, 0.3513903888130535, 0.08784759720326338, 0.2635427916097901, 0.08784759720326338, 0.17432557067115828, 0.34865114134231656, 0.34865114134231656, 0.17432557067115828, 0.709960819547435, 0.10689485147208175, 0.10689485147208175, 0.427579405888327, 0.10689485147208175, 0.10689485147208175, 0.10689485147208175, 0.4701902851339226, 0.7807845779285896, 0.3328167182123604, 0.3328167182123604, 0.1664083591061802, 0.055469453035393405, 0.055469453035393405, 0.7215035486443384, 0.5177787406025587, 0.5177787406025587, 0.18736704934660592, 0.18736704934660592, 0.5621011480398178, 0.20758478518738274, 0.20758478518738274, 0.20758478518738274, 0.7478949275064889, 0.6887274881883949, 0.6874681542469375, 0.4649820354724176, 0.4649820354724176, 0.1025122414120569, 0.05125612070602845, 0.15376836211808537, 0.4100489656482276, 0.05125612070602845, 0.1025122414120569, 0.05125612070602845, 0.6896621371145022, 0.6094781921713732, 0.34493016234053825, 0.34493016234053825, 0.5107413897103762, 0.2553706948551881, 0.33983481050571607, 0.5097522157585741, 0.6087599496293362, 0.19063284315041792, 0.38126568630083585, 0.09531642157520896, 0.09531642157520896, 0.09531642157520896, 0.4379914623464522, 0.4379914623464522, 0.11643398964369533, 0.46573595857478134, 0.05821699482184767, 0.05821699482184767, 0.11643398964369533, 0.05821699482184767, 0.05821699482184767, 0.05821699482184767, 0.07633250167964736, 0.7633250167964737, 0.07633250167964736, 0.07633250167964736, 0.1426357528814729, 0.5705430115258916, 0.1426357528814729, 0.4598355190893334, 0.4598355190893334, 0.184082453741672, 0.368164907483344, 0.184082453741672, 0.06235876213831113, 0.06235876213831113, 0.31179381069155565, 0.49887009710648905, 0.44187855155195327, 0.22093927577597663, 0.22093927577597663, 0.6077438472584206, 0.7438068477118532, 0.10625812110169333, 0.10625812110169333, 0.9163781502724819, 0.6072820621389703, 0.6105528273165436, 0.39012456563821424, 0.19506228281910712, 0.19506228281910712, 0.19506228281910712, 0.2889988776879998, 0.1444994388439999, 0.4334983165319997, 0.13041303449928163, 0.652065172496408, 0.13041303449928163, 0.13041303449928163, 0.6343670245536541, 0.47081814319740123, 0.47081814319740123, 0.7030062378674945, 0.3580709758366517, 0.3580709758366517, 0.4978064806385081, 0.7096546114002412, 0.6200230637070184, 0.913803452978586, 0.761093893801759, 0.11566126026171568, 0.23132252052343136, 0.1445765753271446, 0.11566126026171568, 0.1445765753271446, 0.11566126026171568, 0.02891531506542892, 0.11566126026171568, 0.21088581257133715, 0.12653148754280227, 0.295240137599872, 0.042177162514267424, 0.12653148754280227, 0.042177162514267424, 0.08435432502853485, 0.042177162514267424, 0.08435432502853485, 0.694305055291066, 0.6874979919301893, 0.6950045588338509, 0.6887669151918823, 0.6109522252767668, 0.5549150553640176, 0.2774575276820088, 0.6908577333381847, 0.2376964130238234, 0.4753928260476468, 0.35139701306374443, 0.1561764502505531, 0.11713233768791483, 0.11713233768791483, 0.039044112562638275, 0.11713233768791483, 0.039044112562638275, 0.039044112562638275, 0.748296976461746, 0.5142787315892144, 0.17142624386307148, 0.17142624386307148, 0.17142624386307148, 0.6088586041006265, 0.28171361942682804, 0.14085680971341402, 0.11268544777073121, 0.14085680971341402, 0.056342723885365605, 0.11268544777073121, 0.08451408582804841, 0.028171361942682802, 0.7476226979212254, 0.469884525698475, 0.6104704859000176, 0.21908175210525768, 0.43816350421051536, 0.21908175210525768, 0.23489168534510377, 0.23489168534510377, 0.23489168534510377, 0.23489168534510377, 0.3820595075343057, 0.19102975376715284, 0.19102975376715284, 0.7028016538252823, 0.6887072772354051, 0.6941444843765384, 0.9166570224807405, 0.39848086803920746, 0.4831720131582332, 0.4831720131582332, 0.7037993926758838, 0.7635357974788248, 0.674355342958541, 0.6077465207302327, 0.18857422546128672, 0.28286133819193005, 0.09428711273064336, 0.28286133819193005, 0.09428711273064336, 0.7210008246688793, 0.6072217804712672, 0.45209476069057647, 0.45209476069057647, 0.19169777795397758, 0.22364740761297383, 0.09584888897698879, 0.15974814829498132, 0.12779851863598504, 0.06389925931799252, 0.06389925931799252, 0.06389925931799252, 0.03194962965899626, 0.794650128078745, 0.3642098388503095, 0.3642098388503095, 0.18210491942515475, 0.7036102041370308, 0.6330052072013022, 0.7970974556237271, 0.18465931873159877, 0.18465931873159877, 0.18465931873159877, 0.09232965936579939, 0.09232965936579939, 0.09232965936579939, 0.09232965936579939, 0.16659289816245865, 0.16659289816245865, 0.16659289816245865, 0.3331857963249173, 0.6083707202234779, 0.6382140255794817, 0.2957884677875774, 0.2957884677875774, 0.1478942338937887, 0.4583444739257795, 0.22917223696288974, 0.4733391447492567, 0.23666957237462835, 0.7909818157628878, 0.7263772420618648, 0.6296230286294359, 0.7480933058936324, 0.46956752746625596, 0.6874000648794779, 0.48226790990425306, 0.48226790990425306, 0.6085962577891904, 0.2653553478365612, 0.2653553478365612, 0.05307106956731224, 0.10614213913462447, 0.05307106956731224, 0.05307106956731224, 0.10614213913462447, 0.05307106956731224, 0.31901600537127983, 0.31901600537127983, 0.06380320107425597, 0.06380320107425597, 0.06380320107425597, 0.3989662133706461, 0.19948310668532304, 0.19948310668532304, 0.20405729558176514, 0.40811459116353027, 0.20405729558176514, 0.20421475611544587, 0.5105368902886147, 0.10210737805772294, 0.10210737805772294, 0.10210737805772294, 0.8395553220290694, 0.7477717566691681, 0.22464868556563877, 0.44929737113127755, 0.22464868556563877, 0.3356936669431436, 0.3356936669431436, 0.0839234167357859, 0.0839234167357859, 0.0839234167357859, 0.3553570954298736, 0.3553570954298736, 0.7484284797636334, 0.1731110602588456, 0.276977696414153, 0.1384888482070765, 0.1384888482070765, 0.06924442410353825, 0.10386663615530736, 0.03462221205176912, 0.03462221205176912, 0.23708287137114353, 0.11854143568557177, 0.47416574274228707, 0.11854143568557177, 0.6384125129338294, 0.32248276522451513, 0.32248276522451513, 0.32248276522451513, 0.8378352380954392, 0.6887418372134491, 0.23376035490612715, 0.23376035490612715, 0.4675207098122543, 0.17336262955264087, 0.5200878886579227, 0.17336262955264087, 0.17336262955264087, 0.7037967613298415, 0.4977814467481127, 0.26867642115024, 0.26867642115024, 0.26867642115024, 0.32380306316047575, 0.32380306316047575, 0.32380306316047575, 0.2705768498511729, 0.2705768498511729, 0.2705768498511729, 0.6330770756336352, 0.6087079638287285, 0.7201882921939109, 0.24006276406463697, 0.6893023288866388, 0.34705528892987375, 0.11568509630995791, 0.23137019261991582, 0.11568509630995791, 0.11568509630995791, 0.11568509630995791, 0.6873968986221553, 0.6351494696012467, 0.7918909559848549, 0.821036048069026, 0.22201212649184457, 0.22201212649184457, 0.22201212649184457, 0.22201212649184457, 0.22201212649184457, 0.7483908758735173, 0.4416954611627887, 0.2622108867827891, 0.2622108867827891, 0.2622108867827891, 0.2622108867827891, 0.7084619231060323, 0.695027472392753, 0.7203799990442389, 0.722123877583988, 0.12063830822142368, 0.36191492466427105, 0.12063830822142368, 0.12063830822142368, 0.24127661644284737, 0.6083034362541734, 0.48970796350625106, 0.48970796350625106, 0.5261938194772738, 0.28729572031854755, 0.11491828812741903, 0.11491828812741903, 0.22983657625483805, 0.17237743219112855, 0.057459144063709514, 0.2919659999251277, 0.07299149998128192, 0.2919659999251277, 0.14598299996256384, 0.07299149998128192, 0.07299149998128192, 0.07299149998128192, 0.7835160949241391, 0.08495591110970015, 0.3398236444388006, 0.08495591110970015, 0.1699118222194003, 0.1699118222194003, 0.08495591110970015, 0.3420456392525057, 0.3420456392525057, 0.17102281962625285, 0.5933490080830939, 0.16745101879344176, 0.5023530563803253, 0.16745101879344176, 0.6387020452018344, 0.6083501313592686, 0.7037973282010944, 0.7238482166105994, 0.2500447875370679, 0.2500447875370679, 0.2500447875370679, 0.4697641883234914, 0.6077499774097516, 0.6874319732091051, 0.747839722599652, 0.4524856770147678, 0.4524856770147678, 0.3014449843330492, 0.08612713838087122, 0.25838141514261365, 0.12919070757130682, 0.04306356919043561, 0.12919070757130682, 0.7001367606880997, 0.7080931313080259, 0.2580895592297566, 0.38713433884463494, 0.04301492653829277, 0.08602985307658555, 0.04301492653829277, 0.08602985307658555, 0.08602985307658555, 0.04301492653829277, 0.6077432803570878, 0.6356153956557126, 0.6404679431665365, 0.36586246343892664, 0.060977077239821105, 0.12195415447964221, 0.30488538619910555, 0.060977077239821105, 0.060977077239821105, 0.15372437547670478, 0.4611731264301143, 0.15372437547670478, 0.9091180731814977, 0.46143392436785274, 0.06180100651271058, 0.49440805210168465, 0.06180100651271058, 0.12360201302542116, 0.06180100651271058, 0.06180100651271058, 0.6176435665823906, 0.3088217832911953, 0.8236416508520408, 0.722840459467178, 0.7216960248822027, 0.688676280875151, 0.6761500827452503, 0.1690375206863126, 0.1690375206863126, 0.721971517347984, 0.7036313746869173, 0.26434757003085063, 0.26434757003085063, 0.26434757003085063, 0.688694926766916, 0.21516737353240079, 0.21516737353240079, 0.43033474706480157, 0.17672817097686985, 0.5301845129306095, 0.6886922213110581, 0.19997288972082136, 0.3999457794416427, 0.29995933458123203, 0.6888047332447301, 0.7036122604979952, 0.7096880173610558, 0.4749790083548783, 0.6329951223212313, 0.490126826630295, 0.490126826630295, 0.748157676785795, 0.5027645934270356, 0.3549413973571306, 0.3549413973571306, 0.7223552911232833, 0.723271447664953, 0.0684144136177003, 0.1368288272354006, 0.20524324085310092, 0.0684144136177003, 0.34207206808850155, 0.0684144136177003, 0.0684144136177003, 0.0684144136177003, 0.6357967561995977, 0.7318811720057178, 0.23756989619400046, 0.23756989619400046, 0.23756989619400046, 0.3631441105555791, 0.3631441105555791, 0.3631441105555791, 0.6386410412166115, 0.7627705814617521, 0.7037979630207573, 0.48844437777482946, 0.34437625903725655, 0.34437625903725655, 0.16284171313484325, 0.3256834262696865, 0.08142085656742162, 0.24426256970226484, 0.08142085656742162, 0.709425903477341, 0.5978151252497769, 0.08540216074996812, 0.17080432149993624, 0.4313085838466372, 0.4313085838466372, 0.6129154696609486, 0.6350346536999361, 0.7198016550106254, 0.0944258448878822, 0.2832775346636466, 0.0944258448878822, 0.2832775346636466, 0.0944258448878822, 0.0944258448878822, 0.6347401021458015, 0.7957360839155946, 0.6085048038398224, 0.23743108172682728, 0.23743108172682728, 0.13190615651490406, 0.10552492521192323, 0.07914369390894242, 0.02638123130298081, 0.13190615651490406, 0.05276246260596162, 0.02638123130298081, 0.692042236145671, 0.722583722711259, 0.3628015279794914, 0.3628015279794914, 0.3628015279794914, 0.6887402835064474, 0.6053813185925336, 0.20179377286417788, 0.20179377286417788, 0.6077500645585544, 0.2657620545090937, 0.5315241090181874, 0.5255059410718046, 0.6086144436804171, 0.0926321541757788, 0.1852643083515576, 0.2778964625273364, 0.2778964625273364, 0.0926321541757788, 0.0926321541757788, 0.6287036762161476, 0.06060871811999289, 0.06060871811999289, 0.18182615435997868, 0.4242610268399502, 0.06060871811999289, 0.06060871811999289, 0.06060871811999289, 0.19564974548368552, 0.19564974548368552, 0.19564974548368552, 0.19564974548368552, 0.09782487274184276, 0.04891243637092138, 0.04891243637092138, 0.7028035571570346, 0.5325012491440337, 0.26041153300285624, 0.3906172995042844, 0.13020576650142812, 0.13020576650142812, 0.6086237550804887, 0.2651636814908468, 0.2651636814908468, 0.15909820889450807, 0.10606547259633872, 0.10606547259633872, 0.05303273629816936, 0.6908597279742481, 0.764470352267698, 0.14592968393135164, 0.4377890517940549, 0.14592968393135164, 0.14592968393135164, 0.28701230421645463, 0.07175307605411366, 0.35876538027056826, 0.07175307605411366, 0.07175307605411366, 0.07175307605411366, 0.608530433216678, 0.3355206551969782, 0.5032809827954673, 0.6886941840308539, 0.2090677153191924, 0.2090677153191924, 0.4181354306383848, 0.2994155275123366, 0.5988310550246732, 0.7234106926895113, 0.8472933115351172, 0.43272886617841, 0.216364433089205, 0.216364433089205, 0.2618841695394173, 0.5237683390788346, 0.2618841695394173, 0.7489044672130998, 0.33047881782375577, 0.33047881782375577, 0.6077491116924301, 0.6946508577348841, 0.6248241709632648, 0.3124120854816324, 0.30813745595707004, 0.15406872797853502, 0.30813745595707004, 0.8346018236650629, 0.3708497767777585, 0.18542488838887924, 0.18542488838887924, 0.18542488838887924, 0.6210173394136097, 0.7935966315587101, 0.40888584795976735, 0.6951884065052745, 0.573220780916058, 0.191073593638686, 0.46983026237117415, 0.6086806308652324, 0.8693286818321481, 0.8376092466582259, 0.8405428429062475, 0.6357336160664981, 0.31786680803324907, 0.823437943349682, 0.688743879909662, 0.6100191054313845, 0.15564137066239253, 0.31128274132478506, 0.31128274132478506, 0.15564137066239253, 0.2866248476994253, 0.2866248476994253, 0.2866248476994253, 0.7919607935045758, 0.06599673279204799, 0.06599673279204799, 0.6886892723172264, 0.709357481069058, 0.22437438291531528, 0.11218719145765764, 0.11218719145765764, 0.3365615743729729, 0.11218719145765764, 0.367806478366069, 0.6887353600795976, 0.6981213372595756, 0.11635355620992927, 0.11635355620992927, 0.2291952416139487, 0.4583904832278974, 0.2291952416139487, 0.6099393391173945, 0.18161061444950508, 0.36322122889901015, 0.18161061444950508, 0.18161061444950508, 0.4624573448162, 0.5243616326696242, 0.46016355226981, 0.46016355226981, 0.487566541926147, 0.42878172952553983, 0.42878172952553983, 0.46272523017227696, 0.46747869212267823, 0.23373934606133911, 0.15165375853598748, 0.15165375853598748, 0.15165375853598748, 0.15165375853598748, 0.15165375853598748, 0.15165375853598748, 0.15165375853598748, 0.688704837913013, 0.703608376058782, 0.48408561767106667, 0.7659390233126483, 0.22805568759892555, 0.11402784379946278, 0.22805568759892555, 0.17104176569919416, 0.05701392189973139, 0.17104176569919416, 0.05701392189973139, 0.5944026966744839, 0.29720134833724193, 0.9166638101968294, 0.7776518290168347, 0.7953385017581996, 0.7027638679734312, 0.46154547059810697, 0.49907135033194566, 0.3327142335546304, 0.9138609117093172, 0.10617049819495551, 0.21234099638991102, 0.10617049819495551, 0.42468199277982205, 0.10617049819495551, 0.7215283815134639, 0.5469223071217846, 0.18230743570726154, 0.18230743570726154, 0.8292088705769051, 0.6921092543958385, 0.635105711962384, 0.2286651536831621, 0.6859954610494863, 0.6873897178030335, 0.7097134773311017, 0.638677596110036, 0.4194238923200331, 0.4194238923200331, 0.703577643536797, 0.3864308538749049, 0.3864308538749049, 0.637687502791121, 0.5994666258456749, 0.19982220861522496, 0.8393429190209114, 0.6402560345803783, 0.4677570614705481, 0.4677570614705481, 0.34292427411307386, 0.34292427411307386, 0.17146213705653693, 0.7923274563401709, 0.45297961376521034, 0.09059592275304207, 0.2717877682591262, 0.09059592275304207, 0.722021687543759, 0.6249114793535165, 0.4413839302122442, 0.07356398836870737, 0.36781994184353684, 0.07356398836870737, 0.07356398836870737, 0.6180662021677312, 0.1545165505419328, 0.1545165505419328, 0.3229639102703803, 0.3229639102703803, 0.16148195513519015, 0.16148195513519015, 0.16148195513519015, 0.9115365875654071, 0.23526661430769996, 0.4705332286153999, 0.9115144273932366, 0.7029914443107024, 0.7252612145996551, 0.32710160051296866, 0.32710160051296866, 0.6084536615056271, 0.7039706613823684, 0.8374745356948707, 0.688760776313774, 0.43879155257232627, 0.21939577628616314, 0.21939577628616314, 0.2124749314069269, 0.2124749314069269, 0.2124749314069269, 0.2124749314069269, 0.2124749314069269, 0.22842306764668574, 0.22842306764668574, 0.22842306764668574, 0.22842306764668574, 0.2962873319349498, 0.1481436659674749, 0.1481436659674749, 0.1481436659674749, 0.1481436659674749, 0.1481436659674749, 0.7017862289051687, 0.41414256924069065, 0.41414256924069065, 0.7035509676862911, 0.9115386623767195, 0.4194795929532005, 0.20973979647660024, 0.20973979647660024, 0.9137298678273393, 0.30012588657007144, 0.6002517731401429, 0.2423231113772172, 0.2423231113772172, 0.2423231113772172, 0.08800678465197564, 0.6160474925638295, 0.08800678465197564, 0.1760135693039513], \"Term\": [\"accord\", \"accord\", \"accord\", \"accord\", \"accord\", \"account\", \"account\", \"account\", \"account\", \"account\", \"achiev\", \"achiev\", \"achiev\", \"achiev\", \"acknowledg\", \"action\", \"action\", \"action\", \"action\", \"action\", \"action\", \"activ\", \"actor\", \"adapt\", \"adapt\", \"adapt\", \"adapt\", \"adapt\", \"adaptabrasil\", \"addit\", \"addit\", \"address\", \"address\", \"address\", \"adopt\", \"adopt\", \"adopt\", \"advanc\", \"affect\", \"aggreg\", \"agre\", \"agre\", \"agreement\", \"agreement\", \"agreement\", \"agreement\", \"agreement\", \"agreement\", \"agreement\", \"agroforestri\", \"allow\", \"ambit\", \"ambit\", \"ambiti\", \"ambiti\", \"andor\", \"andor\", \"annex\", \"anthropogen\", \"anthropogen\", \"anthropogen\", \"anthropogen\", \"anthropogen\", \"appli\", \"appli\", \"applic\", \"applic\", \"applic\", \"applic\", \"applic\", \"applic\", \"applic\", \"applic\", \"approach\", \"approach\", \"approach\", \"approach\", \"appropri\", \"appropri\", \"appropri\", \"approxim\", \"approxim\", \"area\", \"area\", \"area\", \"articl\", \"articl\", \"articl\", \"articl\", \"assess\", \"assess\", \"assess\", \"associ\", \"assumpt\", \"assumpt\", \"assumpt\", \"atmospher\", \"attent\", \"attribut\", \"avail\", \"avail\", \"avail\", \"avail\", \"averag\", \"averag\", \"averag\", \"base\", \"base\", \"base\", \"base\", \"baselin\", \"basi\", \"basi\", \"believ\", \"best\", \"best\", \"better\", \"biofuel\", \"biom\", \"biomass\", \"bras\\u00edlia\", \"brazil\", \"brazil\", \"brazil\", \"brazil\", \"brazil\", \"brazil\", \"brazil\", \"brazil\", \"brazilian\", \"brazilian\", \"brazilian\", \"brazilian\", \"brazilian\", \"brazilian\", \"brazilian\", \"brazilian\", \"brazilian\", \"broad\", \"calcul\", \"capabl\", \"capac\", \"capita\", \"carbon\", \"carbon\", \"cattl\", \"challeng\", \"challeng\", \"chang\", \"chang\", \"chang\", \"chang\", \"chang\", \"chang\", \"chang\", \"chang\", \"choos\", \"circumst\", \"circumst\", \"circumst\", \"circumst\", \"clariti\", \"climat\", \"climat\", \"climat\", \"climat\", \"climat\", \"climat\", \"climat\", \"climat\", \"code\", \"collect\", \"come\", \"commit\", \"commit\", \"commit\", \"communic\", \"communic\", \"communic\", \"communic\", \"compar\", \"compar\", \"compar\", \"compat\", \"compens\", \"compon\", \"concentr\", \"condit\", \"confer\", \"confer\", \"confid\", \"confirm\", \"connect\", \"consent\", \"consist\", \"consist\", \"consist\", \"consist\", \"consist\", \"consolid\", \"constitut\", \"context\", \"context\", \"contribut\", \"contribut\", \"contribut\", \"contribut\", \"contribut\", \"contribut\", \"contribut\", \"contribut\", \"contribut\", \"control\", \"convent\", \"convent\", \"convent\", \"coordin\", \"cope\", \"correspond\", \"countri\", \"countri\", \"countri\", \"countri\", \"countri\", \"countri\", \"countri\", \"cover\", \"cover\", \"cover\", \"cover\", \"coverag\", \"criteria\", \"current\", \"current\", \"current\", \"cycl\", \"cycl\", \"decis\", \"decis\", \"decre\", \"decreas\", \"definit\", \"deforest\", \"demand\", \"depend\", \"despit\", \"despit\", \"detail\", \"determin\", \"determin\", \"determin\", \"determin\", \"determin\", \"determin\", \"determin\", \"determin\", \"develop\", \"develop\", \"develop\", \"develop\", \"develop\", \"differ\", \"differ\", \"differ\", \"diversif\", \"diversif\", \"diversif\", \"econom\", \"econom\", \"econom\", \"econom\", \"econom\", \"economi\", \"ecosystem\", \"effect\", \"effect\", \"effect\", \"effort\", \"effort\", \"effort\", \"effort\", \"effort\", \"electr\", \"electr\", \"elimin\", \"emiss\", \"emiss\", \"emiss\", \"emiss\", \"emiss\", \"emiss\", \"emiss\", \"emiss\", \"energi\", \"energi\", \"energi\", \"energi\", \"entiti\", \"environment\", \"environment\", \"environment\", \"equatori\", \"equiti\", \"establish\", \"establish\", \"establish\", \"estim\", \"estim\", \"estim\", \"estim\", \"evalu\", \"exampl\", \"exceed\", \"exceed\", \"exceed\", \"exist\", \"exist\", \"exist\", \"experi\", \"experi\", \"experi\", \"face\", \"facilit\", \"fair\", \"fair\", \"farm\", \"feder\", \"feder\", \"feder\", \"feder\", \"feder\", \"feder\", \"fifth\", \"fight\", \"food\", \"forcer\", \"forest\", \"forest\", \"forest\", \"forest\", \"forest\", \"fragil\", \"frame\", \"framework\", \"framework\", \"framework\", \"framework\", \"fuel\", \"fulli\", \"futur\", \"gain\", \"gas\", \"gas\", \"gas\", \"gas\", \"gas\", \"general\", \"give\", \"give\", \"glasgow\", \"global\", \"global\", \"global\", \"global\", \"global\", \"global\", \"govern\", \"govern\", \"govern\", \"govern\", \"govern\", \"govern\", \"govern\", \"government\", \"greenhous\", \"greenhous\", \"greenhous\", \"greenhous\", \"greenhous\", \"greenhous\", \"growth\", \"growth\", \"growth\", \"guidanc\", \"guidelin\", \"guidelin\", \"guidelin\", \"have\", \"hfcs\", \"high\", \"highest\", \"histor\", \"histor\", \"histor\", \"hold\", \"hous\", \"identifi\", \"illeg\", \"impact\", \"impact\", \"implement\", \"implement\", \"implement\", \"implement\", \"implement\", \"implement\", \"incent\", \"incentiv\", \"includ\", \"includ\", \"includ\", \"includ\", \"includ\", \"includ\", \"includ\", \"includ\", \"inclus\", \"incom\", \"incorpor\", \"increas\", \"increas\", \"increas\", \"increas\", \"increas\", \"increas\", \"indic\", \"indic\", \"indic\", \"individu\", \"industri\", \"inform\", \"inform\", \"inform\", \"inform\", \"inform\", \"inform\", \"infrastructur\", \"infrastructur\", \"initi\", \"innov\", \"inp\", \"instal\", \"institut\", \"institut\", \"institut\", \"intend\", \"intent\", \"interfer\", \"interfer\", \"interfer\", \"intermitt\", \"intern\", \"intern\", \"intern\", \"inventori\", \"inventori\", \"invest\", \"ipcc\", \"ipcc\", \"ipcc\", \"issu\", \"itmo\", \"join\", \"joint\", \"keep\", \"kind\", \"kind\", \"landown\", \"latest\", \"law\", \"law\", \"learn\", \"lesson\", \"level\", \"level\", \"level\", \"level\", \"level\", \"level\", \"level\", \"level\", \"life\", \"light\", \"limit\", \"limit\", \"limit\", \"longterm\", \"longterm\", \"longterm\", \"mainstream\", \"march\", \"margin\", \"mcti\", \"mean\", \"mean\", \"measur\", \"measur\", \"measur\", \"measur\", \"measur\", \"member\", \"methodolog\", \"methodolog\", \"methodolog\", \"metric\", \"metric\", \"million\", \"minimum\", \"ministri\", \"mitig\", \"mitig\", \"mitig\", \"mitig\", \"mitig\", \"mitig\", \"model\", \"montreal\", \"multiyear\", \"nation\", \"nation\", \"nation\", \"nation\", \"nation\", \"nation\", \"nation\", \"nation\", \"nation\", \"ndcs\", \"network\", \"neutral\", \"neutral\", \"neutral\", \"nonetheless\", \"object\", \"object\", \"object\", \"obtain\", \"outcom\", \"outcom\", \"pact\", \"panel\", \"paragraph\", \"paragraph\", \"paragraph\", \"paragraph\", \"paragraph\", \"paragraph\", \"paramet\", \"pari\", \"pari\", \"pari\", \"pari\", \"pari\", \"pari\", \"pari\", \"parti\", \"parti\", \"parti\", \"parti\", \"parti\", \"parti\", \"parti\", \"peak\", \"percentag\", \"period\", \"period\", \"period\", \"period\", \"pfcs\", \"plan\", \"plan\", \"plan\", \"plan\", \"plan\", \"plan\", \"plant\", \"pleas\", \"point\", \"point\", \"point\", \"point\", \"polici\", \"polici\", \"polici\", \"polici\", \"polici\", \"polici\", \"pool\", \"popul\", \"popul\", \"post\", \"potenti\", \"potenti\", \"potenti\", \"poverti\", \"poverti\", \"practic\", \"preindustri\", \"prepar\", \"prepar\", \"prepar\", \"present\", \"present\", \"present\", \"preserv\", \"principl\", \"principl\", \"prior\", \"problem\", \"process\", \"process\", \"product\", \"product\", \"product\", \"progress\", \"project\", \"project\", \"project\", \"project\", \"protect\", \"protocol\", \"provid\", \"provis\", \"public\", \"public\", \"pursu\", \"quantif\", \"quantifi\", \"rainfal\", \"rainforest\", \"rang\", \"rang\", \"rank\", \"rapid\", \"reconstruct\", \"reduc\", \"reduc\", \"reduc\", \"reduc\", \"reduct\", \"reduct\", \"reduct\", \"refer\", \"refer\", \"refer\", \"reflect\", \"region\", \"relat\", \"relat\", \"relat\", \"relat\", \"relat\", \"relev\", \"remain\", \"remov\", \"remov\", \"remov\", \"renew\", \"renew\", \"renew\", \"replac\", \"report\", \"report\", \"report\", \"report\", \"repres\", \"republ\", \"requir\", \"requir\", \"research\", \"resourc\", \"resourc\", \"respect\", \"respons\", \"respons\", \"result\", \"result\", \"result\", \"result\", \"result\", \"result\", \"result\", \"revolut\", \"rule\", \"scienc\", \"secretariat\", \"sector\", \"sector\", \"sector\", \"sector\", \"sector\", \"sector\", \"sector\", \"secur\", \"secur\", \"signific\", \"singleyear\", \"sink\", \"sizeabl\", \"small\", \"social\", \"social\", \"solar\", \"sourc\", \"sourc\", \"sourc\", \"sourc\", \"sourc\", \"space\", \"specif\", \"specif\", \"specif\", \"spite\", \"stabil\", \"standard\", \"start\", \"start\", \"stipul\", \"stock\", \"strateg\", \"strategi\", \"strategi\", \"strive\", \"submit\", \"submit\", \"subnat\", \"subsequ\", \"subsequ\", \"subtrop\", \"support\", \"surfac\", \"surfac\", \"sustain\", \"sustain\", \"sustain\", \"synergi\", \"target\", \"target\", \"target\", \"target\", \"teach\", \"technic\", \"temperatur\", \"temperatur\", \"temperatur\", \"temperatur\", \"temperatur\", \"term\", \"term\", \"term\", \"territori\", \"territori\", \"territori\", \"territori\", \"territori\", \"tier\", \"time\", \"time\", \"timehorizon\", \"token\", \"tool\", \"transfer\", \"transfer\", \"translat\", \"transport\", \"tropic\", \"uncondit\", \"understand\", \"understand\", \"understand\", \"unfccc\", \"unfccc\", \"unfccc\", \"unfccc\", \"unfccc\", \"unit\", \"unit\", \"unit\", \"unit\", \"updat\", \"updat\", \"updat\", \"updat\", \"updat\", \"updat\", \"use\", \"valu\", \"valu\", \"voluntari\", \"warm\", \"water\", \"water\", \"water\", \"wind\", \"work\", \"work\", \"world\", \"world\", \"world\", \"year\", \"year\", \"year\", \"year\"]}, \"R\": 30, \"lambda.step\": 0.01, \"plot.opts\": {\"xlab\": \"PC1\", \"ylab\": \"PC2\"}, \"topic.order\": [7, 3, 9, 8, 1, 10, 2, 4, 6, 5]};\n",
       "\n",
       "function LDAvis_load_lib(url, callback){\n",
       "  var s = document.createElement('script');\n",
       "  s.src = url;\n",
       "  s.async = true;\n",
       "  s.onreadystatechange = s.onload = callback;\n",
       "  s.onerror = function(){console.warn(\"failed to load library \" + url);};\n",
       "  document.getElementsByTagName(\"head\")[0].appendChild(s);\n",
       "}\n",
       "\n",
       "if(typeof(LDAvis) !== \"undefined\"){\n",
       "   // already loaded: just create the visualization\n",
       "   !function(LDAvis){\n",
       "       new LDAvis(\"#\" + \"ldavis_el2004424973848082242456800582\", ldavis_el2004424973848082242456800582_data);\n",
       "   }(LDAvis);\n",
       "}else if(typeof define === \"function\" && define.amd){\n",
       "   // require.js is available: use it to load d3/LDAvis\n",
       "   require.config({paths: {d3: \"https://d3js.org/d3.v5\"}});\n",
       "   require([\"d3\"], function(d3){\n",
       "      window.d3 = d3;\n",
       "      LDAvis_load_lib(\"https://cdn.jsdelivr.net/gh/bmabey/pyLDAvis@3.3.1/pyLDAvis/js/ldavis.v3.0.0.js\", function(){\n",
       "        new LDAvis(\"#\" + \"ldavis_el2004424973848082242456800582\", ldavis_el2004424973848082242456800582_data);\n",
       "      });\n",
       "    });\n",
       "}else{\n",
       "    // require.js not available: dynamically load d3 & LDAvis\n",
       "    LDAvis_load_lib(\"https://d3js.org/d3.v5.js\", function(){\n",
       "         LDAvis_load_lib(\"https://cdn.jsdelivr.net/gh/bmabey/pyLDAvis@3.3.1/pyLDAvis/js/ldavis.v3.0.0.js\", function(){\n",
       "                 new LDAvis(\"#\" + \"ldavis_el2004424973848082242456800582\", ldavis_el2004424973848082242456800582_data);\n",
       "            })\n",
       "         });\n",
       "}\n",
       "</script>"
      ],
      "text/plain": [
       "PreparedData(topic_coordinates=              x         y  topics  cluster       Freq\n",
       "topic                                                \n",
       "6     -0.018309 -0.091823       1        1  19.802743\n",
       "2     -0.168457  0.033137       2        1  17.498733\n",
       "8      0.048320 -0.051488       3        1  15.732607\n",
       "7      0.000249 -0.012834       4        1  12.778181\n",
       "0      0.090930  0.124670       5        1   9.489100\n",
       "9     -0.006630  0.034043       6        1   7.792639\n",
       "1      0.014912 -0.022407       7        1   6.510746\n",
       "3     -0.011273  0.011444       8        1   4.409722\n",
       "5      0.076189 -0.047953       9        1   3.944646\n",
       "4     -0.025931  0.023210      10        1   2.040883, topic_info=          Term       Freq      Total Category  logprob  loglift\n",
       "92       refer  15.000000  15.000000  Default  30.0000  30.0000\n",
       "104     articl  16.000000  16.000000  Default  29.0000  29.0000\n",
       "26      nation  37.000000  37.000000  Default  28.0000  28.0000\n",
       "5       brazil  34.000000  34.000000  Default  27.0000  27.0000\n",
       "3    agreement  19.000000  19.000000  Default  26.0000  26.0000\n",
       "..         ...        ...        ...      ...      ...      ...\n",
       "14   contribut   0.635171  31.299267  Topic10  -4.2574  -0.0057\n",
       "16    determin   0.489611  18.842658  Topic10  -4.5177   0.2415\n",
       "115       plan   0.401951  18.856278  Topic10  -4.7149   0.0435\n",
       "5       brazil   0.399110  34.583749  Topic10  -4.7220  -0.5701\n",
       "31       parti   0.354741  20.444698  Topic10  -4.8399  -0.1623\n",
       "\n",
       "[572 rows x 6 columns], token_table=      Topic      Freq    Term\n",
       "term                         \n",
       "158       1  0.273442  accord\n",
       "158       2  0.136721  accord\n",
       "158       3  0.136721  accord\n",
       "158       5  0.136721  accord\n",
       "158       7  0.136721  accord\n",
       "...     ...       ...     ...\n",
       "532       9  0.242323   world\n",
       "103       1  0.088007    year\n",
       "103       2  0.616047    year\n",
       "103       3  0.088007    year\n",
       "103       6  0.176014    year\n",
       "\n",
       "[803 rows x 3 columns], R=30, lambda_step=0.01, plot_opts={'xlab': 'PC1', 'ylab': 'PC2'}, topic_order=[7, 3, 9, 8, 1, 10, 2, 4, 6, 5])"
      ]
     },
     "execution_count": 29,
     "metadata": {},
     "output_type": "execute_result"
    }
   ],
   "source": [
    "#Creating Topic Distance Visualization \n",
    "pyLDAvis.enable_notebook()\n",
    "p = pyLDAvis.gensim_models.prepare(lda_model, bow_corpus, dictionary)\n",
    "p"
   ]
  },
  {
   "cell_type": "code",
   "execution_count": 30,
   "id": "52be34d8",
   "metadata": {},
   "outputs": [
    {
     "name": "stdout",
     "output_type": "stream",
     "text": [
      "Score: 0.41601282358169556\t Topic: 0.009*\"stronger\" + 0.009*\"contribut\" + 0.007*\"articl\" + 0.006*\"adapt\" + 0.006*\"resili\"\n",
      "Score: 0.3170984983444214\t Topic: 0.012*\"transpar\" + 0.009*\"clariti\" + 0.009*\"understand\" + 0.009*\"decis\" + 0.009*\"refer\"\n",
      "Score: 0.03336329013109207\t Topic: 0.007*\"updat\" + 0.007*\"ambit\" + 0.007*\"independ\" + 0.007*\"greenhous\" + 0.006*\"public\"\n",
      "Score: 0.03336196765303612\t Topic: 0.009*\"industri\" + 0.008*\"train\" + 0.008*\"energi\" + 0.008*\"data\" + 0.008*\"resourc\"\n",
      "Score: 0.03336058184504509\t Topic: 0.003*\"transpar\" + 0.003*\"contribut\" + 0.003*\"target\" + 0.003*\"understand\" + 0.003*\"facilit\"\n",
      "Score: 0.03336058184504509\t Topic: 0.003*\"transpar\" + 0.003*\"refer\" + 0.003*\"target\" + 0.003*\"contribut\" + 0.003*\"understand\"\n",
      "Score: 0.03336057439446449\t Topic: 0.014*\"report\" + 0.010*\"biennial\" + 0.010*\"detail\" + 0.008*\"transpar\" + 0.007*\"target\"\n",
      "Score: 0.03336057439446449\t Topic: 0.013*\"vehicl\" + 0.010*\"electr\" + 0.007*\"agenc\" + 0.006*\"establish\" + 0.006*\"commonwealth\"\n",
      "Score: 0.033360570669174194\t Topic: 0.009*\"grid\" + 0.009*\"econom\" + 0.009*\"billion\" + 0.007*\"renew\" + 0.006*\"invest\"\n",
      "Score: 0.0333605632185936\t Topic: 0.012*\"target\" + 0.009*\"licenc\" + 0.009*\"previous\" + 0.008*\"creativ\" + 0.008*\"common\"\n"
     ]
    }
   ],
   "source": [
    "unseen_document = 'Determining this huge process was quiet nice'\n",
    "bow_vector = dictionary.doc2bow(preprocess(unseen_document))\n",
    "\n",
    "for index, score in sorted(lda_model_tfidf[bow_vector], key=lambda tup: -1*tup[1]):\n",
    "    print(\"Score: {}\\t Topic: {}\".format(score, lda_model_tfidf.print_topic(index, 5)))"
   ]
  }
 ],
 "metadata": {
  "kernelspec": {
   "display_name": "Python 3 (ipykernel)",
   "language": "python",
   "name": "python3"
  },
  "language_info": {
   "codemirror_mode": {
    "name": "ipython",
    "version": 3
   },
   "file_extension": ".py",
   "mimetype": "text/x-python",
   "name": "python",
   "nbconvert_exporter": "python",
   "pygments_lexer": "ipython3",
   "version": "3.9.12"
  }
 },
 "nbformat": 4,
 "nbformat_minor": 5
}
