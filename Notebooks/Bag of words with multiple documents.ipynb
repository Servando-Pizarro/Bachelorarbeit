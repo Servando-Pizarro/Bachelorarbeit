{
 "cells": [
  {
   "cell_type": "code",
   "execution_count": 3,
   "id": "981b8252",
   "metadata": {},
   "outputs": [],
   "source": [
    "import glob, os, sys; sys.path.append('../src')\n",
    "\n",
    "from typing import Callable, Dict, List, Optional\n",
    "\n",
    "import pandas as pd\n",
    "from pathlib import Path\n",
    "import re\n",
    "import logging\n",
    "import string \n",
    "import pandas as pd\n",
    "#from keybert import KeyBERT\n",
    "\n",
    "import os\n",
    "os.environ[\"TOKENIZERS_PARALLELISM\"] = \"false\"\n",
    "\n",
    "logger = logging.getLogger(__name__)\n",
    "import haystack\n",
    "from haystack.utils import convert_files_to_docs, fetch_archive_from_http\n",
    "from haystack.nodes.file_converter import BaseConverter, DocxToTextConverter, PDFToTextConverter, TextConverter\n",
    "from haystack.schema import Document\n",
    "import pdfplumber\n",
    "\n",
    "from haystack.nodes import PreProcessor\n",
    "import streamlit as st"
   ]
  },
  {
   "cell_type": "code",
   "execution_count": 4,
   "id": "53349185",
   "metadata": {},
   "outputs": [],
   "source": [
    "# Function for reading txt,pdf and docx files \n",
    "\n",
    "def load_document(\n",
    "    file: str,\n",
    "    encoding: Optional[str] = None,\n",
    "    id_hash_keys: Optional[List[str]] = None,\n",
    ") -> List[Document]:\n",
    "    \n",
    "    \"\"\"\n",
    "    takes docx, txt and pdf files as input and extracts text as well as the filename as metadata. Since haystack\n",
    "    does not take care of all pdf files, pdfplumber is attached to the pipeline in case the pdf extraction fails\n",
    "    via Haystack.\n",
    "\n",
    "    Returns a list of type haystack.schema.Document\n",
    "    \"\"\"\n",
    "\n",
    "    if file.endswith('.pdf'):\n",
    "        converter = PDFToTextConverter(remove_numeric_tables=True)\n",
    "    if file.endswith('.txt'):\n",
    "        converter = TextConverter()\n",
    "    if file.endswith('.docx'):\n",
    "        converter = DocxToTextConverter()\n",
    "\n",
    "    print(converter)\n",
    "    documents = []\n",
    "\n",
    "    logger.info(\"Converting {}\".format(file))\n",
    "    # PDFToTextConverter, TextConverter, and DocxToTextConverter return a list containing a single Document\n",
    "    document = converter.convert(\n",
    "                file_path=file, meta=None, encoding=encoding, id_hash_keys=id_hash_keys\n",
    "            )[0]\n",
    "    text = document.content\n",
    "    documents.append(Document(content=text, meta={\"name\": file}, id_hash_keys=id_hash_keys))\n",
    "    \n",
    "    '''check if text is empty and apply different pdf processor. This can happen whith certain pdf types.'''\n",
    "    \n",
    "    return documents"
   ]
  },
  {
   "cell_type": "code",
   "execution_count": 5,
   "id": "2a069b76",
   "metadata": {},
   "outputs": [],
   "source": [
    "'''basic cleaning - suitable for transformer models'''\n",
    "def basic(s):\n",
    "    \"\"\"\n",
    "    :param s: string to be processed\n",
    "    :return: processed string: see comments in the source code for more info\n",
    "    \"\"\"\n",
    "    # Text Lowercase\n",
    "    s = s.lower() \n",
    "    # Remove punctuation\n",
    "    translator = str.maketrans(' ', ' ', string.punctuation) \n",
    "    s = s.translate(translator)\n",
    "    # Remove URLs\n",
    "    s = re.sub(r'^https?:\\/\\/.*[\\r\\n]*', ' ', s, flags=re.MULTILINE)\n",
    "    s = re.sub(r\"http\\S+\", \" \", s)\n",
    "    # Remove new line characters\n",
    "    s = re.sub('\\n', ' ', s) \n",
    "  \n",
    "    # Remove distracting single quotes\n",
    "    s = re.sub(\"\\'\", \" \", s) \n",
    "    # Remove all remaining numbers and non alphanumeric characters\n",
    "    s = re.sub(r'\\d+', ' ', s) \n",
    "    s = re.sub(r'\\W+', ' ', s)\n",
    "\n",
    "    # define custom words to replace:\n",
    "    #s = re.sub(r'strengthenedstakeholder', 'strengthened stakeholder', s)\n",
    "    \n",
    "    return s.strip()\n",
    "\n",
    " \n",
    "\n",
    "def preprocessing(document):\n",
    "\n",
    "    \"\"\"\n",
    "    takes in haystack document object and splits it into paragraphs and applies simple cleaning.\n",
    "\n",
    "    Returns cleaned list of haystack document objects. One paragraph per object. Also returns pandas df and \n",
    "    list that contains all text joined together.\n",
    "    \"\"\"    \n",
    "\n",
    "    preprocessor = PreProcessor(\n",
    "        clean_empty_lines=True,\n",
    "        clean_whitespace=True,\n",
    "        clean_header_footer=True,\n",
    "        split_by=\"word\",\n",
    "        split_length=120,\n",
    "        split_respect_sentence_boundary=True,\n",
    "        #split_overlap=5\n",
    "    )\n",
    "    for i in document:\n",
    "        docs_processed = preprocessor.process([i])\n",
    "        for item in docs_processed:\n",
    "            item.content = basic(item.content)\n",
    "\n",
    "    print(\"your document has been splitted to\", len(docs_processed), \"paragraphs\")\n",
    "    \n",
    "    # create dataframe of text and list of all text\n",
    "    df = pd.DataFrame(docs_processed)\n",
    "    all_text = \" \".join(df.content.to_list())\n",
    "    par_list = df.content.to_list()\n",
    "\n",
    "    return df"
   ]
  },
  {
   "cell_type": "code",
   "execution_count": 6,
   "id": "cb0bce5b",
   "metadata": {},
   "outputs": [
    {
     "name": "stdout",
     "output_type": "stream",
     "text": [
      "Current working directory: C:\\Users\\serva\\Downloads\\NDCs\n",
      "Files in 'C:\\\\Users\\\\serva\\\\Downloads\\\\NDCs': ['Australias NDC June 2022 Update.docx', 'BOTSWANA.docx', 'EU_NDC_Submission_December 2020.docx', 'Updated - First NDC - FINAL - PDF.docx']\n"
     ]
    }
   ],
   "source": [
    "import os\n",
    "\n",
    "# Change the current working directory\n",
    "os.chdir('C:\\\\Users\\\\serva\\\\Downloads\\\\NDCs')\n",
    "\n",
    "# Print the current working directory\n",
    "print(\"Current working directory: {0}\".format(os.getcwd()))\n",
    "\n",
    "\n",
    "cwd = os.getcwd()  # Get the current working directory (cwd)\n",
    "files = os.listdir(cwd)  # Get all the files in that directory\n",
    "print(\"Files in %r: %s\" % (cwd, files))\n",
    "\n",
    "\n",
    "# Safe directory in a var\n",
    "directory_in_str='C:\\\\Users\\\\serva\\\\Downloads\\\\NDCs'\n",
    "directory = os.fsencode(directory_in_str)\n"
   ]
  },
  {
   "cell_type": "code",
   "execution_count": 38,
   "id": "f1f03e59",
   "metadata": {},
   "outputs": [
    {
     "name": "stderr",
     "output_type": "stream",
     "text": [
      "INFO - __main__ -  Converting Australias NDC June 2022 Update.docx\n",
      "2022-08-16 18:33:26.461 INFO    __main__: Converting Australias NDC June 2022 Update.docx\n"
     ]
    },
    {
     "name": "stdout",
     "output_type": "stream",
     "text": [
      "<haystack.nodes.file_converter.docx.DocxToTextConverter object at 0x00000260AD180AF0>\n"
     ]
    },
    {
     "name": "stderr",
     "output_type": "stream",
     "text": [
      "100%|██████████████████████████████████████████████████████████████████████████████████| 1/1 [00:00<00:00, 37.15docs/s]"
     ]
    },
    {
     "name": "stdout",
     "output_type": "stream",
     "text": [
      "your document has been splitted to 14 paragraphs\n"
     ]
    },
    {
     "name": "stderr",
     "output_type": "stream",
     "text": [
      "\n",
      "C:\\Users\\serva\\AppData\\Local\\Temp\\ipykernel_1868\\47479314.py:16: FutureWarning: The frame.append method is deprecated and will be removed from pandas in a future version. Use pandas.concat instead.\n",
      "  data=data.append(df)\n",
      "INFO - __main__ -  Converting BOTSWANA.docx\n",
      "2022-08-16 18:33:27.476 INFO    __main__: Converting BOTSWANA.docx\n"
     ]
    },
    {
     "name": "stdout",
     "output_type": "stream",
     "text": [
      "<haystack.nodes.file_converter.docx.DocxToTextConverter object at 0x00000260A622FA90>\n"
     ]
    },
    {
     "name": "stderr",
     "output_type": "stream",
     "text": [
      "100%|█████████████████████████████████████████████████████████████████████████████████| 1/1 [00:00<00:00, 171.47docs/s]\n",
      "C:\\Users\\serva\\AppData\\Local\\Temp\\ipykernel_1868\\47479314.py:16: FutureWarning: The frame.append method is deprecated and will be removed from pandas in a future version. Use pandas.concat instead.\n",
      "  data=data.append(df)\n",
      "INFO - __main__ -  Converting EU_NDC_Submission_December 2020.docx\n",
      "2022-08-16 18:33:27.543 INFO    __main__: Converting EU_NDC_Submission_December 2020.docx\n"
     ]
    },
    {
     "name": "stdout",
     "output_type": "stream",
     "text": [
      "your document has been splitted to 9 paragraphs\n",
      "<haystack.nodes.file_converter.docx.DocxToTextConverter object at 0x00000260A622FA90>\n"
     ]
    },
    {
     "name": "stderr",
     "output_type": "stream",
     "text": [
      "  0%|                                                                                          | 0/1 [00:00<?, ?docs/s]WARNING - haystack.nodes.preprocessor.preprocessor -  One or more sentence found with word count higher than the split length.\n",
      "2022-08-16 18:33:27.591 WARNING haystack.nodes.preprocessor.preprocessor: One or more sentence found with word count higher than the split length.\n",
      "100%|██████████████████████████████████████████████████████████████████████████████████| 1/1 [00:00<00:00, 59.92docs/s]"
     ]
    },
    {
     "name": "stdout",
     "output_type": "stream",
     "text": [
      "your document has been splitted to 38 paragraphs\n"
     ]
    },
    {
     "name": "stderr",
     "output_type": "stream",
     "text": [
      "\n",
      "C:\\Users\\serva\\AppData\\Local\\Temp\\ipykernel_1868\\47479314.py:16: FutureWarning: The frame.append method is deprecated and will be removed from pandas in a future version. Use pandas.concat instead.\n",
      "  data=data.append(df)\n"
     ]
    },
    {
     "ename": "UnboundLocalError",
     "evalue": "local variable 'converter' referenced before assignment",
     "output_type": "error",
     "traceback": [
      "\u001b[1;31m---------------------------------------------------------------------------\u001b[0m",
      "\u001b[1;31mUnboundLocalError\u001b[0m                         Traceback (most recent call last)",
      "Input \u001b[1;32mIn [38]\u001b[0m, in \u001b[0;36m<cell line: 10>\u001b[1;34m()\u001b[0m\n\u001b[0;32m     10\u001b[0m \u001b[38;5;28;01mfor\u001b[39;00m file \u001b[38;5;129;01min\u001b[39;00m os\u001b[38;5;241m.\u001b[39mlistdir(directory):\n\u001b[0;32m     11\u001b[0m     filename \u001b[38;5;241m=\u001b[39m os\u001b[38;5;241m.\u001b[39mfsdecode(file)\n\u001b[1;32m---> 12\u001b[0m     docs\u001b[38;5;241m=\u001b[39m\u001b[43mload_document\u001b[49m\u001b[43m(\u001b[49m\u001b[43mfilename\u001b[49m\u001b[43m)\u001b[49m\n\u001b[0;32m     13\u001b[0m \u001b[38;5;66;03m# Using the Preprocessor to create df and text \u001b[39;00m\n\u001b[0;32m     14\u001b[0m     df[\u001b[38;5;124m\"\u001b[39m\u001b[38;5;124mCountry\u001b[39m\u001b[38;5;124m\"\u001b[39m]\u001b[38;5;241m=\u001b[39mfilename\n",
      "Input \u001b[1;32mIn [4]\u001b[0m, in \u001b[0;36mload_document\u001b[1;34m(file, encoding, id_hash_keys)\u001b[0m\n\u001b[0;32m     21\u001b[0m \u001b[38;5;28;01mif\u001b[39;00m file\u001b[38;5;241m.\u001b[39mendswith(\u001b[38;5;124m'\u001b[39m\u001b[38;5;124m.docx\u001b[39m\u001b[38;5;124m'\u001b[39m):\n\u001b[0;32m     22\u001b[0m     converter \u001b[38;5;241m=\u001b[39m DocxToTextConverter()\n\u001b[1;32m---> 24\u001b[0m \u001b[38;5;28mprint\u001b[39m(\u001b[43mconverter\u001b[49m)\n\u001b[0;32m     25\u001b[0m documents \u001b[38;5;241m=\u001b[39m []\n\u001b[0;32m     27\u001b[0m logger\u001b[38;5;241m.\u001b[39minfo(\u001b[38;5;124m\"\u001b[39m\u001b[38;5;124mConverting \u001b[39m\u001b[38;5;132;01m{}\u001b[39;00m\u001b[38;5;124m\"\u001b[39m\u001b[38;5;241m.\u001b[39mformat(file))\n",
      "\u001b[1;31mUnboundLocalError\u001b[0m: local variable 'converter' referenced before assignment"
     ]
    }
   ],
   "source": [
    "#Test\n",
    "\"\"\"\"data=pd.DataFrame(columns=[\"content\",\"id\",\"meta\",\"score\",\"embedding\"])\n",
    "df=preprocessing(docs)\n",
    "data1=data.append(df)\n",
    "\n",
    "print(data1)\"\"\"\n",
    "\n",
    "data=pd.DataFrame(columns=[\"content\",\"id\",\"meta\",\"score\",\"embedding\"])\n",
    "\n",
    "for file in os.listdir(directory):\n",
    "    filename = os.fsdecode(file)\n",
    "    docs=load_document(filename)\n",
    "# Using the Preprocessor to create df and text \n",
    "    df[\"Country\"]=filename\n",
    "    df = preprocessing(docs)\n",
    "    data=data.append(df)\n"
   ]
  },
  {
   "cell_type": "code",
   "execution_count": 39,
   "id": "a3de94cb",
   "metadata": {},
   "outputs": [
    {
     "data": {
      "text/plain": [
       "61"
      ]
     },
     "execution_count": 39,
     "metadata": {},
     "output_type": "execute_result"
    }
   ],
   "source": [
    "data.head(5)\n",
    "len(data)"
   ]
  },
  {
   "cell_type": "code",
   "execution_count": 40,
   "id": "0988822a",
   "metadata": {},
   "outputs": [
    {
     "data": {
      "text/html": [
       "<div>\n",
       "<style scoped>\n",
       "    .dataframe tbody tr th:only-of-type {\n",
       "        vertical-align: middle;\n",
       "    }\n",
       "\n",
       "    .dataframe tbody tr th {\n",
       "        vertical-align: top;\n",
       "    }\n",
       "\n",
       "    .dataframe thead th {\n",
       "        text-align: right;\n",
       "    }\n",
       "</style>\n",
       "<table border=\"1\" class=\"dataframe\">\n",
       "  <thead>\n",
       "    <tr style=\"text-align: right;\">\n",
       "      <th></th>\n",
       "      <th>Text</th>\n",
       "      <th>content_type</th>\n",
       "      <th>id</th>\n",
       "      <th>meta</th>\n",
       "      <th>score</th>\n",
       "      <th>embedding</th>\n",
       "    </tr>\n",
       "  </thead>\n",
       "  <tbody>\n",
       "    <tr>\n",
       "      <th>0</th>\n",
       "      <td>submission by germany and the european commission on behalf of the european ...</td>\n",
       "      <td>text</td>\n",
       "      <td>ae798d25c5884dcb2d424ee6bd9da412</td>\n",
       "      <td>{'name': 'EU_NDC_Submission_December 2020.docx', '_split_id': 0}</td>\n",
       "      <td>None</td>\n",
       "      <td>None</td>\n",
       "    </tr>\n",
       "    <tr>\n",
       "      <th>1</th>\n",
       "      <td>in troduction background on the development of the eu s enhanced ndc the eur...</td>\n",
       "      <td>text</td>\n",
       "      <td>a35d2411c59b8325d3c8e81956faf3af</td>\n",
       "      <td>{'name': 'EU_NDC_Submission_December 2020.docx', '_split_id': 1}</td>\n",
       "      <td>None</td>\n",
       "      <td>None</td>\n",
       "    </tr>\n",
       "    <tr>\n",
       "      <th>2</th>\n",
       "      <td>on march the council of the european union adopted a longterm low greenhouse...</td>\n",
       "      <td>text</td>\n",
       "      <td>ee37ec5bfddd272ad7524d32966057d8</td>\n",
       "      <td>{'name': 'EU_NDC_Submission_December 2020.docx', '_split_id': 2}</td>\n",
       "      <td>None</td>\n",
       "      <td>None</td>\n",
       "    </tr>\n",
       "    <tr>\n",
       "      <th>3</th>\n",
       "      <td>the plan for european recovery will need massive public and private investme...</td>\n",
       "      <td>text</td>\n",
       "      <td>74a51aaf160b8d8b0f98a689652760f2</td>\n",
       "      <td>{'name': 'EU_NDC_Submission_December 2020.docx', '_split_id': 3}</td>\n",
       "      <td>None</td>\n",
       "      <td>None</td>\n",
       "    </tr>\n",
       "    <tr>\n",
       "      <th>4</th>\n",
       "      <td>an overall climate target of will apply to the total amount of expenditure f...</td>\n",
       "      <td>text</td>\n",
       "      <td>d10f6bad1b2110ed45b38858e7471437</td>\n",
       "      <td>{'name': 'EU_NDC_Submission_December 2020.docx', '_split_id': 4}</td>\n",
       "      <td>None</td>\n",
       "      <td>None</td>\n",
       "    </tr>\n",
       "    <tr>\n",
       "      <th>5</th>\n",
       "      <td>an effective methodology for monitoring climatespending and its performance ...</td>\n",
       "      <td>text</td>\n",
       "      <td>f227bd92e20b2e48835850c373a49039</td>\n",
       "      <td>{'name': 'EU_NDC_Submission_December 2020.docx', '_split_id': 5}</td>\n",
       "      <td>None</td>\n",
       "      <td>None</td>\n",
       "    </tr>\n",
       "    <tr>\n",
       "      <th>6</th>\n",
       "      <td>following the withdrawal agreement between the eu and the uk and the transit...</td>\n",
       "      <td>text</td>\n",
       "      <td>95c535f3c1e772d914e45df70459ba9d</td>\n",
       "      <td>{'name': 'EU_NDC_Submission_December 2020.docx', '_split_id': 6}</td>\n",
       "      <td>None</td>\n",
       "      <td>None</td>\n",
       "    </tr>\n",
       "    <tr>\n",
       "      <th>7</th>\n",
       "      <td>ambitious climate action is not just a way to confront the climate crisis an...</td>\n",
       "      <td>text</td>\n",
       "      <td>7e39c9a01d832c58dc0670a13e63e8c7</td>\n",
       "      <td>{'name': 'EU_NDC_Submission_December 2020.docx', '_split_id': 7}</td>\n",
       "      <td>None</td>\n",
       "      <td>None</td>\n",
       "    </tr>\n",
       "    <tr>\n",
       "      <th>8</th>\n",
       "      <td>the combined effect of the eu policies currently in force under this framewo...</td>\n",
       "      <td>text</td>\n",
       "      <td>a8131087364d6f63baf594f415adae5f</td>\n",
       "      <td>{'name': 'EU_NDC_Submission_December 2020.docx', '_split_id': 8}</td>\n",
       "      <td>None</td>\n",
       "      <td>None</td>\n",
       "    </tr>\n",
       "    <tr>\n",
       "      <th>9</th>\n",
       "      <td>emissions reduction targets under current eu legislation are divided between...</td>\n",
       "      <td>text</td>\n",
       "      <td>2c111f4b58b4c5206f00d7a1639b32b8</td>\n",
       "      <td>{'name': 'EU_NDC_Submission_December 2020.docx', '_split_id': 9}</td>\n",
       "      <td>None</td>\n",
       "      <td>None</td>\n",
       "    </tr>\n",
       "  </tbody>\n",
       "</table>\n",
       "</div>"
      ],
      "text/plain": [
       "                                                                              Text  \\\n",
       "0  submission by germany and the european commission on behalf of the european ...   \n",
       "1  in troduction background on the development of the eu s enhanced ndc the eur...   \n",
       "2  on march the council of the european union adopted a longterm low greenhouse...   \n",
       "3  the plan for european recovery will need massive public and private investme...   \n",
       "4  an overall climate target of will apply to the total amount of expenditure f...   \n",
       "5  an effective methodology for monitoring climatespending and its performance ...   \n",
       "6  following the withdrawal agreement between the eu and the uk and the transit...   \n",
       "7  ambitious climate action is not just a way to confront the climate crisis an...   \n",
       "8  the combined effect of the eu policies currently in force under this framewo...   \n",
       "9  emissions reduction targets under current eu legislation are divided between...   \n",
       "\n",
       "  content_type                                id  \\\n",
       "0         text  ae798d25c5884dcb2d424ee6bd9da412   \n",
       "1         text  a35d2411c59b8325d3c8e81956faf3af   \n",
       "2         text  ee37ec5bfddd272ad7524d32966057d8   \n",
       "3         text  74a51aaf160b8d8b0f98a689652760f2   \n",
       "4         text  d10f6bad1b2110ed45b38858e7471437   \n",
       "5         text  f227bd92e20b2e48835850c373a49039   \n",
       "6         text  95c535f3c1e772d914e45df70459ba9d   \n",
       "7         text  7e39c9a01d832c58dc0670a13e63e8c7   \n",
       "8         text  a8131087364d6f63baf594f415adae5f   \n",
       "9         text  2c111f4b58b4c5206f00d7a1639b32b8   \n",
       "\n",
       "                                                               meta score  \\\n",
       "0  {'name': 'EU_NDC_Submission_December 2020.docx', '_split_id': 0}  None   \n",
       "1  {'name': 'EU_NDC_Submission_December 2020.docx', '_split_id': 1}  None   \n",
       "2  {'name': 'EU_NDC_Submission_December 2020.docx', '_split_id': 2}  None   \n",
       "3  {'name': 'EU_NDC_Submission_December 2020.docx', '_split_id': 3}  None   \n",
       "4  {'name': 'EU_NDC_Submission_December 2020.docx', '_split_id': 4}  None   \n",
       "5  {'name': 'EU_NDC_Submission_December 2020.docx', '_split_id': 5}  None   \n",
       "6  {'name': 'EU_NDC_Submission_December 2020.docx', '_split_id': 6}  None   \n",
       "7  {'name': 'EU_NDC_Submission_December 2020.docx', '_split_id': 7}  None   \n",
       "8  {'name': 'EU_NDC_Submission_December 2020.docx', '_split_id': 8}  None   \n",
       "9  {'name': 'EU_NDC_Submission_December 2020.docx', '_split_id': 9}  None   \n",
       "\n",
       "  embedding  \n",
       "0      None  \n",
       "1      None  \n",
       "2      None  \n",
       "3      None  \n",
       "4      None  \n",
       "5      None  \n",
       "6      None  \n",
       "7      None  \n",
       "8      None  \n",
       "9      None  "
      ]
     },
     "execution_count": 40,
     "metadata": {},
     "output_type": "execute_result"
    }
   ],
   "source": [
    "# Rename the columns \n",
    "\n",
    "data=df.rename(columns = {'content':'Text'})\n",
    "\n",
    "data.head(10)"
   ]
  },
  {
   "cell_type": "code",
   "execution_count": 41,
   "id": "847f4653",
   "metadata": {},
   "outputs": [
    {
     "data": {
      "text/html": [
       "<div>\n",
       "<style scoped>\n",
       "    .dataframe tbody tr th:only-of-type {\n",
       "        vertical-align: middle;\n",
       "    }\n",
       "\n",
       "    .dataframe tbody tr th {\n",
       "        vertical-align: top;\n",
       "    }\n",
       "\n",
       "    .dataframe thead th {\n",
       "        text-align: right;\n",
       "    }\n",
       "</style>\n",
       "<table border=\"1\" class=\"dataframe\">\n",
       "  <thead>\n",
       "    <tr style=\"text-align: right;\">\n",
       "      <th></th>\n",
       "      <th>text</th>\n",
       "      <th>content_type</th>\n",
       "      <th>id</th>\n",
       "      <th>meta</th>\n",
       "      <th>score</th>\n",
       "      <th>embedding</th>\n",
       "    </tr>\n",
       "  </thead>\n",
       "  <tbody>\n",
       "    <tr>\n",
       "      <th>0</th>\n",
       "      <td>submission by germany and the european commission on behalf of the european ...</td>\n",
       "      <td>text</td>\n",
       "      <td>ae798d25c5884dcb2d424ee6bd9da412</td>\n",
       "      <td>{'name': 'EU_NDC_Submission_December 2020.docx', '_split_id': 0}</td>\n",
       "      <td>None</td>\n",
       "      <td>None</td>\n",
       "    </tr>\n",
       "    <tr>\n",
       "      <th>1</th>\n",
       "      <td>in troduction background on the development of the eu s enhanced ndc the eur...</td>\n",
       "      <td>text</td>\n",
       "      <td>a35d2411c59b8325d3c8e81956faf3af</td>\n",
       "      <td>{'name': 'EU_NDC_Submission_December 2020.docx', '_split_id': 1}</td>\n",
       "      <td>None</td>\n",
       "      <td>None</td>\n",
       "    </tr>\n",
       "    <tr>\n",
       "      <th>2</th>\n",
       "      <td>on march the council of the european union adopted a longterm low greenhouse...</td>\n",
       "      <td>text</td>\n",
       "      <td>ee37ec5bfddd272ad7524d32966057d8</td>\n",
       "      <td>{'name': 'EU_NDC_Submission_December 2020.docx', '_split_id': 2}</td>\n",
       "      <td>None</td>\n",
       "      <td>None</td>\n",
       "    </tr>\n",
       "    <tr>\n",
       "      <th>3</th>\n",
       "      <td>the plan for european recovery will need massive public and private investme...</td>\n",
       "      <td>text</td>\n",
       "      <td>74a51aaf160b8d8b0f98a689652760f2</td>\n",
       "      <td>{'name': 'EU_NDC_Submission_December 2020.docx', '_split_id': 3}</td>\n",
       "      <td>None</td>\n",
       "      <td>None</td>\n",
       "    </tr>\n",
       "    <tr>\n",
       "      <th>4</th>\n",
       "      <td>an overall climate target of will apply to the total amount of expenditure f...</td>\n",
       "      <td>text</td>\n",
       "      <td>d10f6bad1b2110ed45b38858e7471437</td>\n",
       "      <td>{'name': 'EU_NDC_Submission_December 2020.docx', '_split_id': 4}</td>\n",
       "      <td>None</td>\n",
       "      <td>None</td>\n",
       "    </tr>\n",
       "    <tr>\n",
       "      <th>5</th>\n",
       "      <td>an effective methodology for monitoring climatespending and its performance ...</td>\n",
       "      <td>text</td>\n",
       "      <td>f227bd92e20b2e48835850c373a49039</td>\n",
       "      <td>{'name': 'EU_NDC_Submission_December 2020.docx', '_split_id': 5}</td>\n",
       "      <td>None</td>\n",
       "      <td>None</td>\n",
       "    </tr>\n",
       "  </tbody>\n",
       "</table>\n",
       "</div>"
      ],
      "text/plain": [
       "                                                                              text  \\\n",
       "0  submission by germany and the european commission on behalf of the european ...   \n",
       "1  in troduction background on the development of the eu s enhanced ndc the eur...   \n",
       "2  on march the council of the european union adopted a longterm low greenhouse...   \n",
       "3  the plan for european recovery will need massive public and private investme...   \n",
       "4  an overall climate target of will apply to the total amount of expenditure f...   \n",
       "5  an effective methodology for monitoring climatespending and its performance ...   \n",
       "\n",
       "  content_type                                id  \\\n",
       "0         text  ae798d25c5884dcb2d424ee6bd9da412   \n",
       "1         text  a35d2411c59b8325d3c8e81956faf3af   \n",
       "2         text  ee37ec5bfddd272ad7524d32966057d8   \n",
       "3         text  74a51aaf160b8d8b0f98a689652760f2   \n",
       "4         text  d10f6bad1b2110ed45b38858e7471437   \n",
       "5         text  f227bd92e20b2e48835850c373a49039   \n",
       "\n",
       "                                                               meta score  \\\n",
       "0  {'name': 'EU_NDC_Submission_December 2020.docx', '_split_id': 0}  None   \n",
       "1  {'name': 'EU_NDC_Submission_December 2020.docx', '_split_id': 1}  None   \n",
       "2  {'name': 'EU_NDC_Submission_December 2020.docx', '_split_id': 2}  None   \n",
       "3  {'name': 'EU_NDC_Submission_December 2020.docx', '_split_id': 3}  None   \n",
       "4  {'name': 'EU_NDC_Submission_December 2020.docx', '_split_id': 4}  None   \n",
       "5  {'name': 'EU_NDC_Submission_December 2020.docx', '_split_id': 5}  None   \n",
       "\n",
       "  embedding  \n",
       "0      None  \n",
       "1      None  \n",
       "2      None  \n",
       "3      None  \n",
       "4      None  \n",
       "5      None  "
      ]
     },
     "execution_count": 41,
     "metadata": {},
     "output_type": "execute_result"
    }
   ],
   "source": [
    "data.columns = map(str.lower, data.columns)\n",
    "data.head(6)"
   ]
  },
  {
   "cell_type": "code",
   "execution_count": 42,
   "id": "b7371905",
   "metadata": {},
   "outputs": [],
   "source": [
    "import gensim\n",
    "from gensim.utils import simple_preprocess\n",
    "from gensim.parsing.preprocessing import STOPWORDS\n",
    "from nltk.stem import WordNetLemmatizer, SnowballStemmer\n",
    "from nltk.stem.porter import *\n",
    "import numpy as np\n",
    "np.random.seed(2018)"
   ]
  },
  {
   "cell_type": "code",
   "execution_count": 43,
   "id": "2e8ddd17",
   "metadata": {},
   "outputs": [
    {
     "data": {
      "text/plain": [
       "0    submission by germany and the european commission on behalf of the european ...\n",
       "1    in troduction background on the development of the eu s enhanced ndc the eur...\n",
       "2    on march the council of the european union adopted a longterm low greenhouse...\n",
       "3    the plan for european recovery will need massive public and private investme...\n",
       "4    an overall climate target of will apply to the total amount of expenditure f...\n",
       "5    an effective methodology for monitoring climatespending and its performance ...\n",
       "6    following the withdrawal agreement between the eu and the uk and the transit...\n",
       "7    ambitious climate action is not just a way to confront the climate crisis an...\n",
       "8    the combined effect of the eu policies currently in force under this framewo...\n",
       "9    emissions reduction targets under current eu legislation are divided between...\n",
       "Name: text, dtype: object"
      ]
     },
     "execution_count": 43,
     "metadata": {},
     "output_type": "execute_result"
    }
   ],
   "source": [
    "\n",
    "documents=data[\"text\"]\n",
    "\n",
    "documents.head(10)\n",
    "\n"
   ]
  },
  {
   "cell_type": "code",
   "execution_count": 44,
   "id": "b7e7421c",
   "metadata": {},
   "outputs": [],
   "source": [
    "def lemmatize_stemming(text):\n",
    "    return stemmer.stem(WordNetLemmatizer().lemmatize(text, pos='v'))\n",
    "\n",
    "def preprocess(text):\n",
    "    result = []\n",
    "    for token in gensim.utils.simple_preprocess(text):\n",
    "        if token not in gensim.parsing.preprocessing.STOPWORDS and len(token) > 3:\n",
    "            result.append(lemmatize_stemming(token))\n",
    "    return result"
   ]
  },
  {
   "cell_type": "code",
   "execution_count": 45,
   "id": "89db13ce",
   "metadata": {},
   "outputs": [
    {
     "data": {
      "text/html": [
       "<div>\n",
       "<style scoped>\n",
       "    .dataframe tbody tr th:only-of-type {\n",
       "        vertical-align: middle;\n",
       "    }\n",
       "\n",
       "    .dataframe tbody tr th {\n",
       "        vertical-align: top;\n",
       "    }\n",
       "\n",
       "    .dataframe thead th {\n",
       "        text-align: right;\n",
       "    }\n",
       "</style>\n",
       "<table border=\"1\" class=\"dataframe\">\n",
       "  <thead>\n",
       "    <tr style=\"text-align: right;\">\n",
       "      <th></th>\n",
       "      <th>original word</th>\n",
       "      <th>stemmed</th>\n",
       "    </tr>\n",
       "  </thead>\n",
       "  <tbody>\n",
       "    <tr>\n",
       "      <th>0</th>\n",
       "      <td>caresses</td>\n",
       "      <td>caress</td>\n",
       "    </tr>\n",
       "    <tr>\n",
       "      <th>1</th>\n",
       "      <td>flies</td>\n",
       "      <td>fli</td>\n",
       "    </tr>\n",
       "    <tr>\n",
       "      <th>2</th>\n",
       "      <td>dies</td>\n",
       "      <td>die</td>\n",
       "    </tr>\n",
       "    <tr>\n",
       "      <th>3</th>\n",
       "      <td>mules</td>\n",
       "      <td>mule</td>\n",
       "    </tr>\n",
       "    <tr>\n",
       "      <th>4</th>\n",
       "      <td>denied</td>\n",
       "      <td>deni</td>\n",
       "    </tr>\n",
       "    <tr>\n",
       "      <th>5</th>\n",
       "      <td>died</td>\n",
       "      <td>die</td>\n",
       "    </tr>\n",
       "    <tr>\n",
       "      <th>6</th>\n",
       "      <td>agreed</td>\n",
       "      <td>agre</td>\n",
       "    </tr>\n",
       "    <tr>\n",
       "      <th>7</th>\n",
       "      <td>owned</td>\n",
       "      <td>own</td>\n",
       "    </tr>\n",
       "    <tr>\n",
       "      <th>8</th>\n",
       "      <td>humbled</td>\n",
       "      <td>humbl</td>\n",
       "    </tr>\n",
       "    <tr>\n",
       "      <th>9</th>\n",
       "      <td>sized</td>\n",
       "      <td>size</td>\n",
       "    </tr>\n",
       "    <tr>\n",
       "      <th>10</th>\n",
       "      <td>meeting</td>\n",
       "      <td>meet</td>\n",
       "    </tr>\n",
       "    <tr>\n",
       "      <th>11</th>\n",
       "      <td>stating</td>\n",
       "      <td>state</td>\n",
       "    </tr>\n",
       "    <tr>\n",
       "      <th>12</th>\n",
       "      <td>siezing</td>\n",
       "      <td>siez</td>\n",
       "    </tr>\n",
       "    <tr>\n",
       "      <th>13</th>\n",
       "      <td>itemization</td>\n",
       "      <td>item</td>\n",
       "    </tr>\n",
       "    <tr>\n",
       "      <th>14</th>\n",
       "      <td>sensational</td>\n",
       "      <td>sensat</td>\n",
       "    </tr>\n",
       "    <tr>\n",
       "      <th>15</th>\n",
       "      <td>traditional</td>\n",
       "      <td>tradit</td>\n",
       "    </tr>\n",
       "    <tr>\n",
       "      <th>16</th>\n",
       "      <td>reference</td>\n",
       "      <td>refer</td>\n",
       "    </tr>\n",
       "    <tr>\n",
       "      <th>17</th>\n",
       "      <td>colonizer</td>\n",
       "      <td>colon</td>\n",
       "    </tr>\n",
       "    <tr>\n",
       "      <th>18</th>\n",
       "      <td>plotted</td>\n",
       "      <td>plot</td>\n",
       "    </tr>\n",
       "  </tbody>\n",
       "</table>\n",
       "</div>"
      ],
      "text/plain": [
       "   original word stemmed\n",
       "0       caresses  caress\n",
       "1          flies     fli\n",
       "2           dies     die\n",
       "3          mules    mule\n",
       "4         denied    deni\n",
       "5           died     die\n",
       "6         agreed    agre\n",
       "7          owned     own\n",
       "8        humbled   humbl\n",
       "9          sized    size\n",
       "10       meeting    meet\n",
       "11       stating   state\n",
       "12       siezing    siez\n",
       "13   itemization    item\n",
       "14   sensational  sensat\n",
       "15   traditional  tradit\n",
       "16     reference   refer\n",
       "17     colonizer   colon\n",
       "18       plotted    plot"
      ]
     },
     "execution_count": 45,
     "metadata": {},
     "output_type": "execute_result"
    }
   ],
   "source": [
    "stemmer = SnowballStemmer('english')\n",
    "original_words = ['caresses', 'flies', 'dies', 'mules', 'denied','died', 'agreed', 'owned', \n",
    "           'humbled', 'sized','meeting', 'stating', 'siezing', 'itemization','sensational', \n",
    "           'traditional', 'reference', 'colonizer','plotted']\n",
    "singles = [stemmer.stem(plural) for plural in original_words]\n",
    "pd.DataFrame(data = {'original word': original_words, 'stemmed': singles})"
   ]
  },
  {
   "cell_type": "code",
   "execution_count": 46,
   "id": "d0662240",
   "metadata": {},
   "outputs": [],
   "source": [
    "\n",
    "processed_docs = data['text'].map(preprocess)\n",
    "\n"
   ]
  },
  {
   "cell_type": "code",
   "execution_count": 47,
   "id": "2a64d368",
   "metadata": {},
   "outputs": [
    {
     "data": {
      "text/plain": [
       "0    [submiss, germani, european, commiss, behalf, european, union, member, state...\n",
       "1    [troduct, background, develop, enhanc, european, union, member, state, submi...\n",
       "2    [march, council, european, union, adopt, longterm, greenhous, emiss, develop...\n",
       "3    [plan, european, recoveri, need, massiv, public, privat, invest, european, l...\n",
       "4    [overal, climat, target, appli, total, expenditur, ngeu, reflect, appropri, ...\n",
       "5    [effect, methodolog, monitor, climatespend, perform, includ, report, relev, ...\n",
       "6    [follow, withdraw, agreement, transit, period, decemb, unit, kingdom, longer...\n",
       "7    [ambiti, climat, action, confront, climat, crisi, biodivers, crisi, growth, ...\n",
       "8    [combin, effect, polici, current, forc, framework, deliv, reduct, pledg, ini...\n",
       "9    [emiss, reduct, target, current, legisl, divid, sector, cover, emiss, trade,...\n",
       "Name: text, dtype: object"
      ]
     },
     "execution_count": 47,
     "metadata": {},
     "output_type": "execute_result"
    }
   ],
   "source": [
    "processed_docs[:10]"
   ]
  },
  {
   "cell_type": "markdown",
   "id": "2ad5e2c5",
   "metadata": {},
   "source": [
    "# Bag of Words\n"
   ]
  },
  {
   "cell_type": "code",
   "execution_count": 48,
   "id": "c254a047",
   "metadata": {},
   "outputs": [
    {
     "name": "stderr",
     "output_type": "stream",
     "text": [
      "INFO - gensim.corpora.dictionary -  adding document #0 to Dictionary(0 unique tokens: [])\n",
      "2022-08-16 18:33:31.347 INFO    gensim.corpora.dictionary: adding document #0 to Dictionary(0 unique tokens: [])\n",
      "INFO - gensim.corpora.dictionary -  built Dictionary(586 unique tokens: ['behalf', 'berlin', 'clariti', 'commiss', 'consist']...) from 38 documents (total 1814 corpus positions)\n",
      "2022-08-16 18:33:31.353 INFO    gensim.corpora.dictionary: built Dictionary(586 unique tokens: ['behalf', 'berlin', 'clariti', 'commiss', 'consist']...) from 38 documents (total 1814 corpus positions)\n",
      "INFO - gensim.utils -  Dictionary lifecycle event {'msg': \"built Dictionary(586 unique tokens: ['behalf', 'berlin', 'clariti', 'commiss', 'consist']...) from 38 documents (total 1814 corpus positions)\", 'datetime': '2022-08-16T18:33:31.356511', 'gensim': '4.1.2', 'python': '3.9.12 (main, Apr  4 2022, 05:22:27) [MSC v.1916 64 bit (AMD64)]', 'platform': 'Windows-10-10.0.22000-SP0', 'event': 'created'}\n",
      "2022-08-16 18:33:31.356 INFO    gensim.utils: Dictionary lifecycle event {'msg': \"built Dictionary(586 unique tokens: ['behalf', 'berlin', 'clariti', 'commiss', 'consist']...) from 38 documents (total 1814 corpus positions)\", 'datetime': '2022-08-16T18:33:31.356511', 'gensim': '4.1.2', 'python': '3.9.12 (main, Apr  4 2022, 05:22:27) [MSC v.1916 64 bit (AMD64)]', 'platform': 'Windows-10-10.0.22000-SP0', 'event': 'created'}\n"
     ]
    }
   ],
   "source": [
    "dictionary = gensim.corpora.Dictionary(processed_docs)"
   ]
  },
  {
   "cell_type": "code",
   "execution_count": 49,
   "id": "d5e78aad",
   "metadata": {},
   "outputs": [
    {
     "name": "stdout",
     "output_type": "stream",
     "text": [
      "0 behalf\n",
      "1 berlin\n",
      "2 clariti\n",
      "3 commiss\n",
      "4 consist\n",
      "5 contribut\n",
      "6 decemb\n",
      "7 determin\n",
      "8 enhanc\n",
      "9 european\n",
      "10 facilit\n"
     ]
    }
   ],
   "source": [
    "count = 0\n",
    "for k, v in dictionary.iteritems():\n",
    "    print(k, v)\n",
    "    count += 1\n",
    "    if count > 10:\n",
    "        break"
   ]
  },
  {
   "cell_type": "code",
   "execution_count": 50,
   "id": "700e4298",
   "metadata": {},
   "outputs": [
    {
     "data": {
      "text/plain": [
       "[(15, 1),\n",
       " (19, 1),\n",
       " (57, 1),\n",
       " (63, 1),\n",
       " (65, 1),\n",
       " (99, 1),\n",
       " (121, 1),\n",
       " (128, 2),\n",
       " (132, 1),\n",
       " (133, 1),\n",
       " (136, 1),\n",
       " (138, 1),\n",
       " (152, 1),\n",
       " (165, 1),\n",
       " (172, 1),\n",
       " (178, 1),\n",
       " (192, 1),\n",
       " (214, 1),\n",
       " (218, 1),\n",
       " (223, 1),\n",
       " (245, 1),\n",
       " (248, 1),\n",
       " (249, 1),\n",
       " (250, 1),\n",
       " (251, 1),\n",
       " (252, 1),\n",
       " (253, 1),\n",
       " (254, 1),\n",
       " (255, 1),\n",
       " (256, 1),\n",
       " (257, 2),\n",
       " (258, 1),\n",
       " (259, 2),\n",
       " (260, 1),\n",
       " (261, 1),\n",
       " (262, 1),\n",
       " (263, 1),\n",
       " (264, 1)]"
      ]
     },
     "execution_count": 50,
     "metadata": {},
     "output_type": "execute_result"
    }
   ],
   "source": [
    "bow_corpus = [dictionary.doc2bow(doc) for doc in processed_docs]\n",
    "bow_corpus[10]"
   ]
  },
  {
   "cell_type": "code",
   "execution_count": 51,
   "id": "cd60e11d",
   "metadata": {},
   "outputs": [
    {
     "name": "stdout",
     "output_type": "stream",
     "text": [
      "Word 15 (\"member\") appears 1 time.\n",
      "Word 19 (\"state\") appears 1 time.\n",
      "Word 57 (\"agre\") appears 1 time.\n",
      "Word 63 (\"emiss\") appears 1 time.\n",
      "Word 65 (\"greenhous\") appears 1 time.\n",
      "Word 99 (\"level\") appears 1 time.\n",
      "Word 121 (\"appli\") appears 1 time.\n",
      "Word 128 (\"legisl\") appears 2 time.\n",
      "Word 132 (\"shall\") appears 1 time.\n",
      "Word 133 (\"target\") appears 1 time.\n",
      "Word 136 (\"address\") appears 1 time.\n",
      "Word 138 (\"annual\") appears 1 time.\n",
      "Word 152 (\"order\") appears 1 time.\n",
      "Word 165 (\"longer\") appears 1 time.\n",
      "Word 172 (\"bind\") appears 1 time.\n",
      "Word 178 (\"deliv\") appears 1 time.\n",
      "Word 192 (\"initi\") appears 1 time.\n",
      "Word 214 (\"review\") appears 1 time.\n",
      "Word 218 (\"allow\") appears 1 time.\n",
      "Word 223 (\"cover\") appears 1 time.\n",
      "Word 245 (\"set\") appears 1 time.\n",
      "Word 248 (\"acceler\") appears 1 time.\n",
      "Word 249 (\"amend\") appears 1 time.\n",
      "Word 250 (\"aviat\") appears 1 time.\n",
      "Word 251 (\"buildup\") appears 1 time.\n",
      "Word 252 (\"certain\") appears 1 time.\n",
      "Word 253 (\"decreas\") appears 1 time.\n",
      "Word 254 (\"function\") appears 1 time.\n",
      "Word 255 (\"hold\") appears 1 time.\n",
      "Word 256 (\"individu\") appears 1 time.\n",
      "Word 257 (\"market\") appears 2 time.\n",
      "Word 258 (\"onward\") appears 1 time.\n",
      "Word 259 (\"reserv\") appears 2 time.\n",
      "Word 260 (\"respect\") appears 1 time.\n",
      "Word 261 (\"stabil\") appears 1 time.\n",
      "Word 262 (\"surplus\") appears 1 time.\n",
      "Word 263 (\"undermin\") appears 1 time.\n",
      "Word 264 (\"valid\") appears 1 time.\n"
     ]
    }
   ],
   "source": [
    "bow_doc_4310 = bow_corpus[10]\n",
    "\n",
    "for i in range(len(bow_doc_4310)):\n",
    "    print(\"Word {} (\\\"{}\\\") appears {} time.\".format(bow_doc_4310[i][0], \n",
    "                                                     dictionary[bow_doc_4310[i][0]], \n",
    "                                                     bow_doc_4310[i][1]))\n",
    "\n"
   ]
  },
  {
   "cell_type": "code",
   "execution_count": 52,
   "id": "3a28380b",
   "metadata": {},
   "outputs": [
    {
     "name": "stderr",
     "output_type": "stream",
     "text": [
      "INFO - gensim.models.ldamodel -  using symmetric alpha at 0.1\n",
      "2022-08-16 18:33:32.215 INFO    gensim.models.ldamodel: using symmetric alpha at 0.1\n",
      "INFO - gensim.models.ldamodel -  using symmetric eta at 0.1\n",
      "2022-08-16 18:33:32.217 INFO    gensim.models.ldamodel: using symmetric eta at 0.1\n",
      "INFO - gensim.models.ldamodel -  using serial LDA version on this node\n",
      "2022-08-16 18:33:32.218 INFO    gensim.models.ldamodel: using serial LDA version on this node\n",
      "INFO - gensim.models.ldamulticore -  running online LDA training, 10 topics, 2 passes over the supplied corpus of 38 documents, updating every 4000 documents, evaluating every ~38 documents, iterating 50x with a convergence threshold of 0.001000\n",
      "2022-08-16 18:33:32.222 INFO    gensim.models.ldamulticore: running online LDA training, 10 topics, 2 passes over the supplied corpus of 38 documents, updating every 4000 documents, evaluating every ~38 documents, iterating 50x with a convergence threshold of 0.001000\n",
      "WARNING - gensim.models.ldamulticore -  too few updates, training might not converge; consider increasing the number of passes or iterations to improve accuracy\n",
      "2022-08-16 18:33:32.223 WARNING gensim.models.ldamulticore: too few updates, training might not converge; consider increasing the number of passes or iterations to improve accuracy\n",
      "INFO - gensim.models.ldamulticore -  training LDA model using 2 processes\n",
      "2022-08-16 18:33:32.228 INFO    gensim.models.ldamulticore: training LDA model using 2 processes\n",
      "INFO - gensim.models.ldamulticore -  PROGRESS: pass 0, dispatched chunk #0 = documents up to #38/38, outstanding queue size 1\n",
      "2022-08-16 18:33:32.484 INFO    gensim.models.ldamulticore: PROGRESS: pass 0, dispatched chunk #0 = documents up to #38/38, outstanding queue size 1\n",
      "INFO - gensim.models.ldamodel -  topic #7 (0.100): 0.023*\"polici\" + 0.016*\"energi\" + 0.014*\"target\" + 0.012*\"ictu\" + 0.012*\"emiss\" + 0.010*\"revis\" + 0.010*\"direct\" + 0.009*\"framework\" + 0.009*\"section\" + 0.009*\"european\"\n",
      "2022-08-16 18:33:34.612 INFO    gensim.models.ldamodel: topic #7 (0.100): 0.023*\"polici\" + 0.016*\"energi\" + 0.014*\"target\" + 0.012*\"ictu\" + 0.012*\"emiss\" + 0.010*\"revis\" + 0.010*\"direct\" + 0.009*\"framework\" + 0.009*\"section\" + 0.009*\"european\"\n",
      "INFO - gensim.models.ldamodel -  topic #3 (0.100): 0.029*\"european\" + 0.019*\"union\" + 0.017*\"member\" + 0.016*\"state\" + 0.015*\"contribut\" + 0.013*\"updat\" + 0.013*\"submiss\" + 0.012*\"climat\" + 0.012*\"determin\" + 0.012*\"target\"\n",
      "2022-08-16 18:33:34.613 INFO    gensim.models.ldamodel: topic #3 (0.100): 0.029*\"european\" + 0.019*\"union\" + 0.017*\"member\" + 0.016*\"state\" + 0.015*\"contribut\" + 0.013*\"updat\" + 0.013*\"submiss\" + 0.012*\"climat\" + 0.012*\"determin\" + 0.012*\"target\"\n",
      "INFO - gensim.models.ldamodel -  topic #4 (0.100): 0.035*\"forest\" + 0.022*\"account\" + 0.020*\"land\" + 0.016*\"ageclass\" + 0.016*\"manag\" + 0.014*\"decis\" + 0.013*\"annex\" + 0.012*\"structur\" + 0.012*\"guidanc\" + 0.011*\"approach\"\n",
      "2022-08-16 18:33:34.616 INFO    gensim.models.ldamodel: topic #4 (0.100): 0.035*\"forest\" + 0.022*\"account\" + 0.020*\"land\" + 0.016*\"ageclass\" + 0.016*\"manag\" + 0.014*\"decis\" + 0.013*\"annex\" + 0.012*\"structur\" + 0.012*\"guidanc\" + 0.011*\"approach\"\n",
      "INFO - gensim.models.ldamodel -  topic #9 (0.100): 0.037*\"emiss\" + 0.027*\"state\" + 0.026*\"member\" + 0.016*\"includ\" + 0.014*\"greenhous\" + 0.014*\"legisl\" + 0.014*\"level\" + 0.012*\"target\" + 0.012*\"remov\" + 0.012*\"regul\"\n",
      "2022-08-16 18:33:34.617 INFO    gensim.models.ldamodel: topic #9 (0.100): 0.037*\"emiss\" + 0.027*\"state\" + 0.026*\"member\" + 0.016*\"includ\" + 0.014*\"greenhous\" + 0.014*\"legisl\" + 0.014*\"level\" + 0.012*\"target\" + 0.012*\"remov\" + 0.012*\"regul\"\n",
      "INFO - gensim.models.ldamodel -  topic #0 (0.100): 0.032*\"target\" + 0.028*\"climat\" + 0.017*\"european\" + 0.017*\"contribut\" + 0.014*\"emiss\" + 0.013*\"expenditur\" + 0.013*\"object\" + 0.011*\"commiss\" + 0.010*\"pari\" + 0.010*\"reduc\"\n",
      "2022-08-16 18:33:34.618 INFO    gensim.models.ldamodel: topic #0 (0.100): 0.032*\"target\" + 0.028*\"climat\" + 0.017*\"european\" + 0.017*\"contribut\" + 0.014*\"emiss\" + 0.013*\"expenditur\" + 0.013*\"object\" + 0.011*\"commiss\" + 0.010*\"pari\" + 0.010*\"reduc\"\n",
      "INFO - gensim.models.ldamodel -  topic diff=5.894272, rho=1.000000\n",
      "2022-08-16 18:33:34.619 INFO    gensim.models.ldamodel: topic diff=5.894272, rho=1.000000\n",
      "INFO - gensim.models.ldamodel -  -6.912 per-word bound, 120.4 perplexity estimate based on a held-out corpus of 38 documents with 1814 words\n",
      "2022-08-16 18:33:34.645 INFO    gensim.models.ldamodel: -6.912 per-word bound, 120.4 perplexity estimate based on a held-out corpus of 38 documents with 1814 words\n",
      "INFO - gensim.models.ldamulticore -  PROGRESS: pass 1, dispatched chunk #0 = documents up to #38/38, outstanding queue size 1\n",
      "2022-08-16 18:33:34.648 INFO    gensim.models.ldamulticore: PROGRESS: pass 1, dispatched chunk #0 = documents up to #38/38, outstanding queue size 1\n",
      "INFO - gensim.models.ldamodel -  topic #0 (0.100): 0.037*\"target\" + 0.032*\"climat\" + 0.020*\"european\" + 0.017*\"contribut\" + 0.016*\"emiss\" + 0.016*\"expenditur\" + 0.013*\"object\" + 0.012*\"commiss\" + 0.012*\"reduc\" + 0.012*\"averag\"\n",
      "2022-08-16 18:33:34.660 INFO    gensim.models.ldamodel: topic #0 (0.100): 0.037*\"target\" + 0.032*\"climat\" + 0.020*\"european\" + 0.017*\"contribut\" + 0.016*\"emiss\" + 0.016*\"expenditur\" + 0.013*\"object\" + 0.012*\"commiss\" + 0.012*\"reduc\" + 0.012*\"averag\"\n",
      "INFO - gensim.models.ldamodel -  topic #9 (0.100): 0.041*\"emiss\" + 0.027*\"state\" + 0.027*\"member\" + 0.019*\"includ\" + 0.016*\"greenhous\" + 0.016*\"legisl\" + 0.015*\"level\" + 0.015*\"remov\" + 0.014*\"regul\" + 0.014*\"land\"\n",
      "2022-08-16 18:33:34.662 INFO    gensim.models.ldamodel: topic #9 (0.100): 0.041*\"emiss\" + 0.027*\"state\" + 0.027*\"member\" + 0.019*\"includ\" + 0.016*\"greenhous\" + 0.016*\"legisl\" + 0.015*\"level\" + 0.015*\"remov\" + 0.014*\"regul\" + 0.014*\"land\"\n",
      "INFO - gensim.models.ldamodel -  topic #6 (0.100): 0.026*\"climat\" + 0.023*\"emiss\" + 0.023*\"european\" + 0.018*\"union\" + 0.018*\"energi\" + 0.013*\"plan\" + 0.013*\"nation\" + 0.013*\"govern\" + 0.012*\"adopt\" + 0.011*\"member\"\n",
      "2022-08-16 18:33:34.663 INFO    gensim.models.ldamodel: topic #6 (0.100): 0.026*\"climat\" + 0.023*\"emiss\" + 0.023*\"european\" + 0.018*\"union\" + 0.018*\"energi\" + 0.013*\"plan\" + 0.013*\"nation\" + 0.013*\"govern\" + 0.012*\"adopt\" + 0.011*\"member\"\n",
      "INFO - gensim.models.ldamodel -  topic #5 (0.100): 0.029*\"agreement\" + 0.028*\"pari\" + 0.022*\"articl\" + 0.022*\"contribut\" + 0.017*\"emiss\" + 0.017*\"address\" + 0.015*\"account\" + 0.014*\"member\" + 0.014*\"state\" + 0.014*\"paragraph\"\n",
      "2022-08-16 18:33:34.664 INFO    gensim.models.ldamodel: topic #5 (0.100): 0.029*\"agreement\" + 0.028*\"pari\" + 0.022*\"articl\" + 0.022*\"contribut\" + 0.017*\"emiss\" + 0.017*\"address\" + 0.015*\"account\" + 0.014*\"member\" + 0.014*\"state\" + 0.014*\"paragraph\"\n",
      "INFO - gensim.models.ldamodel -  topic #3 (0.100): 0.025*\"european\" + 0.019*\"union\" + 0.019*\"member\" + 0.019*\"state\" + 0.018*\"updat\" + 0.018*\"submiss\" + 0.016*\"direct\" + 0.015*\"contribut\" + 0.013*\"energi\" + 0.011*\"initi\"\n",
      "2022-08-16 18:33:34.666 INFO    gensim.models.ldamodel: topic #3 (0.100): 0.025*\"european\" + 0.019*\"union\" + 0.019*\"member\" + 0.019*\"state\" + 0.018*\"updat\" + 0.018*\"submiss\" + 0.016*\"direct\" + 0.015*\"contribut\" + 0.013*\"energi\" + 0.011*\"initi\"\n",
      "INFO - gensim.models.ldamodel -  topic diff=0.658433, rho=0.703772\n",
      "2022-08-16 18:33:34.667 INFO    gensim.models.ldamodel: topic diff=0.658433, rho=0.703772\n",
      "INFO - gensim.models.ldamodel -  -6.554 per-word bound, 94.0 perplexity estimate based on a held-out corpus of 38 documents with 1814 words\n",
      "2022-08-16 18:33:34.686 INFO    gensim.models.ldamodel: -6.554 per-word bound, 94.0 perplexity estimate based on a held-out corpus of 38 documents with 1814 words\n",
      "INFO - gensim.utils -  LdaMulticore lifecycle event {'msg': 'trained LdaModel(num_terms=586, num_topics=10, decay=0.5, chunksize=2000) in 2.49s', 'datetime': '2022-08-16T18:33:34.708841', 'gensim': '4.1.2', 'python': '3.9.12 (main, Apr  4 2022, 05:22:27) [MSC v.1916 64 bit (AMD64)]', 'platform': 'Windows-10-10.0.22000-SP0', 'event': 'created'}\n",
      "2022-08-16 18:33:34.708 INFO    gensim.utils: LdaMulticore lifecycle event {'msg': 'trained LdaModel(num_terms=586, num_topics=10, decay=0.5, chunksize=2000) in 2.49s', 'datetime': '2022-08-16T18:33:34.708841', 'gensim': '4.1.2', 'python': '3.9.12 (main, Apr  4 2022, 05:22:27) [MSC v.1916 64 bit (AMD64)]', 'platform': 'Windows-10-10.0.22000-SP0', 'event': 'created'}\n"
     ]
    }
   ],
   "source": [
    "lda_model = gensim.models.LdaMulticore(bow_corpus, num_topics=10, id2word=dictionary, passes=2, workers=2)"
   ]
  },
  {
   "cell_type": "code",
   "execution_count": 53,
   "id": "a2e85433",
   "metadata": {},
   "outputs": [
    {
     "name": "stdout",
     "output_type": "stream",
     "text": [
      "\n",
      "Score: 0.9799983501434326\t \n",
      "Topic: 0.036*\"target\" + 0.024*\"energi\" + 0.024*\"emiss\" + 0.020*\"reduct\" + 0.015*\"greenhous\" + 0.011*\"member\" + 0.011*\"state\" + 0.010*\"sector\" + 0.010*\"increas\" + 0.010*\"final\"\n"
     ]
    }
   ],
   "source": [
    "for index, score in sorted(lda_model[bow_corpus[12]], key=lambda tup: -1*tup[1]):\n",
    "    print(\"\\nScore: {}\\t \\nTopic: {}\".format(score, lda_model.print_topic(index, 10)))"
   ]
  },
  {
   "cell_type": "code",
   "execution_count": 54,
   "id": "ac3b6c8b",
   "metadata": {},
   "outputs": [],
   "source": [
    "import gensim\n",
    "import gensim.corpora as corpora\n",
    "from gensim.corpora import Dictionary\n",
    "from gensim.models.coherencemodel import CoherenceModel\n",
    "from gensim.models.ldamodel import LdaModel\n",
    "\n",
    "from pprint import pprint\n",
    "\n",
    "import spacy\n",
    "\n",
    "import pickle\n",
    "import re \n",
    "import pyLDAvis\n",
    "import pyLDAvis.gensim_models as gensimvis\n",
    "\n",
    "import matplotlib.pyplot as plt \n",
    "import pandas as pd"
   ]
  },
  {
   "cell_type": "code",
   "execution_count": 55,
   "id": "f7fa3359",
   "metadata": {},
   "outputs": [
    {
     "name": "stderr",
     "output_type": "stream",
     "text": [
      "C:\\Users\\serva\\Downloads\\Anaconda\\envs\\py39\\lib\\site-packages\\pyLDAvis\\_prepare.py:246: FutureWarning: In a future version of pandas all arguments of DataFrame.drop except for the argument 'labels' will be keyword-only.\n",
      "  default_term_info = default_term_info.sort_values(\n"
     ]
    },
    {
     "data": {
      "text/html": [
       "\n",
       "<link rel=\"stylesheet\" type=\"text/css\" href=\"https://cdn.jsdelivr.net/gh/bmabey/pyLDAvis@3.3.1/pyLDAvis/js/ldavis.v1.0.0.css\">\n",
       "\n",
       "\n",
       "<div id=\"ldavis_el186826141770109604518270620\"></div>\n",
       "<script type=\"text/javascript\">\n",
       "\n",
       "var ldavis_el186826141770109604518270620_data = {\"mdsDat\": {\"x\": [-0.00878655168065921, 0.08589733480401295, -0.13887845833801735, 0.016807858932950646, 0.008500593348189778, 0.07990668288505688, 0.01391625191081482, 0.05936664727629658, -0.12799636648596457, 0.011266007347319225], \"y\": [0.01349312335518424, -0.0031962048326325864, 0.009900763118681809, -0.06591450044857396, -0.10829782649811194, 0.03262281885442143, 0.1455204930540856, -0.035452704235270145, -0.008199156839805141, 0.01952319447202082], \"topics\": [1, 2, 3, 4, 5, 6, 7, 8, 9, 10], \"cluster\": [1, 1, 1, 1, 1, 1, 1, 1, 1, 1], \"Freq\": [19.17945578507187, 17.565886872432568, 11.97256389070824, 10.634732547808639, 10.042812111191315, 9.96689572435102, 8.270628127352621, 7.627605510288629, 2.796737017806004, 1.9426824129890936]}, \"tinfo\": {\"Term\": [\"forest\", \"land\", \"account\", \"polici\", \"european\", \"target\", \"climat\", \"energi\", \"manag\", \"agreement\", \"pari\", \"annex\", \"approach\", \"categori\", \"articl\", \"union\", \"submiss\", \"direct\", \"paragraph\", \"address\", \"current\", \"reduct\", \"ictu\", \"accord\", \"decis\", \"light\", \"revis\", \"updat\", \"ageclass\", \"contribut\", \"warm\", \"tonn\", \"individu\", \"reserv\", \"inclus\", \"market\", \"outsid\", \"trade\", \"hold\", \"joint\", \"pathway\", \"show\", \"mitig\", \"half\", \"equiti\", \"fall\", \"capita\", \"today\", \"give\", \"addit\", \"typic\", \"grow\", \"centuri\", \"second\", \"special\", \"serv\", \"ecessari\", \"katowic\", \"conclus\", \"encourag\", \"forestri\", \"remov\", \"amend\", \"allow\", \"exampl\", \"meet\", \"member\", \"state\", \"emiss\", \"regul\", \"greenhous\", \"cover\", \"legisl\", \"level\", \"includ\", \"shall\", \"parti\", \"specif\", \"understand\", \"direct\", \"land\", \"account\", \"sector\", \"achiev\", \"agreement\", \"target\", \"inform\", \"accord\", \"pari\", \"methodolog\", \"reduct\", \"applic\", \"chang\", \"biomass\", \"wood\", \"requir\", \"govern\", \"support\", \"put\", \"except\", \"recoveri\", \"arrang\", \"effort\", \"reliabl\", \"place\", \"euwid\", \"aboveground\", \"belowground\", \"litter\", \"soil\", \"peak\", \"dead\", \"engag\", \"indigen\", \"higher\", \"procedur\", \"local\", \"usual\", \"parliament\", \"keep\", \"manner\", \"harvest\", \"peopl\", \"public\", \"plan\", \"monitor\", \"signific\", \"institut\", \"climat\", \"union\", \"submit\", \"particip\", \"adopt\", \"energi\", \"covid\", \"european\", \"combin\", \"action\", \"polici\", \"resili\", \"carbon\", \"ngeu\", \"nation\", \"emiss\", \"reduct\", \"council\", \"legisl\", \"member\", \"state\", \"regul\", \"greenhous\", \"compar\", \"target\", \"sector\", \"enhanc\", \"includ\", \"pari\", \"agreement\", \"contribut\", \"categori\", \"cropland\", \"grassland\", \"wetland\", \"baselin\", \"manag\", \"process\", \"inventori\", \"forest\", \"grossnet\", \"complianc\", \"netnet\", \"exclud\", \"stock\", \"mere\", \"occur\", \"settlement\", \"afforest\", \"presenc\", \"deforest\", \"use\", \"guidelin\", \"dioxid\", \"impact\", \"input\", \"methan\", \"avail\", \"nitrogen\", \"trifluorid\", \"agricultur\", \"land\", \"refer\", \"account\", \"includ\", \"lulucf\", \"practic\", \"base\", \"applic\", \"project\", \"chang\", \"approach\", \"structur\", \"ipcc\", \"accord\", \"enhanc\", \"carbon\", \"remov\", \"report\", \"inform\", \"nation\", \"gas\", \"determin\", \"level\", \"emiss\", \"target\", \"energi\", \"sector\", \"contribut\", \"fgase\", \"forc\", \"valu\", \"equip\", \"presid\", \"indc\", \"ratif\", \"subsequ\", \"timefram\", \"fuel\", \"describ\", \"ban\", \"fgas\", \"kigali\", \"nonco\", \"substanc\", \"prevent\", \"type\", \"exist\", \"protocol\", \"sale\", \"fewer\", \"intend\", \"associ\", \"fossil\", \"fugit\", \"troduct\", \"montreal\", \"head\", \"deplet\", \"light\", \"inform\", \"revis\", \"enhanc\", \"agreement\", \"european\", \"pari\", \"annex\", \"updat\", \"polici\", \"time\", \"submiss\", \"follow\", \"subject\", \"achiev\", \"section\", \"transpar\", \"line\", \"emiss\", \"determin\", \"state\", \"nation\", \"union\", \"member\", \"contribut\", \"parti\", \"target\", \"accord\", \"goal\", \"unfccc\", \"consid\", \"registri\", \"receipt\", \"interim\", \"replac\", \"maintain\", \"accompani\", \"articl\", \"area\", \"compens\", \"atmospher\", \"equival\", \"differenti\", \"minimum\", \"icao\", \"cost\", \"partial\", \"absolut\", \"have\", \"long\", \"explain\", \"convent\", \"temperatur\", \"contain\", \"address\", \"biodivers\", \"paragraph\", \"solut\", \"aviat\", \"current\", \"global\", \"pari\", \"agreement\", \"fair\", \"object\", \"action\", \"contribut\", \"line\", \"account\", \"enhanc\", \"submiss\", \"emiss\", \"member\", \"state\", \"bind\", \"determin\", \"remov\", \"nation\", \"achiev\", \"ambiti\", \"target\", \"inform\", \"expenditur\", \"deal\", \"principl\", \"kilometr\", \"lorri\", \"consequ\", \"climatespend\", \"invit\", \"insuffici\", \"best\", \"case\", \"fund\", \"present\", \"propos\", \"adapt\", \"overal\", \"ation\", \"wish\", \"transit\", \"trailer\", \"bus\", \"coach\", \"harm\", \"van\", \"mandat\", \"extend\", \"landfil\", \"recycl\", \"larg\", \"smaller\", \"commiss\", \"neutral\", \"green\", \"leader\", \"averag\", \"progress\", \"climat\", \"target\", \"object\", \"reduc\", \"review\", \"european\", \"econom\", \"contribut\", \"decemb\", \"shall\", \"consist\", \"report\", \"level\", \"agre\", \"council\", \"emiss\", \"union\", \"pari\", \"agreement\", \"includ\", \"state\", \"member\", \"legisl\", \"greenhous\", \"sector\", \"final\", \"geograph\", \"descript\", \"differ\", \"franc\", \"lithuania\", \"croatia\", \"finland\", \"greater\", \"lead\", \"belgium\", \"primari\", \"doubl\", \"latvia\", \"bulgaria\", \"credit\", \"furthermor\", \"slovakia\", \"hungari\", \"denmark\", \"republ\", \"greec\", \"poland\", \"czech\", \"histor\", \"cyprus\", \"portug\", \"slovenia\", \"previous\", \"luxembourg\", \"estonia\", \"spain\", \"renew\", \"itali\", \"sweden\", \"increas\", \"austria\", \"ireland\", \"consumpt\", \"netherland\", \"romania\", \"target\", \"energi\", \"reduct\", \"emiss\", \"greenhous\", \"improv\", \"effici\", \"sector\", \"member\", \"state\", \"follow\", \"level\", \"reduc\", \"vehicl\", \"unit\", \"kingdom\", \"introduct\", \"behalf\", \"berlin\", \"part\", \"build\", \"mention\", \"commerci\", \"strengthen\", \"heavyduti\", \"energyeffici\", \"promot\", \"clean\", \"good\", \"concern\", \"origin\", \"withdraw\", \"fluorin\", \"standard\", \"piec\", \"further\", \"direct\", \"crisi\", \"facilit\", \"submiss\", \"sustain\", \"drought\", \"generat\", \"updat\", \"decemb\", \"union\", \"european\", \"initi\", \"member\", \"state\", \"contribut\", \"time\", \"applic\", \"determin\", \"energi\", \"nation\", \"legisl\", \"enhanc\", \"implement\", \"climat\", \"regul\", \"target\", \"inform\", \"emiss\", \"bind\", \"subject\", \"agreement\", \"includ\", \"latest\", \"remain\", \"ageclass\", \"guidanc\", \"structur\", \"forest\", \"decis\", \"ndcs\", \"forese\", \"practic\", \"consider\", \"effect\", \"approach\", \"annex\", \"manag\", \"contain\", \"project\", \"account\", \"decemb\", \"consist\", \"paragraph\", \"land\", \"address\", \"chang\", \"refer\", \"accord\", \"adopt\", \"parti\", \"pledg\", \"determin\", \"regul\", \"level\", \"contribut\", \"pledg\", \"ictu\", \"main\", \"summaris\", \"relev\", \"detail\", \"polici\", \"effect\", \"deliv\", \"combin\", \"further\", \"review\", \"forc\", \"standard\", \"framework\", \"fluorin\", \"piec\", \"ratifi\", \"provid\", \"concern\", \"clean\", \"road\", \"circular\", \"passeng\", \"renew\", \"promot\", \"energyeffici\", \"heavyduti\", \"domest\", \"strengthen\", \"current\", \"section\", \"revis\", \"initi\", \"paragraph\", \"annex\", \"implement\", \"light\", \"accord\", \"improv\", \"direct\", \"adopt\", \"reduct\", \"energi\", \"submiss\", \"follow\", \"target\", \"emiss\"], \"Freq\": [7.0, 15.0, 13.0, 8.0, 21.0, 26.0, 19.0, 14.0, 6.0, 18.0, 16.0, 5.0, 4.0, 7.0, 7.0, 13.0, 7.0, 5.0, 5.0, 6.0, 5.0, 12.0, 2.0, 7.0, 3.0, 8.0, 8.0, 8.0, 2.0, 17.0, 1.591061372811016, 1.591061372811016, 1.5734248882847106, 1.5558496438020482, 1.549218221933311, 1.5397866071695467, 1.5399376011395862, 2.8552729679307705, 1.4120922055861747, 2.2305593944749376, 0.8333917763501607, 0.8333912903180682, 0.8333898322217911, 0.8333887791522575, 0.8333884551308626, 0.8333881311094676, 0.833387726082724, 0.8333869160292366, 0.8333854579329595, 0.8333834327992411, 0.8333827037511025, 0.8333809216334304, 0.8333801115799431, 0.8333793825318044, 0.8333768713659937, 0.8228012180620631, 0.8207549419477006, 0.8206901376687136, 0.8195081886253399, 0.8165550576319035, 2.0913755182485696, 5.356194194232393, 1.5733467991285313, 1.9868261269160932, 1.2064337200819426, 1.5772199888728853, 9.34773016091522, 9.5132117755652, 14.159657193519235, 4.993635962733729, 5.527873690124687, 2.7881007405896114, 5.500315670485476, 5.366964665400028, 6.497116296622218, 2.3720272975142014, 3.8753788328982033, 1.1722289685630838, 1.994083720130542, 2.331349975615472, 4.984359230196743, 4.220342054609114, 3.560503265856761, 3.0319705831664208, 3.795536720972301, 4.158707352907392, 3.3135629965415485, 2.4144067038005232, 2.9917031483322845, 2.0008701862367553, 2.376794624297878, 1.9918363077352736, 2.08195767439409, 1.802076801430663, 1.7746996671015387, 1.7374528403665523, 4.0018557933263175, 1.6191533385260655, 1.6213738560985853, 1.6181642326030172, 3.094926084244843, 2.6416309772552564, 1.466135565911388, 0.9439047765158214, 0.9432360245813511, 0.9423101288478046, 0.9414622813764127, 0.9410790881501493, 0.9408258022499628, 0.9396537428911031, 0.939585932899079, 0.9392596436814398, 0.9393443690762884, 0.9388160594994787, 0.9383956969012195, 0.936297074095544, 0.9359474891038395, 0.9357187602138938, 0.9355902625047189, 0.9350608400724602, 0.9347858905862003, 0.9333925213737213, 0.9332185449718651, 3.366331645232293, 4.207266058575067, 2.369230078354244, 1.8537122555979797, 1.785311411520777, 8.230262247533005, 5.739573641670452, 1.7149937852182613, 1.3153535940840628, 3.8688790635404, 5.6055348026440335, 1.5949178693197585, 7.282328414959354, 1.7995639738268794, 2.52284270930158, 3.551963353157514, 1.562832911299294, 2.206418732646414, 1.5739359443040726, 4.081349283757442, 7.380456744073914, 3.5917397745183823, 2.5845014299267173, 3.2724864741697446, 3.646464367031325, 3.6172760975541767, 2.7044159075947554, 2.6144553439527596, 1.9001296047554197, 2.639629618015821, 2.1060489642768934, 2.1194881034401587, 2.124449806554592, 2.100712451447246, 2.073352529282399, 2.013460874729506, 5.046929661281925, 1.5848610876558002, 1.5768415130449545, 1.5365444072078533, 2.9438055491430335, 4.0505379945246, 1.4143070042447634, 3.7048005478024435, 4.4226097675399, 0.830649055052636, 0.830500793499494, 0.827486259907898, 0.8235712345910795, 0.8207942633380445, 0.8207678675226489, 0.8169930130875867, 0.8165704777744712, 0.8124950548974322, 0.8110037418942728, 0.8092157540847409, 0.800122345114235, 1.5369396365050423, 0.7555134676622418, 0.750450730042673, 0.7483435652469773, 0.7478995390879938, 0.7455614361909341, 0.7436757535244205, 0.742940260928769, 0.7413657151437297, 7.183134303782096, 3.0228236980313112, 4.6412484302635075, 5.022193647121016, 2.1230180617422745, 0.9398928903370727, 1.4957360720725719, 1.983189213118764, 1.426693721002797, 2.180011380450974, 1.6127078638310979, 1.1081216136584822, 1.4867639220394584, 1.8189680016014502, 2.5215938628830314, 1.4614667186845627, 2.0340845928041014, 1.617458099268396, 2.4576745249346486, 2.224934631052996, 1.2550442618195359, 1.918578325033693, 2.23493793715421, 3.1540590400425565, 2.6233263694197295, 2.011011211612943, 1.8956341923179205, 1.9376947611169155, 2.1701386531047704, 1.9376003126059014, 1.5339766780042985, 1.4323854364255495, 1.3755945224603248, 2.061570023417786, 0.7993252912743413, 0.7953130078935913, 0.7905543952470507, 1.2089784901898424, 0.785042715889494, 0.7738313375362847, 0.7695932149915726, 0.7667595353622878, 0.7656889103996383, 0.7641763090301893, 0.7637446633727358, 0.7620148467692135, 0.7619852918428238, 0.7607942911921436, 0.7600386193356402, 0.7600013388053919, 0.7480968120873728, 0.7533318070276648, 0.7475425898431147, 0.7468122956969612, 0.7348150168163362, 0.7399814694805332, 0.7300025495242923, 0.7315429091680707, 2.9712981464673294, 4.835856467893444, 2.7159505894039015, 3.444775972498377, 4.186698769446215, 4.072001220586405, 3.44788166524957, 1.7040894443468677, 2.2976439955058443, 2.1377036934626967, 1.5814088313881483, 1.8892452190587472, 1.9266748714280668, 1.761882710496456, 2.1602333509666947, 1.8447380152288384, 1.3515439091547978, 1.358943690162377, 3.896084549428694, 1.879311170487709, 2.8271459244028403, 1.8577549390699057, 1.8847113675849327, 2.1006682265553764, 1.926116292302563, 1.547804610585322, 1.5655697264909811, 1.459572105902086, 1.5645297043752204, 2.3743117900619377, 2.368360444229862, 0.8973421328960459, 0.8973356007862721, 0.8973322074824935, 0.8973311046587654, 0.8973278810201758, 0.8973272871920146, 4.046806919421241, 0.8555781983151324, 0.8508323236503995, 0.846655166698958, 0.8464598820665002, 0.8458924368421259, 0.8448080217870837, 0.8425275519826838, 0.8413057929572033, 0.8381502749409001, 0.8303905526926201, 0.8294109907243362, 0.8292232561927859, 0.8228123721964945, 0.8225476096691702, 0.81142189973772, 1.7131738853918241, 3.1345843859627376, 0.9689814774369963, 2.464296098323284, 0.6356002821791374, 1.625549280578108, 2.426168258406316, 1.8713965146494362, 5.137871831878323, 5.241706248842353, 1.583202715738411, 2.2876166111531773, 1.9151009099961351, 3.987830281758252, 1.5343679844088653, 2.6452148399039803, 2.322938019180064, 1.713116199227588, 3.157878398411609, 2.5238901476087867, 2.4979739596650115, 1.4073729118344627, 1.6519328961173836, 1.6073567610299655, 1.643356490482192, 1.5538406278074801, 1.1621177244399035, 1.5767094592928943, 1.308917729685439, 2.919589340541145, 1.482163630858274, 1.445652380470349, 1.3994903630920452, 1.4014792988707812, 0.8111008750023704, 0.8063413712162423, 0.797486801553137, 0.8006372408030646, 0.7942287657943529, 0.797400505448616, 0.7964669078846809, 0.7899586661600106, 0.7888390899669177, 0.7900263559824837, 0.7854355716046093, 0.775082648993055, 0.7701405342306283, 1.5356022199611101, 0.7542844458902785, 0.7523550333758319, 0.7528763460384602, 0.7583447407514828, 0.7467381251717117, 0.7446884032588645, 0.7478098806942018, 0.743250162913955, 0.7354175075110214, 0.7373795862582038, 0.7345587560318856, 2.2279975412372486, 1.5299861536702046, 1.4990909695731849, 1.4840998628697608, 2.140201147367403, 1.4766319242714956, 5.843452906091384, 6.6030216202746, 2.318626299544456, 2.198629082564018, 1.4202964801790412, 3.6366400903138447, 1.5032010215053864, 3.076614574240776, 1.4703840863041748, 1.4847314661635331, 1.4500540711401704, 1.563541615143473, 2.114856191947888, 1.619217336040779, 1.5158588499252055, 2.9409840391566346, 1.5709305822821862, 1.6570236173357697, 1.6412801769835654, 1.6000532022966838, 1.5998311055906094, 1.5653377527960104, 1.5199660393524763, 1.5163766265523315, 1.479637049300542, 1.5118054170992115, 0.8079193958125028, 0.8065064908112539, 0.8036162673192808, 1.2160886759403844, 1.2161044649302124, 1.2138283353346484, 1.2127608319515846, 0.7832371526696423, 0.7795013798684269, 1.2070966366449563, 0.7711686356924997, 0.7712500957019665, 1.1986662941558, 1.1973327532804123, 0.7856815817187274, 0.7615511847291928, 1.189953985458918, 1.188527247625873, 1.1895624744014122, 1.1870764769941518, 1.1848239610205429, 1.1840434539658578, 1.1837447206892882, 0.7581339862360122, 1.1836372717231134, 1.1851584640439794, 1.1819632196246204, 0.755013704586943, 1.1768404609160774, 1.1749611519498198, 1.1761905972728013, 1.433244992737843, 1.173426825425026, 1.1749274780865582, 1.5125156421903259, 1.157873203325885, 1.1571681480809974, 1.4820162042376361, 1.1519812553341264, 1.1480351256817065, 5.439024191197879, 3.612178265548354, 2.9556533452716636, 3.601531176832456, 2.2356421544265963, 1.456794480654722, 1.479325788316053, 1.5545699659112389, 1.6160595580314507, 1.594317979312669, 1.2722295730993813, 1.2934390768335156, 1.2546247097155454, 1.1912115719162222, 1.2063738880847565, 1.1621304600658517, 0.7219579696781033, 0.7202926186926274, 0.7199464947519776, 0.7125087603259171, 0.6492571229855764, 0.6378032684052742, 0.6167047204750326, 0.6151578583069162, 0.6132809155453617, 0.6108211289328916, 0.6074140116615655, 0.5995822809776731, 0.6276763726033944, 0.5934535934805373, 0.6246355462111811, 0.6158722704911912, 0.5772887936201618, 0.5758882545103506, 0.5769029156826055, 0.5380092674321479, 2.2267073178302597, 1.2427359734625274, 0.7170379454353701, 2.444456131095821, 0.6817860725708788, 0.4380478099955539, 0.6626294783955117, 2.465897001531028, 1.3529968087913067, 2.6917984124247183, 3.4474008919838073, 1.5051711142198207, 2.62786960408359, 2.581543118171683, 2.0849675023385217, 1.1551209992498994, 1.2090477792867238, 1.4845333131807903, 1.7494922206460612, 1.408551376474553, 1.4721424369197602, 1.3938949734076536, 1.0183245964950227, 1.3539672702198375, 1.1617863979208276, 1.364509488978052, 1.118687395336365, 1.2185147716261808, 0.8802453702743346, 0.8179893869278251, 0.8745898648732771, 0.8511141954489297, 0.4895583003284228, 0.48086715472960984, 0.953029036525964, 0.8983707103077946, 0.8897518078339407, 2.2462631858739392, 0.9244643222607786, 0.49159008506320845, 0.4855395225412982, 0.4942919495875093, 0.4748291603380063, 0.4797542137169156, 0.8774835172073177, 0.9142386835492817, 0.9210200875733934, 0.4907564778338744, 0.4478201065628636, 1.358945909927924, 0.47032031996613693, 0.4764761523915192, 0.4888223087277122, 1.30149348989839, 0.48257542823052085, 0.4809672272859625, 0.43003554069819977, 0.4496980498229164, 0.47349462334358694, 0.46963606559356896, 0.051122446945271786, 0.46101300524201955, 0.4640768886174884, 0.47003233968711455, 0.4658679416834277, 0.3359549087057554, 0.6415116917490773, 0.36894955966996584, 0.32891385964216674, 0.3182392045703413, 0.3086279190636697, 1.1438629653905343, 0.3137540495887255, 0.3335336096418905, 0.32649722102516154, 0.11523297009425643, 0.36349322663889116, 0.21551824610728113, 0.10084448861111928, 0.38004056987461665, 0.09870208611275705, 0.0956507241715144, 0.30593552640078725, 0.2924579079233323, 0.09102710140609041, 0.08807612778760746, 0.1322959655189607, 0.131129089726458, 0.1310861118731997, 0.1753173955964001, 0.0836193457377532, 0.0827404412541101, 0.0805589090531536, 0.30651335617128406, 0.07846322589355671, 0.3290008327701809, 0.39618875568282974, 0.37571623312970615, 0.33297842570472563, 0.27456088943104506, 0.2631610097517751, 0.29065871287513073, 0.3088712140817711, 0.2662584838608894, 0.20126764985209467, 0.22722057894172626, 0.28479603482596444, 0.31844058838675443, 0.324336841345339, 0.2360717685396269, 0.23816150306546813, 0.2585515324271715, 0.2409212096474287], \"Total\": [7.0, 15.0, 13.0, 8.0, 21.0, 26.0, 19.0, 14.0, 6.0, 18.0, 16.0, 5.0, 4.0, 7.0, 7.0, 13.0, 7.0, 5.0, 5.0, 6.0, 5.0, 12.0, 2.0, 7.0, 3.0, 8.0, 8.0, 8.0, 2.0, 17.0, 2.2261171889693223, 2.2261173953271385, 2.2271190962810463, 2.228012989850937, 2.2288908675798447, 2.2291335766715386, 2.233695871837911, 4.3939568878083906, 2.2368618680545334, 3.765079238784828, 1.4684460035551457, 1.468445487541538, 1.4684439864204561, 1.4684431526870865, 1.468442886666428, 1.4684424827630345, 1.4684422905569388, 1.4684413433131687, 1.4684398722598497, 1.4684378848546504, 1.4684373583986967, 1.4684356831448904, 1.4684348855085438, 1.4684341874805524, 1.4684317614993978, 1.4689775927763649, 1.4690380036135129, 1.469136252268514, 1.469133549039836, 1.4693278725383236, 3.8271625575401864, 10.095376856165359, 3.0130927163767334, 3.9064932886597012, 2.2489067821056823, 3.039515745475055, 23.856904534974305, 24.62295148699196, 39.81700521120936, 12.058939053213866, 13.88862913052386, 6.151364674830754, 14.618467008321428, 14.528241514863916, 18.70317916535308, 5.344764563405276, 9.975763338021542, 2.2500790353860185, 4.454432086416486, 5.49413480276013, 15.865369939001411, 13.434727742770297, 12.595391526969447, 10.800838832709319, 18.624014574440647, 26.280174965700603, 15.47085577329237, 7.190874126099822, 16.40929996034105, 5.377679646591887, 12.297022227977067, 5.989229668164749, 7.520573233098105, 2.449529017220244, 2.446866166039681, 2.440629912345377, 5.782559433603919, 2.3882362570725233, 2.4242609791521192, 2.4247377478111045, 4.70499632864612, 4.075721676394648, 2.365964123626661, 1.5783418200228472, 1.5781742001592467, 1.578001103491276, 1.579845227462727, 1.5798164756579969, 1.5797881843244868, 1.5796768670543075, 1.5796680629111817, 1.579640559135882, 1.5799473858263158, 1.57989919830244, 1.5795547030808743, 1.579727979702819, 1.5796723072401118, 1.5792939709669171, 1.5796280655215698, 1.579523694603834, 1.5795821925620284, 1.5790694614563103, 1.5794552724061586, 5.712740465416421, 7.269586270031148, 4.072121270738731, 3.2411278948705933, 3.206273207481642, 19.35079686737596, 13.254342120622008, 3.209536422757352, 2.395647273392369, 9.129782643140947, 14.70886853747635, 3.0747976261954095, 21.076854647693636, 3.5953219296703898, 5.605912470009208, 8.909438854617141, 3.069200384280298, 4.864496432245404, 3.133222061922124, 12.517276286872427, 39.81700521120936, 12.297022227977067, 7.176951920243912, 14.618467008321428, 23.856904534974305, 24.62295148699196, 12.058939053213866, 13.88862913052386, 4.770750320661197, 26.280174965700603, 12.595391526969447, 13.8718477946425, 18.70317916535308, 16.40929996034105, 18.624014574440647, 17.686053790843488, 7.079344712547315, 2.3190194858079476, 2.3184940635391205, 2.3176025185107183, 4.673499160087984, 6.497138283255871, 2.325455880227864, 6.294361056632837, 7.521759712137477, 1.5150950210154113, 1.5149406775568037, 1.5152536350983332, 1.5138296976803056, 1.514359819541514, 1.51491907083586, 1.5142897583854178, 1.5141012550033097, 1.5140217044866622, 1.514029263745718, 1.5147666664966852, 1.5128094717337968, 3.077752318756273, 1.5178314209454307, 1.5175238085998988, 1.51663120563274, 1.5173557857517002, 1.5165158946696673, 1.516607468345338, 1.5179466278688563, 1.5163118894297682, 15.865369939001411, 6.870818757902484, 13.434727742770297, 18.70317916535308, 6.253536590094242, 2.0706361098959687, 3.9326345427452636, 5.989229668164749, 3.778220861184051, 7.520573233098105, 4.9600904635733505, 2.6499393686806876, 4.592287537244075, 7.190874126099822, 13.8718477946425, 4.864496432245404, 10.095376856165359, 6.310590729840037, 15.47085577329237, 12.517276286872427, 3.7086065239457837, 9.837148123503688, 14.528241514863916, 39.81700521120936, 26.280174965700603, 14.70886853747635, 12.595391526969447, 17.686053790843488, 3.0615263412825153, 2.7965660068112173, 2.2631489998580223, 2.2829558228242544, 2.257506052427448, 3.790247470523007, 1.487327427872244, 1.487288515311254, 1.4876633114909343, 2.2754075251215897, 1.4879077150891051, 1.4944472148609176, 1.4950258874735516, 1.4953399512913084, 1.4955032532765675, 1.495689877187144, 1.4958013751260686, 1.4960165882592737, 1.49599020201112, 1.4961264449236558, 1.496195678868596, 1.4962187653701582, 1.4847315930750764, 1.4971017863296454, 1.4977995737274912, 1.4978821252676595, 1.4845678260209678, 1.498674052010391, 1.4845190591807675, 1.499755030707721, 8.229282561781506, 15.47085577329237, 8.073303639500134, 13.8718477946425, 18.624014574440647, 21.076854647693636, 16.40929996034105, 5.423950865173291, 8.936524169017872, 8.909438854617141, 5.382362032315758, 7.892195013129339, 8.246997017003634, 7.034468791235652, 10.800838832709319, 8.034604076669277, 4.452144664225135, 4.658592092793617, 39.81700521120936, 9.837148123503688, 24.62295148699196, 12.517276286872427, 13.254342120622008, 23.856904534974305, 17.686053790843488, 9.975763338021542, 26.280174965700603, 7.190874126099822, 2.33959935748506, 4.0149789684214925, 4.0238102725526055, 1.5265858685043814, 1.5265799295841131, 1.526576981602195, 1.5265756531273276, 1.5265727576937889, 1.5265719489465917, 7.078414445121554, 1.5235971474204506, 1.523253889598086, 1.522959382314168, 1.5229424530021511, 1.522905803386421, 1.522827752343917, 1.5226641045866411, 1.5225764038415293, 1.5223489637078327, 1.5253507554219559, 1.5251560488685567, 1.5251846773750164, 1.5252221602241551, 1.525108159044113, 1.5250752501776161, 3.6687416009299847, 6.8772899785016035, 2.2140827025160794, 5.701418212066059, 1.4820952082731917, 3.8720004316183085, 5.985612880727525, 4.573954742771251, 16.40929996034105, 18.624014574440647, 3.963589319538333, 7.139269308151261, 5.605912470009208, 17.686053790843488, 4.658592092793617, 13.434727742770297, 13.8718477946425, 7.892195013129339, 39.81700521120936, 23.856904534974305, 24.62295148699196, 5.9548219064925, 9.837148123503688, 10.095376856165359, 12.517276286872427, 10.800838832709319, 4.65998809995553, 26.280174965700603, 15.47085577329237, 3.855571815130459, 2.275241554251445, 2.2786692035679, 2.236661854703875, 2.247340995340599, 1.5016096477516476, 1.5020132934951222, 1.4910066305310543, 1.5021451004068576, 1.4909292474277465, 1.5026521353197164, 1.5026576604752147, 1.4917178616271, 1.4906191872156833, 1.493564686331727, 1.4954929541697761, 1.4897031887798062, 1.4880466970142037, 2.981634035164477, 1.4848198859229964, 1.4817195668890724, 1.4835193573819532, 1.4945545781173262, 1.478740486263711, 1.4783810351521054, 1.4862446260959528, 1.4823947165769815, 1.477500565594981, 1.4834344107431092, 1.4808433298886425, 4.5135794782262275, 3.1431805849649224, 3.0865475018350312, 3.0895676379795103, 4.589225535659361, 3.139075055801579, 19.35079686737596, 26.280174965700603, 7.139269308151261, 7.434527354917229, 4.165706094005382, 21.076854647693636, 4.71215001695942, 17.686053790843488, 4.979685639475556, 5.344764563405276, 5.10055991404668, 6.310590729840037, 14.528241514863916, 7.818777939002052, 7.176951920243912, 39.81700521120936, 13.254342120622008, 16.40929996034105, 18.624014574440647, 18.70317916535308, 24.62295148699196, 23.856904534974305, 14.618467008321428, 13.88862913052386, 12.595391526969447, 2.2340612805532625, 1.492968664620886, 1.4928689250555576, 1.493423670864489, 2.2681346287469073, 2.270850071508318, 2.2716234208905126, 2.2715758146167326, 1.4701310085046468, 1.4636672095666374, 2.2687505417959835, 1.4572427666407675, 1.458977099391049, 2.2691058363934955, 2.269887371648626, 1.494136960631718, 1.4527443962249598, 2.271236879584736, 2.268612997457054, 2.2717923579423562, 2.2684907931258773, 2.2678749826448006, 2.2682091977897008, 2.268161680087576, 1.4535224311593182, 2.2694157936174193, 2.273141417784743, 2.267206950924139, 1.4545355902916022, 2.2691639672628234, 2.267058664748924, 2.2701566041140913, 2.7864349848186367, 2.268104404262692, 2.2721571762535566, 2.9943069232473136, 2.268501587915821, 2.268209153098784, 2.9954395435062073, 2.265567754401847, 2.2725769857230045, 26.280174965700603, 14.70886853747635, 12.297022227977067, 39.81700521120936, 13.88862913052386, 4.4098616228603245, 6.034500416364852, 12.595391526969447, 23.856904534974305, 24.62295148699196, 8.246997017003634, 14.528241514863916, 7.434527354917229, 1.9874757445620832, 2.0830526845175847, 2.0910178893679676, 1.383845919615515, 1.3843471621040162, 1.3844492804144253, 1.3866861142019067, 1.356106291072726, 1.3508489291909271, 1.3419172120503156, 1.3398940437409332, 1.3374164188517021, 1.3348655004681935, 1.3342888350294837, 1.3297409149319817, 1.3979223551030469, 1.3267375546491236, 1.3991595242256127, 1.3999729316686114, 1.3192798647859478, 1.3166320551698092, 1.323416401933332, 1.3037941552059515, 5.49413480276013, 3.7444862044447316, 2.1616328415625548, 7.892195013129339, 2.2150361486304027, 1.4431500659534888, 2.214424522017133, 8.936524169017872, 4.979685639475556, 13.254342120622008, 21.076854647693636, 7.209999439692214, 23.856904534974305, 24.62295148699196, 17.686053790843488, 5.382362032315758, 5.989229668164749, 9.837148123503688, 14.70886853747635, 12.517276286872427, 14.618467008321428, 13.8718477946425, 6.627404888792641, 19.35079686737596, 12.058939053213866, 26.280174965700603, 15.47085577329237, 39.81700521120936, 5.9548219064925, 7.034468791235652, 18.624014574440647, 18.70317916535308, 1.2648284931669695, 1.2702486022397501, 2.613061155637586, 2.5943912853988738, 2.6499393686806876, 7.521759712137477, 3.3934526006721812, 2.0224296456403157, 2.020932674541815, 2.0706361098959687, 2.0310060310261533, 2.467541646652893, 4.9600904635733505, 5.423950865173291, 6.497138283255871, 3.6687416009299847, 3.778220861184051, 13.434727742770297, 4.979685639475556, 5.10055991404668, 5.701418212066059, 15.865369939001411, 6.8772899785016035, 7.520573233098105, 6.870818757902484, 7.190874126099822, 9.129782643140947, 9.975763338021542, 1.0878310297865108, 9.837148123503688, 12.058939053213866, 14.528241514863916, 17.686053790843488, 1.0878310297865108, 2.8928949126924843, 1.888158846111926, 1.9659206527193116, 1.9032713960168246, 1.8992785365457006, 8.909438854617141, 2.467541646652893, 3.4674348997861686, 3.5953219296703898, 1.3037941552059515, 4.165706094005382, 2.7965660068112173, 1.3166320551698092, 4.987545674799787, 1.3192798647859478, 1.323416401933332, 4.27554329585435, 4.109994119705981, 1.3267375546491236, 1.3297409149319817, 2.057065223418861, 2.0668875422234647, 2.0699465623758053, 2.7864349848186367, 1.3342888350294837, 1.3348655004681935, 1.3374164188517021, 5.107703907896831, 1.3398940437409332, 5.985612880727525, 8.034604076669277, 8.073303639500134, 7.209999439692214, 5.701418212066059, 5.423950865173291, 6.627404888792641, 8.229282561781506, 7.190874126099822, 4.4098616228603245, 5.49413480276013, 9.129782643140947, 12.297022227977067, 14.70886853747635, 7.892195013129339, 8.246997017003634, 26.280174965700603, 39.81700521120936], \"Category\": [\"Default\", \"Default\", \"Default\", \"Default\", \"Default\", \"Default\", \"Default\", \"Default\", \"Default\", \"Default\", \"Default\", \"Default\", \"Default\", \"Default\", \"Default\", \"Default\", \"Default\", \"Default\", \"Default\", \"Default\", \"Default\", \"Default\", \"Default\", \"Default\", \"Default\", \"Default\", \"Default\", \"Default\", \"Default\", \"Default\", \"Topic1\", \"Topic1\", \"Topic1\", \"Topic1\", \"Topic1\", \"Topic1\", \"Topic1\", \"Topic1\", \"Topic1\", \"Topic1\", \"Topic1\", \"Topic1\", \"Topic1\", \"Topic1\", \"Topic1\", \"Topic1\", \"Topic1\", \"Topic1\", \"Topic1\", \"Topic1\", \"Topic1\", \"Topic1\", \"Topic1\", \"Topic1\", \"Topic1\", \"Topic1\", \"Topic1\", \"Topic1\", \"Topic1\", \"Topic1\", \"Topic1\", \"Topic1\", \"Topic1\", \"Topic1\", \"Topic1\", \"Topic1\", \"Topic1\", \"Topic1\", \"Topic1\", \"Topic1\", \"Topic1\", \"Topic1\", \"Topic1\", \"Topic1\", \"Topic1\", \"Topic1\", \"Topic1\", \"Topic1\", \"Topic1\", \"Topic1\", \"Topic1\", \"Topic1\", \"Topic1\", \"Topic1\", \"Topic1\", \"Topic1\", \"Topic1\", \"Topic1\", \"Topic1\", \"Topic1\", \"Topic1\", \"Topic1\", \"Topic1\", \"Topic2\", \"Topic2\", \"Topic2\", \"Topic2\", \"Topic2\", \"Topic2\", \"Topic2\", \"Topic2\", \"Topic2\", \"Topic2\", \"Topic2\", \"Topic2\", \"Topic2\", \"Topic2\", \"Topic2\", \"Topic2\", \"Topic2\", \"Topic2\", \"Topic2\", \"Topic2\", \"Topic2\", \"Topic2\", \"Topic2\", \"Topic2\", \"Topic2\", \"Topic2\", \"Topic2\", \"Topic2\", \"Topic2\", \"Topic2\", \"Topic2\", \"Topic2\", \"Topic2\", \"Topic2\", \"Topic2\", \"Topic2\", \"Topic2\", \"Topic2\", \"Topic2\", \"Topic2\", \"Topic2\", \"Topic2\", \"Topic2\", \"Topic2\", \"Topic2\", \"Topic2\", \"Topic2\", \"Topic2\", \"Topic2\", \"Topic2\", \"Topic2\", \"Topic2\", \"Topic2\", \"Topic2\", \"Topic2\", \"Topic2\", \"Topic2\", \"Topic2\", \"Topic2\", \"Topic2\", \"Topic2\", \"Topic2\", \"Topic2\", \"Topic2\", \"Topic2\", \"Topic2\", \"Topic3\", \"Topic3\", \"Topic3\", \"Topic3\", \"Topic3\", \"Topic3\", \"Topic3\", \"Topic3\", \"Topic3\", \"Topic3\", \"Topic3\", \"Topic3\", \"Topic3\", \"Topic3\", \"Topic3\", \"Topic3\", \"Topic3\", \"Topic3\", \"Topic3\", \"Topic3\", \"Topic3\", \"Topic3\", \"Topic3\", \"Topic3\", \"Topic3\", \"Topic3\", \"Topic3\", \"Topic3\", \"Topic3\", \"Topic3\", \"Topic3\", \"Topic3\", \"Topic3\", \"Topic3\", \"Topic3\", \"Topic3\", \"Topic3\", \"Topic3\", \"Topic3\", \"Topic3\", \"Topic3\", \"Topic3\", \"Topic3\", \"Topic3\", \"Topic3\", \"Topic3\", \"Topic3\", \"Topic3\", \"Topic3\", \"Topic3\", \"Topic3\", \"Topic3\", \"Topic3\", \"Topic3\", \"Topic3\", \"Topic3\", \"Topic3\", \"Topic3\", \"Topic4\", \"Topic4\", \"Topic4\", \"Topic4\", \"Topic4\", \"Topic4\", \"Topic4\", \"Topic4\", \"Topic4\", \"Topic4\", \"Topic4\", \"Topic4\", \"Topic4\", \"Topic4\", \"Topic4\", \"Topic4\", \"Topic4\", \"Topic4\", \"Topic4\", \"Topic4\", \"Topic4\", \"Topic4\", \"Topic4\", \"Topic4\", \"Topic4\", \"Topic4\", \"Topic4\", \"Topic4\", \"Topic4\", \"Topic4\", \"Topic4\", \"Topic4\", \"Topic4\", \"Topic4\", \"Topic4\", \"Topic4\", \"Topic4\", \"Topic4\", \"Topic4\", \"Topic4\", \"Topic4\", \"Topic4\", \"Topic4\", \"Topic4\", \"Topic4\", \"Topic4\", \"Topic4\", \"Topic4\", \"Topic4\", \"Topic4\", \"Topic4\", \"Topic4\", \"Topic4\", \"Topic4\", \"Topic4\", \"Topic4\", \"Topic4\", \"Topic4\", \"Topic5\", \"Topic5\", \"Topic5\", \"Topic5\", \"Topic5\", \"Topic5\", \"Topic5\", \"Topic5\", \"Topic5\", \"Topic5\", \"Topic5\", \"Topic5\", \"Topic5\", \"Topic5\", \"Topic5\", \"Topic5\", \"Topic5\", \"Topic5\", \"Topic5\", \"Topic5\", \"Topic5\", \"Topic5\", \"Topic5\", \"Topic5\", \"Topic5\", \"Topic5\", \"Topic5\", \"Topic5\", \"Topic5\", \"Topic5\", \"Topic5\", \"Topic5\", \"Topic5\", \"Topic5\", \"Topic5\", \"Topic5\", \"Topic5\", \"Topic5\", \"Topic5\", \"Topic5\", \"Topic5\", \"Topic5\", \"Topic5\", \"Topic5\", \"Topic5\", \"Topic5\", \"Topic5\", \"Topic5\", \"Topic5\", \"Topic5\", \"Topic5\", \"Topic5\", \"Topic5\", \"Topic5\", \"Topic6\", \"Topic6\", \"Topic6\", \"Topic6\", \"Topic6\", \"Topic6\", \"Topic6\", \"Topic6\", \"Topic6\", \"Topic6\", \"Topic6\", \"Topic6\", \"Topic6\", \"Topic6\", \"Topic6\", \"Topic6\", \"Topic6\", \"Topic6\", \"Topic6\", \"Topic6\", \"Topic6\", \"Topic6\", \"Topic6\", \"Topic6\", \"Topic6\", \"Topic6\", \"Topic6\", \"Topic6\", \"Topic6\", \"Topic6\", \"Topic6\", \"Topic6\", \"Topic6\", \"Topic6\", \"Topic6\", \"Topic6\", \"Topic6\", \"Topic6\", \"Topic6\", \"Topic6\", \"Topic6\", \"Topic6\", \"Topic6\", \"Topic6\", \"Topic6\", \"Topic6\", \"Topic6\", \"Topic6\", \"Topic6\", \"Topic6\", \"Topic6\", \"Topic6\", \"Topic6\", \"Topic6\", \"Topic6\", \"Topic6\", \"Topic6\", \"Topic6\", \"Topic6\", \"Topic6\", \"Topic6\", \"Topic7\", \"Topic7\", \"Topic7\", \"Topic7\", \"Topic7\", \"Topic7\", \"Topic7\", \"Topic7\", \"Topic7\", \"Topic7\", \"Topic7\", \"Topic7\", \"Topic7\", \"Topic7\", \"Topic7\", \"Topic7\", \"Topic7\", \"Topic7\", \"Topic7\", \"Topic7\", \"Topic7\", \"Topic7\", \"Topic7\", \"Topic7\", \"Topic7\", \"Topic7\", \"Topic7\", \"Topic7\", \"Topic7\", \"Topic7\", \"Topic7\", \"Topic7\", \"Topic7\", \"Topic7\", \"Topic7\", \"Topic7\", \"Topic7\", \"Topic7\", \"Topic7\", \"Topic7\", \"Topic7\", \"Topic7\", \"Topic7\", \"Topic7\", \"Topic7\", \"Topic7\", \"Topic7\", \"Topic7\", \"Topic7\", \"Topic7\", \"Topic7\", \"Topic7\", \"Topic7\", \"Topic7\", \"Topic8\", \"Topic8\", \"Topic8\", \"Topic8\", \"Topic8\", \"Topic8\", \"Topic8\", \"Topic8\", \"Topic8\", \"Topic8\", \"Topic8\", \"Topic8\", \"Topic8\", \"Topic8\", \"Topic8\", \"Topic8\", \"Topic8\", \"Topic8\", \"Topic8\", \"Topic8\", \"Topic8\", \"Topic8\", \"Topic8\", \"Topic8\", \"Topic8\", \"Topic8\", \"Topic8\", \"Topic8\", \"Topic8\", \"Topic8\", \"Topic8\", \"Topic8\", \"Topic8\", \"Topic8\", \"Topic8\", \"Topic8\", \"Topic8\", \"Topic8\", \"Topic8\", \"Topic8\", \"Topic8\", \"Topic8\", \"Topic8\", \"Topic8\", \"Topic8\", \"Topic8\", \"Topic8\", \"Topic8\", \"Topic8\", \"Topic8\", \"Topic8\", \"Topic8\", \"Topic8\", \"Topic8\", \"Topic8\", \"Topic9\", \"Topic9\", \"Topic9\", \"Topic9\", \"Topic9\", \"Topic9\", \"Topic9\", \"Topic9\", \"Topic9\", \"Topic9\", \"Topic9\", \"Topic9\", \"Topic9\", \"Topic9\", \"Topic9\", \"Topic9\", \"Topic9\", \"Topic9\", \"Topic9\", \"Topic9\", \"Topic9\", \"Topic9\", \"Topic9\", \"Topic9\", \"Topic9\", \"Topic9\", \"Topic9\", \"Topic9\", \"Topic9\", \"Topic9\", \"Topic9\", \"Topic9\", \"Topic9\", \"Topic10\", \"Topic10\", \"Topic10\", \"Topic10\", \"Topic10\", \"Topic10\", \"Topic10\", \"Topic10\", \"Topic10\", \"Topic10\", \"Topic10\", \"Topic10\", \"Topic10\", \"Topic10\", \"Topic10\", \"Topic10\", \"Topic10\", \"Topic10\", \"Topic10\", \"Topic10\", \"Topic10\", \"Topic10\", \"Topic10\", \"Topic10\", \"Topic10\", \"Topic10\", \"Topic10\", \"Topic10\", \"Topic10\", \"Topic10\", \"Topic10\", \"Topic10\", \"Topic10\", \"Topic10\", \"Topic10\", \"Topic10\", \"Topic10\", \"Topic10\", \"Topic10\", \"Topic10\", \"Topic10\", \"Topic10\", \"Topic10\", \"Topic10\", \"Topic10\", \"Topic10\", \"Topic10\", \"Topic10\"], \"logprob\": [30.0, 29.0, 28.0, 27.0, 26.0, 25.0, 24.0, 23.0, 22.0, 21.0, 20.0, 19.0, 18.0, 17.0, 16.0, 15.0, 14.0, 13.0, 12.0, 11.0, 10.0, 9.0, 8.0, 7.0, 6.0, 5.0, 4.0, 3.0, 2.0, 1.0, -5.3876, -5.3876, -5.3987, -5.4099, -5.4142, -5.4203, -5.4202, -4.8028, -5.5069, -5.0497, -6.0342, -6.0342, -6.0342, -6.0342, -6.0342, -6.0342, -6.0342, -6.0342, -6.0342, -6.0342, -6.0342, -6.0342, -6.0342, -6.0342, -6.0342, -6.047, -6.0495, -6.0496, -6.051, -6.0546, -5.1141, -4.1737, -5.3988, -5.1654, -5.6643, -5.3963, -3.6168, -3.5993, -3.2016, -4.2438, -4.1422, -4.8266, -4.1472, -4.1717, -3.9806, -4.9882, -4.4973, -5.6931, -5.1618, -5.0055, -4.2457, -4.412, -4.5821, -4.7427, -4.5181, -4.4268, -4.6539, -4.9705, -4.7561, -5.1584, -4.9862, -5.1629, -5.1187, -5.1751, -5.1904, -5.2117, -4.3773, -5.2822, -5.2808, -5.2828, -4.6343, -4.7927, -5.3814, -5.8218, -5.8225, -5.8235, -5.8244, -5.8248, -5.8251, -5.8263, -5.8264, -5.8267, -5.8267, -5.8272, -5.8277, -5.8299, -5.8303, -5.8305, -5.8307, -5.8312, -5.8315, -5.833, -5.8332, -4.5503, -4.3273, -4.9015, -5.1469, -5.1845, -3.6563, -4.0167, -5.2247, -5.49, -4.4111, -4.0403, -5.2973, -3.7786, -5.1765, -4.8387, -4.4966, -5.3176, -4.9727, -5.3105, -4.3577, -3.7652, -4.4854, -4.8145, -4.5785, -4.4703, -4.4784, -4.7692, -4.803, -5.1222, -4.7934, -5.0193, -5.0129, -5.0106, -5.0218, -5.0349, -5.0642, -3.762, -4.9202, -4.9253, -4.9512, -4.301, -3.9819, -5.0341, -4.0711, -3.894, -5.5663, -5.5665, -5.5701, -5.5748, -5.5782, -5.5783, -5.5829, -5.5834, -5.5884, -5.5902, -5.5924, -5.6037, -4.9509, -5.6611, -5.6678, -5.6706, -5.6712, -5.6744, -5.6769, -5.6779, -5.68, -3.409, -4.2745, -3.8458, -3.7669, -4.6279, -5.4427, -4.9781, -4.696, -5.0254, -4.6014, -4.9028, -5.2781, -4.9841, -4.7825, -4.4558, -5.0013, -4.6707, -4.8999, -4.4815, -4.581, -5.1536, -4.7292, -4.5765, -4.232, -4.4163, -4.6821, -4.7412, -4.7192, -4.4875, -4.6008, -4.8344, -4.9029, -4.9434, -4.5388, -5.4862, -5.4913, -5.4973, -5.0725, -5.5043, -5.5186, -5.5241, -5.5278, -5.5292, -5.5312, -5.5318, -5.534, -5.5341, -5.5356, -5.5366, -5.5367, -5.5525, -5.5455, -5.5532, -5.5542, -5.5704, -5.5634, -5.577, -5.5748, -4.1732, -3.6862, -4.2631, -4.0254, -3.8303, -3.8581, -4.0245, -4.7292, -4.4304, -4.5025, -4.8039, -4.6261, -4.6064, -4.6959, -4.492, -4.6499, -4.961, -4.9555, -3.9023, -4.6313, -4.223, -4.6429, -4.6285, -4.52, -4.6067, -4.8254, -4.814, -4.8841, -4.7574, -4.3403, -4.3428, -5.3133, -5.3133, -5.3133, -5.3133, -5.3133, -5.3133, -3.807, -5.361, -5.3665, -5.3714, -5.3717, -5.3723, -5.3736, -5.3763, -5.3778, -5.3815, -5.3908, -5.392, -5.3922, -5.4, -5.4003, -5.4139, -4.6666, -4.0625, -5.2365, -4.3031, -5.6582, -4.7191, -4.3187, -4.5783, -3.5683, -3.5483, -4.7455, -4.3775, -4.5552, -3.8217, -4.7769, -4.2322, -4.3621, -4.6667, -4.0551, -4.2792, -4.2895, -4.8633, -4.703, -4.7304, -4.7082, -4.7642, -5.0547, -4.7496, -4.9358, -4.1259, -4.8039, -4.8288, -4.8613, -4.8599, -5.4068, -5.4126, -5.4237, -5.4197, -5.4278, -5.4238, -5.425, -5.4332, -5.4346, -5.4331, -5.4389, -5.4522, -5.4586, -4.7685, -5.4794, -5.4819, -5.4812, -5.474, -5.4894, -5.4922, -5.488, -5.4941, -5.5047, -5.502, -5.5059, -4.3963, -4.7721, -4.7925, -4.8026, -4.4365, -4.8076, -3.4321, -3.3099, -4.3564, -4.4096, -4.8465, -3.9063, -4.7898, -4.0736, -4.8119, -4.8022, -4.8258, -4.7504, -4.4484, -4.7154, -4.7814, -4.1186, -4.7457, -4.6924, -4.7019, -4.7274, -4.7275, -4.7493, -4.7787, -4.7811, -4.8056, -4.5975, -5.2241, -5.2259, -5.2295, -4.8152, -4.8152, -4.8171, -4.8179, -5.2551, -5.2599, -4.8226, -5.2707, -5.2706, -4.8296, -4.8307, -5.252, -5.2832, -4.8369, -4.8381, -4.8372, -4.8393, -4.8412, -4.8419, -4.8421, -5.2877, -4.8422, -4.841, -4.8437, -5.2918, -4.848, -4.8496, -4.8485, -4.6509, -4.8509, -4.8496, -4.5971, -4.8642, -4.8649, -4.6174, -4.8693, -4.8728, -3.3172, -3.7265, -3.9271, -3.7295, -4.2063, -4.6346, -4.6192, -4.5696, -4.5308, -4.5444, -4.7701, -4.7535, -4.784, -4.7549, -4.7423, -4.7796, -5.2557, -5.258, -5.2585, -5.2689, -5.3618, -5.3796, -5.4133, -5.4158, -5.4188, -5.4228, -5.4284, -5.4414, -5.3956, -5.4517, -5.4005, -5.4146, -5.4793, -5.4817, -5.48, -5.5498, -4.1294, -4.7126, -5.2625, -4.0361, -5.3129, -5.7553, -5.3414, -4.0273, -4.6276, -3.9397, -3.6923, -4.521, -3.9637, -3.9815, -4.1951, -4.7857, -4.7401, -4.5348, -4.3706, -4.5873, -4.5432, -4.5978, -4.9117, -4.6269, -4.7799, -4.6191, -4.8177, -4.7323, -5.0574, -5.1308, -5.0639, -5.0911, -4.6408, -4.6587, -3.9747, -4.0337, -4.0434, -3.1173, -4.0051, -4.6367, -4.6491, -4.6312, -4.6714, -4.6611, -4.0573, -4.0162, -4.0088, -4.6384, -4.7299, -3.6199, -4.6809, -4.6679, -4.6423, -3.6631, -4.6552, -4.6585, -4.7705, -4.7258, -4.6742, -4.6824, -6.9001, -4.7009, -4.6943, -4.6815, -4.6904, -4.653, -4.0061, -4.5593, -4.6741, -4.7071, -4.7378, -3.4278, -4.7213, -4.6602, -4.6815, -5.723, -4.5742, -5.0969, -5.8564, -4.5297, -5.8778, -5.9092, -4.7466, -4.7916, -5.9588, -5.9917, -5.5849, -5.5938, -5.5941, -5.3033, -6.0437, -6.0542, -6.081, -4.7447, -6.1073, -4.6739, -4.4881, -4.5411, -4.6619, -4.8548, -4.8972, -4.7978, -4.737, -4.8855, -5.1653, -5.044, -4.8182, -4.7065, -4.6882, -5.0058, -4.997, -4.9148, -4.9855], \"loglift\": [30.0, 29.0, 28.0, 27.0, 26.0, 25.0, 24.0, 23.0, 22.0, 21.0, 20.0, 19.0, 18.0, 17.0, 16.0, 15.0, 14.0, 13.0, 12.0, 11.0, 10.0, 9.0, 8.0, 7.0, 6.0, 5.0, 4.0, 3.0, 2.0, 1.0, 1.3155, 1.3155, 1.3039, 1.2922, 1.2876, 1.2814, 1.2794, 1.2203, 1.1913, 1.1278, 1.0849, 1.0849, 1.0849, 1.0849, 1.0849, 1.0849, 1.0849, 1.0849, 1.0849, 1.0849, 1.0849, 1.0849, 1.0849, 1.0849, 1.0849, 1.0717, 1.0692, 1.069, 1.0676, 1.0639, 1.047, 1.0175, 1.0016, 0.9752, 1.0286, 0.9953, 0.7144, 0.7003, 0.6174, 0.7697, 0.7301, 0.86, 0.6739, 0.6555, 0.594, 0.839, 0.7058, 0.9993, 0.8476, 0.7941, 0.4935, 0.4934, 0.3879, 0.3809, 0.0607, -0.1923, 0.1104, 0.56, -0.0507, 0.6627, 0.0077, 0.5504, 0.367, 1.4323, 1.418, 1.3994, 1.3711, 1.3506, 1.337, 1.3348, 1.3204, 1.3056, 1.2607, 1.2251, 1.2245, 1.2236, 1.2216, 1.2212, 1.2209, 1.2197, 1.2197, 1.2194, 1.2192, 1.2187, 1.2185, 1.2161, 1.2158, 1.2158, 1.2154, 1.2149, 1.2146, 1.2134, 1.213, 1.2103, 1.1923, 1.1976, 1.1805, 1.1537, 0.8843, 0.9023, 1.1125, 1.1397, 0.8806, 0.7745, 1.0828, 0.6765, 1.0471, 0.9408, 0.8196, 1.0643, 0.9486, 1.0507, 0.6185, 0.0538, 0.5085, 0.7179, 0.2425, -0.1391, -0.1787, 0.2443, 0.0692, 0.8186, -0.559, -0.0493, -0.1395, -0.436, -0.3164, -0.4561, -0.4337, 1.7842, 1.7419, 1.7371, 1.7116, 1.6603, 1.65, 1.6253, 1.5925, 1.5915, 1.5215, 1.5214, 1.5176, 1.5138, 1.5101, 1.5097, 1.5055, 1.5051, 1.5001, 1.4983, 1.4956, 1.4856, 1.4281, 1.4249, 1.4184, 1.4162, 1.4151, 1.4125, 1.4099, 1.4081, 1.407, 1.3301, 1.3015, 1.0597, 0.8077, 1.0422, 1.3327, 1.1559, 1.0173, 1.1487, 0.8842, 0.999, 1.2507, 0.9948, 0.748, 0.4176, 0.92, 0.5205, 0.7612, 0.2828, 0.3952, 1.0391, 0.488, 0.2507, -0.4131, -0.1818, 0.1327, 0.2288, -0.0887, 1.8969, 1.8741, 1.8522, 1.7749, 1.7457, 1.6321, 1.6201, 1.6151, 1.6088, 1.6087, 1.6017, 1.5829, 1.577, 1.5731, 1.5716, 1.5695, 1.5689, 1.5664, 1.5664, 1.5648, 1.5637, 1.5637, 1.5556, 1.5543, 1.5461, 1.5451, 1.5378, 1.5353, 1.5312, 1.5231, 1.2223, 1.0781, 1.1516, 0.848, 0.7485, 0.597, 0.681, 1.0833, 0.8828, 0.8137, 1.0162, 0.8113, 0.787, 0.8566, 0.6316, 0.7696, 1.0489, 1.009, -0.0833, 0.5858, 0.0766, 0.3333, 0.2905, -0.1888, 0.0238, 0.3777, -0.5795, 0.6464, 1.8959, 1.773, 1.7683, 1.767, 1.767, 1.767, 1.767, 1.767, 1.767, 1.7392, 1.7213, 1.7159, 1.7112, 1.711, 1.7103, 1.7091, 1.7065, 1.7051, 1.7015, 1.6902, 1.6892, 1.6889, 1.6811, 1.6809, 1.6673, 1.5368, 1.5126, 1.472, 1.4595, 1.4517, 1.4304, 1.3953, 1.4046, 1.1371, 1.0305, 1.3806, 1.1602, 1.2243, 0.8088, 1.1877, 0.6732, 0.5113, 0.7708, -0.2361, 0.052, 0.0101, 0.8558, 0.5141, 0.4608, 0.2679, 0.3594, 0.9095, -0.5152, -0.1714, 2.0278, 1.8773, 1.8509, 1.837, 1.8337, 1.69, 1.6838, 1.6802, 1.6767, 1.6761, 1.6723, 1.6711, 1.6702, 1.6695, 1.669, 1.6619, 1.6525, 1.6473, 1.6424, 1.6286, 1.6282, 1.6276, 1.6275, 1.6227, 1.6202, 1.619, 1.6155, 1.6082, 1.6069, 1.6048, 1.5999, 1.5859, 1.5837, 1.5727, 1.5431, 1.5517, 1.1085, 0.9246, 1.1813, 1.0876, 1.2299, 0.5488, 1.1634, 0.557, 1.0861, 1.025, 1.0482, 0.9106, 0.3788, 0.7313, 0.751, -0.2996, 0.1732, 0.0131, -0.1231, -0.1528, -0.4279, -0.4181, 0.0423, 0.0912, 0.1644, 2.1019, 1.8784, 1.8767, 1.8728, 1.8691, 1.868, 1.8657, 1.8649, 1.8628, 1.8624, 1.8614, 1.8561, 1.855, 1.8543, 1.8528, 1.8497, 1.8466, 1.846, 1.846, 1.8455, 1.8448, 1.8432, 1.8424, 1.8422, 1.8416, 1.8415, 1.8412, 1.8411, 1.8368, 1.8359, 1.8352, 1.8349, 1.8276, 1.8334, 1.8329, 1.8095, 1.8199, 1.8194, 1.7888, 1.8161, 1.8096, 0.9172, 1.0883, 1.0668, 0.0895, 0.6659, 1.3849, 1.0866, 0.4003, -0.1996, -0.2448, 0.6234, 0.0737, 0.7132, 2.0615, 2.0272, 1.986, 1.9227, 1.9201, 1.9195, 1.9075, 1.8369, 1.8229, 1.7959, 1.7949, 1.7937, 1.7916, 1.7865, 1.7769, 1.7727, 1.7689, 1.7669, 1.7522, 1.7469, 1.7465, 1.7431, 1.6882, 1.6702, 1.4704, 1.4699, 1.4013, 1.3951, 1.3811, 1.3669, 1.2858, 1.2704, 0.9793, 0.7628, 1.0068, 0.3675, 0.3181, 0.4354, 1.0345, 0.9733, 0.6823, 0.4443, 0.3888, 0.2778, 0.2756, 0.7003, -0.0863, 0.2335, -0.3846, -0.0534, -0.9133, 0.6616, 0.4217, -0.4851, -0.5165, 2.6275, 2.6053, 2.5681, 2.5162, 2.4854, 2.3682, 2.2763, 2.1623, 2.1507, 2.1442, 2.1234, 1.939, 1.8446, 1.7962, 1.6231, 1.5651, 1.4441, 1.2856, 1.217, 1.206, 1.1202, 1.0761, 0.9199, 0.8271, 0.8055, 0.8047, 0.6176, 0.5208, 0.519, 0.5162, 0.3192, 0.1457, -0.0599, 2.7661, 2.4349, 2.3084, 2.1532, 2.1526, 2.124, 1.8884, 1.8787, 1.5997, 1.5421, 1.515, 1.5022, 1.378, 1.3718, 1.3667, 1.3484, 1.3138, 1.3038, 1.2982, 1.2618, 1.2266, 1.1971, 1.1835, 1.1817, 1.1752, 1.1712, 1.1602, 1.1316, 1.1279, 1.1034, 1.04, 0.9315, 0.8736, 0.866, 0.9078, 0.9153, 0.8143, 0.6586, 0.645, 0.8541, 0.7556, 0.4736, 0.2874, 0.1267, 0.4316, 0.3964, -0.6804, -1.1665]}, \"token.table\": {\"Topic\": [2, 5, 5, 1, 3, 4, 1, 3, 5, 9, 1, 2, 4, 5, 6, 7, 8, 2, 5, 8, 6, 1, 1, 2, 5, 6, 1, 2, 4, 5, 7, 3, 3, 9, 1, 2, 4, 5, 6, 7, 1, 2, 4, 5, 6, 8, 3, 1, 2, 2, 5, 6, 7, 1, 4, 1, 4, 5, 9, 1, 3, 8, 1, 3, 9, 5, 1, 2, 1, 4, 5, 4, 6, 5, 7, 3, 1, 3, 6, 1, 4, 5, 4, 2, 3, 7, 3, 7, 8, 7, 2, 8, 6, 1, 5, 6, 7, 8, 5, 8, 2, 8, 7, 6, 1, 1, 2, 3, 6, 1, 3, 1, 1, 3, 5, 6, 6, 8, 8, 1, 2, 3, 5, 6, 8, 6, 6, 1, 2, 8, 4, 6, 8, 2, 4, 6, 7, 5, 3, 8, 1, 6, 2, 5, 1, 3, 6, 8, 4, 7, 4, 5, 1, 2, 3, 4, 5, 6, 7, 8, 5, 5, 2, 4, 5, 6, 1, 3, 4, 2, 8, 7, 2, 5, 8, 7, 3, 1, 2, 5, 7, 7, 2, 6, 4, 6, 8, 3, 4, 9, 3, 1, 2, 5, 7, 4, 4, 7, 4, 2, 3, 4, 5, 6, 8, 7, 5, 3, 1, 8, 1, 2, 3, 4, 6, 7, 1, 1, 2, 5, 6, 6, 1, 2, 5, 7, 2, 1, 2, 3, 4, 5, 6, 7, 8, 1, 1, 2, 3, 7, 8, 8, 2, 1, 2, 3, 4, 5, 7, 8, 4, 1, 5, 7, 1, 2, 4, 5, 6, 8, 2, 1, 2, 3, 4, 6, 5, 6, 4, 8, 1, 2, 5, 1, 4, 4, 4, 7, 7, 8, 1, 2, 3, 4, 6, 7, 8, 4, 7, 3, 9, 1, 3, 4, 1, 2, 8, 7, 4, 4, 6, 8, 7, 3, 6, 8, 2, 8, 7, 1, 1, 5, 5, 8, 2, 4, 3, 7, 7, 2, 6, 1, 2, 5, 6, 7, 8, 3, 1, 1, 9, 3, 4, 1, 6, 2, 5, 4, 8, 2, 7, 1, 7, 5, 1, 8, 10, 3, 1, 2, 3, 4, 6, 8, 2, 4, 7, 1, 2, 3, 4, 5, 6, 8, 1, 6, 7, 1, 4, 2, 1, 1, 2, 3, 4, 5, 7, 8, 1, 2, 3, 4, 5, 8, 3, 1, 2, 6, 4, 5, 8, 3, 4, 6, 1, 3, 4, 7, 7, 1, 6, 1, 2, 4, 6, 8, 1, 2, 3, 5, 9, 6, 6, 7, 7, 2, 6, 1, 2, 5, 6, 7, 8, 1, 2, 3, 4, 6, 7, 2, 3, 4, 7, 8, 1, 4, 5, 7, 2, 2, 5, 6, 1, 2, 3, 5, 8, 7, 2, 5, 3, 8, 9, 6, 2, 1, 1, 2, 1, 2, 4, 5, 6, 7, 8, 8, 3, 3, 1, 3, 4, 6, 5, 1, 2, 6, 4, 2, 3, 4, 5, 8, 1, 7, 3, 2, 6, 2, 6, 3, 4, 2, 4, 5, 6, 3, 8, 1, 6, 1, 4, 5, 1, 2, 4, 5, 6, 2, 8, 1, 2, 3, 4, 5, 5, 2, 6, 8, 1, 2, 2, 8, 2, 1, 2, 3, 8, 7, 1, 2, 4, 10, 7, 3, 3, 6, 4, 4, 7, 7, 6, 2, 3, 2, 6, 2, 3, 8, 6, 4, 1, 4, 8, 1, 2, 3, 2, 4, 2, 4, 5, 8, 5, 2, 8, 6, 1, 4, 6, 7, 8, 1, 2, 4, 5, 6, 7, 2, 3, 4, 6, 5, 1, 2, 3, 4, 5, 8, 6, 2, 1, 2, 3, 5, 7, 8, 5, 1, 2, 3, 6, 7, 2, 1, 2, 8, 1, 3, 6, 2, 3, 4, 6, 7, 8, 7, 8, 7, 4, 1, 1, 2, 3, 4, 7, 1, 2, 3, 4, 5, 6, 7, 1, 3, 1, 6, 7, 1, 2, 6, 7, 7, 6, 2, 5, 7, 1, 1, 8, 1, 2, 4, 5, 6, 7, 8, 3, 8, 3, 9, 2, 3, 4, 7, 8, 1, 4, 5, 8, 2, 4, 4, 4, 2, 2, 2, 8, 7, 1, 2, 3, 4, 5, 6, 7, 8, 5, 2, 4, 8, 4, 1, 1, 1, 8, 6, 6, 8, 1, 4, 8, 3, 4, 4, 1, 1, 4, 8, 2, 5, 2, 4, 6, 8, 8, 1, 2, 4, 6, 8, 3, 2, 4, 6, 8, 1, 3, 6, 8, 2], \"Freq\": [0.632973396771294, 0.6555869175961245, 0.6550624755616977, 0.2781303030657773, 0.2781303030657773, 0.13906515153288865, 0.29773584374663203, 0.3721698046832901, 0.22330188280997404, 0.07443396093665801, 0.2777562045380016, 0.0925854015126672, 0.1851708030253344, 0.1851708030253344, 0.0925854015126672, 0.0925854015126672, 0.0925854015126672, 0.5351492760633618, 0.3567661840422412, 0.1783830920211206, 0.6695391295411867, 0.6809957781080964, 0.14540611245505108, 0.14540611245505108, 0.43621833736515325, 0.14540611245505108, 0.10953163279864973, 0.43812653119459893, 0.10953163279864973, 0.10953163279864973, 0.10953163279864973, 0.6604925127800964, 0.38269291854977666, 0.38269291854977666, 0.25579444967013215, 0.25579444967013215, 0.12789722483506608, 0.12789722483506608, 0.25579444967013215, 0.12789722483506608, 0.21477646422643737, 0.10738823211321868, 0.21477646422643737, 0.2684705802830467, 0.10738823211321868, 0.05369411605660934, 0.6594949277724551, 0.5119681136547377, 0.25598405682736886, 0.21459282267470658, 0.21459282267470658, 0.21459282267470658, 0.21459282267470658, 0.6637698166835753, 0.33188490834178763, 0.18436745185523556, 0.36873490371047113, 0.18436745185523556, 0.18436745185523556, 0.3339327611079657, 0.3339327611079657, 0.16696638055398286, 0.40321845230200887, 0.40321845230200887, 0.20160922615100443, 0.656341475627639, 0.24535532094639795, 0.7360659628391938, 0.28254915214499776, 0.14127457607249888, 0.5650983042899955, 0.6679572552322177, 0.6712746589601417, 0.6566163297674291, 0.4408196164935229, 0.6594062109832508, 0.21790168999753115, 0.21790168999753115, 0.4358033799950623, 0.25826443402074944, 0.25826443402074944, 0.5165288680414989, 0.6691437409470941, 0.25428246360820694, 0.25428246360820694, 0.25428246360820694, 0.6419173080462309, 0.2139724360154103, 0.7223621555160616, 0.4407712446024948, 0.632984916544498, 0.7223088733887434, 0.670722639404431, 0.3358622695028737, 0.16793113475143684, 0.16793113475143684, 0.16793113475143684, 0.16793113475143684, 0.45165431212826956, 0.45165431212826956, 0.8164834896586058, 0.7374053247765455, 0.44055049272056923, 0.6748915397665557, 0.6809937349466612, 0.20557112414992765, 0.4111422482998553, 0.20557112414992765, 0.6654900202748735, 0.1412560117644245, 0.7062800588221225, 0.6809971690734404, 0.2659371750012331, 0.2659371750012331, 0.13296858750061655, 0.13296858750061655, 0.4838192594282343, 0.4838192594282343, 0.7520261945547126, 0.05167745839376401, 0.4134196671501121, 0.05167745839376401, 0.05167745839376401, 0.3100647503625841, 0.05167745839376401, 0.6657730689407161, 0.6740727682615171, 0.278139209662284, 0.556278419324568, 0.7452024543839778, 0.2215536482350779, 0.4431072964701558, 0.2215536482350779, 0.4192212682643204, 0.2096106341321602, 0.2096106341321602, 0.2096106341321602, 0.6564893789727018, 0.6600918536379483, 0.7537285701273946, 0.6806733129561693, 0.665952034536602, 0.24852066381490318, 0.49704132762980635, 0.4923668294056006, 0.19605690685958838, 0.19605690685958838, 0.19605690685958838, 0.33384082218180405, 0.33384082218180405, 0.27257302606062833, 0.5451460521212567, 0.056541725578021534, 0.11308345115604307, 0.11308345115604307, 0.11308345115604307, 0.22616690231208614, 0.1696251767340646, 0.056541725578021534, 0.11308345115604307, 0.6556912006993437, 0.6567814905557151, 0.4180047509497658, 0.13933491698325529, 0.13933491698325529, 0.27866983396651057, 0.48769665896657977, 0.1625655529888599, 0.1625655529888599, 0.650449311838026, 0.325224655919013, 0.6692826871622277, 0.26705933615484895, 0.26705933615484895, 0.26705933615484895, 0.44021380956179085, 0.8624334604515834, 0.1670672694553635, 0.1670672694553635, 0.334134538910727, 0.4406420378374176, 0.44088567793870365, 0.6330554088501213, 0.4395137730020056, 0.20081588927475283, 0.20081588927475283, 0.20081588927475283, 0.29468512387705614, 0.29468512387705614, 0.29468512387705614, 0.6601676826654598, 0.2883976279011521, 0.2883976279011521, 0.2883976279011521, 0.44018107398940975, 0.666775559691311, 0.6720846930618367, 0.6698511726089983, 0.526515716761978, 0.10165547854369716, 0.20331095708739433, 0.20331095708739433, 0.20331095708739433, 0.10165547854369716, 0.10165547854369716, 0.6696023502969765, 0.6566394308671899, 0.6588346941566919, 0.3640245592436583, 0.3640245592436583, 0.19578268788328493, 0.19578268788328493, 0.19578268788328493, 0.19578268788328493, 0.19578268788328493, 0.6854117178517621, 0.6807175835752501, 0.21221735224916796, 0.21221735224916796, 0.21221735224916796, 0.4244347044983359, 0.4052616503378794, 0.16571380081242817, 0.16571380081242817, 0.16571380081242817, 0.16571380081242817, 0.42266067773975924, 0.35160856336977075, 0.17580428168488538, 0.07534469215066517, 0.10045958953422021, 0.07534469215066517, 0.07534469215066517, 0.10045958953422021, 0.025114897383555053, 0.6805832916464447, 0.06798619468602399, 0.40791716811614387, 0.13597238937204797, 0.27194477874409595, 0.13597238937204797, 0.7491391452166963, 0.6329324691258614, 0.07208844955653376, 0.14417689911306752, 0.2162653486696013, 0.2162653486696013, 0.14417689911306752, 0.07208844955653376, 0.07208844955653376, 0.4380286249967359, 0.6809934584995271, 0.6566236288368721, 0.44110018657622596, 0.047445409512724725, 0.33211786658907305, 0.1897816380508989, 0.047445409512724725, 0.1897816380508989, 0.14233622853817418, 0.633713118316288, 0.44466049369271154, 0.824831469632322, 0.660576286442481, 0.668453575869454, 0.7780947013428903, 0.6556421917270298, 0.6728367473575239, 0.46261325270999376, 0.46261325270999376, 0.25229657247044884, 0.25229657247044884, 0.5045931449408977, 0.6809936458106218, 0.6683514624631808, 0.6688847386381401, 0.6532689178699579, 0.8952305907672785, 0.4402230352891493, 0.7579892839206254, 0.12125625824020585, 0.12125625824020585, 0.12125625824020585, 0.2425125164804117, 0.12125625824020585, 0.12125625824020585, 0.12125625824020585, 0.715162808647774, 0.49482103614694617, 0.5317904523785046, 0.2658952261892523, 0.5225803633711995, 0.26129018168559975, 0.667646070636377, 0.4009988339766503, 0.4009988339766503, 0.20049941698832516, 0.4408909362459129, 0.43948171435644856, 0.667609275210029, 0.665487573319761, 0.7669922403065511, 0.6883523368588155, 0.2696430569118578, 0.2696430569118578, 0.2696430569118578, 0.45158459457859235, 0.45158459457859235, 0.6698064223966369, 0.6809948564397492, 0.4372583710323831, 0.4372583710323831, 0.854847217153406, 0.715347312638323, 0.6917352162011489, 0.17293380405028722, 0.8626289070359112, 0.6802114874218974, 0.44094141328451797, 0.32398659000241353, 0.32398659000241353, 0.4320080796752968, 0.2160040398376484, 0.07200134661254946, 0.14400269322509893, 0.14400269322509893, 0.07200134661254946, 0.6600246097632897, 0.6809967991640872, 0.3854468698025461, 0.3854468698025461, 0.6498248698609395, 0.32491243493046973, 0.6809933351319131, 0.669095672143127, 0.6332843642468656, 0.6556706120280965, 0.6736188355519331, 0.7477102762493331, 0.6330898183200175, 0.6879838787230877, 0.447054873741368, 0.4407979682391512, 0.6567436619722974, 0.34567449913667164, 0.34567449913667164, 0.34567449913667164, 0.6589682444077252, 0.1508886233420057, 0.3017772466840114, 0.1508886233420057, 0.1508886233420057, 0.1508886233420057, 0.1508886233420057, 0.22676448503873461, 0.22676448503873461, 0.22676448503873461, 0.320801075953695, 0.10693369198456501, 0.26733422996141254, 0.053466845992282505, 0.053466845992282505, 0.10693369198456501, 0.053466845992282505, 0.8973072791902202, 0.3339671001112685, 0.667934200222537, 0.263835015464574, 0.527670030929148, 0.6329517738058692, 0.89802112663831, 0.1939129964083148, 0.06463766546943828, 0.12927533093887655, 0.32318832734719133, 0.06463766546943828, 0.06463766546943828, 0.06463766546943828, 0.13869626597955587, 0.13869626597955587, 0.13869626597955587, 0.13869626597955587, 0.13869626597955587, 0.27739253195911173, 0.6593560756801117, 0.3118885806944216, 0.6237771613888432, 0.6657146501554004, 0.6735224094806705, 0.6550603160218397, 0.7226238021338661, 0.6354894426948867, 0.15887236067372168, 0.6706878289627917, 0.43551279918335445, 0.21775639959167722, 0.21775639959167722, 0.44087645031932754, 0.44089681150505805, 0.5311973196732763, 0.26559865983663816, 0.6806720605089459, 0.6331022468458845, 0.6687442538644439, 0.44709485159632945, 0.4782359850121897, 0.3151518066848624, 0.06303036133697248, 0.4412125293588074, 0.06303036133697248, 0.06303036133697248, 0.674584163595182, 0.6741113680240582, 0.44070222902841527, 0.6832154149959265, 0.32366988432529403, 0.32366988432529403, 0.41043975381170644, 0.20521987690585322, 0.06840662563528441, 0.13681325127056881, 0.06840662563528441, 0.06840662563528441, 0.3441572742912124, 0.13766290971648495, 0.13766290971648495, 0.06883145485824248, 0.13766290971648495, 0.06883145485824248, 0.24303455191688453, 0.12151727595844226, 0.3645518278753268, 0.12151727595844226, 0.12151727595844226, 0.2146571281797566, 0.2146571281797566, 0.4293142563595132, 0.44036372658270273, 0.6329962522333951, 0.6330426857625472, 0.6556583047510629, 0.44497030137985066, 0.1599095144952098, 0.3198190289904196, 0.3198190289904196, 0.1599095144952098, 0.1599095144952098, 0.44069093923003233, 0.5296164578839264, 0.6550621285229219, 0.6156556664814443, 0.15391391662036108, 0.15391391662036108, 0.6764156034354929, 0.6330788006529968, 0.8972095799599087, 0.6579995523883736, 0.3289997761941868, 0.37724927753330145, 0.1676663455703562, 0.0838331727851781, 0.12574975917776715, 0.0838331727851781, 0.0838331727851781, 0.12574975917776715, 0.740275228702988, 0.6601012682797952, 0.6590412145854102, 0.37190761284330187, 0.18595380642165094, 0.18595380642165094, 0.18595380642165094, 0.6566730862770348, 0.6809929484866795, 0.49114450848296476, 0.24557225424148238, 0.6672564982749608, 0.31955833747913875, 0.15977916873956938, 0.15977916873956938, 0.15977916873956938, 0.07988958436978469, 0.4944547772802217, 0.4413904629676454, 0.6599555195491112, 0.3181490763793197, 0.6362981527586394, 0.6383205404768115, 0.31916027023840576, 0.6593663956376454, 0.6686712301086966, 0.1400703569002853, 0.1400703569002853, 0.2801407138005706, 0.2801407138005706, 0.6603755948704498, 0.714714786045191, 0.895377040901444, 0.6686758350895412, 0.17539495662389298, 0.17539495662389298, 0.35078991324778597, 0.18282315560386944, 0.12188210373591296, 0.18282315560386944, 0.3047052593397824, 0.12188210373591296, 0.6330604158199828, 0.7211437323547009, 0.4009718218509087, 0.20048591092545434, 0.10024295546272717, 0.20048591092545434, 0.10024295546272717, 0.6568796142274766, 0.41742372139114814, 0.483104258910065, 0.483104258910065, 0.6809920130389365, 0.6330443866524039, 0.633129672913491, 0.7556200743312048, 0.6336436116488879, 0.137559410240786, 0.550237640963144, 0.137559410240786, 0.137559410240786, 0.4408764416326628, 0.11224051439353779, 0.44896205757415114, 0.22448102878707557, 0.11224051439353779, 0.43991983612464175, 0.48294337919676344, 0.6604892150670811, 0.6703680539892739, 0.44296669722090953, 0.6685379600722178, 0.687504662432854, 0.6862274583837514, 0.4388526418991478, 0.6330203761967435, 0.43002320899849245, 0.3185651767554328, 0.3185651767554328, 0.2646748394922079, 0.2646748394922079, 0.7494629151850042, 0.6708621548525031, 0.6683927039676302, 0.4866187010854106, 0.2433093505427053, 0.2433093505427053, 0.17504733604716743, 0.5251420081415024, 0.17504733604716743, 0.8249936855806244, 0.6723469098062625, 0.23388840453787932, 0.23388840453787932, 0.23388840453787932, 0.23388840453787932, 0.6550590510333976, 0.6376200512069817, 0.21254001706899392, 0.6768186918407748, 0.26901508388118195, 0.13450754194059097, 0.26901508388118195, 0.13450754194059097, 0.13450754194059097, 0.16264100063589232, 0.32528200127178464, 0.08132050031794616, 0.08132050031794616, 0.08132050031794616, 0.24396150095383848, 0.14554306193127978, 0.43662918579383936, 0.14554306193127978, 0.14554306193127978, 0.6550565026386067, 0.4146301741750187, 0.2487781045050112, 0.08292603483500373, 0.08292603483500373, 0.08292603483500373, 0.08292603483500373, 0.5254111431994432, 0.6335763187124602, 0.49527621120418547, 0.09905524224083709, 0.19811048448167418, 0.19811048448167418, 0.35888151184158634, 0.35888151184158634, 0.6550608860762387, 0.1584637703204924, 0.1584637703204924, 0.3169275406409848, 0.3169275406409848, 0.4408217141679669, 0.819460578551238, 0.897660834613809, 0.6516355237812155, 0.32581776189060774, 0.2400553417436338, 0.2400553417436338, 0.2400553417436338, 0.123865030308945, 0.123865030308945, 0.37159509092683496, 0.123865030308945, 0.123865030308945, 0.123865030308945, 0.48612945696393184, 0.48612945696393184, 0.440029097488135, 0.6683617752165861, 0.6809974927890623, 0.24892327996690716, 0.12446163998345358, 0.12446163998345358, 0.24892327996690716, 0.12446163998345358, 0.31757647163529124, 0.15878823581764562, 0.15878823581764562, 0.07939411790882281, 0.07939411790882281, 0.07939411790882281, 0.15878823581764562, 0.6807455776844097, 0.6604578106619521, 0.37419796069104166, 0.18709898034552083, 0.18709898034552083, 0.6809922523403941, 0.6170691391614624, 0.3085345695807312, 0.4402887294533699, 0.44107133651490826, 0.6752908831180667, 0.63304085845401, 0.6747204865233408, 0.4404982450055428, 0.6809986178580829, 0.4444288330647204, 0.7595136363826624, 0.40612515543812416, 0.16245006217524968, 0.12183754663143725, 0.08122503108762484, 0.08122503108762484, 0.08122503108762484, 0.12183754663143725, 0.6603450428992226, 0.746327670214906, 0.3773671246289175, 0.3773671246289175, 0.28431429001317476, 0.14215714500658738, 0.28431429001317476, 0.14215714500658738, 0.14215714500658738, 0.12670746203513913, 0.25341492407027827, 0.25341492407027827, 0.25341492407027827, 0.6231429516795374, 0.3115714758397687, 0.6723645007039699, 0.6685877970108624, 0.5086675286801502, 0.83743808598383, 0.4514599008320105, 0.4514599008320105, 0.44011039836990884, 0.15220598817247502, 0.11415449112935626, 0.11415449112935626, 0.07610299408623751, 0.07610299408623751, 0.26636047930183127, 0.19025748521559377, 0.038051497043118755, 0.6557053495449068, 0.371584071824225, 0.371584071824225, 0.1857920359121125, 0.6721951077746222, 0.6809941742335799, 0.8984252152192048, 0.6827559023903701, 0.22758530079679004, 0.6734823593626497, 0.6707731319178054, 0.3353865659589027, 0.4492217011883836, 0.2246108505941918, 0.2246108505941918, 0.6587846908714866, 0.6735967077235285, 0.6684417859053114, 0.6809960222548963, 0.4489910186528325, 0.22449550932641624, 0.22449550932641624, 0.24906730716777692, 0.49813461433555384, 0.4526818415728678, 0.15089394719095592, 0.15089394719095592, 0.2263409207864339, 0.48006467019896354, 0.22380065920190992, 0.11190032960095496, 0.22380065920190992, 0.11190032960095496, 0.22380065920190992, 0.6610217735177997, 0.6331943377126638, 0.8837244035304211, 0.6762511808455788, 0.5031507945372878, 0.8984252985019117, 0.8629607467311485, 0.6720219210905952, 0.7142995249258939, 0.8173720441919609], \"Term\": [\"aboveground\", \"absolut\", \"accompani\", \"accord\", \"accord\", \"accord\", \"account\", \"account\", \"account\", \"account\", \"achiev\", \"achiev\", \"achiev\", \"achiev\", \"achiev\", \"achiev\", \"achiev\", \"action\", \"action\", \"action\", \"adapt\", \"addit\", \"address\", \"address\", \"address\", \"address\", \"adopt\", \"adopt\", \"adopt\", \"adopt\", \"adopt\", \"afforest\", \"ageclass\", \"ageclass\", \"agre\", \"agre\", \"agre\", \"agre\", \"agre\", \"agre\", \"agreement\", \"agreement\", \"agreement\", \"agreement\", \"agreement\", \"agreement\", \"agricultur\", \"allow\", \"allow\", \"ambiti\", \"ambiti\", \"ambiti\", \"ambiti\", \"amend\", \"amend\", \"annex\", \"annex\", \"annex\", \"annex\", \"applic\", \"applic\", \"applic\", \"approach\", \"approach\", \"approach\", \"area\", \"arrang\", \"arrang\", \"articl\", \"articl\", \"articl\", \"associ\", \"ation\", \"atmospher\", \"austria\", \"avail\", \"averag\", \"averag\", \"averag\", \"aviat\", \"aviat\", \"aviat\", \"ban\", \"base\", \"base\", \"base\", \"baselin\", \"baselin\", \"behalf\", \"belgium\", \"belowground\", \"berlin\", \"best\", \"bind\", \"bind\", \"bind\", \"bind\", \"bind\", \"biodivers\", \"biodivers\", \"biomass\", \"build\", \"bulgaria\", \"bus\", \"capita\", \"carbon\", \"carbon\", \"carbon\", \"case\", \"categori\", \"categori\", \"centuri\", \"chang\", \"chang\", \"chang\", \"chang\", \"circular\", \"circular\", \"clean\", \"climat\", \"climat\", \"climat\", \"climat\", \"climat\", \"climat\", \"climatespend\", \"coach\", \"combin\", \"combin\", \"commerci\", \"commiss\", \"commiss\", \"commiss\", \"compar\", \"compar\", \"compar\", \"compar\", \"compens\", \"complianc\", \"concern\", \"conclus\", \"consequ\", \"consid\", \"consid\", \"consider\", \"consist\", \"consist\", \"consist\", \"consumpt\", \"consumpt\", \"contain\", \"contain\", \"contribut\", \"contribut\", \"contribut\", \"contribut\", \"contribut\", \"contribut\", \"contribut\", \"contribut\", \"convent\", \"cost\", \"council\", \"council\", \"council\", \"council\", \"cover\", \"cover\", \"cover\", \"covid\", \"covid\", \"credit\", \"crisi\", \"crisi\", \"crisi\", \"croatia\", \"cropland\", \"current\", \"current\", \"current\", \"cyprus\", \"czech\", \"dead\", \"deal\", \"decemb\", \"decemb\", \"decemb\", \"decis\", \"decis\", \"decis\", \"deforest\", \"deliv\", \"deliv\", \"deliv\", \"denmark\", \"deplet\", \"describ\", \"descript\", \"detail\", \"determin\", \"determin\", \"determin\", \"determin\", \"determin\", \"determin\", \"differ\", \"differenti\", \"dioxid\", \"direct\", \"direct\", \"domest\", \"domest\", \"domest\", \"domest\", \"domest\", \"doubl\", \"ecessari\", \"econom\", \"econom\", \"econom\", \"econom\", \"effect\", \"effici\", \"effici\", \"effici\", \"effici\", \"effort\", \"emiss\", \"emiss\", \"emiss\", \"emiss\", \"emiss\", \"emiss\", \"emiss\", \"emiss\", \"encourag\", \"energi\", \"energi\", \"energi\", \"energi\", \"energi\", \"energyeffici\", \"engag\", \"enhanc\", \"enhanc\", \"enhanc\", \"enhanc\", \"enhanc\", \"enhanc\", \"enhanc\", \"equip\", \"equiti\", \"equival\", \"estonia\", \"european\", \"european\", \"european\", \"european\", \"european\", \"european\", \"euwid\", \"exampl\", \"except\", \"exclud\", \"exist\", \"expenditur\", \"explain\", \"extend\", \"facilit\", \"facilit\", \"fair\", \"fair\", \"fair\", \"fall\", \"fewer\", \"fgas\", \"fgase\", \"final\", \"finland\", \"fluorin\", \"follow\", \"follow\", \"follow\", \"follow\", \"follow\", \"follow\", \"follow\", \"forc\", \"forese\", \"forest\", \"forest\", \"forestri\", \"forestri\", \"fossil\", \"framework\", \"framework\", \"framework\", \"franc\", \"fuel\", \"fugit\", \"fund\", \"further\", \"furthermor\", \"gas\", \"gas\", \"gas\", \"generat\", \"generat\", \"geograph\", \"give\", \"global\", \"global\", \"goal\", \"good\", \"govern\", \"govern\", \"grassland\", \"greater\", \"greec\", \"green\", \"green\", \"greenhous\", \"greenhous\", \"greenhous\", \"greenhous\", \"greenhous\", \"greenhous\", \"grossnet\", \"grow\", \"guidanc\", \"guidanc\", \"guidelin\", \"guidelin\", \"half\", \"harm\", \"harvest\", \"have\", \"head\", \"heavyduti\", \"higher\", \"histor\", \"hold\", \"hungari\", \"icao\", \"ictu\", \"ictu\", \"ictu\", \"impact\", \"implement\", \"implement\", \"implement\", \"implement\", \"implement\", \"implement\", \"improv\", \"improv\", \"improv\", \"includ\", \"includ\", \"includ\", \"includ\", \"includ\", \"includ\", \"includ\", \"inclus\", \"increas\", \"increas\", \"indc\", \"indc\", \"indigen\", \"individu\", \"inform\", \"inform\", \"inform\", \"inform\", \"inform\", \"inform\", \"inform\", \"initi\", \"initi\", \"initi\", \"initi\", \"initi\", \"initi\", \"input\", \"institut\", \"institut\", \"insuffici\", \"intend\", \"interim\", \"introduct\", \"inventori\", \"inventori\", \"invit\", \"ipcc\", \"ipcc\", \"ipcc\", \"ireland\", \"itali\", \"joint\", \"joint\", \"katowic\", \"keep\", \"kigali\", \"kilometr\", \"kingdom\", \"land\", \"land\", \"land\", \"land\", \"land\", \"landfil\", \"larg\", \"latvia\", \"lead\", \"leader\", \"leader\", \"legisl\", \"legisl\", \"legisl\", \"legisl\", \"legisl\", \"legisl\", \"level\", \"level\", \"level\", \"level\", \"level\", \"level\", \"light\", \"light\", \"light\", \"light\", \"light\", \"line\", \"line\", \"line\", \"lithuania\", \"litter\", \"local\", \"long\", \"lorri\", \"lulucf\", \"lulucf\", \"lulucf\", \"lulucf\", \"lulucf\", \"luxembourg\", \"main\", \"maintain\", \"manag\", \"manag\", \"manag\", \"mandat\", \"manner\", \"market\", \"meet\", \"meet\", \"member\", \"member\", \"member\", \"member\", \"member\", \"member\", \"member\", \"mention\", \"mere\", \"methan\", \"methodolog\", \"methodolog\", \"methodolog\", \"methodolog\", \"minimum\", \"mitig\", \"monitor\", \"monitor\", \"montreal\", \"nation\", \"nation\", \"nation\", \"nation\", \"nation\", \"ndcs\", \"netherland\", \"netnet\", \"neutral\", \"neutral\", \"ngeu\", \"ngeu\", \"nitrogen\", \"nonco\", \"object\", \"object\", \"object\", \"object\", \"occur\", \"origin\", \"outsid\", \"overal\", \"paragraph\", \"paragraph\", \"paragraph\", \"pari\", \"pari\", \"pari\", \"pari\", \"pari\", \"parliament\", \"part\", \"parti\", \"parti\", \"parti\", \"parti\", \"parti\", \"partial\", \"particip\", \"passeng\", \"passeng\", \"pathway\", \"peak\", \"peopl\", \"piec\", \"place\", \"plan\", \"plan\", \"plan\", \"plan\", \"poland\", \"polici\", \"polici\", \"polici\", \"polici\", \"portug\", \"practic\", \"presenc\", \"present\", \"presid\", \"prevent\", \"previous\", \"primari\", \"principl\", \"procedur\", \"process\", \"progress\", \"progress\", \"project\", \"project\", \"promot\", \"propos\", \"protocol\", \"provid\", \"provid\", \"provid\", \"public\", \"public\", \"public\", \"put\", \"ratif\", \"ratifi\", \"ratifi\", \"ratifi\", \"ratifi\", \"receipt\", \"recoveri\", \"recoveri\", \"recycl\", \"reduc\", \"reduc\", \"reduc\", \"reduc\", \"reduc\", \"reduct\", \"reduct\", \"reduct\", \"reduct\", \"reduct\", \"reduct\", \"refer\", \"refer\", \"refer\", \"refer\", \"registri\", \"regul\", \"regul\", \"regul\", \"regul\", \"regul\", \"regul\", \"relev\", \"reliabl\", \"remov\", \"remov\", \"remov\", \"remov\", \"renew\", \"renew\", \"replac\", \"report\", \"report\", \"report\", \"report\", \"republ\", \"requir\", \"reserv\", \"resili\", \"resili\", \"review\", \"review\", \"review\", \"revis\", \"revis\", \"revis\", \"revis\", \"revis\", \"revis\", \"road\", \"road\", \"romania\", \"sale\", \"second\", \"section\", \"section\", \"section\", \"section\", \"section\", \"sector\", \"sector\", \"sector\", \"sector\", \"sector\", \"sector\", \"sector\", \"serv\", \"settlement\", \"shall\", \"shall\", \"shall\", \"show\", \"signific\", \"signific\", \"slovakia\", \"slovenia\", \"smaller\", \"soil\", \"solut\", \"spain\", \"special\", \"specif\", \"standard\", \"state\", \"state\", \"state\", \"state\", \"state\", \"state\", \"state\", \"stock\", \"strengthen\", \"structur\", \"structur\", \"subject\", \"subject\", \"subject\", \"subject\", \"subject\", \"submiss\", \"submiss\", \"submiss\", \"submiss\", \"submit\", \"submit\", \"subsequ\", \"substanc\", \"summaris\", \"support\", \"sustain\", \"sustain\", \"sweden\", \"target\", \"target\", \"target\", \"target\", \"target\", \"target\", \"target\", \"target\", \"temperatur\", \"time\", \"time\", \"time\", \"timefram\", \"today\", \"tonn\", \"trade\", \"trade\", \"trailer\", \"transit\", \"transit\", \"transpar\", \"transpar\", \"transpar\", \"trifluorid\", \"troduct\", \"type\", \"typic\", \"understand\", \"understand\", \"understand\", \"unfccc\", \"unfccc\", \"union\", \"union\", \"union\", \"union\", \"unit\", \"updat\", \"updat\", \"updat\", \"updat\", \"updat\", \"use\", \"usual\", \"valu\", \"van\", \"vehicl\", \"warm\", \"wetland\", \"wish\", \"withdraw\", \"wood\"]}, \"R\": 30, \"lambda.step\": 0.01, \"plot.opts\": {\"xlab\": \"PC1\", \"ylab\": \"PC2\"}, \"topic.order\": [10, 7, 9, 2, 6, 1, 3, 4, 5, 8]};\n",
       "\n",
       "function LDAvis_load_lib(url, callback){\n",
       "  var s = document.createElement('script');\n",
       "  s.src = url;\n",
       "  s.async = true;\n",
       "  s.onreadystatechange = s.onload = callback;\n",
       "  s.onerror = function(){console.warn(\"failed to load library \" + url);};\n",
       "  document.getElementsByTagName(\"head\")[0].appendChild(s);\n",
       "}\n",
       "\n",
       "if(typeof(LDAvis) !== \"undefined\"){\n",
       "   // already loaded: just create the visualization\n",
       "   !function(LDAvis){\n",
       "       new LDAvis(\"#\" + \"ldavis_el186826141770109604518270620\", ldavis_el186826141770109604518270620_data);\n",
       "   }(LDAvis);\n",
       "}else if(typeof define === \"function\" && define.amd){\n",
       "   // require.js is available: use it to load d3/LDAvis\n",
       "   require.config({paths: {d3: \"https://d3js.org/d3.v5\"}});\n",
       "   require([\"d3\"], function(d3){\n",
       "      window.d3 = d3;\n",
       "      LDAvis_load_lib(\"https://cdn.jsdelivr.net/gh/bmabey/pyLDAvis@3.3.1/pyLDAvis/js/ldavis.v3.0.0.js\", function(){\n",
       "        new LDAvis(\"#\" + \"ldavis_el186826141770109604518270620\", ldavis_el186826141770109604518270620_data);\n",
       "      });\n",
       "    });\n",
       "}else{\n",
       "    // require.js not available: dynamically load d3 & LDAvis\n",
       "    LDAvis_load_lib(\"https://d3js.org/d3.v5.js\", function(){\n",
       "         LDAvis_load_lib(\"https://cdn.jsdelivr.net/gh/bmabey/pyLDAvis@3.3.1/pyLDAvis/js/ldavis.v3.0.0.js\", function(){\n",
       "                 new LDAvis(\"#\" + \"ldavis_el186826141770109604518270620\", ldavis_el186826141770109604518270620_data);\n",
       "            })\n",
       "         });\n",
       "}\n",
       "</script>"
      ],
      "text/plain": [
       "PreparedData(topic_coordinates=              x         y  topics  cluster       Freq\n",
       "topic                                                \n",
       "9     -0.008787  0.013493       1        1  19.179456\n",
       "6      0.085897 -0.003196       2        1  17.565887\n",
       "8     -0.138878  0.009901       3        1  11.972564\n",
       "1      0.016808 -0.065915       4        1  10.634733\n",
       "5      0.008501 -0.108298       5        1  10.042812\n",
       "0      0.079907  0.032623       6        1   9.966896\n",
       "2      0.013916  0.145520       7        1   8.270628\n",
       "3      0.059367 -0.035453       8        1   7.627606\n",
       "4     -0.127996 -0.008199       9        1   2.796737\n",
       "7      0.011266  0.019523      10        1   1.942682, topic_info=         Term       Freq      Total Category  logprob  loglift\n",
       "522    forest   7.000000   7.000000  Default  30.0000  30.0000\n",
       "229      land  15.000000  15.000000  Default  29.0000  29.0000\n",
       "265   account  13.000000  13.000000  Default  28.0000  28.0000\n",
       "110    polici   8.000000   8.000000  Default  27.0000  27.0000\n",
       "9    european  21.000000  21.000000  Default  26.0000  26.0000\n",
       "..        ...        ...        ...      ...      ...      ...\n",
       "285    energi   0.324337  14.708869  Topic10  -4.6882   0.1267\n",
       "21    submiss   0.236072   7.892195  Topic10  -5.0058   0.4316\n",
       "162    follow   0.238162   8.246997  Topic10  -4.9970   0.3964\n",
       "133    target   0.258552  26.280175  Topic10  -4.9148  -0.6804\n",
       "63      emiss   0.240921  39.817005  Topic10  -4.9855  -1.1665\n",
       "\n",
       "[580 rows x 6 columns], token_table=      Topic      Freq         Term\n",
       "term                              \n",
       "553       2  0.632973  aboveground\n",
       "579       5  0.655587      absolut\n",
       "361       5  0.655062    accompani\n",
       "205       1  0.278130       accord\n",
       "205       3  0.278130       accord\n",
       "...     ...       ...          ...\n",
       "578       1  0.898425         warm\n",
       "551       3  0.862961      wetland\n",
       "360       6  0.672022         wish\n",
       "171       8  0.714300     withdraw\n",
       "564       2  0.817372         wood\n",
       "\n",
       "[730 rows x 3 columns], R=30, lambda_step=0.01, plot_opts={'xlab': 'PC1', 'ylab': 'PC2'}, topic_order=[10, 7, 9, 2, 6, 1, 3, 4, 5, 8])"
      ]
     },
     "execution_count": 55,
     "metadata": {},
     "output_type": "execute_result"
    }
   ],
   "source": [
    "#Creating Topic Distance Visualization \n",
    "pyLDAvis.enable_notebook()\n",
    "p = pyLDAvis.gensim_models.prepare(lda_model, bow_corpus, dictionary)\n",
    "p"
   ]
  },
  {
   "cell_type": "code",
   "execution_count": 57,
   "id": "6ccceeb5",
   "metadata": {},
   "outputs": [
    {
     "name": "stderr",
     "output_type": "stream",
     "text": [
      "C:\\Users\\serva\\Downloads\\Anaconda\\envs\\py39\\lib\\site-packages\\pyLDAvis\\_prepare.py:246: FutureWarning: In a future version of pandas all arguments of DataFrame.drop except for the argument 'labels' will be keyword-only.\n",
      "  default_term_info = default_term_info.sort_values(\n"
     ]
    }
   ],
   "source": [
    "# Save the visualization in a html file\n",
    "p = pyLDAvis.gensim_models.prepare(lda_model, bow_corpus, dictionary)\n",
    "pyLDAvis.save_html(p, 'lda.html')"
   ]
  },
  {
   "cell_type": "code",
   "execution_count": 56,
   "id": "52be34d8",
   "metadata": {},
   "outputs": [
    {
     "name": "stdout",
     "output_type": "stream",
     "text": [
      "Score: 0.699964165687561\t Topic: 0.033*\"land\" + 0.023*\"categori\" + 0.023*\"includ\" + 0.021*\"account\" + 0.020*\"forest\"\n",
      "Score: 0.03334146738052368\t Topic: 0.025*\"european\" + 0.019*\"union\" + 0.019*\"member\" + 0.019*\"state\" + 0.018*\"updat\"\n",
      "Score: 0.03334113582968712\t Topic: 0.025*\"inform\" + 0.022*\"agreement\" + 0.021*\"european\" + 0.020*\"emiss\" + 0.018*\"pari\"\n",
      "Score: 0.03334016725420952\t Topic: 0.029*\"agreement\" + 0.028*\"pari\" + 0.022*\"articl\" + 0.022*\"contribut\" + 0.017*\"emiss\"\n",
      "Score: 0.03333818539977074\t Topic: 0.044*\"forest\" + 0.027*\"account\" + 0.026*\"land\" + 0.019*\"ageclass\" + 0.018*\"decis\"\n",
      "Score: 0.033336568623781204\t Topic: 0.037*\"target\" + 0.032*\"climat\" + 0.020*\"european\" + 0.017*\"contribut\" + 0.016*\"emiss\"\n",
      "Score: 0.03333577513694763\t Topic: 0.026*\"climat\" + 0.023*\"emiss\" + 0.023*\"european\" + 0.018*\"union\" + 0.018*\"energi\"\n",
      "Score: 0.03333428129553795\t Topic: 0.036*\"target\" + 0.024*\"energi\" + 0.024*\"emiss\" + 0.020*\"reduct\" + 0.015*\"greenhous\"\n",
      "Score: 0.033334165811538696\t Topic: 0.041*\"emiss\" + 0.027*\"state\" + 0.027*\"member\" + 0.019*\"includ\" + 0.016*\"greenhous\"\n",
      "Score: 0.033334050327539444\t Topic: 0.032*\"polici\" + 0.018*\"ictu\" + 0.011*\"section\" + 0.011*\"framework\" + 0.011*\"revis\"\n"
     ]
    }
   ],
   "source": [
    "unseen_document = 'Determining this huge process was quiet nice'\n",
    "bow_vector = dictionary.doc2bow(preprocess(unseen_document))\n",
    "\n",
    "for index, score in sorted(lda_model[bow_vector], key=lambda tup: -1*tup[1]):\n",
    "    print(\"Score: {}\\t Topic: {}\".format(score, lda_model.print_topic(index, 5)))"
   ]
  },
  {
   "cell_type": "code",
   "execution_count": null,
   "id": "f558bd50",
   "metadata": {},
   "outputs": [],
   "source": []
  }
 ],
 "metadata": {
  "kernelspec": {
   "display_name": "Python 3 (ipykernel)",
   "language": "python",
   "name": "python3"
  },
  "language_info": {
   "codemirror_mode": {
    "name": "ipython",
    "version": 3
   },
   "file_extension": ".py",
   "mimetype": "text/x-python",
   "name": "python",
   "nbconvert_exporter": "python",
   "pygments_lexer": "ipython3",
   "version": "3.9.12"
  }
 },
 "nbformat": 4,
 "nbformat_minor": 5
}
